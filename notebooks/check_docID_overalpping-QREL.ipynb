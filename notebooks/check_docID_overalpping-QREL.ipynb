{
 "cells": [
  {
   "cell_type": "markdown",
   "metadata": {},
   "source": [
    "## IDEA FOR CACHING: Check overlapping between the doc-ids of the query at the current turn and the doc-ids of queries of the previout turns"
   ]
  },
  {
   "cell_type": "code",
   "execution_count": 13,
   "metadata": {},
   "outputs": [],
   "source": [
    "#1. loading data: load the first k (e.g. k=10) docs for each utterance in a dictionary\n",
    "\n",
    "map_utt_docs = {} #dictionary: key = utt_id, value = list of top-k results\n",
    "\n",
    "max_k = 20\n",
    "k = 0\n",
    "\n",
    "#local\n",
    "#path = \"/Users/idamele/Desktop/CAST_qrels/\"\n",
    "#server\n",
    "path = \"../data/CAST_qrels/\"\n",
    "with open(path+\"qrels-docs.2019.txt\", 'r') as f:\n",
    "#with open(path+\"qrels-docs.2020.txt\", 'r') as f:\n",
    "#with open(path+\"qrels-docs.2021.txt\", 'r') as f:\n",
    "    for line in f:\n",
    "        line_fields = line.rstrip().split(\" \")\n",
    "        utt_id = line_fields[0]\n",
    "        doc_id = line_fields[2]\n",
    "        if k < max_k:\n",
    "            k = k + 1 \n",
    "            prev_utt_id = utt_id\n",
    "            if utt_id in map_utt_docs: \n",
    "                map_utt_docs[utt_id].append(doc_id)\n",
    "            else:\n",
    "                map_utt_docs[utt_id] = [doc_id]\n",
    "        else:           \n",
    "            if utt_id == prev_utt_id:\n",
    "                # after top-k we do not consider them\n",
    "                prev_utt_id = utt_id\n",
    "            else:\n",
    "                #new conversation, insert first document in the map\n",
    "                k = 1 \n",
    "                map_utt_docs[utt_id] = [doc_id]\n",
    "            \n",
    "        "
   ]
  },
  {
   "cell_type": "code",
   "execution_count": 14,
   "metadata": {},
   "outputs": [
    {
     "data": {
      "text/plain": [
       "['CAR_08489902963b8b03a75ebfc2afad422660c1cc71',\n",
       " 'CAR_0baad9b74477434c04136d8c994af6bcb3aed7ed',\n",
       " 'CAR_116d829c4c800c2fc70f11692fec5e8c7e975250',\n",
       " 'CAR_1244f628b92ca5ff3bc28191a370726561154166',\n",
       " 'CAR_16b23027e80fe73ba67f32995c488f89b12d0ac9',\n",
       " 'CAR_172e16e89ea3d5546e53384a27c3be299bcfe968',\n",
       " 'CAR_1c93ef499a0c2856c4a857b0cb4720c380dda476',\n",
       " 'CAR_1f03ba408f108f9edc5ef4e9958cf0c1bab66da7',\n",
       " 'CAR_2174ad0aa50712ff24035c23f59a3c2b43267650',\n",
       " 'CAR_26f24506a2688c24da3c0a6158228dfdd2d13b67',\n",
       " 'CAR_2dc597ac2fc10917a752552bc335e6ac1aedc3f0',\n",
       " 'CAR_393cb4e18a9d30018e843c4d37c564272ec5fa6f',\n",
       " 'CAR_462db9a569840533b644a7eb3e2557a23ae8204b',\n",
       " 'CAR_4fc9cfd310dfb8eaf3fbfa60723ec5b8072b876d',\n",
       " 'CAR_55a95284bc782f3da5d3651a9c0e6f4df0ba7458',\n",
       " 'CAR_55f68f0a33f49f6015035f70d8685e293389c9d6',\n",
       " 'CAR_5afea520c45103a5637ed021a5129766d37341bc',\n",
       " 'CAR_5b50a00d9e1bd1d4ac3a973a656c1b20ab96ec1e',\n",
       " 'CAR_63e2ffba97498caee83a1f9c36e2cb5f9700df9d',\n",
       " 'CAR_66e78c6918b07df45d2e26ebaba74baaeb0c0da0']"
      ]
     },
     "execution_count": 14,
     "metadata": {},
     "output_type": "execute_result"
    }
   ],
   "source": [
    "map_utt_docs[\"31_2\"]"
   ]
  },
  {
   "cell_type": "code",
   "execution_count": 15,
   "metadata": {},
   "outputs": [],
   "source": [
    "#functions to check the intersection between top-k results of current turn and top-k results of the previous turns \n",
    "\n",
    "def intersection(lst1, lst2):\n",
    "    return set(lst1).intersection(lst2)\n",
    "\n",
    "def compute_overapping_documents(conv_id, curr_turn, f):\n",
    "    \n",
    "    total_overlapping = 0\n",
    "\n",
    "    docs_current_turn =  map_utt_docs[str(conv_id)+\"_\"+str(curr_turn)]\n",
    "    #print(\"current turn: \"+str(curr_turn))\n",
    "    #print(docs_current_turn)\n",
    "\n",
    "    docs_so_far = {}\n",
    "    for turn_id in range(1, curr_turn):\n",
    "        if str(conv_id)+\"_\"+str(turn_id) in map_utt_docs:\n",
    "            docs_so_far = map_utt_docs[str(conv_id)+\"_\"+str(turn_id)]\n",
    "            #print(\"so_far: \"+str(turn_id))\n",
    "            #print(docs_so_far)\n",
    "            #print(intersection(docs_so_far, docs_current_turn))\n",
    "            #print(len(intersection(docs_so_far, docs_current_turn)))\n",
    "            total_overlapping += len(intersection(docs_so_far, docs_current_turn))\n",
    "        else:\n",
    "            f.write(str(conv_id)+\"_\"+str(turn_id)+\" not found\\n\")\n",
    "\n",
    "    f.write(str(conv_id)+\"_\"+str(curr_turn)+\"\\t\"+str(total_overlapping)+\"\\n\")\n",
    "\n",
    "\n",
    "def compute_overapping_documents_set(conv_id, curr_turn, f):\n",
    "    \n",
    "    total_overlapping = 0\n",
    "\n",
    "    docs_current_turn =  map_utt_docs[str(conv_id)+\"_\"+str(curr_turn)]\n",
    "    #print(\"current turn: \"+str(curr_turn))\n",
    "    #print(docs_current_turn)\n",
    "\n",
    "    docs_so_far = set()\n",
    "    for turn_id in range(1, curr_turn):\n",
    "        if str(conv_id)+\"_\"+str(turn_id) in map_utt_docs:\n",
    "            my_list = map_utt_docs[str(conv_id)+\"_\"+str(turn_id)]\n",
    "            for el in my_list:                \n",
    "                docs_so_far.add(el)\n",
    "                \n",
    "            #print(\"so_far: \"+str(turn_id))\n",
    "            #print(docs_so_far)\n",
    "            #print(intersection(docs_so_far, docs_current_turn))\n",
    "            #print(len(intersection(docs_so_far, docs_current_turn)))\n",
    "           \n",
    "        else:\n",
    "            f.write(str(conv_id)+\"_\"+str(turn_id)+\" not found\\n\")\n",
    "    \n",
    "    total_overlapping = len(intersection(docs_so_far, docs_current_turn))\n",
    "    f.write(str(conv_id)+\"_\"+str(curr_turn)+\"\\t\"+str(total_overlapping)+\"\\n\")\n",
    "\n"
   ]
  },
  {
   "cell_type": "code",
   "execution_count": 16,
   "metadata": {},
   "outputs": [],
   "source": [
    "#2. main: to run after loading data\n",
    "\n",
    "#local\n",
    "#path = \"/Users/idamele/Desktop/CAST_qrels/results/\"\n",
    "#server\n",
    "path = \"../data/proof_of_concepts_preliminary_results/qrels/top20/\"\n",
    "with open(path+\"overalapping-docs.2019.txt\", 'w') as f:\n",
    "#with open(path+\"overalapping-docs.2020.txt\", 'w') as f:\n",
    "#with open(path+\"overalapping-docs.2021.txt\", 'w') as f:\n",
    "    for el in map_utt_docs:\n",
    "        conv_id = int(el.split(\"_\")[0])\n",
    "        curr_turn = int(el.split(\"_\")[1])\n",
    "        compute_overapping_documents(conv_id, curr_turn, f)\n",
    "\n"
   ]
  },
  {
   "cell_type": "code",
   "execution_count": 17,
   "metadata": {},
   "outputs": [],
   "source": [
    "#2. main (with sets, no duplicates): to run after loading data\n",
    "\n",
    "path = \"../data/proof_of_concepts_preliminary_results/qrels/top20/\"\n",
    "with open(path+\"overalapping-docs.2019_set.txt\", 'w') as f:\n",
    "#with open(path+\"overalapping-docs.2020_set.txt\", 'w') as f:\n",
    "#with open(path+\"overalapping-docs.2021_set.txt\", 'w') as f:\n",
    "    for el in map_utt_docs:\n",
    "        conv_id = int(el.split(\"_\")[0])\n",
    "        curr_turn = int(el.split(\"_\")[1])\n",
    "        compute_overapping_documents_set(conv_id, curr_turn, f)"
   ]
  },
  {
   "cell_type": "code",
   "execution_count": null,
   "metadata": {},
   "outputs": [],
   "source": []
  }
 ],
 "metadata": {
  "kernelspec": {
   "display_name": "conversational-cache",
   "language": "python",
   "name": "conversational-cache"
  },
  "language_info": {
   "codemirror_mode": {
    "name": "ipython",
    "version": 3
   },
   "file_extension": ".py",
   "mimetype": "text/x-python",
   "name": "python",
   "nbconvert_exporter": "python",
   "pygments_lexer": "ipython3",
   "version": "3.9.9"
  }
 },
 "nbformat": 4,
 "nbformat_minor": 4
}
