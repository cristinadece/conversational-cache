{
 "cells": [
  {
   "cell_type": "code",
   "execution_count": 1,
   "id": "791a8b6d-a186-4896-8ac2-23cbe5c7eac5",
   "metadata": {},
   "outputs": [],
   "source": [
    "%load_ext autoreload\n",
    "%autoreload 2\n",
    "\n",
    "from time import time\n",
    "import pandas as pd\n",
    "import numpy as np\n",
    "import os"
   ]
  },
  {
   "cell_type": "code",
   "execution_count": 2,
   "id": "27e8d771-1038-4f4f-a258-8b3603b071c9",
   "metadata": {},
   "outputs": [
    {
     "name": "stdout",
     "output_type": "stream",
     "text": [
      "PyTerrier 0.7.1 has loaded Terrier 5.6 (built by craigmacdonald on 2021-09-17 13:27)\n"
     ]
    },
    {
     "name": "stderr",
     "output_type": "stream",
     "text": [
      "No etc/terrier.properties, using terrier.default.properties for bootstrap configuration.\n"
     ]
    }
   ],
   "source": [
    "import pyterrier as pt\n",
    "pt.init()"
   ]
  },
  {
   "cell_type": "code",
   "execution_count": 6,
   "id": "91adc576-f959-4e8b-978c-3e21540a113e",
   "metadata": {},
   "outputs": [],
   "source": [
    "CAST2020 = \"/data3/crisIda_Shared/conversational-cache/collections/CAST_2020/\""
   ]
  },
  {
   "cell_type": "code",
   "execution_count": null,
   "id": "7b2755e1-4a43-4458-ba12-e33a059db2ab",
   "metadata": {},
   "outputs": [
    {
     "name": "stderr",
     "output_type": "stream",
     "text": [
      "2files [00:00,  6.56files/s]                                                                                      "
     ]
    },
    {
     "name": "stdout",
     "output_type": "stream",
     "text": [
      "13:07:57.111 [main] WARN org.terrier.structures.indexing.Indexer - Adding an empty document to the index (MARCO_55893) - further warnings are suppressed\n"
     ]
    }
   ],
   "source": [
    "files = [CAST2020 + \"CAST-2020.trec\"]\n",
    "\n",
    "# build the index\n",
    "# the default Terrier indexing configuration is to use a term pipeline of Stopwords,PorterStemmer\n",
    "indexer = pt.TRECCollectionIndexer(\"/data3/muntean/conversational-cache/indexes/CAST2020-stemmed\",\n",
    "                                   verbose=True,\n",
    "                                   blocks=False,\n",
    "                                   meta={'docno' : 47})\n",
    "\n",
    "# indexer.setProperty(\"termpipelines\", \"\")\n",
    "indexref = indexer.index(files)\n",
    "\n",
    "# load the index, print the statistics\n",
    "index = pt.IndexFactory.of(indexref)\n",
    "print(index.getCollectionStatistics().toString())"
   ]
  },
  {
   "cell_type": "code",
   "execution_count": null,
   "id": "8b686cd1-84b0-4d9a-a3a2-c2bb7d29aba2",
   "metadata": {},
   "outputs": [],
   "source": [
    "CAST2021 = \"/data3/crisIda_Shared/conversational-cache/collections/CAST_2021/\""
   ]
  },
  {
   "cell_type": "code",
   "execution_count": null,
   "id": "4c87db3d-dee0-4cce-8803-98d3c4f61944",
   "metadata": {},
   "outputs": [],
   "source": [
    "files = [CAST2021 + \"XXXXXX\"]\n",
    "\n",
    "# build the index\n",
    "# the default Terrier indexing configuration is to use a term pipeline of Stopwords,PorterStemmer\n",
    "indexer = pt.TRECCollectionIndexer(\"/data3/muntean/conversational-cache/indexes/CAST2021-stemmed\",\n",
    "                                   verbose=True,\n",
    "                                   blocks=False,\n",
    "                                   meta={'docno' : 47})\n",
    "\n",
    "# indexer.setProperty(\"termpipelines\", \"\")\n",
    "indexref = indexer.index(files)\n",
    "\n",
    "# load the index, print the statistics\n",
    "index = pt.IndexFactory.of(indexref)\n",
    "print(index.getCollectionStatistics().toString())"
   ]
  }
 ],
 "metadata": {
  "kernelspec": {
   "display_name": "conversational-cache",
   "language": "python",
   "name": "conversational-cache"
  },
  "language_info": {
   "codemirror_mode": {
    "name": "ipython",
    "version": 3
   },
   "file_extension": ".py",
   "mimetype": "text/x-python",
   "name": "python",
   "nbconvert_exporter": "python",
   "pygments_lexer": "ipython3",
   "version": "3.9.9"
  }
 },
 "nbformat": 4,
 "nbformat_minor": 5
}
