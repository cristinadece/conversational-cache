{
 "cells": [
  {
   "cell_type": "code",
   "execution_count": 1,
   "id": "b36a530e-3f52-4db5-9568-519f4b1dfaab",
   "metadata": {},
   "outputs": [],
   "source": [
    "%load_ext autoreload\n",
    "%autoreload 2\n",
    "\n",
    "from time import time\n",
    "import pandas as pd\n",
    "import numpy as np\n",
    "import os\n",
    "from collections import Counter, defaultdict\n",
    "import pickle"
   ]
  },
  {
   "cell_type": "code",
   "execution_count": 2,
   "id": "71973c41-eb75-48fa-b4f0-fa6c28a88fcc",
   "metadata": {},
   "outputs": [],
   "source": [
    "import sys\n",
    "sys.path.insert(0, \"/data3/muntean/DRhard\")"
   ]
  },
  {
   "cell_type": "markdown",
   "id": "ac633af0-cc77-4788-941b-f17e1fc64814",
   "metadata": {},
   "source": [
    "# Load Query - Doc distances"
   ]
  },
  {
   "cell_type": "markdown",
   "id": "7bc1928a-1145-4d28-bf3f-ffe0b7d160a9",
   "metadata": {},
   "source": [
    "In **nearest_neighbors_ra[0]** we have the **top-10000** docs in the **cache**, determined by **qa**.\n",
    "They are ordered accoridng to the distance with qa.\n",
    "\n",
    "This also give us the order in which the distances are kept in the distance dict."
   ]
  },
  {
   "cell_type": "code",
   "execution_count": 3,
   "id": "5b0678c7-62b0-43fb-ba57-73567f9c29c9",
   "metadata": {},
   "outputs": [],
   "source": [
    "%store -r all_dist_dict  \n",
    "%store -r nearest_neighbors_ra "
   ]
  },
  {
   "cell_type": "code",
   "execution_count": 4,
   "id": "a1904207-0452-4fbb-ba11-a9dfb077dd16",
   "metadata": {},
   "outputs": [
    {
     "name": "stdout",
     "output_type": "stream",
     "text": [
      "194\n"
     ]
    },
    {
     "data": {
      "text/plain": [
       "dict_keys(['31_1', '31_2', '31_3', '31_4', '31_5', '31_6', '31_7', '31_8', '31_9', '32_1', '32_2', '32_3', '32_4', '32_5', '32_6', '32_7', '32_8', '32_9', '32_10', '32_11', '33_1', '33_2', '33_3', '33_4', '33_5', '33_6', '33_7', '33_8', '33_9', '33_10', '34_1', '34_2', '34_3', '34_4', '34_5', '34_6', '34_7', '34_8', '34_9', '37_1', '37_2', '37_3', '37_4', '37_5', '37_6', '37_7', '37_8', '37_9', '37_10', '37_11', '37_12', '40_1', '40_2', '40_3', '40_4', '40_5', '40_6', '40_7', '40_8', '40_9', '40_10', '49_1', '49_2', '49_3', '49_4', '49_5', '49_6', '49_7', '49_8', '49_9', '49_10', '50_1', '50_2', '50_3', '50_4', '50_5', '50_6', '50_7', '50_8', '50_9', '50_10', '54_1', '54_2', '54_3', '54_4', '54_5', '54_6', '54_7', '54_8', '54_9', '56_1', '56_2', '56_3', '56_4', '56_5', '56_6', '56_7', '56_8', '58_1', '58_2', '58_3', '58_4', '58_5', '58_6', '58_7', '58_8', '59_1', '59_2', '59_3', '59_4', '59_5', '59_6', '59_7', '59_8', '61_1', '61_2', '61_3', '61_4', '61_5', '61_6', '61_7', '61_8', '61_9', '67_1', '67_2', '67_3', '67_4', '67_5', '67_6', '67_7', '67_8', '67_9', '67_10', '67_11', '68_1', '68_2', '68_3', '68_4', '68_5', '68_6', '68_7', '68_8', '68_9', '68_10', '68_11', '69_1', '69_2', '69_3', '69_4', '69_5', '69_6', '69_7', '69_8', '69_9', '69_10', '75_1', '75_2', '75_3', '75_4', '75_5', '75_6', '75_7', '75_8', '75_9', '75_10', '77_1', '77_2', '77_3', '77_4', '77_5', '77_6', '77_7', '77_8', '77_9', '77_10', '78_1', '78_2', '78_3', '78_4', '78_5', '78_6', '78_7', '78_8', '78_9', '78_10', '79_1', '79_2', '79_3', '79_4', '79_5', '79_6', '79_7', '79_8', '79_9'])"
      ]
     },
     "execution_count": 4,
     "metadata": {},
     "output_type": "execute_result"
    }
   ],
   "source": [
    "print(len(all_dist_dict.keys()))\n",
    "all_dist_dict.keys()"
   ]
  },
  {
   "cell_type": "code",
   "execution_count": 5,
   "id": "c1c42c6c-5238-4515-bf83-064fb65813ac",
   "metadata": {},
   "outputs": [
    {
     "data": {
      "text/plain": [
       "10000"
      ]
     },
     "execution_count": 5,
     "metadata": {},
     "output_type": "execute_result"
    }
   ],
   "source": [
    "len(nearest_neighbors_ra[0]) # doc ids"
   ]
  },
  {
   "cell_type": "code",
   "execution_count": 6,
   "id": "825a7e91-9c87-436b-9ba6-10255904e81d",
   "metadata": {},
   "outputs": [
    {
     "data": {
      "text/plain": [
       "[8.185292,\n",
       " 8.152467,\n",
       " 8.02967,\n",
       " 8.259123,\n",
       " 8.07297,\n",
       " 8.266944,\n",
       " 8.225096,\n",
       " 8.43523,\n",
       " 7.924303,\n",
       " 8.371743,\n",
       " 7.9806976,\n",
       " 7.9725966,\n",
       " 8.388752,\n",
       " 8.236596,\n",
       " 8.148874,\n",
       " 7.96484,\n",
       " 7.935154,\n",
       " 8.139231,\n",
       " 8.703874,\n",
       " 8.407185]"
      ]
     },
     "execution_count": 6,
     "metadata": {},
     "output_type": "execute_result"
    }
   ],
   "source": [
    "all_dist_dict[\"31_1\"][:20] # ordered because they we retrieved from index"
   ]
  },
  {
   "cell_type": "code",
   "execution_count": 7,
   "id": "49409224-c070-47ca-8081-cefcfcc20dd3",
   "metadata": {},
   "outputs": [
    {
     "data": {
      "text/plain": [
       "[4.802757,\n",
       " 4.8222275,\n",
       " 4.3992887,\n",
       " 4.379764,\n",
       " 4.53187,\n",
       " 4.515611,\n",
       " 4.413016,\n",
       " 4.3586264,\n",
       " 4.735081,\n",
       " 4.3028064,\n",
       " 4.7684774,\n",
       " 4.845764,\n",
       " 4.4350486,\n",
       " 3.7372952,\n",
       " 4.551476,\n",
       " 4.796568,\n",
       " 4.837861,\n",
       " 4.299589,\n",
       " 4.2723017,\n",
       " 4.3629227]"
      ]
     },
     "execution_count": 7,
     "metadata": {},
     "output_type": "execute_result"
    }
   ],
   "source": [
    "all_dist_dict[\"31_2\"][:20] # shuffled because we compute dist outside the index, using elems order as in nearest_neighbors_ra"
   ]
  },
  {
   "cell_type": "markdown",
   "id": "df0ad4b7-569f-4f09-91d8-b56ffc5e799a",
   "metadata": {},
   "source": [
    "# Load Query - Query distances"
   ]
  },
  {
   "cell_type": "code",
   "execution_count": null,
   "id": "46e1e16f-28c5-49e3-9334-ab3fb7334873",
   "metadata": {},
   "outputs": [],
   "source": [
    "%store -r query_distance_dict\n",
    "# query_distance_dict"
   ]
  },
  {
   "cell_type": "markdown",
   "id": "0970d7f3-253d-4bad-b8ab-7a386aa44a76",
   "metadata": {},
   "source": [
    "# Compute distances"
   ]
  },
  {
   "cell_type": "code",
   "execution_count": null,
   "id": "3032b3d7-2ee8-41f1-8b34-dee580c38bca",
   "metadata": {},
   "outputs": [],
   "source": [
    "conv_qrel_int = [31, 32, 33, 34, 37, 40, 49, 50, 54, 56, 58, 59, 61, 67, 68, 69, 75, 77, 78, 79]\n",
    "conv_qrel = [str(x) for x in conv_qrel_int]"
   ]
  },
  {
   "cell_type": "code",
   "execution_count": null,
   "id": "8ea99208-db31-4106-8dab-6fe9729e7184",
   "metadata": {},
   "outputs": [],
   "source": [
    "top_k = [1000,2000,5000,10000]"
   ]
  },
  {
   "cell_type": "markdown",
   "id": "99956340-df2a-411c-aec8-7d749d892283",
   "metadata": {
    "tags": []
   },
   "source": [
    "## Check triangle inequality - OK!"
   ]
  },
  {
   "cell_type": "code",
   "execution_count": null,
   "id": "27d542c9-9300-47e3-bf75-5785d331f8a4",
   "metadata": {},
   "outputs": [],
   "source": [
    "for convid in conv_qrel:\n",
    "    conv_qids = [qid for qid in all_dist_dict.keys() if qid.startswith(convid+\"_\") and not qid.endswith(\"_1\")]\n",
    "    distances_qa = all_dist_dict[convid+\"_1\"]\n",
    "    for qid in conv_qids:\n",
    "        distances_qb = all_dist_dict[qid]\n",
    "        assert len(distances_qa)==len(distances_qb)\n",
    "        for (i,dist) in enumerate(distances_qb):\n",
    "            assert distances_qb[i] <= distances_qa[i] + query_distance_dict[qid]"
   ]
  },
  {
   "cell_type": "markdown",
   "id": "03b27d28-95f7-4ebc-a775-86e2ea2895cc",
   "metadata": {
    "tags": []
   },
   "source": [
    "## Rb_hat"
   ]
  },
  {
   "cell_type": "code",
   "execution_count": null,
   "id": "dd5cf1c6-5c96-420a-bee3-20fc7e20a8bf",
   "metadata": {},
   "outputs": [],
   "source": [
    "#check rb_hat\n",
    "def compute_rb_hat(conv_qrel, all_dist_dict, query_distance_dict, top_k):\n",
    "    rb_hat_cutoff_k = {}\n",
    "    for convid in conv_qrel:\n",
    "        conv_qids = [qid for qid in all_dist_dict.keys() if qid.startswith(convid+\"_\") and not qid.endswith(\"_1\")]\n",
    "        for qid in conv_qids:\n",
    "            # print(qid)\n",
    "            rb_hat = all_dist_dict[convid+\"_1\"][top_k-1] - query_distance_dict[qid]\n",
    "            # print(all_dist_dict[conv+\"_1\"][top_k[3]-1], query_distance_dict[qid], rb_hat)\n",
    "            rb_hat_cutoff_k[qid]= rb_hat\n",
    "    return rb_hat_cutoff_k"
   ]
  },
  {
   "cell_type": "code",
   "execution_count": null,
   "id": "590c0e14-de7f-4a6d-9234-cc76c1be64b0",
   "metadata": {},
   "outputs": [],
   "source": [
    "rb_hat_dict = {}\n",
    "for k in top_k:\n",
    "    rb_hat = compute_rb_hat(conv_qrel, all_dist_dict, query_distance_dict, k)\n",
    "    print(\"top-\"+str(k), len([x for x in rb_hat.values() if x <= 0]))\n",
    "    rb_hat_dict[k] = rb_hat"
   ]
  },
  {
   "cell_type": "code",
   "execution_count": null,
   "id": "5b55b7ef-24b9-49f5-a8f2-61b0ee6079fc",
   "metadata": {},
   "outputs": [],
   "source": [
    "rb_hat_dict.keys()"
   ]
  },
  {
   "cell_type": "code",
   "execution_count": null,
   "id": "19d9db1f-b97e-4774-9c4d-ff6a36f4c085",
   "metadata": {},
   "outputs": [],
   "source": [
    "rb_hat_dict[2000]"
   ]
  },
  {
   "cell_type": "markdown",
   "id": "3936c7a4-ecf9-43a1-8a46-29d726178f2c",
   "metadata": {
    "tags": []
   },
   "source": [
    "## COV1"
   ]
  },
  {
   "cell_type": "code",
   "execution_count": null,
   "id": "3407cd42-c01c-49c5-a671-80cf2d5a2d78",
   "metadata": {},
   "outputs": [],
   "source": [
    "rb_hat_10000 = rb_hat_dict[10000]\n",
    "for convid in conv_qrel:\n",
    "    conv_qids = [qid for qid in all_dist_dict.keys() if qid.startswith(convid+\"_\") and not qid.endswith(\"_1\")]\n",
    "    for qid in conv_qids:\n",
    "        distances = all_dist_dict[qid]\n",
    "        safe_dist_docs = ([(i,dist) for (i,dist) in enumerate(distances) if dist < rb_hat_10000[qid]])\n",
    "        # print(qid, safe_dist_docs)"
   ]
  },
  {
   "cell_type": "markdown",
   "id": "0be595b0-e5b0-4340-9fd9-e7e27413a49f",
   "metadata": {},
   "source": [
    "## COV2\n",
    "\n",
    "Compute COVERAGE          \n",
    "- Cov2 - intersezione tra risultati di query qb su cache e query qb su indice per k=3,5,10\n",
    "- Cov2 - how many docs in cache have distance < rb_3, rb_5, rb_10\n"
   ]
  },
  {
   "cell_type": "code",
   "execution_count": null,
   "id": "d7fb0554-ece8-4d3f-93ef-498757ba6af7",
   "metadata": {},
   "outputs": [],
   "source": [
    "# Radius between current utterance (q) and last retrieved doc from the big index for top-k = 3,5,10\n",
    "%store -r query_radius_dict\n",
    "query_radius_dict"
   ]
  },
  {
   "cell_type": "code",
   "execution_count": null,
   "id": "ca0becd0-1575-47e9-96e3-3fa0a547f13e",
   "metadata": {},
   "outputs": [],
   "source": [
    "gcov_dict = {}\n",
    "\n",
    "top_k = [1000 ,2000,5000,10000]\n",
    "for k in top_k:\n",
    "    print(\"top-k\", k)\n",
    "    print()\n",
    "    gcov = {}\n",
    "    for qid, (rb_3, rb_5, rb_10) in query_radius_dict.items():\n",
    "        # print(qid, (rb_3, rb_5, rb_10))\n",
    "        distances = all_dist_dict[qid][:k] # qua si cambia il topk della cache\n",
    "        a=b=c=0\n",
    "        a = len([x for x in distances if x <= rb_3])\n",
    "        b = len([x for x in distances if x <= rb_5])\n",
    "        c = len([x for x in distances if x <= rb_10])\n",
    "        print([x for x in distances if x <= rb_3])\n",
    "        print(qid, (a,b,c), rb_hat_dict[k][qid])    \n",
    "        gcov[qid] = (a,c,c,rb_hat_dict[k][qid])\n",
    "    gcov_dict[k] = gcov\n",
    "    print()\n",
    "    print()"
   ]
  },
  {
   "cell_type": "code",
   "execution_count": null,
   "id": "a234f532-dd91-4143-a6aa-9f152aa9a56f",
   "metadata": {},
   "outputs": [],
   "source": []
  },
  {
   "cell_type": "code",
   "execution_count": null,
   "id": "e78f3675-4219-4995-91da-33c664dff8ce",
   "metadata": {},
   "outputs": [],
   "source": [
    "# top_k = [1000,2000,5000,10000]\n",
    "# for k in top_k:\n",
    "#     with open('../data/star-ranking/approximated-coverage-star-L2-ranking-top1000-cache-top'+str(k)+'_first_utt.tsv', 'w+') as fout:\n",
    "#         for qid, (rb_3, rb_5, rb_10) in query_radius_dict.items():\n",
    "#             distances = all_dist_dict[qid][:k] # qua si cambia il topk della cache\n",
    "#             a=b=c=0\n",
    "#             a = len([x for x in distances if x <= rb_3])\n",
    "#             b = len([x for x in distances if x <= rb_5])\n",
    "#             c = len([x for x in distances if x <= rb_10])   \n",
    "#             fout.write(str(qid)+\"\\t\"+str((a,b,c))+\"\\t\"+str(rb_hat_dict[k][qid])+\"\\n\")"
   ]
  },
  {
   "cell_type": "markdown",
   "id": "ee08fc41-eaa9-45d1-818a-e242271f6ff9",
   "metadata": {},
   "source": [
    "# Plots"
   ]
  },
  {
   "cell_type": "code",
   "execution_count": null,
   "id": "6d84e651-5e5f-4364-8d7d-a4f48071613f",
   "metadata": {},
   "outputs": [],
   "source": [
    "%matplotlib inline\n",
    "import matplotlib.pyplot as plt\n",
    "plt.style.use('seaborn-whitegrid')\n",
    "import numpy as np"
   ]
  },
  {
   "cell_type": "code",
   "execution_count": null,
   "id": "c330cbe4-9237-4ec9-8191-197a2121eda4",
   "metadata": {},
   "outputs": [],
   "source": [
    "%store -r NDCG3"
   ]
  },
  {
   "cell_type": "code",
   "execution_count": null,
   "id": "dcd4d233-7442-44ab-a32a-96ba995ccfa8",
   "metadata": {},
   "outputs": [],
   "source": [
    "filtered_NDCG = [y for (x, y) in zip(NDCG3[\"qid\"], NDCG3[\"value\"]) if x in gcov.keys()]\n",
    "sizes = [300*y for y in filtered_NDCG]"
   ]
  },
  {
   "cell_type": "code",
   "execution_count": null,
   "id": "ef3f5923-5c8b-4d9f-96fa-a225961f9900",
   "metadata": {},
   "outputs": [],
   "source": [
    "gcov = gcov_dict[5000] # k = 10.000\n",
    "\n",
    "rng = np.random.RandomState(0)\n",
    "\n",
    "x = [d for (a,b,c,d) in gcov.values()] # rb_hat\n",
    "y = [c/10 for (a,b,c,d) in gcov.values()] # top-10 di gcov\n",
    "print(x,y, filtered_NDCG)\n",
    "for (a,b,c,d) in zip(gcov.keys(),x,y, filtered_NDCG):\n",
    "    print(a,b,c,d)\n",
    "assert len(x)==len(y)\n",
    "\n",
    "colors = rng.rand(len(x))\n",
    "# sizes = 1000 * rng.rand(len(x))\n",
    "\n",
    "# plt.scatter(x, y, c=filtered_NDCG, s=sizes, alpha=0.5, cmap='viridis')\n",
    "plt.scatter(x, y, c='r', alpha=0.5, cmap='viridis')\n",
    "plt.colorbar();  # show col`or scale\n",
    "plt.savefig(\"ndcg3rbhattop10.pdf\")"
   ]
  },
  {
   "cell_type": "code",
   "execution_count": null,
   "id": "904fe800-253a-4387-80da-4b27d9d561e3",
   "metadata": {},
   "outputs": [],
   "source": [
    "intop10_list = []\n",
    "rb_hat_list = []\n",
    "with open('../data/star-ranking/approximated-coverage-star-L2-ranking-top1000-cache-top'+str(k)+'_with_update.tsv', 'r') as fout:\n",
    "    for line in fout:\n",
    "        # print(line)\n",
    "        linedata = line.split(\"\\t\")\n",
    "        acovs = linedata[1].replace(\"[\",\"\").replace(\"]\", \"\").split(\",\")\n",
    "        intop10= acovs[2]\n",
    "        rb_hat = linedata[3].replace(\" UPDATE \\n\",\"\")\n",
    "        # print(intop10, rb_hat)\n",
    "        intop10_list.append(int(intop10))\n",
    "        rb_hat_list.append(float(rb_hat))"
   ]
  },
  {
   "cell_type": "code",
   "execution_count": null,
   "id": "8895e2c4-d91c-4182-bf9b-f9cb2791cfd0",
   "metadata": {},
   "outputs": [],
   "source": [
    "print(intop10_list)\n",
    "print(rb_hat_list)"
   ]
  },
  {
   "cell_type": "markdown",
   "id": "46a96d84-4be7-470b-a235-66a182ffe00d",
   "metadata": {},
   "source": [
    "# Average acov"
   ]
  },
  {
   "cell_type": "code",
   "execution_count": null,
   "id": "a9b01873-34b1-4db0-95b4-696a686d52fd",
   "metadata": {},
   "outputs": [],
   "source": [
    "top_k = [1000 ,2000,5000,10000]\n",
    "for k in top_k:\n",
    "    print(\"top-k\", k)\n",
    "    acovs_list = []\n",
    "    with open('../data/star-ranking/approximated-coverage-star-L2-ranking-top1000-cache-top'+str(k)+'_with_update.tsv', 'r') as fout:\n",
    "        for line in fout:\n",
    "            # print(line)\n",
    "            linedata = line.split(\"\\t\")\n",
    "            acovs = linedata[1].replace(\"[\",\"\").replace(\"]\", \"\").split(\",\")\n",
    "            acovs_list.append((int(acovs[0]), int(acovs[1]),int(acovs[2])))\n",
    "    acov_cache_with_update_df = pd.DataFrame(acovs_list)\n",
    "    print(acov_cache_with_update_df.mean(axis=0))\n",
    "    print()"
   ]
  },
  {
   "cell_type": "code",
   "execution_count": null,
   "id": "e7d860a6-4730-4598-b58a-3194590fe3ae",
   "metadata": {},
   "outputs": [],
   "source": [
    "top_k = [1000 ,2000,5000,10000]\n",
    "for k in top_k:\n",
    "    print(\"top-k\", k)\n",
    "    acovs_list = []\n",
    "    with open('../data/star-ranking/approximated-coverage-star-L2-ranking-top1000-cache-top'+str(k)+'_first_utt.tsv', 'r') as fout:\n",
    "        for line in fout:\n",
    "            # print(line)\n",
    "            linedata = line.split(\"\\t\")\n",
    "            acovs = linedata[1].replace(\"(\",\"\").replace(\")\", \"\").split(\",\")\n",
    "            acovs_list.append((int(acovs[0]), int(acovs[1]),int(acovs[2])))\n",
    "    acov_cache_with_update_df = pd.DataFrame(acovs_list)\n",
    "    print(acov_cache_with_update_df.mean(axis=0))\n",
    "    print()"
   ]
  },
  {
   "cell_type": "code",
   "execution_count": null,
   "id": "fd6f97cd-8b67-4b9d-8456-2d28479c620e",
   "metadata": {},
   "outputs": [],
   "source": []
  },
  {
   "cell_type": "code",
   "execution_count": null,
   "id": "8805a2f9-d925-4aad-9a04-28068c7f4ee4",
   "metadata": {},
   "outputs": [],
   "source": []
  }
 ],
 "metadata": {
  "kernelspec": {
   "display_name": "DRhard",
   "language": "python",
   "name": "drhard"
  },
  "language_info": {
   "codemirror_mode": {
    "name": "ipython",
    "version": 3
   },
   "file_extension": ".py",
   "mimetype": "text/x-python",
   "name": "python",
   "nbconvert_exporter": "python",
   "pygments_lexer": "ipython3",
   "version": "3.8.12"
  }
 },
 "nbformat": 4,
 "nbformat_minor": 5
}
