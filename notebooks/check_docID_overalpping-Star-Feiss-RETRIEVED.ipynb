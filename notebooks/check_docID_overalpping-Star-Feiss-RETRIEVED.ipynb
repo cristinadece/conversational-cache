{
 "cells": [
  {
   "cell_type": "code",
   "execution_count": 1,
   "metadata": {},
   "outputs": [],
   "source": [
    "from collections import defaultdict\n",
    "import pandas as pd"
   ]
  },
  {
   "cell_type": "markdown",
   "metadata": {},
   "source": [
    "## IDEA FOR CACHING: Check overlapping between the doc-ids of the query at the current turn and the doc-ids of queries of the previout turns"
   ]
  },
  {
   "cell_type": "markdown",
   "metadata": {},
   "source": [
    "### Remapping the remapped"
   ]
  },
  {
   "cell_type": "code",
   "execution_count": 2,
   "metadata": {},
   "outputs": [
    {
     "name": "stdout",
     "output_type": "stream",
     "text": [
      "479\n",
      "38626614\n"
     ]
    }
   ],
   "source": [
    "# Load qid and docid remapping dictionaries\n",
    "\n",
    "# query id dict\n",
    "qid_mapping_path = \"/data3/muntean/DRhard/data/passage/dataset/queries.CASToriginal.QID2newID.test.tsv\"\n",
    "queries_df = pd.read_csv(qid_mapping_path, delimiter=\"\\t\", header=None)\n",
    "print(len(queries_df))\n",
    "\n",
    "# collection id dict\n",
    "collection_mapping_path = \"/data3/muntean/DRhard/data/passage/dataset/CASTcollectionPID2newID.tsv\"\n",
    "collection_df = pd.read_csv(collection_mapping_path, delimiter=\"\\t\", header=None)\n",
    "print(len(collection_df))"
   ]
  },
  {
   "cell_type": "code",
   "execution_count": 3,
   "metadata": {},
   "outputs": [],
   "source": [
    "# Create reverse dictionaries\n",
    "queries_dict = dict(zip(queries_df[1], queries_df[0]))\n",
    "collection_dict = dict(zip(collection_df[1], collection_df[0]))"
   ]
  },
  {
   "cell_type": "code",
   "execution_count": 4,
   "metadata": {},
   "outputs": [
    {
     "name": "stdout",
     "output_type": "stream",
     "text": [
      "47900\n"
     ]
    },
    {
     "data": {
      "text/html": [
       "<div>\n",
       "<style scoped>\n",
       "    .dataframe tbody tr th:only-of-type {\n",
       "        vertical-align: middle;\n",
       "    }\n",
       "\n",
       "    .dataframe tbody tr th {\n",
       "        vertical-align: top;\n",
       "    }\n",
       "\n",
       "    .dataframe thead th {\n",
       "        text-align: right;\n",
       "    }\n",
       "</style>\n",
       "<table border=\"1\" class=\"dataframe\">\n",
       "  <thead>\n",
       "    <tr style=\"text-align: right;\">\n",
       "      <th></th>\n",
       "      <th>0</th>\n",
       "      <th>1</th>\n",
       "      <th>2</th>\n",
       "    </tr>\n",
       "  </thead>\n",
       "  <tbody>\n",
       "    <tr>\n",
       "      <th>0</th>\n",
       "      <td>0</td>\n",
       "      <td>3878347</td>\n",
       "      <td>1</td>\n",
       "    </tr>\n",
       "    <tr>\n",
       "      <th>1</th>\n",
       "      <td>0</td>\n",
       "      <td>291003</td>\n",
       "      <td>2</td>\n",
       "    </tr>\n",
       "    <tr>\n",
       "      <th>2</th>\n",
       "      <td>0</td>\n",
       "      <td>789620</td>\n",
       "      <td>3</td>\n",
       "    </tr>\n",
       "    <tr>\n",
       "      <th>3</th>\n",
       "      <td>0</td>\n",
       "      <td>2954451</td>\n",
       "      <td>4</td>\n",
       "    </tr>\n",
       "    <tr>\n",
       "      <th>4</th>\n",
       "      <td>0</td>\n",
       "      <td>5625372</td>\n",
       "      <td>5</td>\n",
       "    </tr>\n",
       "  </tbody>\n",
       "</table>\n",
       "</div>"
      ],
      "text/plain": [
       "   0        1  2\n",
       "0  0  3878347  1\n",
       "1  0   291003  2\n",
       "2  0   789620  3\n",
       "3  0  2954451  4\n",
       "4  0  5625372  5"
      ]
     },
     "execution_count": 4,
     "metadata": {},
     "output_type": "execute_result"
    }
   ],
   "source": [
    "results_star_dot_product_path = \"/data3/muntean/DRhard/data/passage/official_runs/star/test.rank.tsv\" # original queries\n",
    "results_star_dot_product_df = pd.read_csv(results_star_dot_product_path, delimiter=\"\\t\", header=None)\n",
    "print(len(results_star_dot_product_df))\n",
    "results_star_dot_product_df.head()"
   ]
  },
  {
   "cell_type": "code",
   "execution_count": 5,
   "metadata": {},
   "outputs": [],
   "source": [
    "with open ('/data3/muntean/conversational-cache/data/star-ranking/CAST-original-queries-star-dotp-ranking-top100.tsv', \"w\") as f:\n",
    "    for index, row in results_star_dot_product_df.iterrows():\n",
    "        f.write(\"{}\\t{}\\t{}\\n\".format(queries_dict[row[0]], collection_dict[row[1]], row[2]))"
   ]
  },
  {
   "cell_type": "markdown",
   "metadata": {},
   "source": [
    "# Starts here"
   ]
  },
  {
   "cell_type": "code",
   "execution_count": 6,
   "metadata": {
    "tags": []
   },
   "outputs": [],
   "source": [
    "#1. loading data: load the first k (e.g. k=10) docs for each utterance in a dictionary\n",
    "\n",
    "map_utt_docs = defaultdict(list) #dictionary: key = utt_id, value = list of top-k results\n",
    "\n",
    "max_k = 100\n",
    "\n",
    "#server\n",
    "path = \"../data/star-ranking/\"\n",
    "with open(path+\"CAST-original-queries-star-dotp-ranking-top100.tsv\", 'r') as f:\n",
    "    next(f)\n",
    "    for line in f:\n",
    "        line_fields = line.rstrip().split(\"\\t\")\n",
    "        utt_id = line_fields[0]\n",
    "        doc_id = line_fields[1]\n",
    "        rank = int(line_fields[2])\n",
    "        if rank <= max_k: \n",
    "            map_utt_docs[utt_id].append(doc_id)"
   ]
  },
  {
   "cell_type": "code",
   "execution_count": 7,
   "metadata": {},
   "outputs": [],
   "source": [
    "# map_utt_docs"
   ]
  },
  {
   "cell_type": "code",
   "execution_count": 8,
   "metadata": {},
   "outputs": [],
   "source": [
    "### REMMBER to check the YEAR\n",
    "\n",
    "qid_rel_dict = defaultdict(int)\n",
    "path = \"../data/CAST_qrels/\"\n",
    "with open(path+\"qrels-docs.2019.txt\", 'r') as f:\n",
    "    for line in f:\n",
    "        line_fields = line.rstrip().split(\" \")\n",
    "        utt_id = line_fields[0]\n",
    "        doc_id = line_fields[2]\n",
    "        relevance = int(line_fields[3])\n",
    "        if relevance > 0:\n",
    "            qid_rel_dict[utt_id]+=1"
   ]
  },
  {
   "cell_type": "code",
   "execution_count": 9,
   "metadata": {},
   "outputs": [],
   "source": [
    "#functions to check the intersection between top-k results of current turn and top-k results of the previous turns \n",
    "\n",
    "def intersection(lst1, lst2):\n",
    "    return set(lst1).intersection(lst2)\n",
    "\n",
    "#@deprecated\n",
    "def compute_overapping_documents(conv_id, curr_turn, f):\n",
    "    total_overlapping = 0\n",
    "    \n",
    "    docs_current_turn =  map_utt_docs[str(conv_id)+\"_\"+str(curr_turn)]\n",
    "    #print(\"current turn: \"+str(curr_turn))\n",
    "    #print(docs_current_turn)\n",
    "\n",
    "    docs_so_far = {}\n",
    "    for turn_id in range(1, curr_turn):\n",
    "        if str(conv_id)+\"_\"+str(turn_id) in map_utt_docs:\n",
    "            docs_so_far = map_utt_docs[str(conv_id)+\"_\"+str(turn_id)]\n",
    "            #print(\"so_far: \"+str(turn_id))\n",
    "            #print(docs_so_far)\n",
    "            #print(intersection(docs_so_far, docs_current_turn))\n",
    "            #print(len(intersection(docs_so_far, docs_current_turn)))\n",
    "            total_overlapping += len(intersection(docs_so_far, docs_current_turn))\n",
    "        else:\n",
    "            f.write(str(conv_id)+\"_\"+str(turn_id)+\" not found\\n\")\n",
    "\n",
    "    f.write(str(conv_id)+\"_\"+str(curr_turn)+\"\\t\"+str(total_overlapping)+\"\\n\")\n",
    "\n",
    "\n",
    "def compute_overapping_documents_set(conv_id, curr_turn, f, qid_rel_dict):\n",
    "    \n",
    "    total_overlapping = 0\n",
    "    \n",
    "    utt_id = str(conv_id)+\"_\"+str(curr_turn)\n",
    "    docs_current_turn =  map_utt_docs[utt_id]\n",
    "\n",
    "    docs_so_far = set()\n",
    "    for turn_id in range(1, curr_turn):\n",
    "        if str(conv_id)+\"_\"+str(turn_id) in map_utt_docs:\n",
    "            my_list = map_utt_docs[str(conv_id)+\"_\"+str(turn_id)]\n",
    "            for el in my_list:                \n",
    "                docs_so_far.add(el)\n",
    "        else:\n",
    "            f.write(str(conv_id)+\"_\"+str(turn_id) + \" not found\\n\")\n",
    "    total_overlapping = len(intersection(docs_so_far, docs_current_turn))\n",
    "    # print(docs_so_far, docs_current_turn, total_overlapping)\n",
    "    normalized_overlapping = \"not in qrel\"\n",
    "    if utt_id in qid_rel_dict:\n",
    "        if qid_rel_dict[utt_id]>0:\n",
    "            normalized_overlapping = len(intersection(docs_so_far, docs_current_turn))/qid_rel_dict[utt_id]\n",
    "        else:\n",
    "            normalized_overlapping = \"0 relevants\"\n",
    "    \n",
    "    if normalized_overlapping != \"not in qrel\":\n",
    "        f.write(utt_id+\"\\t\"+str(total_overlapping)+\"\\t\"+str(qid_rel_dict[utt_id])+\"\\t\"+str(normalized_overlapping)+\"\\n\")\n",
    "    "
   ]
  },
  {
   "cell_type": "code",
   "execution_count": 10,
   "metadata": {},
   "outputs": [],
   "source": [
    "# main (with sets, no duplicates): to run after loading data\n",
    "\n",
    "path = \"../data/proof_of_concepts_preliminary_results/retrieved/star-top100/\"\n",
    "with open(path+\"normalized-overalapping-sets-docs.CAST_original_star.txt\", 'w') as f:\n",
    "    for el in map_utt_docs:\n",
    "        conv_id = int(el.split(\"_\")[0])\n",
    "        curr_turn = int(el.split(\"_\")[1])\n",
    "        compute_overapping_documents_set(conv_id, curr_turn, f, qid_rel_dict)"
   ]
  },
  {
   "cell_type": "code",
   "execution_count": null,
   "metadata": {},
   "outputs": [],
   "source": []
  }
 ],
 "metadata": {
  "kernelspec": {
   "display_name": "conversational-cache",
   "language": "python",
   "name": "conversational-cache"
  },
  "language_info": {
   "codemirror_mode": {
    "name": "ipython",
    "version": 3
   },
   "file_extension": ".py",
   "mimetype": "text/x-python",
   "name": "python",
   "nbconvert_exporter": "python",
   "pygments_lexer": "ipython3",
   "version": "3.9.9"
  }
 },
 "nbformat": 4,
 "nbformat_minor": 4
}
