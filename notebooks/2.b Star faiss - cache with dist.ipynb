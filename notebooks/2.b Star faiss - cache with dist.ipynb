{
 "cells": [
  {
   "cell_type": "code",
   "execution_count": 1,
   "id": "5f5644eb-6c34-46d3-8b78-4d07201d3f50",
   "metadata": {},
   "outputs": [],
   "source": [
    "%load_ext autoreload\n",
    "%autoreload 2\n",
    "\n",
    "from time import time\n",
    "import pandas as pd\n",
    "import numpy as np\n",
    "import os\n",
    "from collections import Counter, defaultdict\n",
    "import pickle"
   ]
  },
  {
   "cell_type": "code",
   "execution_count": 2,
   "id": "2bb342c7-82ed-4d0f-88fb-33b531aa4b8a",
   "metadata": {},
   "outputs": [],
   "source": [
    "import sys\n",
    "sys.path.insert(0, \"/data3/muntean/DRhard\")"
   ]
  },
  {
   "cell_type": "code",
   "execution_count": 3,
   "id": "c03b1191-fbfb-4aad-9799-b2290a192a8b",
   "metadata": {},
   "outputs": [
    {
     "name": "stderr",
     "output_type": "stream",
     "text": [
      "/data3/muntean/DRhard/DRhard/lib/python3.8/site-packages/torch-1.7.0-py3.8-linux-x86_64.egg/torch/cuda/__init__.py:52: UserWarning: CUDA initialization: Unexpected error from cudaGetDeviceCount(). Did you run some cuda functions before calling NumCudaDevices() that might have already set an error? Error 803: system has unsupported display driver / cuda driver combination (Triggered internally at  /pytorch/c10/cuda/CUDAFunctions.cpp:100.)\n",
      "  return torch._C._cuda_getDeviceCount() > 0\n"
     ]
    }
   ],
   "source": [
    "import argparse\n",
    "import subprocess\n",
    "import sys\n",
    "sys.path.append(\"./\")\n",
    "import faiss\n",
    "import logging\n",
    "import os\n",
    "import numpy as np\n",
    "# import torch\n",
    "from transformers import RobertaConfig\n",
    "from tqdm import tqdm\n",
    "from torch.utils.data.dataloader import DataLoader\n",
    "from torch.utils.data.sampler import SequentialSampler\n",
    "\n",
    "from model import RobertaDot\n",
    "from dataset import (\n",
    "    TextTokenIdsCache, load_rel, SubsetSeqDataset, SequenceDataset,\n",
    "    single_get_collate_function\n",
    ")\n",
    "from retrieve_utils import (\n",
    "    construct_flatindex_from_embeddings, \n",
    "    index_retrieve, convert_index_to_gpu\n",
    ")\n",
    "logger = logging.Logger(__name__)"
   ]
  },
  {
   "cell_type": "code",
   "execution_count": 4,
   "id": "95697847-503b-4c85-9a68-58df9fe970b1",
   "metadata": {},
   "outputs": [],
   "source": [
    "doc_memmap_path = \"/data3/muntean/DRhard/data/passage/evaluate/star/passages.memmap\"\n",
    "docid_memmap_path = \"/data3/muntean/DRhard/data/passage/evaluate/star/passages-id.memmap\"\n",
    "query_memmap_path = \"/data3/muntean/DRhard/data/passage/evaluate/star/test-manual-query.memmap\"\n",
    "queryids_memmap_path = \"/data3/muntean/DRhard/data/passage/evaluate/star/test-manual-query-id.memmap\"\n",
    "\n",
    "# query_adore_memmap_path = \"/data3/muntean/DRhard/data/passage/evaluate/adore-star/test-manual.qembed.memmap\""
   ]
  },
  {
   "cell_type": "code",
   "execution_count": 5,
   "id": "064b43b7-40d8-471a-b21f-e030c9ce1dce",
   "metadata": {},
   "outputs": [],
   "source": [
    "doc_embeddings = np.memmap(doc_memmap_path, dtype=np.float32, mode=\"r\")\n",
    "doc_ids = np.memmap(docid_memmap_path, dtype=np.int32, mode=\"r\")\n",
    "doc_embeddings = doc_embeddings.reshape(-1, 768)\n",
    "\n",
    "query_embeddings = np.memmap(query_memmap_path, dtype=np.float32, mode=\"r\")\n",
    "query_embeddings = query_embeddings.reshape(-1, 768)\n",
    "query_ids = np.memmap(queryids_memmap_path, dtype=np.int32, mode=\"r\")"
   ]
  },
  {
   "cell_type": "code",
   "execution_count": 6,
   "id": "4380dbc8-548d-479b-b1e8-c984dbc62cba",
   "metadata": {},
   "outputs": [
    {
     "name": "stdout",
     "output_type": "stream",
     "text": [
      "CPU times: user 3 µs, sys: 2 µs, total: 5 µs\n",
      "Wall time: 10.5 µs\n",
      "embedding shape: (38626614, 768)\n",
      "(38626614,) int64\n"
     ]
    }
   ],
   "source": [
    "%time\n",
    "index = construct_flatindex_from_embeddings(doc_embeddings, doc_ids)"
   ]
  },
  {
   "cell_type": "code",
   "execution_count": 7,
   "id": "b8c2d248-ab49-48e0-b5de-367bdf0f245b",
   "metadata": {},
   "outputs": [
    {
     "data": {
      "text/plain": [
       "faiss.swigfaiss.IndexIDMap2"
      ]
     },
     "execution_count": 7,
     "metadata": {},
     "output_type": "execute_result"
    }
   ],
   "source": [
    "type(index)"
   ]
  },
  {
   "cell_type": "markdown",
   "id": "40335fb8-c5b0-4be5-8894-2b81f3a6fa74",
   "metadata": {},
   "source": [
    "# Select certain queries and certain docs for small index"
   ]
  },
  {
   "cell_type": "code",
   "execution_count": 8,
   "id": "d9fce66a-3f25-42e3-8eb1-94b477fd712c",
   "metadata": {},
   "outputs": [
    {
     "name": "stdout",
     "output_type": "stream",
     "text": [
      "479\n",
      "38626614\n"
     ]
    }
   ],
   "source": [
    "# Load our qid and docid remapping dictionaries\n",
    "\n",
    "# query id dict\n",
    "qid_mapping_path = \"/data3/muntean/DRhard/data/passage/dataset/queries.CASTmanual.QID2newID.test.tsv\"\n",
    "queries_df = pd.read_csv(qid_mapping_path, delimiter=\"\\t\", header=None)\n",
    "print(len(queries_df))\n",
    "\n",
    "# collection id dict\n",
    "collection_mapping_path = \"/data3/muntean/DRhard/data/passage/dataset/CASTcollectionPID2newID.tsv\"\n",
    "collection_df = pd.read_csv(collection_mapping_path, delimiter=\"\\t\", header=None)\n",
    "print(len(collection_df))"
   ]
  },
  {
   "cell_type": "code",
   "execution_count": 9,
   "id": "cc674760-7d63-4bd6-92fd-5bce892259af",
   "metadata": {},
   "outputs": [],
   "source": [
    "qid2newqid_dict = dict(zip(queries_df[0], queries_df[1])) \n",
    "pid2newpid_dict = dict(zip(collection_df[0], collection_df[1])) "
   ]
  },
  {
   "cell_type": "code",
   "execution_count": 10,
   "id": "eb9bbdf2-5905-4820-9141-d9eb2939adcb",
   "metadata": {},
   "outputs": [
    {
     "data": {
      "text/plain": [
       "9"
      ]
     },
     "execution_count": 10,
     "metadata": {},
     "output_type": "execute_result"
    }
   ],
   "source": [
    "qid2newqid_dict[\"32_1\"]"
   ]
  },
  {
   "cell_type": "code",
   "execution_count": 11,
   "id": "80f062ce-28ee-4415-83e7-f3019be07308",
   "metadata": {},
   "outputs": [],
   "source": [
    "# Create reverse dictionaries\n",
    "newqid2qid_dict = dict(zip(queries_df[1], queries_df[0])) \n",
    "newpid2pid_dict = dict(zip(collection_df[1], collection_df[0])) "
   ]
  },
  {
   "cell_type": "code",
   "execution_count": 12,
   "id": "6c3ce1de-233a-4bcf-8444-260e671fd08b",
   "metadata": {},
   "outputs": [
    {
     "data": {
      "text/plain": [
       "'32_1'"
      ]
     },
     "execution_count": 12,
     "metadata": {},
     "output_type": "execute_result"
    }
   ],
   "source": [
    "newqid2qid_dict[9]"
   ]
  },
  {
   "cell_type": "code",
   "execution_count": 13,
   "id": "dcf29fa9-d116-4371-95a7-c407e175dec3",
   "metadata": {},
   "outputs": [],
   "source": [
    "# DRhard docid and qid encoding\n",
    "preprocess_dir = \"/data3/muntean/DRhard/data/passage/preprocess\"\n",
    "\n",
    "pid2offset = pickle.load(open(os.path.join(preprocess_dir, \"pid2offset.pickle\"), 'rb'))\n",
    "offset2pid = {v:k for k, v in pid2offset.items()}\n",
    "qid2offset = pickle.load(open(os.path.join(preprocess_dir, f\"test-manual-qid2offset.pickle\"), 'rb'))\n",
    "offset2qid = {v:k for k, v in qid2offset.items()}"
   ]
  },
  {
   "cell_type": "code",
   "execution_count": 14,
   "id": "8fda4ab8-b818-4efc-880d-56f3678523bb",
   "metadata": {},
   "outputs": [
    {
     "data": {
      "text/plain": [
       "9"
      ]
     },
     "execution_count": 14,
     "metadata": {},
     "output_type": "execute_result"
    }
   ],
   "source": [
    "qid2offset[9]"
   ]
  },
  {
   "cell_type": "code",
   "execution_count": 15,
   "id": "40d74880-f7f5-440b-aee0-0db70fa1d168",
   "metadata": {},
   "outputs": [
    {
     "data": {
      "text/plain": [
       "['31',\n",
       " '32',\n",
       " '33',\n",
       " '34',\n",
       " '37',\n",
       " '40',\n",
       " '49',\n",
       " '50',\n",
       " '54',\n",
       " '56',\n",
       " '58',\n",
       " '59',\n",
       " '61',\n",
       " '67',\n",
       " '68',\n",
       " '69',\n",
       " '75',\n",
       " '77',\n",
       " '78',\n",
       " '79']"
      ]
     },
     "execution_count": 15,
     "metadata": {},
     "output_type": "execute_result"
    }
   ],
   "source": [
    "conv_qrel_int = [31, 32, 33, 34, 37, 40, 49, 50, 54, 56, 58, 59, 61, 67, 68, 69, 75, 77, 78, 79]\n",
    "conv_qrel = [str(x) for x in conv_qrel_int]\n",
    "conv_qrel"
   ]
  },
  {
   "cell_type": "markdown",
   "id": "84911674-2c9f-497c-92e5-7d9777f20f33",
   "metadata": {
    "tags": []
   },
   "source": [
    "# Compute all possible distances in cache!!!"
   ]
  },
  {
   "cell_type": "code",
   "execution_count": 18,
   "id": "c8c259f7-65a8-4b6a-8480-b682462ee75e",
   "metadata": {},
   "outputs": [
    {
     "name": "stdout",
     "output_type": "stream",
     "text": [
      "31\n",
      "31_1 0\n",
      "Query Num 1\n"
     ]
    },
    {
     "name": "stderr",
     "output_type": "stream",
     "text": [
      "100%|████████████████████████████████████████████████████████████████████████████████████████████████████████████████████████████████████████████████████████████████████████████████████████████████████████████████████████████████████████| 1/1 [01:03<00:00, 63.40s/it]\n"
     ]
    },
    {
     "name": "stdout",
     "output_type": "stream",
     "text": [
      "Elapsed Time: 63.4s, Elapsed Time per query: 63404.6ms\n",
      "10000\n",
      "10000\n",
      "['31_2', '31_3', '31_4', '31_5', '31_6', '31_7', '31_8', '31_9']\n",
      "31_2 1\n",
      "31_3 2\n",
      "31_4 3\n",
      "31_5 4\n",
      "31_6 5\n",
      "31_7 6\n",
      "31_8 7\n",
      "31_9 8\n",
      "32\n",
      "32_1 9\n",
      "Query Num 1\n"
     ]
    },
    {
     "name": "stderr",
     "output_type": "stream",
     "text": [
      "100%|████████████████████████████████████████████████████████████████████████████████████████████████████████████████████████████████████████████████████████████████████████████████████████████████████████████████████████████████████████| 1/1 [00:37<00:00, 37.04s/it]\n"
     ]
    },
    {
     "name": "stdout",
     "output_type": "stream",
     "text": [
      "Elapsed Time: 37.0s, Elapsed Time per query: 37046.8ms\n",
      "10000\n",
      "10000\n",
      "['32_2', '32_3', '32_4', '32_5', '32_6', '32_7', '32_8', '32_9', '32_10', '32_11']\n",
      "32_2 10\n",
      "32_3 11\n",
      "32_4 12\n",
      "32_5 13\n",
      "32_6 14\n",
      "32_7 15\n",
      "32_8 16\n",
      "32_9 17\n",
      "32_10 18\n",
      "32_11 19\n",
      "33\n",
      "33_1 20\n",
      "Query Num 1\n"
     ]
    },
    {
     "name": "stderr",
     "output_type": "stream",
     "text": [
      "100%|████████████████████████████████████████████████████████████████████████████████████████████████████████████████████████████████████████████████████████████████████████████████████████████████████████████████████████████████████████| 1/1 [00:55<00:00, 55.19s/it]\n"
     ]
    },
    {
     "name": "stdout",
     "output_type": "stream",
     "text": [
      "Elapsed Time: 55.2s, Elapsed Time per query: 55194.6ms\n",
      "10000\n",
      "10000\n",
      "['33_2', '33_3', '33_4', '33_5', '33_6', '33_7', '33_8', '33_9', '33_10']\n",
      "33_2 21\n",
      "33_3 22\n",
      "33_4 23\n",
      "33_5 24\n",
      "33_6 25\n",
      "33_7 26\n",
      "33_8 27\n",
      "33_9 28\n",
      "33_10 29\n",
      "34\n",
      "34_1 30\n",
      "Query Num 1\n"
     ]
    },
    {
     "name": "stderr",
     "output_type": "stream",
     "text": [
      "100%|████████████████████████████████████████████████████████████████████████████████████████████████████████████████████████████████████████████████████████████████████████████████████████████████████████████████████████████████████████| 1/1 [01:03<00:00, 63.44s/it]\n"
     ]
    },
    {
     "name": "stdout",
     "output_type": "stream",
     "text": [
      "Elapsed Time: 63.4s, Elapsed Time per query: 63443.2ms\n",
      "10000\n",
      "10000\n",
      "['34_2', '34_3', '34_4', '34_5', '34_6', '34_7', '34_8', '34_9']\n",
      "34_2 31\n",
      "34_3 32\n",
      "34_4 33\n",
      "34_5 34\n",
      "34_6 35\n",
      "34_7 36\n",
      "34_8 37\n",
      "34_9 38\n",
      "37\n",
      "37_1 59\n",
      "Query Num 1\n"
     ]
    },
    {
     "name": "stderr",
     "output_type": "stream",
     "text": [
      "100%|████████████████████████████████████████████████████████████████████████████████████████████████████████████████████████████████████████████████████████████████████████████████████████████████████████████████████████████████████████| 1/1 [01:00<00:00, 60.49s/it]\n"
     ]
    },
    {
     "name": "stdout",
     "output_type": "stream",
     "text": [
      "Elapsed Time: 60.5s, Elapsed Time per query: 60490.7ms\n",
      "10000\n",
      "10000\n",
      "['37_2', '37_3', '37_4', '37_5', '37_6', '37_7', '37_8', '37_9', '37_10', '37_11', '37_12']\n",
      "37_2 60\n",
      "37_3 61\n",
      "37_4 62\n",
      "37_5 63\n",
      "37_6 64\n",
      "37_7 65\n",
      "37_8 66\n",
      "37_9 67\n",
      "37_10 68\n",
      "37_11 69\n",
      "37_12 70\n",
      "40\n",
      "40_1 88\n",
      "Query Num 1\n"
     ]
    },
    {
     "name": "stderr",
     "output_type": "stream",
     "text": [
      "100%|████████████████████████████████████████████████████████████████████████████████████████████████████████████████████████████████████████████████████████████████████████████████████████████████████████████████████████████████████████| 1/1 [00:32<00:00, 32.21s/it]\n"
     ]
    },
    {
     "name": "stdout",
     "output_type": "stream",
     "text": [
      "Elapsed Time: 32.2s, Elapsed Time per query: 32216.9ms\n",
      "10000\n",
      "10000\n",
      "['40_2', '40_3', '40_4', '40_5', '40_6', '40_7', '40_8', '40_9', '40_10']\n",
      "40_2 89\n",
      "40_3 90\n",
      "40_4 91\n",
      "40_5 92\n",
      "40_6 93\n",
      "40_7 94\n",
      "40_8 95\n",
      "40_9 96\n",
      "40_10 97\n",
      "49\n",
      "49_1 165\n",
      "Query Num 1\n"
     ]
    },
    {
     "name": "stderr",
     "output_type": "stream",
     "text": [
      "100%|████████████████████████████████████████████████████████████████████████████████████████████████████████████████████████████████████████████████████████████████████████████████████████████████████████████████████████████████████████| 1/1 [01:02<00:00, 62.42s/it]\n"
     ]
    },
    {
     "name": "stdout",
     "output_type": "stream",
     "text": [
      "Elapsed Time: 62.4s, Elapsed Time per query: 62421.4ms\n",
      "10000\n",
      "10000\n",
      "['49_2', '49_3', '49_4', '49_5', '49_6', '49_7', '49_8', '49_9', '49_10']\n",
      "49_2 166\n",
      "49_3 167\n",
      "49_4 168\n",
      "49_5 169\n",
      "49_6 170\n",
      "49_7 171\n",
      "49_8 172\n",
      "49_9 173\n",
      "49_10 174\n",
      "50\n",
      "50_1 175\n",
      "Query Num 1\n"
     ]
    },
    {
     "name": "stderr",
     "output_type": "stream",
     "text": [
      "100%|████████████████████████████████████████████████████████████████████████████████████████████████████████████████████████████████████████████████████████████████████████████████████████████████████████████████████████████████████████| 1/1 [01:02<00:00, 62.35s/it]\n"
     ]
    },
    {
     "name": "stdout",
     "output_type": "stream",
     "text": [
      "Elapsed Time: 62.4s, Elapsed Time per query: 62353.5ms\n",
      "10000\n",
      "10000\n",
      "['50_2', '50_3', '50_4', '50_5', '50_6', '50_7', '50_8', '50_9', '50_10']\n",
      "50_2 176\n",
      "50_3 177\n",
      "50_4 178\n",
      "50_5 179\n",
      "50_6 180\n",
      "50_7 181\n",
      "50_8 182\n",
      "50_9 183\n",
      "50_10 184\n",
      "54\n",
      "54_1 214\n",
      "Query Num 1\n"
     ]
    },
    {
     "name": "stderr",
     "output_type": "stream",
     "text": [
      "100%|████████████████████████████████████████████████████████████████████████████████████████████████████████████████████████████████████████████████████████████████████████████████████████████████████████████████████████████████████████| 1/1 [01:00<00:00, 60.75s/it]\n"
     ]
    },
    {
     "name": "stdout",
     "output_type": "stream",
     "text": [
      "Elapsed Time: 60.7s, Elapsed Time per query: 60748.9ms\n",
      "10000\n",
      "10000\n",
      "['54_2', '54_3', '54_4', '54_5', '54_6', '54_7', '54_8', '54_9']\n",
      "54_2 215\n",
      "54_3 216\n",
      "54_4 217\n",
      "54_5 218\n",
      "54_6 219\n",
      "54_7 220\n",
      "54_8 221\n",
      "54_9 222\n",
      "56\n",
      "56_1 233\n",
      "Query Num 1\n"
     ]
    },
    {
     "name": "stderr",
     "output_type": "stream",
     "text": [
      "100%|████████████████████████████████████████████████████████████████████████████████████████████████████████████████████████████████████████████████████████████████████████████████████████████████████████████████████████████████████████| 1/1 [00:57<00:00, 57.18s/it]\n"
     ]
    },
    {
     "name": "stdout",
     "output_type": "stream",
     "text": [
      "Elapsed Time: 57.2s, Elapsed Time per query: 57181.8ms\n",
      "10000\n",
      "10000\n",
      "['56_2', '56_3', '56_4', '56_5', '56_6', '56_7', '56_8']\n",
      "56_2 234\n",
      "56_3 235\n",
      "56_4 236\n",
      "56_5 237\n",
      "56_6 238\n",
      "56_7 239\n",
      "56_8 240\n",
      "58\n",
      "58_1 251\n",
      "Query Num 1\n"
     ]
    },
    {
     "name": "stderr",
     "output_type": "stream",
     "text": [
      "100%|████████████████████████████████████████████████████████████████████████████████████████████████████████████████████████████████████████████████████████████████████████████████████████████████████████████████████████████████████████| 1/1 [00:33<00:00, 33.16s/it]\n"
     ]
    },
    {
     "name": "stdout",
     "output_type": "stream",
     "text": [
      "Elapsed Time: 33.2s, Elapsed Time per query: 33164.9ms\n",
      "10000\n",
      "10000\n",
      "['58_2', '58_3', '58_4', '58_5', '58_6', '58_7', '58_8']\n",
      "58_2 252\n",
      "58_3 253\n",
      "58_4 254\n",
      "58_5 255\n",
      "58_6 256\n",
      "58_7 257\n",
      "58_8 258\n",
      "59\n",
      "59_1 259\n",
      "Query Num 1\n"
     ]
    },
    {
     "name": "stderr",
     "output_type": "stream",
     "text": [
      "100%|████████████████████████████████████████████████████████████████████████████████████████████████████████████████████████████████████████████████████████████████████████████████████████████████████████████████████████████████████████| 1/1 [01:03<00:00, 63.63s/it]\n"
     ]
    },
    {
     "name": "stdout",
     "output_type": "stream",
     "text": [
      "Elapsed Time: 63.6s, Elapsed Time per query: 63631.2ms\n",
      "10000\n",
      "10000\n",
      "['59_2', '59_3', '59_4', '59_5', '59_6', '59_7', '59_8']\n",
      "59_2 260\n",
      "59_3 261\n",
      "59_4 262\n",
      "59_5 263\n",
      "59_6 264\n",
      "59_7 265\n",
      "59_8 266\n",
      "61\n",
      "61_1 274\n",
      "Query Num 1\n"
     ]
    },
    {
     "name": "stderr",
     "output_type": "stream",
     "text": [
      "100%|████████████████████████████████████████████████████████████████████████████████████████████████████████████████████████████████████████████████████████████████████████████████████████████████████████████████████████████████████████| 1/1 [01:01<00:00, 61.07s/it]\n"
     ]
    },
    {
     "name": "stdout",
     "output_type": "stream",
     "text": [
      "Elapsed Time: 61.1s, Elapsed Time per query: 61070.0ms\n",
      "10000\n",
      "10000\n",
      "['61_2', '61_3', '61_4', '61_5', '61_6', '61_7', '61_8', '61_9']\n",
      "61_2 275\n",
      "61_3 276\n",
      "61_4 277\n",
      "61_5 278\n",
      "61_6 279\n",
      "61_7 280\n",
      "61_8 281\n",
      "61_9 282\n",
      "67\n",
      "67_1 334\n",
      "Query Num 1\n"
     ]
    },
    {
     "name": "stderr",
     "output_type": "stream",
     "text": [
      "100%|████████████████████████████████████████████████████████████████████████████████████████████████████████████████████████████████████████████████████████████████████████████████████████████████████████████████████████████████████████| 1/1 [00:58<00:00, 58.15s/it]\n"
     ]
    },
    {
     "name": "stdout",
     "output_type": "stream",
     "text": [
      "Elapsed Time: 58.1s, Elapsed Time per query: 58148.6ms\n",
      "10000\n",
      "10000\n",
      "['67_2', '67_3', '67_4', '67_5', '67_6', '67_7', '67_8', '67_9', '67_10', '67_11']\n",
      "67_2 335\n",
      "67_3 336\n",
      "67_4 337\n",
      "67_5 338\n",
      "67_6 339\n",
      "67_7 340\n",
      "67_8 341\n",
      "67_9 342\n",
      "67_10 343\n",
      "67_11 344\n",
      "68\n",
      "68_1 345\n",
      "Query Num 1\n"
     ]
    },
    {
     "name": "stderr",
     "output_type": "stream",
     "text": [
      "100%|████████████████████████████████████████████████████████████████████████████████████████████████████████████████████████████████████████████████████████████████████████████████████████████████████████████████████████████████████████| 1/1 [00:31<00:00, 31.76s/it]\n"
     ]
    },
    {
     "name": "stdout",
     "output_type": "stream",
     "text": [
      "Elapsed Time: 31.8s, Elapsed Time per query: 31764.2ms\n",
      "10000\n",
      "10000\n",
      "['68_2', '68_3', '68_4', '68_5', '68_6', '68_7', '68_8', '68_9', '68_10', '68_11']\n",
      "68_2 346\n",
      "68_3 347\n",
      "68_4 348\n",
      "68_5 349\n",
      "68_6 350\n",
      "68_7 351\n",
      "68_8 352\n",
      "68_9 353\n",
      "68_10 354\n",
      "68_11 355\n",
      "69\n",
      "69_1 356\n",
      "Query Num 1\n"
     ]
    },
    {
     "name": "stderr",
     "output_type": "stream",
     "text": [
      "100%|████████████████████████████████████████████████████████████████████████████████████████████████████████████████████████████████████████████████████████████████████████████████████████████████████████████████████████████████████████| 1/1 [01:01<00:00, 61.25s/it]\n"
     ]
    },
    {
     "name": "stdout",
     "output_type": "stream",
     "text": [
      "Elapsed Time: 61.2s, Elapsed Time per query: 61249.8ms\n",
      "10000\n",
      "10000\n",
      "['69_2', '69_3', '69_4', '69_5', '69_6', '69_7', '69_8', '69_9', '69_10']\n",
      "69_2 357\n",
      "69_3 358\n",
      "69_4 359\n",
      "69_5 360\n",
      "69_6 361\n",
      "69_7 362\n",
      "69_8 363\n",
      "69_9 364\n",
      "69_10 365\n",
      "75\n",
      "75_1 420\n",
      "Query Num 1\n"
     ]
    },
    {
     "name": "stderr",
     "output_type": "stream",
     "text": [
      "100%|████████████████████████████████████████████████████████████████████████████████████████████████████████████████████████████████████████████████████████████████████████████████████████████████████████████████████████████████████████| 1/1 [00:59<00:00, 59.98s/it]\n"
     ]
    },
    {
     "name": "stdout",
     "output_type": "stream",
     "text": [
      "Elapsed Time: 60.0s, Elapsed Time per query: 59982.9ms\n",
      "10000\n",
      "10000\n",
      "['75_2', '75_3', '75_4', '75_5', '75_6', '75_7', '75_8', '75_9', '75_10']\n",
      "75_2 421\n",
      "75_3 422\n",
      "75_4 423\n",
      "75_5 424\n",
      "75_6 425\n",
      "75_7 426\n",
      "75_8 427\n",
      "75_9 428\n",
      "75_10 429\n",
      "77\n",
      "77_1 440\n",
      "Query Num 1\n"
     ]
    },
    {
     "name": "stderr",
     "output_type": "stream",
     "text": [
      "100%|████████████████████████████████████████████████████████████████████████████████████████████████████████████████████████████████████████████████████████████████████████████████████████████████████████████████████████████████████████| 1/1 [00:59<00:00, 59.99s/it]\n"
     ]
    },
    {
     "name": "stdout",
     "output_type": "stream",
     "text": [
      "Elapsed Time: 60.0s, Elapsed Time per query: 59988.0ms\n",
      "10000\n",
      "10000\n",
      "['77_2', '77_3', '77_4', '77_5', '77_6', '77_7', '77_8', '77_9', '77_10']\n",
      "77_2 441\n",
      "77_3 442\n",
      "77_4 443\n",
      "77_5 444\n",
      "77_6 445\n",
      "77_7 446\n",
      "77_8 447\n",
      "77_9 448\n",
      "77_10 449\n",
      "78\n",
      "78_1 450\n",
      "Query Num 1\n"
     ]
    },
    {
     "name": "stderr",
     "output_type": "stream",
     "text": [
      "100%|████████████████████████████████████████████████████████████████████████████████████████████████████████████████████████████████████████████████████████████████████████████████████████████████████████████████████████████████████████| 1/1 [00:59<00:00, 59.23s/it]\n"
     ]
    },
    {
     "name": "stdout",
     "output_type": "stream",
     "text": [
      "Elapsed Time: 59.2s, Elapsed Time per query: 59230.7ms\n",
      "10000\n",
      "10000\n",
      "['78_2', '78_3', '78_4', '78_5', '78_6', '78_7', '78_8', '78_9', '78_10']\n",
      "78_2 451\n",
      "78_3 452\n",
      "78_4 453\n",
      "78_5 454\n",
      "78_6 455\n",
      "78_7 456\n",
      "78_8 457\n",
      "78_9 458\n",
      "78_10 459\n",
      "79\n",
      "79_1 460\n",
      "Query Num 1\n"
     ]
    },
    {
     "name": "stderr",
     "output_type": "stream",
     "text": [
      "100%|████████████████████████████████████████████████████████████████████████████████████████████████████████████████████████████████████████████████████████████████████████████████████████████████████████████████████████████████████████| 1/1 [00:29<00:00, 29.31s/it]\n"
     ]
    },
    {
     "name": "stdout",
     "output_type": "stream",
     "text": [
      "Elapsed Time: 29.3s, Elapsed Time per query: 29318.0ms\n",
      "10000\n",
      "10000\n",
      "['79_2', '79_3', '79_4', '79_5', '79_6', '79_7', '79_8', '79_9']\n",
      "79_2 461\n",
      "79_3 462\n",
      "79_4 463\n",
      "79_5 464\n",
      "79_6 465\n",
      "79_7 466\n",
      "79_8 467\n",
      "79_9 468\n"
     ]
    }
   ],
   "source": [
    "all_dist_dict = {}\n",
    "qa_qb_dist = {}\n",
    "for convid in conv_qrel:\n",
    "    print(convid)\n",
    "    # qa\n",
    "    first_qid = convid + \"_1\"\n",
    "    first_newqid = qid2newqid_dict[first_qid] #added first\n",
    "    first_qid_offset = qid2offset[first_newqid]\n",
    "    print(first_qid, first_qid_offset)\n",
    "\n",
    "    # prendere il memmap\n",
    "    first_query_emb = query_embeddings[first_qid_offset].reshape(1, 768)\n",
    "    \n",
    "    # fare retireval nel indice grande e prendere top 10000 documenti\n",
    "    faiss.omp_set_num_threads(16) #32\n",
    "    nearest_neighbors_ra = index_retrieve(index, first_query_emb, 10000, batch=32)\n",
    "    print(len(nearest_neighbors_ra[0]))\n",
    "\n",
    "    # compute dist between q_1 and all retrieved docs\n",
    "    q_p_dist_list = []\n",
    "    for docid in nearest_neighbors_ra[0]:\n",
    "        doc_emb = doc_embeddings[docid].reshape(1, 768)\n",
    "        \n",
    "        q_p_dist = l2_distance(query_emb, doc_emb)\n",
    "        q_p_dist_list.append(q_p_dist)\n",
    "    \n",
    "    all_dist_dict[first_qid] = q_p_dist_list\n",
    "    print(len(q_p_dist_list))\n",
    "    \n",
    "    ### compute dist between all other q in the same conv and all retrieved docs\n",
    "    # get conv ids\n",
    "    conv_qids = [qid for qid in qid2newqid_dict.keys() if qid.startswith(convid+\"_\") and not qid.endswith(\"_1\")]\n",
    "    print(conv_qids)\n",
    "    \n",
    "    # get qid emb\n",
    "    for qid in conv_qids:\n",
    "        newqid = qid2newqid_dict[qid] #added first\n",
    "        qid_offset = qid2offset[newqid]\n",
    "        print(qid, qid_offset)\n",
    "        # the header are the docids, the index the queryids\n",
    "        query_emb = query_embeddings[qid_offset].reshape(1, 768)\n",
    "        \n",
    "        #qa qb dist\n",
    "        qa_qb_dist[qid] = l2_distance(first_query_emb, query_emb)\n",
    "        \n",
    "        # query doc dist\n",
    "        q_p_dist_list = []\n",
    "        for docid in nearest_neighbors_ra[0]:\n",
    "            doc_emb = doc_embeddings[docid].reshape(1, 768)\n",
    "\n",
    "            q_p_dist = l2_distance(query_emb, doc_emb)\n",
    "            q_p_dist_list.append(q_p_dist)\n",
    "        \n",
    "        all_dist_dict[qid] = q_p_dist_list"
   ]
  },
  {
   "cell_type": "code",
   "execution_count": 19,
   "id": "f11dd294-4c5e-4cab-9c2b-0ff355bd20aa",
   "metadata": {},
   "outputs": [
    {
     "name": "stdout",
     "output_type": "stream",
     "text": [
      "Stored 'all_dist_dict' (dict)\n",
      "Stored 'nearest_neighbors_ra' (list)\n",
      "Stored 'qa_qb_dist' (dict)\n"
     ]
    }
   ],
   "source": [
    "#### Saving variables\n",
    "%store all_dist_dict\n",
    "%store nearest_neighbors_ra\n",
    "%store qa_qb_dist"
   ]
  },
  {
   "cell_type": "code",
   "execution_count": 21,
   "id": "21360e29-bfa7-42b6-beaf-a4422283ef90",
   "metadata": {},
   "outputs": [],
   "source": [
    "# #check rb_hat\n",
    "# rb_hat_10000 = {}\n",
    "# for qid in conv_qids:\n",
    "#     print(qid)\n",
    "#     rb_hat = all_dist_dict[\"31_1\"][9999] - query_distance_dict[qid]\n",
    "#     print(all_dist_dict[\"31_1\"][9999], query_distance_dict[qid], rb_hat)\n",
    "#     rb_hat_10000[qid]= rb_hat"
   ]
  },
  {
   "cell_type": "code",
   "execution_count": 22,
   "id": "d54d8611-636c-48c1-ab94-6b5b0e0655dd",
   "metadata": {},
   "outputs": [],
   "source": [
    "# # check how many in q_p_dist_list of each are less than the rb_hat radius\n",
    "\n",
    "# for qid in [\"31_6\"]:# conv_qids:\n",
    "#     distances = all_dist_dict[qid]\n",
    "#     safe_dist_docs = ([(i,dist) for (i,dist) in enumerate(distances) if dist < 3 ])# rb_hat_10000[qid]])\n",
    "#     print(qid, safe_dist_docs)"
   ]
  },
  {
   "cell_type": "code",
   "execution_count": 24,
   "id": "1dc4311f-1075-465f-b85b-e7b341a00ac7",
   "metadata": {},
   "outputs": [],
   "source": [
    "# # check how many in q_p_dist_list of each are less than the rb_hat radius\n",
    "# distances_qa = all_dist_dict[\"31_1\"]\n",
    "# distances_qb = all_dist_dict[\"31_6\"]\n",
    "# assert len(distances_qa)==len(distances_qb)\n",
    "# for (i,dist) in enumerate(distances_qb):\n",
    "#     assert distances_qb[i] <= distances_qa[i] + query_distance_dict[\"31_6\"]"
   ]
  },
  {
   "cell_type": "code",
   "execution_count": 105,
   "id": "d208933d-54d5-4fa1-8512-477d5bf85d1a",
   "metadata": {},
   "outputs": [],
   "source": [
    "# all_dist_dict[\"31_6\"]"
   ]
  },
  {
   "cell_type": "code",
   "execution_count": null,
   "id": "4776cdfb-3c99-43ef-bd07-4635a94b00a5",
   "metadata": {},
   "outputs": [],
   "source": [
    "# numpy_data = np.array(all_dist_list)\n",
    "# dist_df = pd.DataFrame(data=numpy_data, index=query_ids, columns=doc_ids)"
   ]
  },
  {
   "cell_type": "code",
   "execution_count": null,
   "id": "689d9c66-6fa3-4ffc-879d-46df05ba4806",
   "metadata": {},
   "outputs": [],
   "source": [
    "# %store dist_df"
   ]
  },
  {
   "cell_type": "markdown",
   "id": "89a6855b-09d7-4f63-bdc2-ddd7900333ba",
   "metadata": {},
   "source": [
    "# Create conv cache"
   ]
  },
  {
   "cell_type": "code",
   "execution_count": 23,
   "id": "cf060aa8-3cc8-49da-9673-aaad5a0cc79f",
   "metadata": {},
   "outputs": [],
   "source": [
    "topk = 10000 # cache dimension [1000,2000,5000,10000]\n",
    "# evaluation is done on top 1000 - another topk?"
   ]
  },
  {
   "cell_type": "code",
   "execution_count": 24,
   "id": "c8b6a11a-a764-474e-9665-a167849a95f0",
   "metadata": {},
   "outputs": [],
   "source": [
    "# distance dicts\n",
    "\n",
    "cache_radius_dict = dict() # between first utterance (qa) and last retrieved doc from the big index\n",
    "query_distance_dict = dict() # distance between the first (qa) and the rest of utterances of the conversation (qb)\n",
    "query_radius_dict = dict() # between current utterance (qb) and last retrieved doc from the big index\n",
    "diff_distance_dict = dict() # rb_hat = ra - d(qb, qa)"
   ]
  },
  {
   "cell_type": "code",
   "execution_count": 25,
   "id": "93f7a3b2-c61d-4922-beb2-9c09e3322549",
   "metadata": {},
   "outputs": [],
   "source": [
    "def l2_distance(v1,v2):\n",
    "    return np.linalg.norm(v1-v2)"
   ]
  },
  {
   "cell_type": "code",
   "execution_count": 26,
   "id": "a477a6db-0389-451a-87b6-354a75387308",
   "metadata": {},
   "outputs": [],
   "source": [
    "def create_conv_cache(conv_id, qid2newqid_dict, qid2offset, query_embeddings, doc_embeddings, \n",
    "                      index, topk, cache_radius_dict):\n",
    "    # first utt of the conversation - determines the size of the cache\n",
    "    first_qid = conv_id + \"_1\"\n",
    "    newqid = qid2newqid_dict[first_qid] #added first\n",
    "    qid_offset = qid2offset[newqid]\n",
    "\n",
    "    # prendere il memmap\n",
    "    query_emb = query_embeddings[qid_offset].reshape(1, 768)\n",
    "    \n",
    "    # fare retireval nel indice grande e prendere top 2000 documenti\n",
    "    faiss.omp_set_num_threads(16) #32\n",
    "    nearest_neighbors = index_retrieve(index, query_emb, topk, batch=32)\n",
    "    \n",
    "    # select doc embeddings, paired with ids\n",
    "    small_doc_emb = doc_embeddings[nearest_neighbors[0]]\n",
    "    small_doc_ids = np.array(nearest_neighbors[0])\n",
    "    index_conv = construct_flatindex_from_embeddings(small_doc_emb, small_doc_ids)\n",
    "       \n",
    "    # compute distance between the first query and last doc in the list of topk retrieved that are stored in cache (e.g., r_q_i)\n",
    "    last_doc = nearest_neighbors[0][-1]\n",
    "    last_doc_embedding = doc_embeddings[last_doc]\n",
    "    cache_radius_dict[first_qid] = l2_distance(query_emb, last_doc_embedding)\n",
    "    \n",
    "    return index_conv, nearest_neighbors, cache_radius_dict"
   ]
  },
  {
   "cell_type": "code",
   "execution_count": null,
   "id": "c8d60652-5641-4b15-bda6-eec00863730c",
   "metadata": {},
   "outputs": [
    {
     "name": "stdout",
     "output_type": "stream",
     "text": [
      "Starting conv:  31\n",
      "Query Num 1\n"
     ]
    },
    {
     "name": "stderr",
     "output_type": "stream",
     "text": [
      "100%|████████████████████████████████████████████████████████████████████████████████████████████████████████████████████████████████████████████████████████████████████████████████████████████████████████████████████████████████████████| 1/1 [01:02<00:00, 62.66s/it]\n"
     ]
    },
    {
     "name": "stdout",
     "output_type": "stream",
     "text": [
      "Elapsed Time: 62.7s, Elapsed Time per query: 62659.1ms\n",
      "embedding shape: (10000, 768)\n",
      "(10000,) int64\n",
      "Create cache for:  31\n",
      "Processing qid: 31_2\n",
      "Query Num 1\n"
     ]
    },
    {
     "name": "stderr",
     "output_type": "stream",
     "text": [
      "100%|███████████████████████████████████████████████████████████████████████████████████████████████████████████████████████████████████████████████████████████████████████████████████████████████████████████████████████████████████████| 1/1 [00:00<00:00, 114.27it/s]\n"
     ]
    },
    {
     "name": "stdout",
     "output_type": "stream",
     "text": [
      "Elapsed Time: 0.0s, Elapsed Time per query: 12.4ms\n",
      "Retrieved top 1000 for 31_2\n",
      "Computing distances and coverage!\n",
      "Finished for Rb hat!\n",
      "Query Num 1\n"
     ]
    },
    {
     "name": "stderr",
     "output_type": "stream",
     "text": [
      "100%|████████████████████████████████████████████████████████████████████████████████████████████████████████████████████████████████████████████████████████████████████████████████████████████████████████████████████████████████████████| 1/1 [01:02<00:00, 62.79s/it]\n"
     ]
    },
    {
     "name": "stdout",
     "output_type": "stream",
     "text": [
      "Elapsed Time: 62.8s, Elapsed Time per query: 62795.0ms\n",
      "Finished retrieving in the big index!\n",
      "finished with qid:  31_2\n",
      "Processing qid: 31_3\n",
      "Query Num 1\n"
     ]
    },
    {
     "name": "stderr",
     "output_type": "stream",
     "text": [
      "100%|████████████████████████████████████████████████████████████████████████████████████████████████████████████████████████████████████████████████████████████████████████████████████████████████████████████████████████████████████████| 1/1 [00:00<00:00, 47.70it/s]\n"
     ]
    },
    {
     "name": "stdout",
     "output_type": "stream",
     "text": [
      "Elapsed Time: 0.0s, Elapsed Time per query: 25.4ms\n",
      "Retrieved top 1000 for 31_3\n",
      "Computing distances and coverage!\n",
      "Finished for Rb hat!\n",
      "Query Num 1\n"
     ]
    },
    {
     "name": "stderr",
     "output_type": "stream",
     "text": [
      "100%|████████████████████████████████████████████████████████████████████████████████████████████████████████████████████████████████████████████████████████████████████████████████████████████████████████████████████████████████████████| 1/1 [00:33<00:00, 33.64s/it]\n"
     ]
    },
    {
     "name": "stdout",
     "output_type": "stream",
     "text": [
      "Elapsed Time: 33.6s, Elapsed Time per query: 33640.9ms\n",
      "Finished retrieving in the big index!\n",
      "finished with qid:  31_3\n",
      "Processing qid: 31_4\n",
      "Query Num 1\n"
     ]
    },
    {
     "name": "stderr",
     "output_type": "stream",
     "text": [
      "100%|███████████████████████████████████████████████████████████████████████████████████████████████████████████████████████████████████████████████████████████████████████████████████████████████████████████████████████████████████████| 1/1 [00:00<00:00, 117.73it/s]\n"
     ]
    },
    {
     "name": "stdout",
     "output_type": "stream",
     "text": [
      "Elapsed Time: 0.0s, Elapsed Time per query: 11.1ms\n",
      "Retrieved top 1000 for 31_4\n",
      "Computing distances and coverage!\n",
      "Finished for Rb hat!\n",
      "Query Num 1\n"
     ]
    },
    {
     "name": "stderr",
     "output_type": "stream",
     "text": [
      "100%|████████████████████████████████████████████████████████████████████████████████████████████████████████████████████████████████████████████████████████████████████████████████████████████████████████████████████████████████████████| 1/1 [00:58<00:00, 58.63s/it]\n"
     ]
    },
    {
     "name": "stdout",
     "output_type": "stream",
     "text": [
      "Elapsed Time: 58.6s, Elapsed Time per query: 58633.2ms\n",
      "Finished retrieving in the big index!\n",
      "finished with qid:  31_4\n",
      "Processing qid: 31_5\n",
      "Query Num 1\n"
     ]
    },
    {
     "name": "stderr",
     "output_type": "stream",
     "text": [
      "100%|████████████████████████████████████████████████████████████████████████████████████████████████████████████████████████████████████████████████████████████████████████████████████████████████████████████████████████████████████████| 1/1 [00:00<00:00, 51.36it/s]\n"
     ]
    },
    {
     "name": "stdout",
     "output_type": "stream",
     "text": [
      "Elapsed Time: 0.0s, Elapsed Time per query: 23.3ms\n",
      "Retrieved top 1000 for 31_5\n",
      "Computing distances and coverage!\n",
      "Finished for Rb hat!\n",
      "Query Num 1\n"
     ]
    },
    {
     "name": "stderr",
     "output_type": "stream",
     "text": [
      "100%|████████████████████████████████████████████████████████████████████████████████████████████████████████████████████████████████████████████████████████████████████████████████████████████████████████████████████████████████████████| 1/1 [01:03<00:00, 63.47s/it]\n"
     ]
    },
    {
     "name": "stdout",
     "output_type": "stream",
     "text": [
      "Elapsed Time: 63.5s, Elapsed Time per query: 63468.6ms\n",
      "Finished retrieving in the big index!\n",
      "finished with qid:  31_5\n",
      "Processing qid: 31_6\n",
      "Query Num 1\n"
     ]
    },
    {
     "name": "stderr",
     "output_type": "stream",
     "text": [
      "100%|████████████████████████████████████████████████████████████████████████████████████████████████████████████████████████████████████████████████████████████████████████████████████████████████████████████████████████████████████████| 1/1 [00:00<00:00, 50.98it/s]\n"
     ]
    },
    {
     "name": "stdout",
     "output_type": "stream",
     "text": [
      "Elapsed Time: 0.0s, Elapsed Time per query: 22.7ms\n",
      "Retrieved top 1000 for 31_6\n",
      "Computing distances and coverage!\n",
      "Finished for Rb hat!\n",
      "Query Num 1\n"
     ]
    },
    {
     "name": "stderr",
     "output_type": "stream",
     "text": [
      "100%|████████████████████████████████████████████████████████████████████████████████████████████████████████████████████████████████████████████████████████████████████████████████████████████████████████████████████████████████████████| 1/1 [00:28<00:00, 28.85s/it]\n"
     ]
    },
    {
     "name": "stdout",
     "output_type": "stream",
     "text": [
      "Elapsed Time: 28.9s, Elapsed Time per query: 28853.8ms\n",
      "Finished retrieving in the big index!\n",
      "finished with qid:  31_6\n",
      "Processing qid: 31_7\n",
      "Query Num 1\n"
     ]
    },
    {
     "name": "stderr",
     "output_type": "stream",
     "text": [
      "100%|███████████████████████████████████████████████████████████████████████████████████████████████████████████████████████████████████████████████████████████████████████████████████████████████████████████████████████████████████████| 1/1 [00:00<00:00, 112.71it/s]\n"
     ]
    },
    {
     "name": "stdout",
     "output_type": "stream",
     "text": [
      "Elapsed Time: 0.0s, Elapsed Time per query: 11.4ms\n",
      "Retrieved top 1000 for 31_7\n",
      "Computing distances and coverage!\n",
      "Finished for Rb hat!\n",
      "Query Num 1\n"
     ]
    },
    {
     "name": "stderr",
     "output_type": "stream",
     "text": [
      "100%|████████████████████████████████████████████████████████████████████████████████████████████████████████████████████████████████████████████████████████████████████████████████████████████████████████████████████████████████████████| 1/1 [01:03<00:00, 63.34s/it]\n"
     ]
    },
    {
     "name": "stdout",
     "output_type": "stream",
     "text": [
      "Elapsed Time: 63.3s, Elapsed Time per query: 63339.7ms\n",
      "Finished retrieving in the big index!\n",
      "finished with qid:  31_7\n",
      "Processing qid: 31_8\n",
      "Query Num 1\n"
     ]
    },
    {
     "name": "stderr",
     "output_type": "stream",
     "text": [
      "100%|████████████████████████████████████████████████████████████████████████████████████████████████████████████████████████████████████████████████████████████████████████████████████████████████████████████████████████████████████████| 1/1 [00:00<00:00, 51.03it/s]\n"
     ]
    },
    {
     "name": "stdout",
     "output_type": "stream",
     "text": [
      "Elapsed Time: 0.0s, Elapsed Time per query: 23.4ms\n",
      "Retrieved top 1000 for 31_8\n",
      "Computing distances and coverage!\n",
      "Finished for Rb hat!\n",
      "Query Num 1\n"
     ]
    },
    {
     "name": "stderr",
     "output_type": "stream",
     "text": [
      "100%|████████████████████████████████████████████████████████████████████████████████████████████████████████████████████████████████████████████████████████████████████████████████████████████████████████████████████████████████████████| 1/1 [01:03<00:00, 63.42s/it]\n"
     ]
    },
    {
     "name": "stdout",
     "output_type": "stream",
     "text": [
      "Elapsed Time: 63.4s, Elapsed Time per query: 63425.7ms\n",
      "Finished retrieving in the big index!\n",
      "finished with qid:  31_8\n",
      "Processing qid: 31_9\n",
      "Query Num 1\n"
     ]
    },
    {
     "name": "stderr",
     "output_type": "stream",
     "text": [
      "100%|████████████████████████████████████████████████████████████████████████████████████████████████████████████████████████████████████████████████████████████████████████████████████████████████████████████████████████████████████████| 1/1 [00:00<00:00, 49.81it/s]\n"
     ]
    },
    {
     "name": "stdout",
     "output_type": "stream",
     "text": [
      "Elapsed Time: 0.0s, Elapsed Time per query: 23.4ms\n",
      "Retrieved top 1000 for 31_9\n",
      "Computing distances and coverage!\n",
      "Finished for Rb hat!\n",
      "Query Num 1\n"
     ]
    },
    {
     "name": "stderr",
     "output_type": "stream",
     "text": [
      "100%|████████████████████████████████████████████████████████████████████████████████████████████████████████████████████████████████████████████████████████████████████████████████████████████████████████████████████████████████████████| 1/1 [00:35<00:00, 35.77s/it]\n"
     ]
    },
    {
     "name": "stdout",
     "output_type": "stream",
     "text": [
      "Elapsed Time: 35.8s, Elapsed Time per query: 35772.6ms\n",
      "Finished retrieving in the big index!\n",
      "finished with qid:  31_9\n",
      "Starting conv:  32\n",
      "Query Num 1\n"
     ]
    },
    {
     "name": "stderr",
     "output_type": "stream",
     "text": [
      "100%|████████████████████████████████████████████████████████████████████████████████████████████████████████████████████████████████████████████████████████████████████████████████████████████████████████████████████████████████████████| 1/1 [00:56<00:00, 56.80s/it]\n"
     ]
    },
    {
     "name": "stdout",
     "output_type": "stream",
     "text": [
      "Elapsed Time: 56.8s, Elapsed Time per query: 56803.2ms\n",
      "embedding shape: (10000, 768)\n",
      "(10000,) int64\n",
      "Create cache for:  32\n",
      "Processing qid: 32_2\n",
      "Query Num 1\n"
     ]
    },
    {
     "name": "stderr",
     "output_type": "stream",
     "text": [
      "100%|███████████████████████████████████████████████████████████████████████████████████████████████████████████████████████████████████████████████████████████████████████████████████████████████████████████████████████████████████████| 1/1 [00:00<00:00, 104.70it/s]\n"
     ]
    },
    {
     "name": "stdout",
     "output_type": "stream",
     "text": [
      "Elapsed Time: 0.0s, Elapsed Time per query: 12.4ms\n",
      "Retrieved top 1000 for 32_2\n",
      "Computing distances and coverage!\n",
      "Finished for Rb hat!\n",
      "Query Num 1\n"
     ]
    },
    {
     "name": "stderr",
     "output_type": "stream",
     "text": [
      "100%|████████████████████████████████████████████████████████████████████████████████████████████████████████████████████████████████████████████████████████████████████████████████████████████████████████████████████████████████████████| 1/1 [01:03<00:00, 63.34s/it]\n"
     ]
    },
    {
     "name": "stdout",
     "output_type": "stream",
     "text": [
      "Elapsed Time: 63.3s, Elapsed Time per query: 63345.9ms\n",
      "Finished retrieving in the big index!\n",
      "finished with qid:  32_2\n",
      "Processing qid: 32_3\n",
      "Query Num 1\n"
     ]
    },
    {
     "name": "stderr",
     "output_type": "stream",
     "text": [
      "100%|████████████████████████████████████████████████████████████████████████████████████████████████████████████████████████████████████████████████████████████████████████████████████████████████████████████████████████████████████████| 1/1 [00:00<00:00, 56.02it/s]\n"
     ]
    },
    {
     "name": "stdout",
     "output_type": "stream",
     "text": [
      "Elapsed Time: 0.0s, Elapsed Time per query: 21.1ms\n",
      "Retrieved top 1000 for 32_3\n",
      "Computing distances and coverage!\n",
      "Finished for Rb hat!\n",
      "Query Num 1\n"
     ]
    },
    {
     "name": "stderr",
     "output_type": "stream",
     "text": [
      "100%|████████████████████████████████████████████████████████████████████████████████████████████████████████████████████████████████████████████████████████████████████████████████████████████████████████████████████████████████████████| 1/1 [00:31<00:00, 31.41s/it]\n"
     ]
    },
    {
     "name": "stdout",
     "output_type": "stream",
     "text": [
      "Elapsed Time: 31.4s, Elapsed Time per query: 31407.6ms\n",
      "Finished retrieving in the big index!\n",
      "finished with qid:  32_3\n",
      "Processing qid: 32_4\n",
      "Query Num 1\n"
     ]
    },
    {
     "name": "stderr",
     "output_type": "stream",
     "text": [
      "100%|████████████████████████████████████████████████████████████████████████████████████████████████████████████████████████████████████████████████████████████████████████████████████████████████████████████████████████████████████████| 1/1 [00:00<00:00, 89.33it/s]\n"
     ]
    },
    {
     "name": "stdout",
     "output_type": "stream",
     "text": [
      "Elapsed Time: 0.0s, Elapsed Time per query: 14.0ms\n",
      "Retrieved top 1000 for 32_4\n",
      "Computing distances and coverage!\n",
      "Finished for Rb hat!\n",
      "Query Num 1\n"
     ]
    },
    {
     "name": "stderr",
     "output_type": "stream",
     "text": [
      "100%|████████████████████████████████████████████████████████████████████████████████████████████████████████████████████████████████████████████████████████████████████████████████████████████████████████████████████████████████████████| 1/1 [01:01<00:00, 61.40s/it]\n"
     ]
    },
    {
     "name": "stdout",
     "output_type": "stream",
     "text": [
      "Elapsed Time: 61.4s, Elapsed Time per query: 61397.2ms\n",
      "Finished retrieving in the big index!\n",
      "finished with qid:  32_4\n",
      "Processing qid: 32_5\n",
      "Query Num 1\n"
     ]
    },
    {
     "name": "stderr",
     "output_type": "stream",
     "text": [
      "100%|████████████████████████████████████████████████████████████████████████████████████████████████████████████████████████████████████████████████████████████████████████████████████████████████████████████████████████████████████████| 1/1 [00:00<00:00, 53.33it/s]\n"
     ]
    },
    {
     "name": "stdout",
     "output_type": "stream",
     "text": [
      "Elapsed Time: 0.0s, Elapsed Time per query: 22.6ms\n",
      "Retrieved top 1000 for 32_5\n",
      "Computing distances and coverage!\n",
      "Finished for Rb hat!\n",
      "Query Num 1\n"
     ]
    },
    {
     "name": "stderr",
     "output_type": "stream",
     "text": [
      "100%|████████████████████████████████████████████████████████████████████████████████████████████████████████████████████████████████████████████████████████████████████████████████████████████████████████████████████████████████████████| 1/1 [01:03<00:00, 63.12s/it]\n"
     ]
    },
    {
     "name": "stdout",
     "output_type": "stream",
     "text": [
      "Elapsed Time: 63.1s, Elapsed Time per query: 63122.4ms\n",
      "Finished retrieving in the big index!\n",
      "finished with qid:  32_5\n",
      "Processing qid: 32_6\n",
      "Query Num 1\n"
     ]
    },
    {
     "name": "stderr",
     "output_type": "stream",
     "text": [
      "100%|████████████████████████████████████████████████████████████████████████████████████████████████████████████████████████████████████████████████████████████████████████████████████████████████████████████████████████████████████████| 1/1 [00:00<00:00, 55.62it/s]\n"
     ]
    },
    {
     "name": "stdout",
     "output_type": "stream",
     "text": [
      "Elapsed Time: 0.0s, Elapsed Time per query: 21.0ms\n",
      "Retrieved top 1000 for 32_6\n",
      "Computing distances and coverage!\n",
      "Finished for Rb hat!\n",
      "Query Num 1\n"
     ]
    },
    {
     "name": "stderr",
     "output_type": "stream",
     "text": [
      "100%|████████████████████████████████████████████████████████████████████████████████████████████████████████████████████████████████████████████████████████████████████████████████████████████████████████████████████████████████████████| 1/1 [00:29<00:00, 29.29s/it]\n"
     ]
    },
    {
     "name": "stdout",
     "output_type": "stream",
     "text": [
      "Elapsed Time: 29.3s, Elapsed Time per query: 29288.8ms\n",
      "Finished retrieving in the big index!\n",
      "finished with qid:  32_6\n",
      "Processing qid: 32_7\n",
      "Query Num 1\n"
     ]
    },
    {
     "name": "stderr",
     "output_type": "stream",
     "text": [
      "100%|███████████████████████████████████████████████████████████████████████████████████████████████████████████████████████████████████████████████████████████████████████████████████████████████████████████████████████████████████████| 1/1 [00:00<00:00, 113.94it/s]\n"
     ]
    },
    {
     "name": "stdout",
     "output_type": "stream",
     "text": [
      "Elapsed Time: 0.0s, Elapsed Time per query: 12.0ms\n",
      "Retrieved top 1000 for 32_7\n",
      "Computing distances and coverage!\n",
      "Finished for Rb hat!\n",
      "Query Num 1\n"
     ]
    },
    {
     "name": "stderr",
     "output_type": "stream",
     "text": [
      "100%|████████████████████████████████████████████████████████████████████████████████████████████████████████████████████████████████████████████████████████████████████████████████████████████████████████████████████████████████████████| 1/1 [01:03<00:00, 63.50s/it]\n"
     ]
    },
    {
     "name": "stdout",
     "output_type": "stream",
     "text": [
      "Elapsed Time: 63.5s, Elapsed Time per query: 63503.0ms\n",
      "Finished retrieving in the big index!\n",
      "finished with qid:  32_7\n",
      "Processing qid: 32_8\n",
      "Query Num 1\n"
     ]
    },
    {
     "name": "stderr",
     "output_type": "stream",
     "text": [
      "100%|████████████████████████████████████████████████████████████████████████████████████████████████████████████████████████████████████████████████████████████████████████████████████████████████████████████████████████████████████████| 1/1 [00:00<00:00, 56.08it/s]\n"
     ]
    },
    {
     "name": "stdout",
     "output_type": "stream",
     "text": [
      "Elapsed Time: 0.0s, Elapsed Time per query: 20.2ms\n",
      "Retrieved top 1000 for 32_8\n",
      "Computing distances and coverage!\n",
      "Finished for Rb hat!\n",
      "Query Num 1\n"
     ]
    },
    {
     "name": "stderr",
     "output_type": "stream",
     "text": [
      "100%|████████████████████████████████████████████████████████████████████████████████████████████████████████████████████████████████████████████████████████████████████████████████████████████████████████████████████████████████████████| 1/1 [01:03<00:00, 63.38s/it]\n"
     ]
    },
    {
     "name": "stdout",
     "output_type": "stream",
     "text": [
      "Elapsed Time: 63.4s, Elapsed Time per query: 63385.4ms\n",
      "Finished retrieving in the big index!\n",
      "finished with qid:  32_8\n",
      "Processing qid: 32_9\n",
      "Query Num 1\n"
     ]
    },
    {
     "name": "stderr",
     "output_type": "stream",
     "text": [
      "100%|████████████████████████████████████████████████████████████████████████████████████████████████████████████████████████████████████████████████████████████████████████████████████████████████████████████████████████████████████████| 1/1 [00:00<00:00, 55.35it/s]\n"
     ]
    },
    {
     "name": "stdout",
     "output_type": "stream",
     "text": [
      "Elapsed Time: 0.0s, Elapsed Time per query: 20.6ms\n",
      "Retrieved top 1000 for 32_9\n",
      "Computing distances and coverage!\n",
      "Finished for Rb hat!\n",
      "Query Num 1\n"
     ]
    },
    {
     "name": "stderr",
     "output_type": "stream",
     "text": [
      "100%|████████████████████████████████████████████████████████████████████████████████████████████████████████████████████████████████████████████████████████████████████████████████████████████████████████████████████████████████████████| 1/1 [00:29<00:00, 29.33s/it]\n"
     ]
    },
    {
     "name": "stdout",
     "output_type": "stream",
     "text": [
      "Elapsed Time: 29.3s, Elapsed Time per query: 29328.3ms\n",
      "Finished retrieving in the big index!\n",
      "finished with qid:  32_9\n",
      "Processing qid: 32_10\n",
      "Query Num 1\n"
     ]
    },
    {
     "name": "stderr",
     "output_type": "stream",
     "text": [
      "100%|███████████████████████████████████████████████████████████████████████████████████████████████████████████████████████████████████████████████████████████████████████████████████████████████████████████████████████████████████████| 1/1 [00:00<00:00, 111.12it/s]\n"
     ]
    },
    {
     "name": "stdout",
     "output_type": "stream",
     "text": [
      "Elapsed Time: 0.0s, Elapsed Time per query: 11.2ms\n",
      "Retrieved top 1000 for 32_10\n",
      "Computing distances and coverage!\n",
      "Finished for Rb hat!\n",
      "Query Num 1\n"
     ]
    },
    {
     "name": "stderr",
     "output_type": "stream",
     "text": [
      "100%|████████████████████████████████████████████████████████████████████████████████████████████████████████████████████████████████████████████████████████████████████████████████████████████████████████████████████████████████████████| 1/1 [01:03<00:00, 63.53s/it]\n"
     ]
    },
    {
     "name": "stdout",
     "output_type": "stream",
     "text": [
      "Elapsed Time: 63.5s, Elapsed Time per query: 63533.2ms\n",
      "Finished retrieving in the big index!\n",
      "finished with qid:  32_10\n",
      "Processing qid: 32_11\n",
      "Query Num 1\n"
     ]
    },
    {
     "name": "stderr",
     "output_type": "stream",
     "text": [
      "100%|████████████████████████████████████████████████████████████████████████████████████████████████████████████████████████████████████████████████████████████████████████████████████████████████████████████████████████████████████████| 1/1 [00:00<00:00, 56.33it/s]\n"
     ]
    },
    {
     "name": "stdout",
     "output_type": "stream",
     "text": [
      "Elapsed Time: 0.0s, Elapsed Time per query: 20.0ms\n",
      "Retrieved top 1000 for 32_11\n",
      "Computing distances and coverage!\n",
      "Finished for Rb hat!\n",
      "Query Num 1\n"
     ]
    },
    {
     "name": "stderr",
     "output_type": "stream",
     "text": [
      "100%|████████████████████████████████████████████████████████████████████████████████████████████████████████████████████████████████████████████████████████████████████████████████████████████████████████████████████████████████████████| 1/1 [01:00<00:00, 60.91s/it]\n"
     ]
    },
    {
     "name": "stdout",
     "output_type": "stream",
     "text": [
      "Elapsed Time: 60.9s, Elapsed Time per query: 60915.2ms\n",
      "Finished retrieving in the big index!\n",
      "finished with qid:  32_11\n",
      "Starting conv:  33\n",
      "Query Num 1\n"
     ]
    },
    {
     "name": "stderr",
     "output_type": "stream",
     "text": [
      "100%|████████████████████████████████████████████████████████████████████████████████████████████████████████████████████████████████████████████████████████████████████████████████████████████████████████████████████████████████████████| 1/1 [00:35<00:00, 35.46s/it]\n"
     ]
    },
    {
     "name": "stdout",
     "output_type": "stream",
     "text": [
      "Elapsed Time: 35.5s, Elapsed Time per query: 35465.7ms\n",
      "embedding shape: (10000, 768)\n",
      "(10000,) int64\n",
      "Create cache for:  33\n",
      "Processing qid: 33_2\n",
      "Query Num 1\n"
     ]
    },
    {
     "name": "stderr",
     "output_type": "stream",
     "text": [
      "100%|███████████████████████████████████████████████████████████████████████████████████████████████████████████████████████████████████████████████████████████████████████████████████████████████████████████████████████████████████████| 1/1 [00:00<00:00, 114.18it/s]\n"
     ]
    },
    {
     "name": "stdout",
     "output_type": "stream",
     "text": [
      "Elapsed Time: 0.0s, Elapsed Time per query: 11.4ms\n",
      "Retrieved top 1000 for 33_2\n",
      "Computing distances and coverage!\n",
      "Finished for Rb hat!\n",
      "Query Num 1\n"
     ]
    },
    {
     "name": "stderr",
     "output_type": "stream",
     "text": [
      "100%|████████████████████████████████████████████████████████████████████████████████████████████████████████████████████████████████████████████████████████████████████████████████████████████████████████████████████████████████████████| 1/1 [00:54<00:00, 54.80s/it]\n"
     ]
    },
    {
     "name": "stdout",
     "output_type": "stream",
     "text": [
      "Elapsed Time: 54.8s, Elapsed Time per query: 54799.9ms\n",
      "Finished retrieving in the big index!\n",
      "finished with qid:  33_2\n",
      "Processing qid: 33_3\n",
      "Query Num 1\n"
     ]
    },
    {
     "name": "stderr",
     "output_type": "stream",
     "text": [
      "100%|████████████████████████████████████████████████████████████████████████████████████████████████████████████████████████████████████████████████████████████████████████████████████████████████████████████████████████████████████████| 1/1 [00:00<00:00, 51.46it/s]\n"
     ]
    },
    {
     "name": "stdout",
     "output_type": "stream",
     "text": [
      "Elapsed Time: 0.0s, Elapsed Time per query: 22.4ms\n",
      "Retrieved top 1000 for 33_3\n",
      "Computing distances and coverage!\n",
      "Finished for Rb hat!\n",
      "Query Num 1\n"
     ]
    },
    {
     "name": "stderr",
     "output_type": "stream",
     "text": [
      "100%|████████████████████████████████████████████████████████████████████████████████████████████████████████████████████████████████████████████████████████████████████████████████████████████████████████████████████████████████████████| 1/1 [01:03<00:00, 63.42s/it]\n"
     ]
    },
    {
     "name": "stdout",
     "output_type": "stream",
     "text": [
      "Elapsed Time: 63.4s, Elapsed Time per query: 63422.1ms\n",
      "Finished retrieving in the big index!\n",
      "finished with qid:  33_3\n",
      "Processing qid: 33_4\n",
      "Query Num 1\n"
     ]
    },
    {
     "name": "stderr",
     "output_type": "stream",
     "text": [
      "100%|████████████████████████████████████████████████████████████████████████████████████████████████████████████████████████████████████████████████████████████████████████████████████████████████████████████████████████████████████████| 1/1 [00:00<00:00, 51.02it/s]\n"
     ]
    },
    {
     "name": "stdout",
     "output_type": "stream",
     "text": [
      "Elapsed Time: 0.0s, Elapsed Time per query: 23.4ms\n",
      "Retrieved top 1000 for 33_4\n",
      "Computing distances and coverage!\n",
      "Finished for Rb hat!\n",
      "Query Num 1\n"
     ]
    },
    {
     "name": "stderr",
     "output_type": "stream",
     "text": [
      "100%|████████████████████████████████████████████████████████████████████████████████████████████████████████████████████████████████████████████████████████████████████████████████████████████████████████████████████████████████████████| 1/1 [00:30<00:00, 30.74s/it]\n"
     ]
    },
    {
     "name": "stdout",
     "output_type": "stream",
     "text": [
      "Elapsed Time: 30.7s, Elapsed Time per query: 30743.1ms\n",
      "Finished retrieving in the big index!\n",
      "finished with qid:  33_4\n",
      "Processing qid: 33_5\n",
      "Query Num 1\n"
     ]
    },
    {
     "name": "stderr",
     "output_type": "stream",
     "text": [
      "100%|███████████████████████████████████████████████████████████████████████████████████████████████████████████████████████████████████████████████████████████████████████████████████████████████████████████████████████████████████████| 1/1 [00:00<00:00, 107.33it/s]\n"
     ]
    },
    {
     "name": "stdout",
     "output_type": "stream",
     "text": [
      "Elapsed Time: 0.0s, Elapsed Time per query: 11.8ms\n",
      "Retrieved top 1000 for 33_5\n",
      "Computing distances and coverage!\n",
      "Finished for Rb hat!\n",
      "Query Num 1\n"
     ]
    },
    {
     "name": "stderr",
     "output_type": "stream",
     "text": [
      "100%|████████████████████████████████████████████████████████████████████████████████████████████████████████████████████████████████████████████████████████████████████████████████████████████████████████████████████████████████████████| 1/1 [01:00<00:00, 60.52s/it]\n"
     ]
    },
    {
     "name": "stdout",
     "output_type": "stream",
     "text": [
      "Elapsed Time: 60.5s, Elapsed Time per query: 60518.5ms\n",
      "Finished retrieving in the big index!\n",
      "finished with qid:  33_5\n",
      "Processing qid: 33_6\n",
      "Query Num 1\n"
     ]
    },
    {
     "name": "stderr",
     "output_type": "stream",
     "text": [
      "100%|████████████████████████████████████████████████████████████████████████████████████████████████████████████████████████████████████████████████████████████████████████████████████████████████████████████████████████████████████████| 1/1 [00:00<00:00, 47.96it/s]\n"
     ]
    },
    {
     "name": "stdout",
     "output_type": "stream",
     "text": [
      "Elapsed Time: 0.0s, Elapsed Time per query: 23.6ms\n",
      "Retrieved top 1000 for 33_6\n",
      "Computing distances and coverage!\n",
      "Finished for Rb hat!\n",
      "Query Num 1\n"
     ]
    },
    {
     "name": "stderr",
     "output_type": "stream",
     "text": [
      "100%|████████████████████████████████████████████████████████████████████████████████████████████████████████████████████████████████████████████████████████████████████████████████████████████████████████████████████████████████████████| 1/1 [01:02<00:00, 62.40s/it]\n"
     ]
    },
    {
     "name": "stdout",
     "output_type": "stream",
     "text": [
      "Elapsed Time: 62.4s, Elapsed Time per query: 62404.9ms\n",
      "Finished retrieving in the big index!\n",
      "finished with qid:  33_6\n",
      "Processing qid: 33_7\n",
      "Query Num 1\n"
     ]
    },
    {
     "name": "stderr",
     "output_type": "stream",
     "text": [
      "100%|████████████████████████████████████████████████████████████████████████████████████████████████████████████████████████████████████████████████████████████████████████████████████████████████████████████████████████████████████████| 1/1 [00:00<00:00, 47.97it/s]\n"
     ]
    },
    {
     "name": "stdout",
     "output_type": "stream",
     "text": [
      "Elapsed Time: 0.0s, Elapsed Time per query: 24.7ms\n",
      "Retrieved top 1000 for 33_7\n",
      "Computing distances and coverage!\n",
      "Finished for Rb hat!\n",
      "Query Num 1\n"
     ]
    },
    {
     "name": "stderr",
     "output_type": "stream",
     "text": [
      "100%|████████████████████████████████████████████████████████████████████████████████████████████████████████████████████████████████████████████████████████████████████████████████████████████████████████████████████████████████████████| 1/1 [01:01<00:00, 61.28s/it]\n"
     ]
    },
    {
     "name": "stdout",
     "output_type": "stream",
     "text": [
      "Elapsed Time: 61.3s, Elapsed Time per query: 61285.2ms\n",
      "Finished retrieving in the big index!\n",
      "finished with qid:  33_7\n",
      "Processing qid: 33_8\n",
      "Query Num 1\n"
     ]
    },
    {
     "name": "stderr",
     "output_type": "stream",
     "text": [
      "100%|████████████████████████████████████████████████████████████████████████████████████████████████████████████████████████████████████████████████████████████████████████████████████████████████████████████████████████████████████████| 1/1 [00:00<00:00, 46.07it/s]\n"
     ]
    },
    {
     "name": "stdout",
     "output_type": "stream",
     "text": [
      "Elapsed Time: 0.0s, Elapsed Time per query: 25.9ms\n",
      "Retrieved top 1000 for 33_8\n",
      "Computing distances and coverage!\n",
      "Finished for Rb hat!\n",
      "Query Num 1\n"
     ]
    },
    {
     "name": "stderr",
     "output_type": "stream",
     "text": [
      "100%|████████████████████████████████████████████████████████████████████████████████████████████████████████████████████████████████████████████████████████████████████████████████████████████████████████████████████████████████████████| 1/1 [00:55<00:00, 55.61s/it]\n"
     ]
    },
    {
     "name": "stdout",
     "output_type": "stream",
     "text": [
      "Elapsed Time: 55.6s, Elapsed Time per query: 55610.3ms\n",
      "Finished retrieving in the big index!\n",
      "finished with qid:  33_8\n",
      "Processing qid: 33_9\n",
      "Query Num 1\n"
     ]
    },
    {
     "name": "stderr",
     "output_type": "stream",
     "text": [
      "100%|████████████████████████████████████████████████████████████████████████████████████████████████████████████████████████████████████████████████████████████████████████████████████████████████████████████████████████████████████████| 1/1 [00:00<00:00, 90.45it/s]\n"
     ]
    },
    {
     "name": "stdout",
     "output_type": "stream",
     "text": [
      "Elapsed Time: 0.0s, Elapsed Time per query: 13.5ms\n",
      "Retrieved top 1000 for 33_9\n",
      "Computing distances and coverage!\n",
      "Finished for Rb hat!\n",
      "Query Num 1\n"
     ]
    },
    {
     "name": "stderr",
     "output_type": "stream",
     "text": [
      "100%|████████████████████████████████████████████████████████████████████████████████████████████████████████████████████████████████████████████████████████████████████████████████████████████████████████████████████████████████████████| 1/1 [00:34<00:00, 34.90s/it]\n"
     ]
    },
    {
     "name": "stdout",
     "output_type": "stream",
     "text": [
      "Elapsed Time: 34.9s, Elapsed Time per query: 34899.7ms\n",
      "Finished retrieving in the big index!\n",
      "finished with qid:  33_9\n",
      "Processing qid: 33_10\n",
      "Query Num 1\n"
     ]
    },
    {
     "name": "stderr",
     "output_type": "stream",
     "text": [
      "100%|████████████████████████████████████████████████████████████████████████████████████████████████████████████████████████████████████████████████████████████████████████████████████████████████████████████████████████████████████████| 1/1 [00:00<00:00, 51.01it/s]\n"
     ]
    },
    {
     "name": "stdout",
     "output_type": "stream",
     "text": [
      "Elapsed Time: 0.0s, Elapsed Time per query: 22.9ms\n",
      "Retrieved top 1000 for 33_10\n",
      "Computing distances and coverage!\n",
      "Finished for Rb hat!\n",
      "Query Num 1\n"
     ]
    },
    {
     "name": "stderr",
     "output_type": "stream",
     "text": [
      "100%|████████████████████████████████████████████████████████████████████████████████████████████████████████████████████████████████████████████████████████████████████████████████████████████████████████████████████████████████████████| 1/1 [01:03<00:00, 63.28s/it]\n"
     ]
    },
    {
     "name": "stdout",
     "output_type": "stream",
     "text": [
      "Elapsed Time: 63.3s, Elapsed Time per query: 63281.9ms\n",
      "Finished retrieving in the big index!\n",
      "finished with qid:  33_10\n",
      "Starting conv:  34\n",
      "Query Num 1\n"
     ]
    },
    {
     "name": "stderr",
     "output_type": "stream",
     "text": [
      "100%|████████████████████████████████████████████████████████████████████████████████████████████████████████████████████████████████████████████████████████████████████████████████████████████████████████████████████████████████████████| 1/1 [00:31<00:00, 31.68s/it]\n"
     ]
    },
    {
     "name": "stdout",
     "output_type": "stream",
     "text": [
      "Elapsed Time: 31.7s, Elapsed Time per query: 31681.7ms\n",
      "embedding shape: (10000, 768)\n",
      "(10000,) int64\n",
      "Create cache for:  34\n",
      "Processing qid: 34_2\n",
      "Query Num 1\n"
     ]
    },
    {
     "name": "stderr",
     "output_type": "stream",
     "text": [
      "100%|███████████████████████████████████████████████████████████████████████████████████████████████████████████████████████████████████████████████████████████████████████████████████████████████████████████████████████████████████████| 1/1 [00:00<00:00, 115.58it/s]\n"
     ]
    },
    {
     "name": "stdout",
     "output_type": "stream",
     "text": [
      "Elapsed Time: 0.0s, Elapsed Time per query: 11.4ms\n",
      "Retrieved top 1000 for 34_2\n",
      "Computing distances and coverage!\n",
      "Finished for Rb hat!\n",
      "Query Num 1\n"
     ]
    },
    {
     "name": "stderr",
     "output_type": "stream",
     "text": [
      "100%|████████████████████████████████████████████████████████████████████████████████████████████████████████████████████████████████████████████████████████████████████████████████████████████████████████████████████████████████████████| 1/1 [01:00<00:00, 60.99s/it]\n"
     ]
    },
    {
     "name": "stdout",
     "output_type": "stream",
     "text": [
      "Elapsed Time: 61.0s, Elapsed Time per query: 60987.6ms\n",
      "Finished retrieving in the big index!\n",
      "finished with qid:  34_2\n",
      "Processing qid: 34_3\n",
      "Query Num 1\n"
     ]
    },
    {
     "name": "stderr",
     "output_type": "stream",
     "text": [
      "100%|████████████████████████████████████████████████████████████████████████████████████████████████████████████████████████████████████████████████████████████████████████████████████████████████████████████████████████████████████████| 1/1 [00:00<00:00, 51.22it/s]\n"
     ]
    },
    {
     "name": "stdout",
     "output_type": "stream",
     "text": [
      "Elapsed Time: 0.0s, Elapsed Time per query: 23.3ms\n",
      "Retrieved top 1000 for 34_3\n",
      "Computing distances and coverage!\n",
      "Finished for Rb hat!\n",
      "Query Num 1\n"
     ]
    },
    {
     "name": "stderr",
     "output_type": "stream",
     "text": [
      "100%|████████████████████████████████████████████████████████████████████████████████████████████████████████████████████████████████████████████████████████████████████████████████████████████████████████████████████████████████████████| 1/1 [01:02<00:00, 62.67s/it]\n"
     ]
    },
    {
     "name": "stdout",
     "output_type": "stream",
     "text": [
      "Elapsed Time: 62.7s, Elapsed Time per query: 62670.6ms\n",
      "Finished retrieving in the big index!\n",
      "finished with qid:  34_3\n",
      "Processing qid: 34_4\n",
      "Query Num 1\n"
     ]
    },
    {
     "name": "stderr",
     "output_type": "stream",
     "text": [
      "100%|████████████████████████████████████████████████████████████████████████████████████████████████████████████████████████████████████████████████████████████████████████████████████████████████████████████████████████████████████████| 1/1 [00:00<00:00, 66.38it/s]\n"
     ]
    },
    {
     "name": "stdout",
     "output_type": "stream",
     "text": [
      "Elapsed Time: 0.0s, Elapsed Time per query: 17.6ms\n",
      "Retrieved top 1000 for 34_4\n",
      "Computing distances and coverage!\n",
      "Finished for Rb hat!\n",
      "Query Num 1\n"
     ]
    },
    {
     "name": "stderr",
     "output_type": "stream",
     "text": [
      "100%|████████████████████████████████████████████████████████████████████████████████████████████████████████████████████████████████████████████████████████████████████████████████████████████████████████████████████████████████████████| 1/1 [00:28<00:00, 28.87s/it]\n"
     ]
    },
    {
     "name": "stdout",
     "output_type": "stream",
     "text": [
      "Elapsed Time: 28.9s, Elapsed Time per query: 28871.4ms\n",
      "Finished retrieving in the big index!\n",
      "finished with qid:  34_4\n",
      "Processing qid: 34_5\n",
      "Query Num 1\n"
     ]
    },
    {
     "name": "stderr",
     "output_type": "stream",
     "text": [
      "100%|███████████████████████████████████████████████████████████████████████████████████████████████████████████████████████████████████████████████████████████████████████████████████████████████████████████████████████████████████████| 1/1 [00:00<00:00, 125.90it/s]\n"
     ]
    },
    {
     "name": "stdout",
     "output_type": "stream",
     "text": [
      "Elapsed Time: 0.0s, Elapsed Time per query: 10.2ms\n",
      "Retrieved top 1000 for 34_5\n",
      "Computing distances and coverage!\n",
      "Finished for Rb hat!\n",
      "Query Num 1\n"
     ]
    },
    {
     "name": "stderr",
     "output_type": "stream",
     "text": [
      "100%|████████████████████████████████████████████████████████████████████████████████████████████████████████████████████████████████████████████████████████████████████████████████████████████████████████████████████████████████████████| 1/1 [00:58<00:00, 58.49s/it]\n"
     ]
    },
    {
     "name": "stdout",
     "output_type": "stream",
     "text": [
      "Elapsed Time: 58.5s, Elapsed Time per query: 58489.5ms\n",
      "Finished retrieving in the big index!\n",
      "finished with qid:  34_5\n",
      "Processing qid: 34_6\n",
      "Query Num 1\n"
     ]
    },
    {
     "name": "stderr",
     "output_type": "stream",
     "text": [
      "100%|████████████████████████████████████████████████████████████████████████████████████████████████████████████████████████████████████████████████████████████████████████████████████████████████████████████████████████████████████████| 1/1 [00:00<00:00, 62.49it/s]\n"
     ]
    },
    {
     "name": "stdout",
     "output_type": "stream",
     "text": [
      "Elapsed Time: 0.0s, Elapsed Time per query: 18.3ms\n",
      "Retrieved top 1000 for 34_6\n",
      "Computing distances and coverage!\n",
      "Finished for Rb hat!\n",
      "Query Num 1\n"
     ]
    },
    {
     "name": "stderr",
     "output_type": "stream",
     "text": [
      "100%|████████████████████████████████████████████████████████████████████████████████████████████████████████████████████████████████████████████████████████████████████████████████████████████████████████████████████████████████████████| 1/1 [00:58<00:00, 58.06s/it]\n"
     ]
    },
    {
     "name": "stdout",
     "output_type": "stream",
     "text": [
      "Elapsed Time: 58.1s, Elapsed Time per query: 58057.2ms\n",
      "Finished retrieving in the big index!\n",
      "finished with qid:  34_6\n",
      "Processing qid: 34_7\n",
      "Query Num 1\n"
     ]
    },
    {
     "name": "stderr",
     "output_type": "stream",
     "text": [
      "100%|████████████████████████████████████████████████████████████████████████████████████████████████████████████████████████████████████████████████████████████████████████████████████████████████████████████████████████████████████████| 1/1 [00:00<00:00, 64.97it/s]\n"
     ]
    },
    {
     "name": "stdout",
     "output_type": "stream",
     "text": [
      "Elapsed Time: 0.0s, Elapsed Time per query: 17.5ms\n",
      "Retrieved top 1000 for 34_7\n",
      "Computing distances and coverage!\n",
      "Finished for Rb hat!\n",
      "Query Num 1\n"
     ]
    },
    {
     "name": "stderr",
     "output_type": "stream",
     "text": [
      "100%|████████████████████████████████████████████████████████████████████████████████████████████████████████████████████████████████████████████████████████████████████████████████████████████████████████████████████████████████████████| 1/1 [00:58<00:00, 58.50s/it]\n"
     ]
    },
    {
     "name": "stdout",
     "output_type": "stream",
     "text": [
      "Elapsed Time: 58.5s, Elapsed Time per query: 58499.9ms\n",
      "Finished retrieving in the big index!\n",
      "finished with qid:  34_7\n",
      "Processing qid: 34_8\n",
      "Query Num 1\n"
     ]
    },
    {
     "name": "stderr",
     "output_type": "stream",
     "text": [
      "100%|████████████████████████████████████████████████████████████████████████████████████████████████████████████████████████████████████████████████████████████████████████████████████████████████████████████████████████████████████████| 1/1 [00:00<00:00, 59.97it/s]\n"
     ]
    },
    {
     "name": "stdout",
     "output_type": "stream",
     "text": [
      "Elapsed Time: 0.0s, Elapsed Time per query: 19.5ms\n",
      "Retrieved top 1000 for 34_8\n",
      "Computing distances and coverage!\n",
      "Finished for Rb hat!\n",
      "Query Num 1\n"
     ]
    },
    {
     "name": "stderr",
     "output_type": "stream",
     "text": [
      "100%|████████████████████████████████████████████████████████████████████████████████████████████████████████████████████████████████████████████████████████████████████████████████████████████████████████████████████████████████████████| 1/1 [00:59<00:00, 59.26s/it]\n"
     ]
    },
    {
     "name": "stdout",
     "output_type": "stream",
     "text": [
      "Elapsed Time: 59.3s, Elapsed Time per query: 59257.6ms\n",
      "Finished retrieving in the big index!\n",
      "finished with qid:  34_8\n",
      "Processing qid: 34_9\n",
      "Query Num 1\n"
     ]
    },
    {
     "name": "stderr",
     "output_type": "stream",
     "text": [
      "100%|████████████████████████████████████████████████████████████████████████████████████████████████████████████████████████████████████████████████████████████████████████████████████████████████████████████████████████████████████████| 1/1 [00:00<00:00, 64.54it/s]\n"
     ]
    },
    {
     "name": "stdout",
     "output_type": "stream",
     "text": [
      "Elapsed Time: 0.0s, Elapsed Time per query: 18.7ms\n",
      "Retrieved top 1000 for 34_9\n",
      "Computing distances and coverage!\n",
      "Finished for Rb hat!\n",
      "Query Num 1\n"
     ]
    },
    {
     "name": "stderr",
     "output_type": "stream",
     "text": [
      "100%|████████████████████████████████████████████████████████████████████████████████████████████████████████████████████████████████████████████████████████████████████████████████████████████████████████████████████████████████████████| 1/1 [00:59<00:00, 59.28s/it]\n"
     ]
    },
    {
     "name": "stdout",
     "output_type": "stream",
     "text": [
      "Elapsed Time: 59.3s, Elapsed Time per query: 59280.4ms\n",
      "Finished retrieving in the big index!\n",
      "finished with qid:  34_9\n",
      "Starting conv:  37\n",
      "Query Num 1\n"
     ]
    },
    {
     "name": "stderr",
     "output_type": "stream",
     "text": [
      "100%|████████████████████████████████████████████████████████████████████████████████████████████████████████████████████████████████████████████████████████████████████████████████████████████████████████████████████████████████████████| 1/1 [01:01<00:00, 61.17s/it]\n"
     ]
    },
    {
     "name": "stdout",
     "output_type": "stream",
     "text": [
      "Elapsed Time: 61.2s, Elapsed Time per query: 61171.8ms\n",
      "embedding shape: (10000, 768)\n",
      "(10000,) int64\n",
      "Create cache for:  37\n",
      "Processing qid: 37_2\n",
      "Query Num 1\n"
     ]
    },
    {
     "name": "stderr",
     "output_type": "stream",
     "text": [
      "100%|███████████████████████████████████████████████████████████████████████████████████████████████████████████████████████████████████████████████████████████████████████████████████████████████████████████████████████████████████████| 1/1 [00:00<00:00, 106.04it/s]\n"
     ]
    },
    {
     "name": "stdout",
     "output_type": "stream",
     "text": [
      "Elapsed Time: 0.0s, Elapsed Time per query: 11.9ms\n",
      "Retrieved top 1000 for 37_2\n",
      "Computing distances and coverage!\n",
      "Finished for Rb hat!\n",
      "Query Num 1\n"
     ]
    },
    {
     "name": "stderr",
     "output_type": "stream",
     "text": [
      "100%|████████████████████████████████████████████████████████████████████████████████████████████████████████████████████████████████████████████████████████████████████████████████████████████████████████████████████████████████████████| 1/1 [00:29<00:00, 29.24s/it]\n"
     ]
    },
    {
     "name": "stdout",
     "output_type": "stream",
     "text": [
      "Elapsed Time: 29.2s, Elapsed Time per query: 29238.5ms\n",
      "Finished retrieving in the big index!\n",
      "finished with qid:  37_2\n",
      "Processing qid: 37_3\n",
      "Query Num 1\n"
     ]
    },
    {
     "name": "stderr",
     "output_type": "stream",
     "text": [
      "100%|███████████████████████████████████████████████████████████████████████████████████████████████████████████████████████████████████████████████████████████████████████████████████████████████████████████████████████████████████████| 1/1 [00:00<00:00, 108.09it/s]\n"
     ]
    },
    {
     "name": "stdout",
     "output_type": "stream",
     "text": [
      "Elapsed Time: 0.0s, Elapsed Time per query: 11.5ms\n",
      "Retrieved top 1000 for 37_3\n",
      "Computing distances and coverage!\n",
      "Finished for Rb hat!\n",
      "Query Num 1\n"
     ]
    },
    {
     "name": "stderr",
     "output_type": "stream",
     "text": [
      "100%|████████████████████████████████████████████████████████████████████████████████████████████████████████████████████████████████████████████████████████████████████████████████████████████████████████████████████████████████████████| 1/1 [01:03<00:00, 63.35s/it]\n"
     ]
    },
    {
     "name": "stdout",
     "output_type": "stream",
     "text": [
      "Elapsed Time: 63.3s, Elapsed Time per query: 63348.6ms\n",
      "Finished retrieving in the big index!\n",
      "finished with qid:  37_3\n",
      "Processing qid: 37_4\n",
      "Query Num 1\n"
     ]
    },
    {
     "name": "stderr",
     "output_type": "stream",
     "text": [
      "100%|████████████████████████████████████████████████████████████████████████████████████████████████████████████████████████████████████████████████████████████████████████████████████████████████████████████████████████████████████████| 1/1 [00:00<00:00, 49.48it/s]\n"
     ]
    },
    {
     "name": "stdout",
     "output_type": "stream",
     "text": [
      "Elapsed Time: 0.0s, Elapsed Time per query: 22.9ms\n",
      "Retrieved top 1000 for 37_4\n",
      "Computing distances and coverage!\n",
      "Finished for Rb hat!\n",
      "Query Num 1\n"
     ]
    },
    {
     "name": "stderr",
     "output_type": "stream",
     "text": [
      "100%|████████████████████████████████████████████████████████████████████████████████████████████████████████████████████████████████████████████████████████████████████████████████████████████████████████████████████████████████████████| 1/1 [00:59<00:00, 59.72s/it]\n"
     ]
    },
    {
     "name": "stdout",
     "output_type": "stream",
     "text": [
      "Elapsed Time: 59.7s, Elapsed Time per query: 59726.6ms\n",
      "Finished retrieving in the big index!\n",
      "finished with qid:  37_4\n",
      "Processing qid: 37_5\n",
      "Query Num 1\n"
     ]
    },
    {
     "name": "stderr",
     "output_type": "stream",
     "text": [
      "100%|███████████████████████████████████████████████████████████████████████████████████████████████████████████████████████████████████████████████████████████████████████████████████████████████████████████████████████████████████████| 1/1 [00:00<00:00, 104.11it/s]\n"
     ]
    },
    {
     "name": "stdout",
     "output_type": "stream",
     "text": [
      "Elapsed Time: 0.0s, Elapsed Time per query: 12.1ms\n",
      "Retrieved top 1000 for 37_5\n",
      "Computing distances and coverage!\n",
      "Finished for Rb hat!\n",
      "Query Num 1\n"
     ]
    },
    {
     "name": "stderr",
     "output_type": "stream",
     "text": [
      "100%|████████████████████████████████████████████████████████████████████████████████████████████████████████████████████████████████████████████████████████████████████████████████████████████████████████████████████████████████████████| 1/1 [00:32<00:00, 32.37s/it]\n"
     ]
    },
    {
     "name": "stdout",
     "output_type": "stream",
     "text": [
      "Elapsed Time: 32.4s, Elapsed Time per query: 32375.1ms\n",
      "Finished retrieving in the big index!\n",
      "finished with qid:  37_5\n",
      "Processing qid: 37_6\n",
      "Query Num 1\n"
     ]
    },
    {
     "name": "stderr",
     "output_type": "stream",
     "text": [
      "100%|████████████████████████████████████████████████████████████████████████████████████████████████████████████████████████████████████████████████████████████████████████████████████████████████████████████████████████████████████████| 1/1 [00:00<00:00, 46.46it/s]\n"
     ]
    },
    {
     "name": "stdout",
     "output_type": "stream",
     "text": [
      "Elapsed Time: 0.0s, Elapsed Time per query: 25.1ms\n",
      "Retrieved top 1000 for 37_6\n",
      "Computing distances and coverage!\n",
      "Finished for Rb hat!\n",
      "Query Num 1\n"
     ]
    },
    {
     "name": "stderr",
     "output_type": "stream",
     "text": [
      "100%|████████████████████████████████████████████████████████████████████████████████████████████████████████████████████████████████████████████████████████████████████████████████████████████████████████████████████████████████████████| 1/1 [01:03<00:00, 63.35s/it]\n"
     ]
    },
    {
     "name": "stdout",
     "output_type": "stream",
     "text": [
      "Elapsed Time: 63.4s, Elapsed Time per query: 63350.2ms\n",
      "Finished retrieving in the big index!\n",
      "finished with qid:  37_6\n",
      "Processing qid: 37_7\n",
      "Query Num 1\n"
     ]
    },
    {
     "name": "stderr",
     "output_type": "stream",
     "text": [
      "100%|████████████████████████████████████████████████████████████████████████████████████████████████████████████████████████████████████████████████████████████████████████████████████████████████████████████████████████████████████████| 1/1 [00:00<00:00, 50.44it/s]\n"
     ]
    },
    {
     "name": "stdout",
     "output_type": "stream",
     "text": [
      "Elapsed Time: 0.0s, Elapsed Time per query: 23.1ms\n",
      "Retrieved top 1000 for 37_7\n",
      "Computing distances and coverage!\n",
      "Finished for Rb hat!\n",
      "Query Num 1\n"
     ]
    },
    {
     "name": "stderr",
     "output_type": "stream",
     "text": [
      "100%|████████████████████████████████████████████████████████████████████████████████████████████████████████████████████████████████████████████████████████████████████████████████████████████████████████████████████████████████████████| 1/1 [00:32<00:00, 32.66s/it]\n"
     ]
    },
    {
     "name": "stdout",
     "output_type": "stream",
     "text": [
      "Elapsed Time: 32.7s, Elapsed Time per query: 32657.7ms\n",
      "Finished retrieving in the big index!\n",
      "finished with qid:  37_7\n",
      "Processing qid: 37_8\n",
      "Query Num 1\n"
     ]
    },
    {
     "name": "stderr",
     "output_type": "stream",
     "text": [
      "100%|███████████████████████████████████████████████████████████████████████████████████████████████████████████████████████████████████████████████████████████████████████████████████████████████████████████████████████████████████████| 1/1 [00:00<00:00, 113.35it/s]\n"
     ]
    },
    {
     "name": "stdout",
     "output_type": "stream",
     "text": [
      "Elapsed Time: 0.0s, Elapsed Time per query: 11.4ms\n",
      "Retrieved top 1000 for 37_8\n",
      "Computing distances and coverage!\n",
      "Finished for Rb hat!\n",
      "Query Num 1\n"
     ]
    },
    {
     "name": "stderr",
     "output_type": "stream",
     "text": [
      "100%|████████████████████████████████████████████████████████████████████████████████████████████████████████████████████████████████████████████████████████████████████████████████████████████████████████████████████████████████████████| 1/1 [00:59<00:00, 59.71s/it]\n"
     ]
    },
    {
     "name": "stdout",
     "output_type": "stream",
     "text": [
      "Elapsed Time: 59.7s, Elapsed Time per query: 59709.0ms\n",
      "Finished retrieving in the big index!\n",
      "finished with qid:  37_8\n",
      "Processing qid: 37_9\n",
      "Query Num 1\n"
     ]
    },
    {
     "name": "stderr",
     "output_type": "stream",
     "text": [
      "100%|████████████████████████████████████████████████████████████████████████████████████████████████████████████████████████████████████████████████████████████████████████████████████████████████████████████████████████████████████████| 1/1 [00:00<00:00, 51.11it/s]\n"
     ]
    },
    {
     "name": "stdout",
     "output_type": "stream",
     "text": [
      "Elapsed Time: 0.0s, Elapsed Time per query: 22.6ms\n",
      "Retrieved top 1000 for 37_9\n",
      "Computing distances and coverage!\n",
      "Finished for Rb hat!\n",
      "Query Num 1\n"
     ]
    },
    {
     "name": "stderr",
     "output_type": "stream",
     "text": [
      "100%|████████████████████████████████████████████████████████████████████████████████████████████████████████████████████████████████████████████████████████████████████████████████████████████████████████████████████████████████████████| 1/1 [01:01<00:00, 61.19s/it]\n"
     ]
    },
    {
     "name": "stdout",
     "output_type": "stream",
     "text": [
      "Elapsed Time: 61.2s, Elapsed Time per query: 61190.2ms\n",
      "Finished retrieving in the big index!\n",
      "finished with qid:  37_9\n",
      "Processing qid: 37_10\n",
      "Query Num 1\n"
     ]
    },
    {
     "name": "stderr",
     "output_type": "stream",
     "text": [
      "100%|████████████████████████████████████████████████████████████████████████████████████████████████████████████████████████████████████████████████████████████████████████████████████████████████████████████████████████████████████████| 1/1 [00:00<00:00, 50.62it/s]\n"
     ]
    },
    {
     "name": "stdout",
     "output_type": "stream",
     "text": [
      "Elapsed Time: 0.0s, Elapsed Time per query: 22.3ms\n",
      "Retrieved top 1000 for 37_10\n",
      "Computing distances and coverage!\n",
      "Finished for Rb hat!\n",
      "Query Num 1\n"
     ]
    },
    {
     "name": "stderr",
     "output_type": "stream",
     "text": [
      "100%|████████████████████████████████████████████████████████████████████████████████████████████████████████████████████████████████████████████████████████████████████████████████████████████████████████████████████████████████████████| 1/1 [01:01<00:00, 61.26s/it]\n"
     ]
    },
    {
     "name": "stdout",
     "output_type": "stream",
     "text": [
      "Elapsed Time: 61.3s, Elapsed Time per query: 61261.7ms\n",
      "Finished retrieving in the big index!\n",
      "finished with qid:  37_10\n",
      "Processing qid: 37_11\n",
      "Query Num 1\n"
     ]
    },
    {
     "name": "stderr",
     "output_type": "stream",
     "text": [
      "100%|████████████████████████████████████████████████████████████████████████████████████████████████████████████████████████████████████████████████████████████████████████████████████████████████████████████████████████████████████████| 1/1 [00:00<00:00, 50.30it/s]\n"
     ]
    },
    {
     "name": "stdout",
     "output_type": "stream",
     "text": [
      "Elapsed Time: 0.0s, Elapsed Time per query: 22.9ms\n",
      "Retrieved top 1000 for 37_11\n",
      "Computing distances and coverage!\n",
      "Finished for Rb hat!\n",
      "Query Num 1\n"
     ]
    },
    {
     "name": "stderr",
     "output_type": "stream",
     "text": [
      "100%|████████████████████████████████████████████████████████████████████████████████████████████████████████████████████████████████████████████████████████████████████████████████████████████████████████████████████████████████████████| 1/1 [00:29<00:00, 29.14s/it]\n"
     ]
    },
    {
     "name": "stdout",
     "output_type": "stream",
     "text": [
      "Elapsed Time: 29.1s, Elapsed Time per query: 29141.7ms\n",
      "Finished retrieving in the big index!\n",
      "finished with qid:  37_11\n",
      "Processing qid: 37_12\n",
      "Query Num 1\n"
     ]
    },
    {
     "name": "stderr",
     "output_type": "stream",
     "text": [
      "100%|████████████████████████████████████████████████████████████████████████████████████████████████████████████████████████████████████████████████████████████████████████████████████████████████████████████████████████████████████████| 1/1 [00:00<00:00, 90.51it/s]\n"
     ]
    },
    {
     "name": "stdout",
     "output_type": "stream",
     "text": [
      "Elapsed Time: 0.0s, Elapsed Time per query: 14.8ms\n",
      "Retrieved top 1000 for 37_12\n",
      "Computing distances and coverage!\n",
      "Finished for Rb hat!\n",
      "Query Num 1\n"
     ]
    },
    {
     "name": "stderr",
     "output_type": "stream",
     "text": [
      "100%|████████████████████████████████████████████████████████████████████████████████████████████████████████████████████████████████████████████████████████████████████████████████████████████████████████████████████████████████████████| 1/1 [01:03<00:00, 63.42s/it]\n"
     ]
    },
    {
     "name": "stdout",
     "output_type": "stream",
     "text": [
      "Elapsed Time: 63.4s, Elapsed Time per query: 63421.9ms\n",
      "Finished retrieving in the big index!\n",
      "finished with qid:  37_12\n",
      "Starting conv:  40\n",
      "Query Num 1\n"
     ]
    },
    {
     "name": "stderr",
     "output_type": "stream",
     "text": [
      "100%|████████████████████████████████████████████████████████████████████████████████████████████████████████████████████████████████████████████████████████████████████████████████████████████████████████████████████████████████████████| 1/1 [01:03<00:00, 63.37s/it]\n"
     ]
    },
    {
     "name": "stdout",
     "output_type": "stream",
     "text": [
      "Elapsed Time: 63.4s, Elapsed Time per query: 63369.2ms\n",
      "embedding shape: (10000, 768)\n",
      "(10000,) int64\n",
      "Create cache for:  40\n",
      "Processing qid: 40_2\n",
      "Query Num 1\n"
     ]
    },
    {
     "name": "stderr",
     "output_type": "stream",
     "text": [
      "100%|███████████████████████████████████████████████████████████████████████████████████████████████████████████████████████████████████████████████████████████████████████████████████████████████████████████████████████████████████████| 1/1 [00:00<00:00, 114.77it/s]\n"
     ]
    },
    {
     "name": "stdout",
     "output_type": "stream",
     "text": [
      "Elapsed Time: 0.0s, Elapsed Time per query: 11.6ms\n",
      "Retrieved top 1000 for 40_2\n",
      "Computing distances and coverage!\n",
      "Finished for Rb hat!\n",
      "Query Num 1\n"
     ]
    },
    {
     "name": "stderr",
     "output_type": "stream",
     "text": [
      "100%|████████████████████████████████████████████████████████████████████████████████████████████████████████████████████████████████████████████████████████████████████████████████████████████████████████████████████████████████████████| 1/1 [00:29<00:00, 29.20s/it]\n"
     ]
    },
    {
     "name": "stdout",
     "output_type": "stream",
     "text": [
      "Elapsed Time: 29.2s, Elapsed Time per query: 29204.8ms\n",
      "Finished retrieving in the big index!\n",
      "finished with qid:  40_2\n",
      "Processing qid: 40_3\n",
      "Query Num 1\n"
     ]
    },
    {
     "name": "stderr",
     "output_type": "stream",
     "text": [
      "100%|███████████████████████████████████████████████████████████████████████████████████████████████████████████████████████████████████████████████████████████████████████████████████████████████████████████████████████████████████████| 1/1 [00:00<00:00, 102.56it/s]\n"
     ]
    },
    {
     "name": "stdout",
     "output_type": "stream",
     "text": [
      "Elapsed Time: 0.0s, Elapsed Time per query: 12.5ms\n",
      "Retrieved top 1000 for 40_3\n",
      "Computing distances and coverage!\n",
      "Finished for Rb hat!\n",
      "Query Num 1\n"
     ]
    },
    {
     "name": "stderr",
     "output_type": "stream",
     "text": [
      "100%|████████████████████████████████████████████████████████████████████████████████████████████████████████████████████████████████████████████████████████████████████████████████████████████████████████████████████████████████████████| 1/1 [01:03<00:00, 63.14s/it]\n"
     ]
    },
    {
     "name": "stdout",
     "output_type": "stream",
     "text": [
      "Elapsed Time: 63.1s, Elapsed Time per query: 63141.6ms\n",
      "Finished retrieving in the big index!\n",
      "finished with qid:  40_3\n",
      "Processing qid: 40_4\n",
      "Query Num 1\n"
     ]
    },
    {
     "name": "stderr",
     "output_type": "stream",
     "text": [
      "100%|████████████████████████████████████████████████████████████████████████████████████████████████████████████████████████████████████████████████████████████████████████████████████████████████████████████████████████████████████████| 1/1 [00:00<00:00, 51.38it/s]\n"
     ]
    },
    {
     "name": "stdout",
     "output_type": "stream",
     "text": [
      "Elapsed Time: 0.0s, Elapsed Time per query: 22.1ms\n",
      "Retrieved top 1000 for 40_4\n",
      "Computing distances and coverage!\n",
      "Finished for Rb hat!\n",
      "Query Num 1\n"
     ]
    },
    {
     "name": "stderr",
     "output_type": "stream",
     "text": [
      "100%|████████████████████████████████████████████████████████████████████████████████████████████████████████████████████████████████████████████████████████████████████████████████████████████████████████████████████████████████████████| 1/1 [01:02<00:00, 62.12s/it]\n"
     ]
    },
    {
     "name": "stdout",
     "output_type": "stream",
     "text": [
      "Elapsed Time: 62.1s, Elapsed Time per query: 62124.6ms\n",
      "Finished retrieving in the big index!\n",
      "finished with qid:  40_4\n",
      "Processing qid: 40_5\n",
      "Query Num 1\n"
     ]
    },
    {
     "name": "stderr",
     "output_type": "stream",
     "text": [
      "100%|████████████████████████████████████████████████████████████████████████████████████████████████████████████████████████████████████████████████████████████████████████████████████████████████████████████████████████████████████████| 1/1 [00:00<00:00, 50.84it/s]\n"
     ]
    },
    {
     "name": "stdout",
     "output_type": "stream",
     "text": [
      "Elapsed Time: 0.0s, Elapsed Time per query: 23.3ms\n",
      "Retrieved top 1000 for 40_5\n",
      "Computing distances and coverage!\n",
      "Finished for Rb hat!\n",
      "Query Num 1\n"
     ]
    },
    {
     "name": "stderr",
     "output_type": "stream",
     "text": [
      "100%|████████████████████████████████████████████████████████████████████████████████████████████████████████████████████████████████████████████████████████████████████████████████████████████████████████████████████████████████████████| 1/1 [00:32<00:00, 32.65s/it]\n"
     ]
    },
    {
     "name": "stdout",
     "output_type": "stream",
     "text": [
      "Elapsed Time: 32.6s, Elapsed Time per query: 32648.5ms\n",
      "Finished retrieving in the big index!\n",
      "finished with qid:  40_5\n",
      "Processing qid: 40_6\n",
      "Query Num 1\n"
     ]
    },
    {
     "name": "stderr",
     "output_type": "stream",
     "text": [
      "100%|███████████████████████████████████████████████████████████████████████████████████████████████████████████████████████████████████████████████████████████████████████████████████████████████████████████████████████████████████████| 1/1 [00:00<00:00, 107.58it/s]\n"
     ]
    },
    {
     "name": "stdout",
     "output_type": "stream",
     "text": [
      "Elapsed Time: 0.0s, Elapsed Time per query: 12.4ms\n",
      "Retrieved top 1000 for 40_6\n",
      "Computing distances and coverage!\n",
      "Finished for Rb hat!\n",
      "Query Num 1\n"
     ]
    },
    {
     "name": "stderr",
     "output_type": "stream",
     "text": [
      "100%|████████████████████████████████████████████████████████████████████████████████████████████████████████████████████████████████████████████████████████████████████████████████████████████████████████████████████████████████████████| 1/1 [00:56<00:00, 56.70s/it]\n"
     ]
    },
    {
     "name": "stdout",
     "output_type": "stream",
     "text": [
      "Elapsed Time: 56.7s, Elapsed Time per query: 56702.8ms\n",
      "Finished retrieving in the big index!\n",
      "finished with qid:  40_6\n",
      "Processing qid: 40_7\n",
      "Query Num 1\n"
     ]
    },
    {
     "name": "stderr",
     "output_type": "stream",
     "text": [
      "100%|████████████████████████████████████████████████████████████████████████████████████████████████████████████████████████████████████████████████████████████████████████████████████████████████████████████████████████████████████████| 1/1 [00:00<00:00, 65.51it/s]\n"
     ]
    },
    {
     "name": "stdout",
     "output_type": "stream",
     "text": [
      "Elapsed Time: 0.0s, Elapsed Time per query: 17.4ms\n",
      "Retrieved top 1000 for 40_7\n",
      "Computing distances and coverage!\n",
      "Finished for Rb hat!\n",
      "Query Num 1\n"
     ]
    },
    {
     "name": "stderr",
     "output_type": "stream",
     "text": [
      "100%|████████████████████████████████████████████████████████████████████████████████████████████████████████████████████████████████████████████████████████████████████████████████████████████████████████████████████████████████████████| 1/1 [00:58<00:00, 58.70s/it]\n"
     ]
    },
    {
     "name": "stdout",
     "output_type": "stream",
     "text": [
      "Elapsed Time: 58.7s, Elapsed Time per query: 58704.1ms\n",
      "Finished retrieving in the big index!\n",
      "finished with qid:  40_7\n",
      "Processing qid: 40_8\n",
      "Query Num 1\n"
     ]
    },
    {
     "name": "stderr",
     "output_type": "stream",
     "text": [
      "100%|████████████████████████████████████████████████████████████████████████████████████████████████████████████████████████████████████████████████████████████████████████████████████████████████████████████████████████████████████████| 1/1 [00:00<00:00, 59.97it/s]\n"
     ]
    },
    {
     "name": "stdout",
     "output_type": "stream",
     "text": [
      "Elapsed Time: 0.0s, Elapsed Time per query: 20.6ms\n",
      "Retrieved top 1000 for 40_8\n",
      "Computing distances and coverage!\n",
      "Finished for Rb hat!\n",
      "Query Num 1\n"
     ]
    },
    {
     "name": "stderr",
     "output_type": "stream",
     "text": [
      "100%|████████████████████████████████████████████████████████████████████████████████████████████████████████████████████████████████████████████████████████████████████████████████████████████████████████████████████████████████████████| 1/1 [01:00<00:00, 60.17s/it]\n"
     ]
    },
    {
     "name": "stdout",
     "output_type": "stream",
     "text": [
      "Elapsed Time: 60.2s, Elapsed Time per query: 60170.9ms\n",
      "Finished retrieving in the big index!\n",
      "finished with qid:  40_8\n",
      "Processing qid: 40_9\n",
      "Query Num 1\n"
     ]
    },
    {
     "name": "stderr",
     "output_type": "stream",
     "text": [
      "100%|████████████████████████████████████████████████████████████████████████████████████████████████████████████████████████████████████████████████████████████████████████████████████████████████████████████████████████████████████████| 1/1 [00:00<00:00, 46.01it/s]\n"
     ]
    },
    {
     "name": "stdout",
     "output_type": "stream",
     "text": [
      "Elapsed Time: 0.0s, Elapsed Time per query: 25.5ms\n",
      "Retrieved top 1000 for 40_9\n",
      "Computing distances and coverage!\n",
      "Finished for Rb hat!\n",
      "Query Num 1\n"
     ]
    },
    {
     "name": "stderr",
     "output_type": "stream",
     "text": [
      "100%|████████████████████████████████████████████████████████████████████████████████████████████████████████████████████████████████████████████████████████████████████████████████████████████████████████████████████████████████████████| 1/1 [00:31<00:00, 31.01s/it]\n"
     ]
    },
    {
     "name": "stdout",
     "output_type": "stream",
     "text": [
      "Elapsed Time: 31.0s, Elapsed Time per query: 31016.1ms\n",
      "Finished retrieving in the big index!\n",
      "finished with qid:  40_9\n",
      "Processing qid: 40_10\n",
      "Query Num 1\n"
     ]
    },
    {
     "name": "stderr",
     "output_type": "stream",
     "text": [
      "100%|███████████████████████████████████████████████████████████████████████████████████████████████████████████████████████████████████████████████████████████████████████████████████████████████████████████████████████████████████████| 1/1 [00:00<00:00, 109.38it/s]\n"
     ]
    },
    {
     "name": "stdout",
     "output_type": "stream",
     "text": [
      "Elapsed Time: 0.0s, Elapsed Time per query: 12.8ms\n",
      "Retrieved top 1000 for 40_10\n",
      "Computing distances and coverage!\n",
      "Finished for Rb hat!\n",
      "Query Num 1\n"
     ]
    },
    {
     "name": "stderr",
     "output_type": "stream",
     "text": [
      "100%|████████████████████████████████████████████████████████████████████████████████████████████████████████████████████████████████████████████████████████████████████████████████████████████████████████████████████████████████████████| 1/1 [01:00<00:00, 60.68s/it]\n"
     ]
    },
    {
     "name": "stdout",
     "output_type": "stream",
     "text": [
      "Elapsed Time: 60.7s, Elapsed Time per query: 60686.9ms\n",
      "Finished retrieving in the big index!\n",
      "finished with qid:  40_10\n",
      "Starting conv:  49\n",
      "Query Num 1\n"
     ]
    },
    {
     "name": "stderr",
     "output_type": "stream",
     "text": [
      "100%|████████████████████████████████████████████████████████████████████████████████████████████████████████████████████████████████████████████████████████████████████████████████████████████████████████████████████████████████████████| 1/1 [01:03<00:00, 63.55s/it]\n"
     ]
    },
    {
     "name": "stdout",
     "output_type": "stream",
     "text": [
      "Elapsed Time: 63.6s, Elapsed Time per query: 63556.1ms\n",
      "embedding shape: (10000, 768)\n",
      "(10000,) int64\n",
      "Create cache for:  49\n",
      "Processing qid: 49_2\n",
      "Query Num 1\n"
     ]
    },
    {
     "name": "stderr",
     "output_type": "stream",
     "text": [
      "100%|███████████████████████████████████████████████████████████████████████████████████████████████████████████████████████████████████████████████████████████████████████████████████████████████████████████████████████████████████████| 1/1 [00:00<00:00, 113.64it/s]\n"
     ]
    },
    {
     "name": "stdout",
     "output_type": "stream",
     "text": [
      "Elapsed Time: 0.0s, Elapsed Time per query: 11.5ms\n",
      "Retrieved top 1000 for 49_2\n",
      "Computing distances and coverage!\n",
      "Finished for Rb hat!\n",
      "Query Num 1\n"
     ]
    },
    {
     "name": "stderr",
     "output_type": "stream",
     "text": [
      "100%|████████████████████████████████████████████████████████████████████████████████████████████████████████████████████████████████████████████████████████████████████████████████████████████████████████████████████████████████████████| 1/1 [00:29<00:00, 29.18s/it]\n"
     ]
    },
    {
     "name": "stdout",
     "output_type": "stream",
     "text": [
      "Elapsed Time: 29.2s, Elapsed Time per query: 29181.5ms\n",
      "Finished retrieving in the big index!\n",
      "finished with qid:  49_2\n",
      "Processing qid: 49_3\n",
      "Query Num 1\n"
     ]
    },
    {
     "name": "stderr",
     "output_type": "stream",
     "text": [
      "100%|███████████████████████████████████████████████████████████████████████████████████████████████████████████████████████████████████████████████████████████████████████████████████████████████████████████████████████████████████████| 1/1 [00:00<00:00, 104.12it/s]\n"
     ]
    },
    {
     "name": "stdout",
     "output_type": "stream",
     "text": [
      "Elapsed Time: 0.0s, Elapsed Time per query: 12.1ms\n",
      "Retrieved top 1000 for 49_3\n",
      "Computing distances and coverage!\n",
      "Finished for Rb hat!\n",
      "Query Num 1\n"
     ]
    },
    {
     "name": "stderr",
     "output_type": "stream",
     "text": [
      "100%|████████████████████████████████████████████████████████████████████████████████████████████████████████████████████████████████████████████████████████████████████████████████████████████████████████████████████████████████████████| 1/1 [01:03<00:00, 63.13s/it]\n"
     ]
    },
    {
     "name": "stdout",
     "output_type": "stream",
     "text": [
      "Elapsed Time: 63.1s, Elapsed Time per query: 63127.5ms\n",
      "Finished retrieving in the big index!\n",
      "finished with qid:  49_3\n",
      "Processing qid: 49_4\n",
      "Query Num 1\n"
     ]
    },
    {
     "name": "stderr",
     "output_type": "stream",
     "text": [
      "100%|████████████████████████████████████████████████████████████████████████████████████████████████████████████████████████████████████████████████████████████████████████████████████████████████████████████████████████████████████████| 1/1 [00:00<00:00, 52.88it/s]\n"
     ]
    },
    {
     "name": "stdout",
     "output_type": "stream",
     "text": [
      "Elapsed Time: 0.0s, Elapsed Time per query: 22.8ms\n",
      "Retrieved top 1000 for 49_4\n",
      "Computing distances and coverage!\n",
      "Finished for Rb hat!\n",
      "Query Num 1\n"
     ]
    },
    {
     "name": "stderr",
     "output_type": "stream",
     "text": [
      "100%|████████████████████████████████████████████████████████████████████████████████████████████████████████████████████████████████████████████████████████████████████████████████████████████████████████████████████████████████████████| 1/1 [01:03<00:00, 63.40s/it]\n"
     ]
    },
    {
     "name": "stdout",
     "output_type": "stream",
     "text": [
      "Elapsed Time: 63.4s, Elapsed Time per query: 63398.5ms\n",
      "Finished retrieving in the big index!\n",
      "finished with qid:  49_4\n",
      "Processing qid: 49_5\n",
      "Query Num 1\n"
     ]
    },
    {
     "name": "stderr",
     "output_type": "stream",
     "text": [
      "100%|███████████████████████████████████████████████████████████████████████████████████████████████████████████████████████████████████████████████████████████████████████████████████████████████████████████████████████████████████████| 1/1 [00:00<00:00, 100.89it/s]\n"
     ]
    },
    {
     "name": "stdout",
     "output_type": "stream",
     "text": [
      "Elapsed Time: 0.0s, Elapsed Time per query: 13.3ms\n",
      "Retrieved top 1000 for 49_5\n",
      "Computing distances and coverage!\n",
      "Finished for Rb hat!\n",
      "Query Num 1\n"
     ]
    },
    {
     "name": "stderr",
     "output_type": "stream",
     "text": [
      "100%|████████████████████████████████████████████████████████████████████████████████████████████████████████████████████████████████████████████████████████████████████████████████████████████████████████████████████████████████████████| 1/1 [00:29<00:00, 29.22s/it]\n"
     ]
    },
    {
     "name": "stdout",
     "output_type": "stream",
     "text": [
      "Elapsed Time: 29.2s, Elapsed Time per query: 29223.7ms\n",
      "Finished retrieving in the big index!\n",
      "finished with qid:  49_5\n",
      "Processing qid: 49_6\n",
      "Query Num 1\n"
     ]
    },
    {
     "name": "stderr",
     "output_type": "stream",
     "text": [
      "100%|████████████████████████████████████████████████████████████████████████████████████████████████████████████████████████████████████████████████████████████████████████████████████████████████████████████████████████████████████████| 1/1 [00:00<00:00, 97.93it/s]\n"
     ]
    },
    {
     "name": "stdout",
     "output_type": "stream",
     "text": [
      "Elapsed Time: 0.0s, Elapsed Time per query: 14.1ms\n",
      "Retrieved top 1000 for 49_6\n",
      "Computing distances and coverage!\n",
      "Finished for Rb hat!\n",
      "Query Num 1\n"
     ]
    },
    {
     "name": "stderr",
     "output_type": "stream",
     "text": [
      "100%|████████████████████████████████████████████████████████████████████████████████████████████████████████████████████████████████████████████████████████████████████████████████████████████████████████████████████████████████████████| 1/1 [01:02<00:00, 62.46s/it]\n"
     ]
    },
    {
     "name": "stdout",
     "output_type": "stream",
     "text": [
      "Elapsed Time: 62.5s, Elapsed Time per query: 62466.0ms\n",
      "Finished retrieving in the big index!\n",
      "finished with qid:  49_6\n",
      "Processing qid: 49_7\n",
      "Query Num 1\n"
     ]
    },
    {
     "name": "stderr",
     "output_type": "stream",
     "text": [
      "100%|████████████████████████████████████████████████████████████████████████████████████████████████████████████████████████████████████████████████████████████████████████████████████████████████████████████████████████████████████████| 1/1 [00:00<00:00, 82.57it/s]\n"
     ]
    },
    {
     "name": "stdout",
     "output_type": "stream",
     "text": [
      "Elapsed Time: 0.0s, Elapsed Time per query: 15.3ms\n",
      "Retrieved top 1000 for 49_7\n",
      "Computing distances and coverage!\n",
      "Finished for Rb hat!\n",
      "Query Num 1\n"
     ]
    },
    {
     "name": "stderr",
     "output_type": "stream",
     "text": [
      "100%|████████████████████████████████████████████████████████████████████████████████████████████████████████████████████████████████████████████████████████████████████████████████████████████████████████████████████████████████████████| 1/1 [01:02<00:00, 62.05s/it]\n"
     ]
    },
    {
     "name": "stdout",
     "output_type": "stream",
     "text": [
      "Elapsed Time: 62.1s, Elapsed Time per query: 62052.5ms\n",
      "Finished retrieving in the big index!\n",
      "finished with qid:  49_7\n",
      "Processing qid: 49_8\n",
      "Query Num 1\n"
     ]
    },
    {
     "name": "stderr",
     "output_type": "stream",
     "text": [
      "100%|███████████████████████████████████████████████████████████████████████████████████████████████████████████████████████████████████████████████████████████████████████████████████████████████████████████████████████████████████████| 1/1 [00:00<00:00, 110.41it/s]\n"
     ]
    },
    {
     "name": "stdout",
     "output_type": "stream",
     "text": [
      "Elapsed Time: 0.0s, Elapsed Time per query: 11.0ms\n",
      "Retrieved top 1000 for 49_8\n",
      "Computing distances and coverage!\n",
      "Finished for Rb hat!\n",
      "Query Num 1\n"
     ]
    },
    {
     "name": "stderr",
     "output_type": "stream",
     "text": [
      "100%|████████████████████████████████████████████████████████████████████████████████████████████████████████████████████████████████████████████████████████████████████████████████████████████████████████████████████████████████████████| 1/1 [01:00<00:00, 60.31s/it]\n"
     ]
    },
    {
     "name": "stdout",
     "output_type": "stream",
     "text": [
      "Elapsed Time: 60.3s, Elapsed Time per query: 60308.1ms\n",
      "Finished retrieving in the big index!\n",
      "finished with qid:  49_8\n",
      "Processing qid: 49_9\n",
      "Query Num 1\n"
     ]
    },
    {
     "name": "stderr",
     "output_type": "stream",
     "text": [
      "100%|███████████████████████████████████████████████████████████████████████████████████████████████████████████████████████████████████████████████████████████████████████████████████████████████████████████████████████████████████████| 1/1 [00:00<00:00, 102.66it/s]\n"
     ]
    },
    {
     "name": "stdout",
     "output_type": "stream",
     "text": [
      "Elapsed Time: 0.0s, Elapsed Time per query: 12.3ms\n",
      "Retrieved top 1000 for 49_9\n",
      "Computing distances and coverage!\n",
      "Finished for Rb hat!\n",
      "Query Num 1\n"
     ]
    },
    {
     "name": "stderr",
     "output_type": "stream",
     "text": [
      "100%|████████████████████████████████████████████████████████████████████████████████████████████████████████████████████████████████████████████████████████████████████████████████████████████████████████████████████████████████████████| 1/1 [00:33<00:00, 33.07s/it]\n"
     ]
    },
    {
     "name": "stdout",
     "output_type": "stream",
     "text": [
      "Elapsed Time: 33.1s, Elapsed Time per query: 33070.1ms\n",
      "Finished retrieving in the big index!\n",
      "finished with qid:  49_9\n",
      "Processing qid: 49_10\n",
      "Query Num 1\n"
     ]
    },
    {
     "name": "stderr",
     "output_type": "stream",
     "text": [
      "100%|███████████████████████████████████████████████████████████████████████████████████████████████████████████████████████████████████████████████████████████████████████████████████████████████████████████████████████████████████████| 1/1 [00:00<00:00, 119.34it/s]\n"
     ]
    },
    {
     "name": "stdout",
     "output_type": "stream",
     "text": [
      "Elapsed Time: 0.0s, Elapsed Time per query: 10.5ms\n",
      "Retrieved top 1000 for 49_10\n",
      "Computing distances and coverage!\n",
      "Finished for Rb hat!\n",
      "Query Num 1\n"
     ]
    },
    {
     "name": "stderr",
     "output_type": "stream",
     "text": [
      "100%|████████████████████████████████████████████████████████████████████████████████████████████████████████████████████████████████████████████████████████████████████████████████████████████████████████████████████████████████████████| 1/1 [00:54<00:00, 54.27s/it]\n"
     ]
    },
    {
     "name": "stdout",
     "output_type": "stream",
     "text": [
      "Elapsed Time: 54.3s, Elapsed Time per query: 54268.1ms\n",
      "Finished retrieving in the big index!\n",
      "finished with qid:  49_10\n",
      "Starting conv:  50\n",
      "Query Num 1\n"
     ]
    },
    {
     "name": "stderr",
     "output_type": "stream",
     "text": [
      "100%|████████████████████████████████████████████████████████████████████████████████████████████████████████████████████████████████████████████████████████████████████████████████████████████████████████████████████████████████████████| 1/1 [00:59<00:00, 59.71s/it]\n"
     ]
    },
    {
     "name": "stdout",
     "output_type": "stream",
     "text": [
      "Elapsed Time: 59.7s, Elapsed Time per query: 59707.9ms\n",
      "embedding shape: (10000, 768)\n",
      "(10000,) int64\n",
      "Create cache for:  50\n",
      "Processing qid: 50_2\n",
      "Query Num 1\n"
     ]
    },
    {
     "name": "stderr",
     "output_type": "stream",
     "text": [
      "100%|████████████████████████████████████████████████████████████████████████████████████████████████████████████████████████████████████████████████████████████████████████████████████████████████████████████████████████████████████████| 1/1 [00:00<00:00, 93.40it/s]\n"
     ]
    },
    {
     "name": "stdout",
     "output_type": "stream",
     "text": [
      "Elapsed Time: 0.0s, Elapsed Time per query: 13.5ms\n",
      "Retrieved top 1000 for 50_2\n",
      "Computing distances and coverage!\n",
      "Finished for Rb hat!\n",
      "Query Num 1\n"
     ]
    },
    {
     "name": "stderr",
     "output_type": "stream",
     "text": [
      "100%|████████████████████████████████████████████████████████████████████████████████████████████████████████████████████████████████████████████████████████████████████████████████████████████████████████████████████████████████████████| 1/1 [01:00<00:00, 60.49s/it]\n"
     ]
    },
    {
     "name": "stdout",
     "output_type": "stream",
     "text": [
      "Elapsed Time: 60.5s, Elapsed Time per query: 60496.5ms\n",
      "Finished retrieving in the big index!\n",
      "finished with qid:  50_2\n",
      "Processing qid: 50_3\n",
      "Query Num 1\n"
     ]
    },
    {
     "name": "stderr",
     "output_type": "stream",
     "text": [
      "100%|████████████████████████████████████████████████████████████████████████████████████████████████████████████████████████████████████████████████████████████████████████████████████████████████████████████████████████████████████████| 1/1 [00:00<00:00, 73.15it/s]\n"
     ]
    },
    {
     "name": "stdout",
     "output_type": "stream",
     "text": [
      "Elapsed Time: 0.0s, Elapsed Time per query: 17.1ms\n",
      "Retrieved top 1000 for 50_3\n",
      "Computing distances and coverage!\n",
      "Finished for Rb hat!\n",
      "Query Num 1\n"
     ]
    },
    {
     "name": "stderr",
     "output_type": "stream",
     "text": [
      "100%|████████████████████████████████████████████████████████████████████████████████████████████████████████████████████████████████████████████████████████████████████████████████████████████████████████████████████████████████████████| 1/1 [00:29<00:00, 29.20s/it]\n"
     ]
    },
    {
     "name": "stdout",
     "output_type": "stream",
     "text": [
      "Elapsed Time: 29.2s, Elapsed Time per query: 29202.7ms\n",
      "Finished retrieving in the big index!\n",
      "finished with qid:  50_3\n",
      "Processing qid: 50_4\n",
      "Query Num 1\n"
     ]
    },
    {
     "name": "stderr",
     "output_type": "stream",
     "text": [
      "100%|███████████████████████████████████████████████████████████████████████████████████████████████████████████████████████████████████████████████████████████████████████████████████████████████████████████████████████████████████████| 1/1 [00:00<00:00, 112.83it/s]\n"
     ]
    },
    {
     "name": "stdout",
     "output_type": "stream",
     "text": [
      "Elapsed Time: 0.0s, Elapsed Time per query: 12.5ms\n",
      "Retrieved top 1000 for 50_4\n",
      "Computing distances and coverage!\n",
      "Finished for Rb hat!\n",
      "Query Num 1\n"
     ]
    },
    {
     "name": "stderr",
     "output_type": "stream",
     "text": [
      "100%|████████████████████████████████████████████████████████████████████████████████████████████████████████████████████████████████████████████████████████████████████████████████████████████████████████████████████████████████████████| 1/1 [01:03<00:00, 63.01s/it]\n"
     ]
    },
    {
     "name": "stdout",
     "output_type": "stream",
     "text": [
      "Elapsed Time: 63.0s, Elapsed Time per query: 63013.0ms\n",
      "Finished retrieving in the big index!\n",
      "finished with qid:  50_4\n",
      "Processing qid: 50_5\n",
      "Query Num 1\n"
     ]
    },
    {
     "name": "stderr",
     "output_type": "stream",
     "text": [
      "100%|████████████████████████████████████████████████████████████████████████████████████████████████████████████████████████████████████████████████████████████████████████████████████████████████████████████████████████████████████████| 1/1 [00:00<00:00, 87.19it/s]\n"
     ]
    },
    {
     "name": "stdout",
     "output_type": "stream",
     "text": [
      "Elapsed Time: 0.0s, Elapsed Time per query: 14.6ms\n",
      "Retrieved top 1000 for 50_5\n",
      "Computing distances and coverage!\n",
      "Finished for Rb hat!\n",
      "Query Num 1\n"
     ]
    },
    {
     "name": "stderr",
     "output_type": "stream",
     "text": [
      "100%|████████████████████████████████████████████████████████████████████████████████████████████████████████████████████████████████████████████████████████████████████████████████████████████████████████████████████████████████████████| 1/1 [01:03<00:00, 63.52s/it]\n"
     ]
    },
    {
     "name": "stdout",
     "output_type": "stream",
     "text": [
      "Elapsed Time: 63.5s, Elapsed Time per query: 63516.9ms\n",
      "Finished retrieving in the big index!\n",
      "finished with qid:  50_5\n",
      "Processing qid: 50_6\n",
      "Query Num 1\n"
     ]
    },
    {
     "name": "stderr",
     "output_type": "stream",
     "text": [
      "100%|████████████████████████████████████████████████████████████████████████████████████████████████████████████████████████████████████████████████████████████████████████████████████████████████████████████████████████████████████████| 1/1 [00:00<00:00, 72.44it/s]\n"
     ]
    },
    {
     "name": "stdout",
     "output_type": "stream",
     "text": [
      "Elapsed Time: 0.0s, Elapsed Time per query: 18.0ms\n",
      "Retrieved top 1000 for 50_6\n",
      "Computing distances and coverage!\n",
      "Finished for Rb hat!\n",
      "Query Num 1\n"
     ]
    },
    {
     "name": "stderr",
     "output_type": "stream",
     "text": [
      "100%|████████████████████████████████████████████████████████████████████████████████████████████████████████████████████████████████████████████████████████████████████████████████████████████████████████████████████████████████████████| 1/1 [01:02<00:00, 62.45s/it]\n"
     ]
    },
    {
     "name": "stdout",
     "output_type": "stream",
     "text": [
      "Elapsed Time: 62.5s, Elapsed Time per query: 62454.1ms\n",
      "Finished retrieving in the big index!\n",
      "finished with qid:  50_6\n",
      "Processing qid: 50_7\n",
      "Query Num 1\n"
     ]
    },
    {
     "name": "stderr",
     "output_type": "stream",
     "text": [
      "100%|███████████████████████████████████████████████████████████████████████████████████████████████████████████████████████████████████████████████████████████████████████████████████████████████████████████████████████████████████████| 1/1 [00:00<00:00, 113.69it/s]\n"
     ]
    },
    {
     "name": "stdout",
     "output_type": "stream",
     "text": [
      "Elapsed Time: 0.0s, Elapsed Time per query: 12.0ms\n",
      "Retrieved top 1000 for 50_7\n",
      "Computing distances and coverage!\n",
      "Finished for Rb hat!\n",
      "Query Num 1\n"
     ]
    },
    {
     "name": "stderr",
     "output_type": "stream",
     "text": [
      "100%|████████████████████████████████████████████████████████████████████████████████████████████████████████████████████████████████████████████████████████████████████████████████████████████████████████████████████████████████████████| 1/1 [00:29<00:00, 29.73s/it]\n"
     ]
    },
    {
     "name": "stdout",
     "output_type": "stream",
     "text": [
      "Elapsed Time: 29.7s, Elapsed Time per query: 29736.5ms\n",
      "Finished retrieving in the big index!\n",
      "finished with qid:  50_7\n",
      "Processing qid: 50_8\n",
      "Query Num 1\n"
     ]
    },
    {
     "name": "stderr",
     "output_type": "stream",
     "text": [
      "100%|████████████████████████████████████████████████████████████████████████████████████████████████████████████████████████████████████████████████████████████████████████████████████████████████████████████████████████████████████████| 1/1 [00:00<00:00, 82.15it/s]\n"
     ]
    },
    {
     "name": "stdout",
     "output_type": "stream",
     "text": [
      "Elapsed Time: 0.0s, Elapsed Time per query: 15.9ms\n",
      "Retrieved top 1000 for 50_8\n",
      "Computing distances and coverage!\n",
      "Finished for Rb hat!\n",
      "Query Num 1\n"
     ]
    },
    {
     "name": "stderr",
     "output_type": "stream",
     "text": [
      "100%|████████████████████████████████████████████████████████████████████████████████████████████████████████████████████████████████████████████████████████████████████████████████████████████████████████████████████████████████████████| 1/1 [01:03<00:00, 63.56s/it]\n"
     ]
    },
    {
     "name": "stdout",
     "output_type": "stream",
     "text": [
      "Elapsed Time: 63.6s, Elapsed Time per query: 63565.2ms\n",
      "Finished retrieving in the big index!\n",
      "finished with qid:  50_8\n",
      "Processing qid: 50_9\n",
      "Query Num 1\n"
     ]
    },
    {
     "name": "stderr",
     "output_type": "stream",
     "text": [
      "100%|████████████████████████████████████████████████████████████████████████████████████████████████████████████████████████████████████████████████████████████████████████████████████████████████████████████████████████████████████████| 1/1 [00:00<00:00, 77.14it/s]\n"
     ]
    },
    {
     "name": "stdout",
     "output_type": "stream",
     "text": [
      "Elapsed Time: 0.0s, Elapsed Time per query: 15.6ms\n",
      "Retrieved top 1000 for 50_9\n",
      "Computing distances and coverage!\n",
      "Finished for Rb hat!\n",
      "Query Num 1\n"
     ]
    },
    {
     "name": "stderr",
     "output_type": "stream",
     "text": [
      "100%|████████████████████████████████████████████████████████████████████████████████████████████████████████████████████████████████████████████████████████████████████████████████████████████████████████████████████████████████████████| 1/1 [01:02<00:00, 62.10s/it]\n"
     ]
    },
    {
     "name": "stdout",
     "output_type": "stream",
     "text": [
      "Elapsed Time: 62.1s, Elapsed Time per query: 62104.5ms\n",
      "Finished retrieving in the big index!\n",
      "finished with qid:  50_9\n",
      "Processing qid: 50_10\n",
      "Query Num 1\n"
     ]
    },
    {
     "name": "stderr",
     "output_type": "stream",
     "text": [
      "100%|████████████████████████████████████████████████████████████████████████████████████████████████████████████████████████████████████████████████████████████████████████████████████████████████████████████████████████████████████████| 1/1 [00:00<00:00, 75.37it/s]\n"
     ]
    },
    {
     "name": "stdout",
     "output_type": "stream",
     "text": [
      "Elapsed Time: 0.0s, Elapsed Time per query: 16.8ms\n",
      "Retrieved top 1000 for 50_10\n",
      "Computing distances and coverage!\n",
      "Finished for Rb hat!\n",
      "Query Num 1\n"
     ]
    },
    {
     "name": "stderr",
     "output_type": "stream",
     "text": [
      "100%|████████████████████████████████████████████████████████████████████████████████████████████████████████████████████████████████████████████████████████████████████████████████████████████████████████████████████████████████████████| 1/1 [00:36<00:00, 36.02s/it]\n"
     ]
    },
    {
     "name": "stdout",
     "output_type": "stream",
     "text": [
      "Elapsed Time: 36.0s, Elapsed Time per query: 36021.5ms\n",
      "Finished retrieving in the big index!\n",
      "finished with qid:  50_10\n",
      "Starting conv:  54\n",
      "Query Num 1\n"
     ]
    },
    {
     "name": "stderr",
     "output_type": "stream",
     "text": [
      "100%|████████████████████████████████████████████████████████████████████████████████████████████████████████████████████████████████████████████████████████████████████████████████████████████████████████████████████████████████████████| 1/1 [00:55<00:00, 55.55s/it]\n"
     ]
    },
    {
     "name": "stdout",
     "output_type": "stream",
     "text": [
      "Elapsed Time: 55.6s, Elapsed Time per query: 55553.6ms\n",
      "embedding shape: (10000, 768)\n",
      "(10000,) int64\n",
      "Create cache for:  54\n",
      "Processing qid: 54_2\n",
      "Query Num 1\n"
     ]
    },
    {
     "name": "stderr",
     "output_type": "stream",
     "text": [
      "100%|███████████████████████████████████████████████████████████████████████████████████████████████████████████████████████████████████████████████████████████████████████████████████████████████████████████████████████████████████████| 1/1 [00:00<00:00, 113.78it/s]\n"
     ]
    },
    {
     "name": "stdout",
     "output_type": "stream",
     "text": [
      "Elapsed Time: 0.0s, Elapsed Time per query: 11.7ms\n",
      "Retrieved top 1000 for 54_2\n",
      "Computing distances and coverage!\n",
      "Finished for Rb hat!\n",
      "Query Num 1\n"
     ]
    },
    {
     "name": "stderr",
     "output_type": "stream",
     "text": [
      "100%|████████████████████████████████████████████████████████████████████████████████████████████████████████████████████████████████████████████████████████████████████████████████████████████████████████████████████████████████████████| 1/1 [01:03<00:00, 63.42s/it]\n"
     ]
    },
    {
     "name": "stdout",
     "output_type": "stream",
     "text": [
      "Elapsed Time: 63.4s, Elapsed Time per query: 63420.0ms\n",
      "Finished retrieving in the big index!\n",
      "finished with qid:  54_2\n",
      "Processing qid: 54_3\n",
      "Query Num 1\n"
     ]
    },
    {
     "name": "stderr",
     "output_type": "stream",
     "text": [
      "100%|████████████████████████████████████████████████████████████████████████████████████████████████████████████████████████████████████████████████████████████████████████████████████████████████████████████████████████████████████████| 1/1 [00:00<00:00, 93.01it/s]\n"
     ]
    },
    {
     "name": "stdout",
     "output_type": "stream",
     "text": [
      "Elapsed Time: 0.0s, Elapsed Time per query: 15.2ms\n",
      "Retrieved top 1000 for 54_3\n",
      "Computing distances and coverage!\n",
      "Finished for Rb hat!\n",
      "Query Num 1\n"
     ]
    },
    {
     "name": "stderr",
     "output_type": "stream",
     "text": [
      "100%|████████████████████████████████████████████████████████████████████████████████████████████████████████████████████████████████████████████████████████████████████████████████████████████████████████████████████████████████████████| 1/1 [00:29<00:00, 29.57s/it]\n"
     ]
    },
    {
     "name": "stdout",
     "output_type": "stream",
     "text": [
      "Elapsed Time: 29.6s, Elapsed Time per query: 29570.9ms\n",
      "Finished retrieving in the big index!\n",
      "finished with qid:  54_3\n",
      "Processing qid: 54_4\n",
      "Query Num 1\n"
     ]
    },
    {
     "name": "stderr",
     "output_type": "stream",
     "text": [
      "100%|███████████████████████████████████████████████████████████████████████████████████████████████████████████████████████████████████████████████████████████████████████████████████████████████████████████████████████████████████████| 1/1 [00:00<00:00, 111.92it/s]\n"
     ]
    },
    {
     "name": "stdout",
     "output_type": "stream",
     "text": [
      "Elapsed Time: 0.0s, Elapsed Time per query: 11.4ms\n",
      "Retrieved top 1000 for 54_4\n",
      "Computing distances and coverage!\n",
      "Finished for Rb hat!\n",
      "Query Num 1\n"
     ]
    },
    {
     "name": "stderr",
     "output_type": "stream",
     "text": [
      "100%|████████████████████████████████████████████████████████████████████████████████████████████████████████████████████████████████████████████████████████████████████████████████████████████████████████████████████████████████████████| 1/1 [01:03<00:00, 63.06s/it]\n"
     ]
    },
    {
     "name": "stdout",
     "output_type": "stream",
     "text": [
      "Elapsed Time: 63.1s, Elapsed Time per query: 63062.1ms\n",
      "Finished retrieving in the big index!\n",
      "finished with qid:  54_4\n",
      "Processing qid: 54_5\n",
      "Query Num 1\n"
     ]
    },
    {
     "name": "stderr",
     "output_type": "stream",
     "text": [
      "100%|███████████████████████████████████████████████████████████████████████████████████████████████████████████████████████████████████████████████████████████████████████████████████████████████████████████████████████████████████████| 1/1 [00:00<00:00, 103.64it/s]\n"
     ]
    },
    {
     "name": "stdout",
     "output_type": "stream",
     "text": [
      "Elapsed Time: 0.0s, Elapsed Time per query: 13.7ms\n",
      "Retrieved top 1000 for 54_5\n",
      "Computing distances and coverage!\n",
      "Finished for Rb hat!\n",
      "Query Num 1\n"
     ]
    },
    {
     "name": "stderr",
     "output_type": "stream",
     "text": [
      "100%|████████████████████████████████████████████████████████████████████████████████████████████████████████████████████████████████████████████████████████████████████████████████████████████████████████████████████████████████████████| 1/1 [01:03<00:00, 63.43s/it]\n"
     ]
    },
    {
     "name": "stdout",
     "output_type": "stream",
     "text": [
      "Elapsed Time: 63.4s, Elapsed Time per query: 63430.3ms\n",
      "Finished retrieving in the big index!\n",
      "finished with qid:  54_5\n",
      "Processing qid: 54_6\n",
      "Query Num 1\n"
     ]
    },
    {
     "name": "stderr",
     "output_type": "stream",
     "text": [
      "100%|███████████████████████████████████████████████████████████████████████████████████████████████████████████████████████████████████████████████████████████████████████████████████████████████████████████████████████████████████████| 1/1 [00:00<00:00, 105.33it/s]\n"
     ]
    },
    {
     "name": "stdout",
     "output_type": "stream",
     "text": [
      "Elapsed Time: 0.0s, Elapsed Time per query: 13.2ms\n",
      "Retrieved top 1000 for 54_6\n",
      "Computing distances and coverage!\n",
      "Finished for Rb hat!\n",
      "Query Num 1\n"
     ]
    },
    {
     "name": "stderr",
     "output_type": "stream",
     "text": [
      "100%|████████████████████████████████████████████████████████████████████████████████████████████████████████████████████████████████████████████████████████████████████████████████████████████████████████████████████████████████████████| 1/1 [00:29<00:00, 29.85s/it]\n"
     ]
    },
    {
     "name": "stdout",
     "output_type": "stream",
     "text": [
      "Elapsed Time: 29.9s, Elapsed Time per query: 29851.2ms\n",
      "Finished retrieving in the big index!\n",
      "finished with qid:  54_6\n",
      "Processing qid: 54_7\n",
      "Query Num 1\n"
     ]
    },
    {
     "name": "stderr",
     "output_type": "stream",
     "text": [
      "100%|███████████████████████████████████████████████████████████████████████████████████████████████████████████████████████████████████████████████████████████████████████████████████████████████████████████████████████████████████████| 1/1 [00:00<00:00, 116.31it/s]\n"
     ]
    },
    {
     "name": "stdout",
     "output_type": "stream",
     "text": [
      "Elapsed Time: 0.0s, Elapsed Time per query: 11.4ms\n",
      "Retrieved top 1000 for 54_7\n",
      "Computing distances and coverage!\n",
      "Finished for Rb hat!\n",
      "Query Num 1\n"
     ]
    },
    {
     "name": "stderr",
     "output_type": "stream",
     "text": [
      "100%|████████████████████████████████████████████████████████████████████████████████████████████████████████████████████████████████████████████████████████████████████████████████████████████████████████████████████████████████████████| 1/1 [01:02<00:00, 62.00s/it]\n"
     ]
    },
    {
     "name": "stdout",
     "output_type": "stream",
     "text": [
      "Elapsed Time: 62.0s, Elapsed Time per query: 62006.8ms\n",
      "Finished retrieving in the big index!\n",
      "finished with qid:  54_7\n",
      "Processing qid: 54_8\n",
      "Query Num 1\n"
     ]
    },
    {
     "name": "stderr",
     "output_type": "stream",
     "text": [
      "100%|████████████████████████████████████████████████████████████████████████████████████████████████████████████████████████████████████████████████████████████████████████████████████████████████████████████████████████████████████████| 1/1 [00:00<00:00, 85.20it/s]\n"
     ]
    },
    {
     "name": "stdout",
     "output_type": "stream",
     "text": [
      "Elapsed Time: 0.0s, Elapsed Time per query: 15.7ms\n",
      "Retrieved top 1000 for 54_8\n",
      "Computing distances and coverage!\n",
      "Finished for Rb hat!\n",
      "Query Num 1\n"
     ]
    },
    {
     "name": "stderr",
     "output_type": "stream",
     "text": [
      "100%|████████████████████████████████████████████████████████████████████████████████████████████████████████████████████████████████████████████████████████████████████████████████████████████████████████████████████████████████████████| 1/1 [01:02<00:00, 62.42s/it]\n"
     ]
    },
    {
     "name": "stdout",
     "output_type": "stream",
     "text": [
      "Elapsed Time: 62.4s, Elapsed Time per query: 62420.4ms\n",
      "Finished retrieving in the big index!\n",
      "finished with qid:  54_8\n",
      "Processing qid: 54_9\n",
      "Query Num 1\n"
     ]
    },
    {
     "name": "stderr",
     "output_type": "stream",
     "text": [
      "100%|███████████████████████████████████████████████████████████████████████████████████████████████████████████████████████████████████████████████████████████████████████████████████████████████████████████████████████████████████████| 1/1 [00:00<00:00, 103.71it/s]\n"
     ]
    },
    {
     "name": "stdout",
     "output_type": "stream",
     "text": [
      "Elapsed Time: 0.0s, Elapsed Time per query: 12.9ms\n",
      "Retrieved top 1000 for 54_9\n",
      "Computing distances and coverage!\n",
      "Finished for Rb hat!\n",
      "Query Num 1\n"
     ]
    },
    {
     "name": "stderr",
     "output_type": "stream",
     "text": [
      "100%|████████████████████████████████████████████████████████████████████████████████████████████████████████████████████████████████████████████████████████████████████████████████████████████████████████████████████████████████████████| 1/1 [00:28<00:00, 28.93s/it]\n"
     ]
    },
    {
     "name": "stdout",
     "output_type": "stream",
     "text": [
      "Elapsed Time: 28.9s, Elapsed Time per query: 28936.3ms\n",
      "Finished retrieving in the big index!\n",
      "finished with qid:  54_9\n",
      "Starting conv:  56\n",
      "Query Num 1\n"
     ]
    },
    {
     "name": "stderr",
     "output_type": "stream",
     "text": [
      "100%|████████████████████████████████████████████████████████████████████████████████████████████████████████████████████████████████████████████████████████████████████████████████████████████████████████████████████████████████████████| 1/1 [01:03<00:00, 63.50s/it]\n"
     ]
    },
    {
     "name": "stdout",
     "output_type": "stream",
     "text": [
      "Elapsed Time: 63.5s, Elapsed Time per query: 63501.2ms\n",
      "embedding shape: (10000, 768)\n",
      "(10000,) int64\n",
      "Create cache for:  56\n",
      "Processing qid: 56_2\n",
      "Query Num 1\n"
     ]
    },
    {
     "name": "stderr",
     "output_type": "stream",
     "text": [
      "100%|███████████████████████████████████████████████████████████████████████████████████████████████████████████████████████████████████████████████████████████████████████████████████████████████████████████████████████████████████████| 1/1 [00:00<00:00, 111.87it/s]\n"
     ]
    },
    {
     "name": "stdout",
     "output_type": "stream",
     "text": [
      "Elapsed Time: 0.0s, Elapsed Time per query: 12.8ms\n",
      "Retrieved top 1000 for 56_2\n",
      "Computing distances and coverage!\n",
      "Finished for Rb hat!\n",
      "Query Num 1\n"
     ]
    },
    {
     "name": "stderr",
     "output_type": "stream",
     "text": [
      "100%|████████████████████████████████████████████████████████████████████████████████████████████████████████████████████████████████████████████████████████████████████████████████████████████████████████████████████████████████████████| 1/1 [01:03<00:00, 63.73s/it]\n"
     ]
    },
    {
     "name": "stdout",
     "output_type": "stream",
     "text": [
      "Elapsed Time: 63.7s, Elapsed Time per query: 63734.0ms\n",
      "Finished retrieving in the big index!\n",
      "finished with qid:  56_2\n",
      "Processing qid: 56_3\n",
      "Query Num 1\n"
     ]
    },
    {
     "name": "stderr",
     "output_type": "stream",
     "text": [
      "100%|████████████████████████████████████████████████████████████████████████████████████████████████████████████████████████████████████████████████████████████████████████████████████████████████████████████████████████████████████████| 1/1 [00:00<00:00, 85.63it/s]\n"
     ]
    },
    {
     "name": "stdout",
     "output_type": "stream",
     "text": [
      "Elapsed Time: 0.0s, Elapsed Time per query: 14.8ms\n",
      "Retrieved top 1000 for 56_3\n",
      "Computing distances and coverage!\n",
      "Finished for Rb hat!\n",
      "Query Num 1\n"
     ]
    },
    {
     "name": "stderr",
     "output_type": "stream",
     "text": [
      "100%|████████████████████████████████████████████████████████████████████████████████████████████████████████████████████████████████████████████████████████████████████████████████████████████████████████████████████████████████████████| 1/1 [01:03<00:00, 63.09s/it]\n"
     ]
    },
    {
     "name": "stdout",
     "output_type": "stream",
     "text": [
      "Elapsed Time: 63.1s, Elapsed Time per query: 63088.0ms\n",
      "Finished retrieving in the big index!\n",
      "finished with qid:  56_3\n",
      "Processing qid: 56_4\n",
      "Query Num 1\n"
     ]
    },
    {
     "name": "stderr",
     "output_type": "stream",
     "text": [
      "100%|████████████████████████████████████████████████████████████████████████████████████████████████████████████████████████████████████████████████████████████████████████████████████████████████████████████████████████████████████████| 1/1 [00:00<00:00, 75.38it/s]\n"
     ]
    },
    {
     "name": "stdout",
     "output_type": "stream",
     "text": [
      "Elapsed Time: 0.0s, Elapsed Time per query: 16.6ms\n",
      "Retrieved top 1000 for 56_4\n",
      "Computing distances and coverage!\n",
      "Finished for Rb hat!\n",
      "Query Num 1\n"
     ]
    },
    {
     "name": "stderr",
     "output_type": "stream",
     "text": [
      "100%|████████████████████████████████████████████████████████████████████████████████████████████████████████████████████████████████████████████████████████████████████████████████████████████████████████████████████████████████████████| 1/1 [00:28<00:00, 28.92s/it]\n"
     ]
    },
    {
     "name": "stdout",
     "output_type": "stream",
     "text": [
      "Elapsed Time: 28.9s, Elapsed Time per query: 28918.7ms\n",
      "Finished retrieving in the big index!\n",
      "finished with qid:  56_4\n",
      "Processing qid: 56_5\n",
      "Query Num 1\n"
     ]
    },
    {
     "name": "stderr",
     "output_type": "stream",
     "text": [
      "100%|███████████████████████████████████████████████████████████████████████████████████████████████████████████████████████████████████████████████████████████████████████████████████████████████████████████████████████████████████████| 1/1 [00:00<00:00, 113.61it/s]\n"
     ]
    },
    {
     "name": "stdout",
     "output_type": "stream",
     "text": [
      "Elapsed Time: 0.0s, Elapsed Time per query: 11.1ms\n",
      "Retrieved top 1000 for 56_5\n",
      "Computing distances and coverage!\n",
      "Finished for Rb hat!\n",
      "Query Num 1\n"
     ]
    },
    {
     "name": "stderr",
     "output_type": "stream",
     "text": [
      "100%|████████████████████████████████████████████████████████████████████████████████████████████████████████████████████████████████████████████████████████████████████████████████████████████████████████████████████████████████████████| 1/1 [01:03<00:00, 63.33s/it]\n"
     ]
    },
    {
     "name": "stdout",
     "output_type": "stream",
     "text": [
      "Elapsed Time: 63.3s, Elapsed Time per query: 63335.2ms\n",
      "Finished retrieving in the big index!\n",
      "finished with qid:  56_5\n",
      "Processing qid: 56_6\n",
      "Query Num 1\n"
     ]
    },
    {
     "name": "stderr",
     "output_type": "stream",
     "text": [
      "100%|████████████████████████████████████████████████████████████████████████████████████████████████████████████████████████████████████████████████████████████████████████████████████████████████████████████████████████████████████████| 1/1 [00:00<00:00, 68.36it/s]\n"
     ]
    },
    {
     "name": "stdout",
     "output_type": "stream",
     "text": [
      "Elapsed Time: 0.0s, Elapsed Time per query: 17.4ms\n",
      "Retrieved top 1000 for 56_6\n",
      "Computing distances and coverage!\n",
      "Finished for Rb hat!\n",
      "Query Num 1\n"
     ]
    },
    {
     "name": "stderr",
     "output_type": "stream",
     "text": [
      "100%|████████████████████████████████████████████████████████████████████████████████████████████████████████████████████████████████████████████████████████████████████████████████████████████████████████████████████████████████████████| 1/1 [01:02<00:00, 62.15s/it]\n"
     ]
    },
    {
     "name": "stdout",
     "output_type": "stream",
     "text": [
      "Elapsed Time: 62.2s, Elapsed Time per query: 62155.2ms\n",
      "Finished retrieving in the big index!\n",
      "finished with qid:  56_6\n",
      "Processing qid: 56_7\n",
      "Query Num 1\n"
     ]
    },
    {
     "name": "stderr",
     "output_type": "stream",
     "text": [
      "100%|████████████████████████████████████████████████████████████████████████████████████████████████████████████████████████████████████████████████████████████████████████████████████████████████████████████████████████████████████████| 1/1 [00:00<00:00, 81.78it/s]\n"
     ]
    },
    {
     "name": "stdout",
     "output_type": "stream",
     "text": [
      "Elapsed Time: 0.0s, Elapsed Time per query: 14.8ms\n",
      "Retrieved top 1000 for 56_7\n",
      "Computing distances and coverage!\n",
      "Finished for Rb hat!\n",
      "Query Num 1\n"
     ]
    },
    {
     "name": "stderr",
     "output_type": "stream",
     "text": [
      "100%|████████████████████████████████████████████████████████████████████████████████████████████████████████████████████████████████████████████████████████████████████████████████████████████████████████████████████████████████████████| 1/1 [00:33<00:00, 33.13s/it]\n"
     ]
    },
    {
     "name": "stdout",
     "output_type": "stream",
     "text": [
      "Elapsed Time: 33.1s, Elapsed Time per query: 33131.1ms\n",
      "Finished retrieving in the big index!\n",
      "finished with qid:  56_7\n",
      "Processing qid: 56_8\n",
      "Query Num 1\n"
     ]
    },
    {
     "name": "stderr",
     "output_type": "stream",
     "text": [
      "100%|███████████████████████████████████████████████████████████████████████████████████████████████████████████████████████████████████████████████████████████████████████████████████████████████████████████████████████████████████████| 1/1 [00:00<00:00, 107.05it/s]\n"
     ]
    },
    {
     "name": "stdout",
     "output_type": "stream",
     "text": [
      "Elapsed Time: 0.0s, Elapsed Time per query: 13.3ms\n",
      "Retrieved top 1000 for 56_8\n",
      "Computing distances and coverage!\n",
      "Finished for Rb hat!\n",
      "Query Num 1\n"
     ]
    },
    {
     "name": "stderr",
     "output_type": "stream",
     "text": [
      "100%|████████████████████████████████████████████████████████████████████████████████████████████████████████████████████████████████████████████████████████████████████████████████████████████████████████████████████████████████████████| 1/1 [00:58<00:00, 58.45s/it]\n"
     ]
    },
    {
     "name": "stdout",
     "output_type": "stream",
     "text": [
      "Elapsed Time: 58.5s, Elapsed Time per query: 58455.4ms\n",
      "Finished retrieving in the big index!\n",
      "finished with qid:  56_8\n",
      "Starting conv:  58\n",
      "Query Num 1\n"
     ]
    },
    {
     "name": "stderr",
     "output_type": "stream",
     "text": [
      "100%|████████████████████████████████████████████████████████████████████████████████████████████████████████████████████████████████████████████████████████████████████████████████████████████████████████████████████████████████████████| 1/1 [01:03<00:00, 63.12s/it]\n"
     ]
    },
    {
     "name": "stdout",
     "output_type": "stream",
     "text": [
      "Elapsed Time: 63.1s, Elapsed Time per query: 63127.0ms\n",
      "embedding shape: (10000, 768)\n",
      "(10000,) int64\n",
      "Create cache for:  58\n",
      "Processing qid: 58_2\n",
      "Query Num 1\n"
     ]
    },
    {
     "name": "stderr",
     "output_type": "stream",
     "text": [
      "100%|███████████████████████████████████████████████████████████████████████████████████████████████████████████████████████████████████████████████████████████████████████████████████████████████████████████████████████████████████████| 1/1 [00:00<00:00, 102.02it/s]\n"
     ]
    },
    {
     "name": "stdout",
     "output_type": "stream",
     "text": [
      "Elapsed Time: 0.0s, Elapsed Time per query: 12.4ms\n",
      "Retrieved top 1000 for 58_2\n",
      "Computing distances and coverage!\n",
      "Finished for Rb hat!\n",
      "Query Num 1\n"
     ]
    },
    {
     "name": "stderr",
     "output_type": "stream",
     "text": [
      "100%|████████████████████████████████████████████████████████████████████████████████████████████████████████████████████████████████████████████████████████████████████████████████████████████████████████████████████████████████████████| 1/1 [01:01<00:00, 61.88s/it]\n"
     ]
    },
    {
     "name": "stdout",
     "output_type": "stream",
     "text": [
      "Elapsed Time: 61.9s, Elapsed Time per query: 61880.0ms\n",
      "Finished retrieving in the big index!\n",
      "finished with qid:  58_2\n",
      "Processing qid: 58_3\n",
      "Query Num 1\n"
     ]
    },
    {
     "name": "stderr",
     "output_type": "stream",
     "text": [
      "100%|████████████████████████████████████████████████████████████████████████████████████████████████████████████████████████████████████████████████████████████████████████████████████████████████████████████████████████████████████████| 1/1 [00:00<00:00, 95.89it/s]\n"
     ]
    },
    {
     "name": "stdout",
     "output_type": "stream",
     "text": [
      "Elapsed Time: 0.0s, Elapsed Time per query: 14.3ms\n",
      "Retrieved top 1000 for 58_3\n",
      "Computing distances and coverage!\n",
      "Finished for Rb hat!\n",
      "Query Num 1\n"
     ]
    },
    {
     "name": "stderr",
     "output_type": "stream",
     "text": [
      "100%|████████████████████████████████████████████████████████████████████████████████████████████████████████████████████████████████████████████████████████████████████████████████████████████████████████████████████████████████████████| 1/1 [01:01<00:00, 61.52s/it]\n"
     ]
    },
    {
     "name": "stdout",
     "output_type": "stream",
     "text": [
      "Elapsed Time: 61.5s, Elapsed Time per query: 61523.5ms\n",
      "Finished retrieving in the big index!\n",
      "finished with qid:  58_3\n",
      "Processing qid: 58_4\n",
      "Query Num 1\n"
     ]
    },
    {
     "name": "stderr",
     "output_type": "stream",
     "text": [
      "100%|████████████████████████████████████████████████████████████████████████████████████████████████████████████████████████████████████████████████████████████████████████████████████████████████████████████████████████████████████████| 1/1 [00:00<00:00, 94.36it/s]\n"
     ]
    },
    {
     "name": "stdout",
     "output_type": "stream",
     "text": [
      "Elapsed Time: 0.0s, Elapsed Time per query: 14.4ms\n",
      "Retrieved top 1000 for 58_4\n",
      "Computing distances and coverage!\n",
      "Finished for Rb hat!\n",
      "Query Num 1\n"
     ]
    },
    {
     "name": "stderr",
     "output_type": "stream",
     "text": [
      "100%|████████████████████████████████████████████████████████████████████████████████████████████████████████████████████████████████████████████████████████████████████████████████████████████████████████████████████████████████████████| 1/1 [00:58<00:00, 58.16s/it]\n"
     ]
    },
    {
     "name": "stdout",
     "output_type": "stream",
     "text": [
      "Elapsed Time: 58.2s, Elapsed Time per query: 58165.1ms\n",
      "Finished retrieving in the big index!\n",
      "finished with qid:  58_4\n",
      "Processing qid: 58_5\n",
      "Query Num 1\n"
     ]
    },
    {
     "name": "stderr",
     "output_type": "stream",
     "text": [
      "100%|███████████████████████████████████████████████████████████████████████████████████████████████████████████████████████████████████████████████████████████████████████████████████████████████████████████████████████████████████████| 1/1 [00:00<00:00, 109.93it/s]\n"
     ]
    },
    {
     "name": "stdout",
     "output_type": "stream",
     "text": [
      "Elapsed Time: 0.0s, Elapsed Time per query: 13.2ms\n",
      "Retrieved top 1000 for 58_5\n",
      "Computing distances and coverage!\n",
      "Finished for Rb hat!\n",
      "Query Num 1\n"
     ]
    },
    {
     "name": "stderr",
     "output_type": "stream",
     "text": [
      "100%|████████████████████████████████████████████████████████████████████████████████████████████████████████████████████████████████████████████████████████████████████████████████████████████████████████████████████████████████████████| 1/1 [00:33<00:00, 33.09s/it]\n"
     ]
    },
    {
     "name": "stdout",
     "output_type": "stream",
     "text": [
      "Elapsed Time: 33.1s, Elapsed Time per query: 33092.0ms\n",
      "Finished retrieving in the big index!\n",
      "finished with qid:  58_5\n",
      "Processing qid: 58_6\n",
      "Query Num 1\n"
     ]
    },
    {
     "name": "stderr",
     "output_type": "stream",
     "text": [
      "100%|███████████████████████████████████████████████████████████████████████████████████████████████████████████████████████████████████████████████████████████████████████████████████████████████████████████████████████████████████████| 1/1 [00:00<00:00, 104.93it/s]\n"
     ]
    },
    {
     "name": "stdout",
     "output_type": "stream",
     "text": [
      "Elapsed Time: 0.0s, Elapsed Time per query: 13.2ms\n",
      "Retrieved top 1000 for 58_6\n",
      "Computing distances and coverage!\n",
      "Finished for Rb hat!\n",
      "Query Num 1\n"
     ]
    },
    {
     "name": "stderr",
     "output_type": "stream",
     "text": [
      "100%|████████████████████████████████████████████████████████████████████████████████████████████████████████████████████████████████████████████████████████████████████████████████████████████████████████████████████████████████████████| 1/1 [01:03<00:00, 63.64s/it]\n"
     ]
    },
    {
     "name": "stdout",
     "output_type": "stream",
     "text": [
      "Elapsed Time: 63.6s, Elapsed Time per query: 63645.3ms\n",
      "Finished retrieving in the big index!\n",
      "finished with qid:  58_6\n",
      "Processing qid: 58_7\n",
      "Query Num 1\n"
     ]
    },
    {
     "name": "stderr",
     "output_type": "stream",
     "text": [
      "100%|████████████████████████████████████████████████████████████████████████████████████████████████████████████████████████████████████████████████████████████████████████████████████████████████████████████████████████████████████████| 1/1 [00:00<00:00, 85.52it/s]\n"
     ]
    },
    {
     "name": "stdout",
     "output_type": "stream",
     "text": [
      "Elapsed Time: 0.0s, Elapsed Time per query: 16.2ms\n",
      "Retrieved top 1000 for 58_7\n",
      "Computing distances and coverage!\n",
      "Finished for Rb hat!\n",
      "Query Num 1\n"
     ]
    },
    {
     "name": "stderr",
     "output_type": "stream",
     "text": [
      "100%|████████████████████████████████████████████████████████████████████████████████████████████████████████████████████████████████████████████████████████████████████████████████████████████████████████████████████████████████████████| 1/1 [00:32<00:00, 32.59s/it]\n"
     ]
    },
    {
     "name": "stdout",
     "output_type": "stream",
     "text": [
      "Elapsed Time: 32.6s, Elapsed Time per query: 32590.2ms\n",
      "Finished retrieving in the big index!\n",
      "finished with qid:  58_7\n",
      "Processing qid: 58_8\n",
      "Query Num 1\n"
     ]
    },
    {
     "name": "stderr",
     "output_type": "stream",
     "text": [
      "100%|████████████████████████████████████████████████████████████████████████████████████████████████████████████████████████████████████████████████████████████████████████████████████████████████████████████████████████████████████████| 1/1 [00:00<00:00, 72.18it/s]\n"
     ]
    },
    {
     "name": "stdout",
     "output_type": "stream",
     "text": [
      "Elapsed Time: 0.0s, Elapsed Time per query: 16.4ms\n",
      "Retrieved top 1000 for 58_8\n",
      "Computing distances and coverage!\n",
      "Finished for Rb hat!\n",
      "Query Num 1\n"
     ]
    },
    {
     "name": "stderr",
     "output_type": "stream",
     "text": [
      "100%|████████████████████████████████████████████████████████████████████████████████████████████████████████████████████████████████████████████████████████████████████████████████████████████████████████████████████████████████████████| 1/1 [01:00<00:00, 60.23s/it]\n"
     ]
    },
    {
     "name": "stdout",
     "output_type": "stream",
     "text": [
      "Elapsed Time: 60.2s, Elapsed Time per query: 60227.5ms\n",
      "Finished retrieving in the big index!\n",
      "finished with qid:  58_8\n",
      "Starting conv:  59\n",
      "Query Num 1\n"
     ]
    },
    {
     "name": "stderr",
     "output_type": "stream",
     "text": [
      "100%|████████████████████████████████████████████████████████████████████████████████████████████████████████████████████████████████████████████████████████████████████████████████████████████████████████████████████████████████████████| 1/1 [01:03<00:00, 63.17s/it]\n"
     ]
    },
    {
     "name": "stdout",
     "output_type": "stream",
     "text": [
      "Elapsed Time: 63.2s, Elapsed Time per query: 63173.0ms\n",
      "embedding shape: (10000, 768)\n",
      "(10000,) int64\n",
      "Create cache for:  59\n",
      "Processing qid: 59_2\n",
      "Query Num 1\n"
     ]
    },
    {
     "name": "stderr",
     "output_type": "stream",
     "text": [
      "100%|███████████████████████████████████████████████████████████████████████████████████████████████████████████████████████████████████████████████████████████████████████████████████████████████████████████████████████████████████████| 1/1 [00:00<00:00, 124.55it/s]\n"
     ]
    },
    {
     "name": "stdout",
     "output_type": "stream",
     "text": [
      "Elapsed Time: 0.0s, Elapsed Time per query: 10.7ms\n",
      "Retrieved top 1000 for 59_2\n",
      "Computing distances and coverage!\n",
      "Finished for Rb hat!\n",
      "Query Num 1\n"
     ]
    },
    {
     "name": "stderr",
     "output_type": "stream",
     "text": [
      "100%|████████████████████████████████████████████████████████████████████████████████████████████████████████████████████████████████████████████████████████████████████████████████████████████████████████████████████████████████████████| 1/1 [00:28<00:00, 28.82s/it]\n"
     ]
    },
    {
     "name": "stdout",
     "output_type": "stream",
     "text": [
      "Elapsed Time: 28.8s, Elapsed Time per query: 28821.9ms\n",
      "Finished retrieving in the big index!\n",
      "finished with qid:  59_2\n",
      "Processing qid: 59_3\n",
      "Query Num 1\n"
     ]
    },
    {
     "name": "stderr",
     "output_type": "stream",
     "text": [
      "100%|███████████████████████████████████████████████████████████████████████████████████████████████████████████████████████████████████████████████████████████████████████████████████████████████████████████████████████████████████████| 1/1 [00:00<00:00, 127.87it/s]\n"
     ]
    },
    {
     "name": "stdout",
     "output_type": "stream",
     "text": [
      "Elapsed Time: 0.0s, Elapsed Time per query: 10.4ms\n",
      "Retrieved top 1000 for 59_3\n",
      "Computing distances and coverage!\n",
      "Finished for Rb hat!\n",
      "Query Num 1\n"
     ]
    },
    {
     "name": "stderr",
     "output_type": "stream",
     "text": [
      "100%|████████████████████████████████████████████████████████████████████████████████████████████████████████████████████████████████████████████████████████████████████████████████████████████████████████████████████████████████████████| 1/1 [00:58<00:00, 58.35s/it]\n"
     ]
    },
    {
     "name": "stdout",
     "output_type": "stream",
     "text": [
      "Elapsed Time: 58.4s, Elapsed Time per query: 58355.2ms\n",
      "Finished retrieving in the big index!\n",
      "finished with qid:  59_3\n",
      "Processing qid: 59_4\n",
      "Query Num 1\n"
     ]
    },
    {
     "name": "stderr",
     "output_type": "stream",
     "text": [
      "100%|████████████████████████████████████████████████████████████████████████████████████████████████████████████████████████████████████████████████████████████████████████████████████████████████████████████████████████████████████████| 1/1 [00:00<00:00, 75.93it/s]\n"
     ]
    },
    {
     "name": "stdout",
     "output_type": "stream",
     "text": [
      "Elapsed Time: 0.0s, Elapsed Time per query: 16.0ms\n",
      "Retrieved top 1000 for 59_4\n",
      "Computing distances and coverage!\n",
      "Finished for Rb hat!\n",
      "Query Num 1\n"
     ]
    },
    {
     "name": "stderr",
     "output_type": "stream",
     "text": [
      "100%|████████████████████████████████████████████████████████████████████████████████████████████████████████████████████████████████████████████████████████████████████████████████████████████████████████████████████████████████████████| 1/1 [00:58<00:00, 58.23s/it]\n"
     ]
    },
    {
     "name": "stdout",
     "output_type": "stream",
     "text": [
      "Elapsed Time: 58.2s, Elapsed Time per query: 58231.9ms\n",
      "Finished retrieving in the big index!\n",
      "finished with qid:  59_4\n",
      "Processing qid: 59_5\n",
      "Query Num 1\n"
     ]
    },
    {
     "name": "stderr",
     "output_type": "stream",
     "text": [
      "100%|████████████████████████████████████████████████████████████████████████████████████████████████████████████████████████████████████████████████████████████████████████████████████████████████████████████████████████████████████████| 1/1 [00:00<00:00, 89.98it/s]\n"
     ]
    },
    {
     "name": "stdout",
     "output_type": "stream",
     "text": [
      "Elapsed Time: 0.0s, Elapsed Time per query: 13.5ms\n",
      "Retrieved top 1000 for 59_5\n",
      "Computing distances and coverage!\n",
      "Finished for Rb hat!\n",
      "Query Num 1\n"
     ]
    },
    {
     "name": "stderr",
     "output_type": "stream",
     "text": [
      "100%|████████████████████████████████████████████████████████████████████████████████████████████████████████████████████████████████████████████████████████████████████████████████████████████████████████████████████████████████████████| 1/1 [00:58<00:00, 58.97s/it]\n"
     ]
    },
    {
     "name": "stdout",
     "output_type": "stream",
     "text": [
      "Elapsed Time: 59.0s, Elapsed Time per query: 58972.9ms\n",
      "Finished retrieving in the big index!\n",
      "finished with qid:  59_5\n",
      "Processing qid: 59_6\n",
      "Query Num 1\n"
     ]
    },
    {
     "name": "stderr",
     "output_type": "stream",
     "text": [
      "100%|████████████████████████████████████████████████████████████████████████████████████████████████████████████████████████████████████████████████████████████████████████████████████████████████████████████████████████████████████████| 1/1 [00:00<00:00, 52.93it/s]\n"
     ]
    },
    {
     "name": "stdout",
     "output_type": "stream",
     "text": [
      "Elapsed Time: 0.0s, Elapsed Time per query: 21.6ms\n",
      "Retrieved top 1000 for 59_6\n",
      "Computing distances and coverage!\n",
      "Finished for Rb hat!\n",
      "Query Num 1\n"
     ]
    },
    {
     "name": "stderr",
     "output_type": "stream",
     "text": [
      "100%|████████████████████████████████████████████████████████████████████████████████████████████████████████████████████████████████████████████████████████████████████████████████████████████████████████████████████████████████████████| 1/1 [01:03<00:00, 63.82s/it]\n"
     ]
    },
    {
     "name": "stdout",
     "output_type": "stream",
     "text": [
      "Elapsed Time: 63.8s, Elapsed Time per query: 63817.0ms\n",
      "Finished retrieving in the big index!\n",
      "finished with qid:  59_6\n",
      "Processing qid: 59_7\n",
      "Query Num 1\n"
     ]
    },
    {
     "name": "stderr",
     "output_type": "stream",
     "text": [
      "100%|████████████████████████████████████████████████████████████████████████████████████████████████████████████████████████████████████████████████████████████████████████████████████████████████████████████████████████████████████████| 1/1 [00:00<00:00, 78.22it/s]\n"
     ]
    },
    {
     "name": "stdout",
     "output_type": "stream",
     "text": [
      "Elapsed Time: 0.0s, Elapsed Time per query: 15.1ms\n",
      "Retrieved top 1000 for 59_7\n",
      "Computing distances and coverage!\n",
      "Finished for Rb hat!\n",
      "Query Num 1\n"
     ]
    },
    {
     "name": "stderr",
     "output_type": "stream",
     "text": [
      "100%|████████████████████████████████████████████████████████████████████████████████████████████████████████████████████████████████████████████████████████████████████████████████████████████████████████████████████████████████████████| 1/1 [01:03<00:00, 63.20s/it]\n"
     ]
    },
    {
     "name": "stdout",
     "output_type": "stream",
     "text": [
      "Elapsed Time: 63.2s, Elapsed Time per query: 63206.4ms\n",
      "Finished retrieving in the big index!\n",
      "finished with qid:  59_7\n",
      "Processing qid: 59_8\n",
      "Query Num 1\n"
     ]
    },
    {
     "name": "stderr",
     "output_type": "stream",
     "text": [
      "100%|████████████████████████████████████████████████████████████████████████████████████████████████████████████████████████████████████████████████████████████████████████████████████████████████████████████████████████████████████████| 1/1 [00:00<00:00, 79.59it/s]\n"
     ]
    },
    {
     "name": "stdout",
     "output_type": "stream",
     "text": [
      "Elapsed Time: 0.0s, Elapsed Time per query: 15.6ms\n",
      "Retrieved top 1000 for 59_8\n",
      "Computing distances and coverage!\n",
      "Finished for Rb hat!\n",
      "Query Num 1\n"
     ]
    },
    {
     "name": "stderr",
     "output_type": "stream",
     "text": [
      "100%|████████████████████████████████████████████████████████████████████████████████████████████████████████████████████████████████████████████████████████████████████████████████████████████████████████████████████████████████████████| 1/1 [00:29<00:00, 29.27s/it]\n"
     ]
    },
    {
     "name": "stdout",
     "output_type": "stream",
     "text": [
      "Elapsed Time: 29.3s, Elapsed Time per query: 29275.9ms\n",
      "Finished retrieving in the big index!\n",
      "finished with qid:  59_8\n",
      "Starting conv:  61\n",
      "Query Num 1\n"
     ]
    },
    {
     "name": "stderr",
     "output_type": "stream",
     "text": [
      "100%|████████████████████████████████████████████████████████████████████████████████████████████████████████████████████████████████████████████████████████████████████████████████████████████████████████████████████████████████████████| 1/1 [01:01<00:00, 61.23s/it]\n"
     ]
    },
    {
     "name": "stdout",
     "output_type": "stream",
     "text": [
      "Elapsed Time: 61.2s, Elapsed Time per query: 61228.5ms\n",
      "embedding shape: (10000, 768)\n",
      "(10000,) int64\n",
      "Create cache for:  61\n",
      "Processing qid: 61_2\n",
      "Query Num 1\n"
     ]
    },
    {
     "name": "stderr",
     "output_type": "stream",
     "text": [
      "100%|████████████████████████████████████████████████████████████████████████████████████████████████████████████████████████████████████████████████████████████████████████████████████████████████████████████████████████████████████████| 1/1 [00:00<00:00, 90.66it/s]\n"
     ]
    },
    {
     "name": "stdout",
     "output_type": "stream",
     "text": [
      "Elapsed Time: 0.0s, Elapsed Time per query: 15.0ms\n",
      "Retrieved top 1000 for 61_2\n",
      "Computing distances and coverage!\n",
      "Finished for Rb hat!\n",
      "Query Num 1\n"
     ]
    },
    {
     "name": "stderr",
     "output_type": "stream",
     "text": [
      "100%|████████████████████████████████████████████████████████████████████████████████████████████████████████████████████████████████████████████████████████████████████████████████████████████████████████████████████████████████████████| 1/1 [01:01<00:00, 61.18s/it]\n"
     ]
    },
    {
     "name": "stdout",
     "output_type": "stream",
     "text": [
      "Elapsed Time: 61.2s, Elapsed Time per query: 61185.2ms\n",
      "Finished retrieving in the big index!\n",
      "finished with qid:  61_2\n",
      "Processing qid: 61_3\n",
      "Query Num 1\n"
     ]
    },
    {
     "name": "stderr",
     "output_type": "stream",
     "text": [
      "100%|████████████████████████████████████████████████████████████████████████████████████████████████████████████████████████████████████████████████████████████████████████████████████████████████████████████████████████████████████████| 1/1 [00:00<00:00, 87.58it/s]\n"
     ]
    },
    {
     "name": "stdout",
     "output_type": "stream",
     "text": [
      "Elapsed Time: 0.0s, Elapsed Time per query: 15.5ms\n",
      "Retrieved top 1000 for 61_3\n",
      "Computing distances and coverage!\n",
      "Finished for Rb hat!\n",
      "Query Num 1\n"
     ]
    },
    {
     "name": "stderr",
     "output_type": "stream",
     "text": [
      "100%|████████████████████████████████████████████████████████████████████████████████████████████████████████████████████████████████████████████████████████████████████████████████████████████████████████████████████████████████████████| 1/1 [01:00<00:00, 60.49s/it]\n"
     ]
    },
    {
     "name": "stdout",
     "output_type": "stream",
     "text": [
      "Elapsed Time: 60.5s, Elapsed Time per query: 60490.0ms\n",
      "Finished retrieving in the big index!\n",
      "finished with qid:  61_3\n",
      "Processing qid: 61_4\n",
      "Query Num 1\n"
     ]
    },
    {
     "name": "stderr",
     "output_type": "stream",
     "text": [
      "100%|████████████████████████████████████████████████████████████████████████████████████████████████████████████████████████████████████████████████████████████████████████████████████████████████████████████████████████████████████████| 1/1 [00:00<00:00, 77.69it/s]\n"
     ]
    },
    {
     "name": "stdout",
     "output_type": "stream",
     "text": [
      "Elapsed Time: 0.0s, Elapsed Time per query: 16.1ms\n",
      "Retrieved top 1000 for 61_4\n",
      "Computing distances and coverage!\n",
      "Finished for Rb hat!\n",
      "Query Num 1\n"
     ]
    },
    {
     "name": "stderr",
     "output_type": "stream",
     "text": [
      "100%|████████████████████████████████████████████████████████████████████████████████████████████████████████████████████████████████████████████████████████████████████████████████████████████████████████████████████████████████████████| 1/1 [00:33<00:00, 33.95s/it]\n"
     ]
    },
    {
     "name": "stdout",
     "output_type": "stream",
     "text": [
      "Elapsed Time: 34.0s, Elapsed Time per query: 33957.1ms\n",
      "Finished retrieving in the big index!\n",
      "finished with qid:  61_4\n",
      "Processing qid: 61_5\n",
      "Query Num 1\n"
     ]
    },
    {
     "name": "stderr",
     "output_type": "stream",
     "text": [
      "100%|███████████████████████████████████████████████████████████████████████████████████████████████████████████████████████████████████████████████████████████████████████████████████████████████████████████████████████████████████████| 1/1 [00:00<00:00, 114.64it/s]\n"
     ]
    },
    {
     "name": "stdout",
     "output_type": "stream",
     "text": [
      "Elapsed Time: 0.0s, Elapsed Time per query: 11.0ms\n",
      "Retrieved top 1000 for 61_5\n",
      "Computing distances and coverage!\n",
      "Finished for Rb hat!\n",
      "Query Num 1\n"
     ]
    },
    {
     "name": "stderr",
     "output_type": "stream",
     "text": [
      "100%|████████████████████████████████████████████████████████████████████████████████████████████████████████████████████████████████████████████████████████████████████████████████████████████████████████████████████████████████████████| 1/1 [00:56<00:00, 56.07s/it]\n"
     ]
    },
    {
     "name": "stdout",
     "output_type": "stream",
     "text": [
      "Elapsed Time: 56.1s, Elapsed Time per query: 56067.9ms\n",
      "Finished retrieving in the big index!\n",
      "finished with qid:  61_5\n",
      "Processing qid: 61_6\n",
      "Query Num 1\n"
     ]
    },
    {
     "name": "stderr",
     "output_type": "stream",
     "text": [
      "100%|███████████████████████████████████████████████████████████████████████████████████████████████████████████████████████████████████████████████████████████████████████████████████████████████████████████████████████████████████████| 1/1 [00:00<00:00, 102.72it/s]\n"
     ]
    },
    {
     "name": "stdout",
     "output_type": "stream",
     "text": [
      "Elapsed Time: 0.0s, Elapsed Time per query: 11.8ms\n",
      "Retrieved top 1000 for 61_6\n",
      "Computing distances and coverage!\n",
      "Finished for Rb hat!\n",
      "Query Num 1\n"
     ]
    },
    {
     "name": "stderr",
     "output_type": "stream",
     "text": [
      "100%|████████████████████████████████████████████████████████████████████████████████████████████████████████████████████████████████████████████████████████████████████████████████████████████████████████████████████████████████████████| 1/1 [01:01<00:00, 61.70s/it]\n"
     ]
    },
    {
     "name": "stdout",
     "output_type": "stream",
     "text": [
      "Elapsed Time: 61.7s, Elapsed Time per query: 61697.5ms\n",
      "Finished retrieving in the big index!\n",
      "finished with qid:  61_6\n",
      "Processing qid: 61_7\n",
      "Query Num 1\n"
     ]
    },
    {
     "name": "stderr",
     "output_type": "stream",
     "text": [
      "100%|████████████████████████████████████████████████████████████████████████████████████████████████████████████████████████████████████████████████████████████████████████████████████████████████████████████████████████████████████████| 1/1 [00:00<00:00, 93.19it/s]\n"
     ]
    },
    {
     "name": "stdout",
     "output_type": "stream",
     "text": [
      "Elapsed Time: 0.0s, Elapsed Time per query: 13.2ms\n",
      "Retrieved top 1000 for 61_7\n",
      "Computing distances and coverage!\n",
      "Finished for Rb hat!\n",
      "Query Num 1\n"
     ]
    },
    {
     "name": "stderr",
     "output_type": "stream",
     "text": [
      "100%|████████████████████████████████████████████████████████████████████████████████████████████████████████████████████████████████████████████████████████████████████████████████████████████████████████████████████████████████████████| 1/1 [01:01<00:00, 61.05s/it]\n"
     ]
    },
    {
     "name": "stdout",
     "output_type": "stream",
     "text": [
      "Elapsed Time: 61.1s, Elapsed Time per query: 61052.1ms\n",
      "Finished retrieving in the big index!\n",
      "finished with qid:  61_7\n",
      "Processing qid: 61_8\n",
      "Query Num 1\n"
     ]
    },
    {
     "name": "stderr",
     "output_type": "stream",
     "text": [
      "100%|████████████████████████████████████████████████████████████████████████████████████████████████████████████████████████████████████████████████████████████████████████████████████████████████████████████████████████████████████████| 1/1 [00:00<00:00, 93.32it/s]\n"
     ]
    },
    {
     "name": "stdout",
     "output_type": "stream",
     "text": [
      "Elapsed Time: 0.0s, Elapsed Time per query: 12.9ms\n",
      "Retrieved top 1000 for 61_8\n",
      "Computing distances and coverage!\n",
      "Finished for Rb hat!\n",
      "Query Num 1\n"
     ]
    },
    {
     "name": "stderr",
     "output_type": "stream",
     "text": [
      "100%|████████████████████████████████████████████████████████████████████████████████████████████████████████████████████████████████████████████████████████████████████████████████████████████████████████████████████████████████████████| 1/1 [00:29<00:00, 29.25s/it]\n"
     ]
    },
    {
     "name": "stdout",
     "output_type": "stream",
     "text": [
      "Elapsed Time: 29.3s, Elapsed Time per query: 29257.1ms\n",
      "Finished retrieving in the big index!\n",
      "finished with qid:  61_8\n",
      "Processing qid: 61_9\n",
      "Query Num 1\n"
     ]
    },
    {
     "name": "stderr",
     "output_type": "stream",
     "text": [
      "100%|████████████████████████████████████████████████████████████████████████████████████████████████████████████████████████████████████████████████████████████████████████████████████████████████████████████████████████████████████████| 1/1 [00:00<00:00, 91.18it/s]\n"
     ]
    },
    {
     "name": "stdout",
     "output_type": "stream",
     "text": [
      "Elapsed Time: 0.0s, Elapsed Time per query: 13.2ms\n",
      "Retrieved top 1000 for 61_9\n",
      "Computing distances and coverage!\n",
      "Finished for Rb hat!\n",
      "Query Num 1\n"
     ]
    },
    {
     "name": "stderr",
     "output_type": "stream",
     "text": [
      "100%|████████████████████████████████████████████████████████████████████████████████████████████████████████████████████████████████████████████████████████████████████████████████████████████████████████████████████████████████████████| 1/1 [01:03<00:00, 63.37s/it]\n"
     ]
    },
    {
     "name": "stdout",
     "output_type": "stream",
     "text": [
      "Elapsed Time: 63.4s, Elapsed Time per query: 63372.6ms\n",
      "Finished retrieving in the big index!\n",
      "finished with qid:  61_9\n",
      "Starting conv:  67\n",
      "Query Num 1\n"
     ]
    },
    {
     "name": "stderr",
     "output_type": "stream",
     "text": [
      "100%|████████████████████████████████████████████████████████████████████████████████████████████████████████████████████████████████████████████████████████████████████████████████████████████████████████████████████████████████████████| 1/1 [01:01<00:00, 61.34s/it]\n"
     ]
    },
    {
     "name": "stdout",
     "output_type": "stream",
     "text": [
      "Elapsed Time: 61.3s, Elapsed Time per query: 61346.6ms\n",
      "embedding shape: (10000, 768)\n",
      "(10000,) int64\n",
      "Create cache for:  67\n",
      "Processing qid: 67_2\n",
      "Query Num 1\n"
     ]
    },
    {
     "name": "stderr",
     "output_type": "stream",
     "text": [
      "100%|████████████████████████████████████████████████████████████████████████████████████████████████████████████████████████████████████████████████████████████████████████████████████████████████████████████████████████████████████████| 1/1 [00:00<00:00, 98.70it/s]\n"
     ]
    },
    {
     "name": "stdout",
     "output_type": "stream",
     "text": [
      "Elapsed Time: 0.0s, Elapsed Time per query: 13.9ms\n",
      "Retrieved top 1000 for 67_2\n",
      "Computing distances and coverage!\n",
      "Finished for Rb hat!\n",
      "Query Num 1\n"
     ]
    },
    {
     "name": "stderr",
     "output_type": "stream",
     "text": [
      "100%|████████████████████████████████████████████████████████████████████████████████████████████████████████████████████████████████████████████████████████████████████████████████████████████████████████████████████████████████████████| 1/1 [00:56<00:00, 56.38s/it]\n"
     ]
    },
    {
     "name": "stdout",
     "output_type": "stream",
     "text": [
      "Elapsed Time: 56.4s, Elapsed Time per query: 56380.0ms\n",
      "Finished retrieving in the big index!\n",
      "finished with qid:  67_2\n",
      "Processing qid: 67_3\n",
      "Query Num 1\n"
     ]
    },
    {
     "name": "stderr",
     "output_type": "stream",
     "text": [
      "100%|████████████████████████████████████████████████████████████████████████████████████████████████████████████████████████████████████████████████████████████████████████████████████████████████████████████████████████████████████████| 1/1 [00:00<00:00, 82.57it/s]\n"
     ]
    },
    {
     "name": "stdout",
     "output_type": "stream",
     "text": [
      "Elapsed Time: 0.0s, Elapsed Time per query: 15.8ms\n",
      "Retrieved top 1000 for 67_3\n",
      "Computing distances and coverage!\n",
      "Finished for Rb hat!\n",
      "Query Num 1\n"
     ]
    },
    {
     "name": "stderr",
     "output_type": "stream",
     "text": [
      "100%|████████████████████████████████████████████████████████████████████████████████████████████████████████████████████████████████████████████████████████████████████████████████████████████████████████████████████████████████████████| 1/1 [00:33<00:00, 33.86s/it]\n"
     ]
    },
    {
     "name": "stdout",
     "output_type": "stream",
     "text": [
      "Elapsed Time: 33.9s, Elapsed Time per query: 33865.4ms\n",
      "Finished retrieving in the big index!\n",
      "finished with qid:  67_3\n",
      "Processing qid: 67_4\n",
      "Query Num 1\n"
     ]
    },
    {
     "name": "stderr",
     "output_type": "stream",
     "text": [
      "100%|████████████████████████████████████████████████████████████████████████████████████████████████████████████████████████████████████████████████████████████████████████████████████████████████████████████████████████████████████████| 1/1 [00:00<00:00, 92.47it/s]\n"
     ]
    },
    {
     "name": "stdout",
     "output_type": "stream",
     "text": [
      "Elapsed Time: 0.0s, Elapsed Time per query: 13.9ms\n",
      "Retrieved top 1000 for 67_4\n",
      "Computing distances and coverage!\n",
      "Finished for Rb hat!\n",
      "Query Num 1\n"
     ]
    },
    {
     "name": "stderr",
     "output_type": "stream",
     "text": [
      "100%|████████████████████████████████████████████████████████████████████████████████████████████████████████████████████████████████████████████████████████████████████████████████████████████████████████████████████████████████████████| 1/1 [01:03<00:00, 63.45s/it]\n"
     ]
    },
    {
     "name": "stdout",
     "output_type": "stream",
     "text": [
      "Elapsed Time: 63.5s, Elapsed Time per query: 63451.3ms\n",
      "Finished retrieving in the big index!\n",
      "finished with qid:  67_4\n",
      "Processing qid: 67_5\n",
      "Query Num 1\n"
     ]
    },
    {
     "name": "stderr",
     "output_type": "stream",
     "text": [
      "100%|████████████████████████████████████████████████████████████████████████████████████████████████████████████████████████████████████████████████████████████████████████████████████████████████████████████████████████████████████████| 1/1 [00:00<00:00, 76.65it/s]\n"
     ]
    },
    {
     "name": "stdout",
     "output_type": "stream",
     "text": [
      "Elapsed Time: 0.0s, Elapsed Time per query: 16.8ms\n",
      "Retrieved top 1000 for 67_5\n",
      "Computing distances and coverage!\n",
      "Finished for Rb hat!\n",
      "Query Num 1\n"
     ]
    },
    {
     "name": "stderr",
     "output_type": "stream",
     "text": [
      "100%|████████████████████████████████████████████████████████████████████████████████████████████████████████████████████████████████████████████████████████████████████████████████████████████████████████████████████████████████████████| 1/1 [01:03<00:00, 63.50s/it]\n"
     ]
    },
    {
     "name": "stdout",
     "output_type": "stream",
     "text": [
      "Elapsed Time: 63.5s, Elapsed Time per query: 63501.1ms\n",
      "Finished retrieving in the big index!\n",
      "finished with qid:  67_5\n",
      "Processing qid: 67_6\n",
      "Query Num 1\n"
     ]
    },
    {
     "name": "stderr",
     "output_type": "stream",
     "text": [
      "100%|████████████████████████████████████████████████████████████████████████████████████████████████████████████████████████████████████████████████████████████████████████████████████████████████████████████████████████████████████████| 1/1 [00:00<00:00, 77.18it/s]\n"
     ]
    },
    {
     "name": "stdout",
     "output_type": "stream",
     "text": [
      "Elapsed Time: 0.0s, Elapsed Time per query: 15.8ms\n",
      "Retrieved top 1000 for 67_6\n",
      "Computing distances and coverage!\n",
      "Finished for Rb hat!\n",
      "Query Num 1\n"
     ]
    },
    {
     "name": "stderr",
     "output_type": "stream",
     "text": [
      "100%|████████████████████████████████████████████████████████████████████████████████████████████████████████████████████████████████████████████████████████████████████████████████████████████████████████████████████████████████████████| 1/1 [00:29<00:00, 29.23s/it]\n"
     ]
    },
    {
     "name": "stdout",
     "output_type": "stream",
     "text": [
      "Elapsed Time: 29.2s, Elapsed Time per query: 29231.8ms\n",
      "Finished retrieving in the big index!\n",
      "finished with qid:  67_6\n",
      "Processing qid: 67_7\n",
      "Query Num 1\n"
     ]
    },
    {
     "name": "stderr",
     "output_type": "stream",
     "text": [
      "100%|███████████████████████████████████████████████████████████████████████████████████████████████████████████████████████████████████████████████████████████████████████████████████████████████████████████████████████████████████████| 1/1 [00:00<00:00, 115.29it/s]\n"
     ]
    },
    {
     "name": "stdout",
     "output_type": "stream",
     "text": [
      "Elapsed Time: 0.0s, Elapsed Time per query: 11.2ms\n",
      "Retrieved top 1000 for 67_7\n",
      "Computing distances and coverage!\n",
      "Finished for Rb hat!\n",
      "Query Num 1\n"
     ]
    },
    {
     "name": "stderr",
     "output_type": "stream",
     "text": [
      "100%|████████████████████████████████████████████████████████████████████████████████████████████████████████████████████████████████████████████████████████████████████████████████████████████████████████████████████████████████████████| 1/1 [01:03<00:00, 63.08s/it]\n"
     ]
    },
    {
     "name": "stdout",
     "output_type": "stream",
     "text": [
      "Elapsed Time: 63.1s, Elapsed Time per query: 63085.6ms\n",
      "Finished retrieving in the big index!\n",
      "finished with qid:  67_7\n",
      "Processing qid: 67_8\n",
      "Query Num 1\n"
     ]
    },
    {
     "name": "stderr",
     "output_type": "stream",
     "text": [
      "100%|████████████████████████████████████████████████████████████████████████████████████████████████████████████████████████████████████████████████████████████████████████████████████████████████████████████████████████████████████████| 1/1 [00:00<00:00, 99.10it/s]\n"
     ]
    },
    {
     "name": "stdout",
     "output_type": "stream",
     "text": [
      "Elapsed Time: 0.0s, Elapsed Time per query: 12.5ms\n",
      "Retrieved top 1000 for 67_8\n",
      "Computing distances and coverage!\n",
      "Finished for Rb hat!\n",
      "Query Num 1\n"
     ]
    },
    {
     "name": "stderr",
     "output_type": "stream",
     "text": [
      "100%|████████████████████████████████████████████████████████████████████████████████████████████████████████████████████████████████████████████████████████████████████████████████████████████████████████████████████████████████████████| 1/1 [01:01<00:00, 61.06s/it]\n"
     ]
    },
    {
     "name": "stdout",
     "output_type": "stream",
     "text": [
      "Elapsed Time: 61.1s, Elapsed Time per query: 61064.2ms\n",
      "Finished retrieving in the big index!\n",
      "finished with qid:  67_8\n",
      "Processing qid: 67_9\n",
      "Query Num 1\n"
     ]
    },
    {
     "name": "stderr",
     "output_type": "stream",
     "text": [
      "100%|████████████████████████████████████████████████████████████████████████████████████████████████████████████████████████████████████████████████████████████████████████████████████████████████████████████████████████████████████████| 1/1 [00:00<00:00, 92.40it/s]\n"
     ]
    },
    {
     "name": "stdout",
     "output_type": "stream",
     "text": [
      "Elapsed Time: 0.0s, Elapsed Time per query: 14.6ms\n",
      "Retrieved top 1000 for 67_9\n",
      "Computing distances and coverage!\n",
      "Finished for Rb hat!\n",
      "Query Num 1\n"
     ]
    },
    {
     "name": "stderr",
     "output_type": "stream",
     "text": [
      "100%|████████████████████████████████████████████████████████████████████████████████████████████████████████████████████████████████████████████████████████████████████████████████████████████████████████████████████████████████████████| 1/1 [01:00<00:00, 60.73s/it]\n"
     ]
    },
    {
     "name": "stdout",
     "output_type": "stream",
     "text": [
      "Elapsed Time: 60.7s, Elapsed Time per query: 60734.3ms\n",
      "Finished retrieving in the big index!\n",
      "finished with qid:  67_9\n",
      "Processing qid: 67_10\n",
      "Query Num 1\n"
     ]
    },
    {
     "name": "stderr",
     "output_type": "stream",
     "text": [
      "100%|███████████████████████████████████████████████████████████████████████████████████████████████████████████████████████████████████████████████████████████████████████████████████████████████████████████████████████████████████████| 1/1 [00:00<00:00, 115.44it/s]\n"
     ]
    },
    {
     "name": "stdout",
     "output_type": "stream",
     "text": [
      "Elapsed Time: 0.0s, Elapsed Time per query: 13.4ms\n",
      "Retrieved top 1000 for 67_10\n",
      "Computing distances and coverage!\n",
      "Finished for Rb hat!\n",
      "Query Num 1\n"
     ]
    },
    {
     "name": "stderr",
     "output_type": "stream",
     "text": [
      "100%|████████████████████████████████████████████████████████████████████████████████████████████████████████████████████████████████████████████████████████████████████████████████████████████████████████████████████████████████████████| 1/1 [00:29<00:00, 29.42s/it]\n"
     ]
    },
    {
     "name": "stdout",
     "output_type": "stream",
     "text": [
      "Elapsed Time: 29.4s, Elapsed Time per query: 29423.8ms\n",
      "Finished retrieving in the big index!\n",
      "finished with qid:  67_10\n",
      "Processing qid: 67_11\n",
      "Query Num 1\n"
     ]
    },
    {
     "name": "stderr",
     "output_type": "stream",
     "text": [
      "100%|████████████████████████████████████████████████████████████████████████████████████████████████████████████████████████████████████████████████████████████████████████████████████████████████████████████████████████████████████████| 1/1 [00:00<00:00, 85.82it/s]\n"
     ]
    },
    {
     "name": "stdout",
     "output_type": "stream",
     "text": [
      "Elapsed Time: 0.0s, Elapsed Time per query: 15.3ms\n",
      "Retrieved top 1000 for 67_11\n",
      "Computing distances and coverage!\n",
      "Finished for Rb hat!\n",
      "Query Num 1\n"
     ]
    },
    {
     "name": "stderr",
     "output_type": "stream",
     "text": [
      "100%|████████████████████████████████████████████████████████████████████████████████████████████████████████████████████████████████████████████████████████████████████████████████████████████████████████████████████████████████████████| 1/1 [01:02<00:00, 62.19s/it]\n"
     ]
    },
    {
     "name": "stdout",
     "output_type": "stream",
     "text": [
      "Elapsed Time: 62.2s, Elapsed Time per query: 62188.3ms\n",
      "Finished retrieving in the big index!\n",
      "finished with qid:  67_11\n",
      "Starting conv:  68\n",
      "Query Num 1\n"
     ]
    },
    {
     "name": "stderr",
     "output_type": "stream",
     "text": [
      "100%|████████████████████████████████████████████████████████████████████████████████████████████████████████████████████████████████████████████████████████████████████████████████████████████████████████████████████████████████████████| 1/1 [01:01<00:00, 61.84s/it]\n"
     ]
    },
    {
     "name": "stdout",
     "output_type": "stream",
     "text": [
      "Elapsed Time: 61.8s, Elapsed Time per query: 61841.1ms\n",
      "embedding shape: (10000, 768)\n",
      "(10000,) int64\n",
      "Create cache for:  68\n",
      "Processing qid: 68_2\n",
      "Query Num 1\n"
     ]
    },
    {
     "name": "stderr",
     "output_type": "stream",
     "text": [
      "100%|███████████████████████████████████████████████████████████████████████████████████████████████████████████████████████████████████████████████████████████████████████████████████████████████████████████████████████████████████████| 1/1 [00:00<00:00, 100.85it/s]\n"
     ]
    },
    {
     "name": "stdout",
     "output_type": "stream",
     "text": [
      "Elapsed Time: 0.0s, Elapsed Time per query: 13.5ms\n",
      "Retrieved top 1000 for 68_2\n",
      "Computing distances and coverage!\n",
      "Finished for Rb hat!\n",
      "Query Num 1\n"
     ]
    },
    {
     "name": "stderr",
     "output_type": "stream",
     "text": [
      "  0%|                                                                                                                                                                                                                                                | 0/1 [00:00<?, ?it/s]"
     ]
    }
   ],
   "source": [
    "# conv_ids = set([x.split(\"_\")[0] for x in qid2newqid_dict.keys()]) # this has all but we don't need all, just the ones in qrel\n",
    "# conv in qrel: subset of all conv\n",
    "conv_qrel_int = [31, 32, 33, 34, 37, 40, 49, 50, 54, 56, 58, 59, 61, 67, 68, 69, 75, 77, 78, 79]\n",
    "conv_qrel = [str(x) for x in conv_qrel_int]\n",
    "\n",
    "\n",
    "results_list = []  # top1000 rankings for each query of the conversation from the CACHE index\n",
    "coverage1 = {} # top10 ranking for each query from the BIG index\n",
    "coverage2 = {} # list of triples (3,5,10) for each qb\n",
    "\n",
    "for conv_id in conv_qrel: # iterate over the conversations\n",
    "    \n",
    "    print(\"Starting conv: \" , conv_id)\n",
    "    \n",
    "    # ALL QA\n",
    "    # Create index for first query and retrieve nearest neighbours - top 2000\n",
    "    index_conv, nearest_neighbors, cache_radius_dict = create_conv_cache(conv_id, qid2newqid_dict, \n",
    "                                                                         qid2offset, query_embeddings, \n",
    "                                                                         doc_embeddings, index, topk, \n",
    "                                                                         cache_radius_dict)\n",
    "    print(\"Create cache for: \", conv_id)\n",
    "    \n",
    "    # save docs for qa for coverage\n",
    "    retrieved_qa = nearest_neighbors[0]\n",
    "        \n",
    "    # first  query id & embedding\n",
    "    first_qid = conv_id + \"_1\"\n",
    "    first_newqid = qid2newqid_dict[first_qid] #added first\n",
    "    first_qid_offset = qid2offset[first_newqid]\n",
    "    \n",
    "    # save results - top 1000 for first conv query qa\n",
    "    for idx, pid in enumerate(nearest_neighbors[0][:1000]):\n",
    "        results_list.append((first_qid_offset, pid, idx+1))\n",
    "    \n",
    "    # prendere il memmap di qa\n",
    "    first_query_emb = query_embeddings[first_qid_offset].reshape(1, 768)\n",
    "    \n",
    "    # for each utt in the rest of the conv: qb\n",
    "    for qid in qid2newqid_dict.keys():\n",
    "        if not qid.endswith(\"_1\") and qid.startswith(conv_id):\n",
    "            print(\"Processing qid:\", qid)\n",
    "            # select query embedding\n",
    "            newqid = qid2newqid_dict[qid]\n",
    "            qid_offset = qid2offset[newqid]\n",
    "            # prendere il memmap\n",
    "            query_emb = query_embeddings[qid_offset].reshape(1, 768)\n",
    "            \n",
    "            # retrieve docs for qb\n",
    "            faiss.omp_set_num_threads(16) #32\n",
    "            nearest_neighbors = index_retrieve(index_conv, query_emb, 1000, batch=32)\n",
    "            print(\"Retrieved top 1000 for\", qid)\n",
    "            \n",
    "            # save results - top1000, for qb\n",
    "            for idx, pid in enumerate(nearest_neighbors[0]):\n",
    "                results_list.append((qid_offset, pid, idx+1))\n",
    "            \n",
    "            print(\"Computing distances and coverage!\")\n",
    "            #### Compute DISTANCES rb_hat\n",
    "            \n",
    "            # compute distance between qb and qa\n",
    "            query_distance_dict[qid] = l2_distance(query_emb, first_query_emb)\n",
    "            \n",
    "            # compute rb_capuccio = ra - d(qb, qa)\n",
    "            diff_distance_dict[qid] = cache_radius_dict[first_qid] - query_distance_dict[qid]\n",
    "            \n",
    "            #### Compute COVERAGE \n",
    "            # Cov1 - intersezione tra Ba ed Bb_hat\n",
    "            # distance between qb and each doc in top1000 from cache and check if < rb_hat\n",
    "            # put them in a list - exact match - and intersect with top k in cache\n",
    "            retrieved_qb_in_rb_hat = []\n",
    "            small_doc_emb = doc_embeddings[nearest_neighbors[0]]\n",
    "            for doc_id, doc_emb in zip(nearest_neighbors[0], small_doc_emb):\n",
    "                if l2_distance(query_emb, doc_emb) < diff_distance_dict[qid]:\n",
    "                    retrieved_qb_in_rb_hat.append(doc_id)\n",
    "            coverage1[qid]=len(retrieved_qb_in_rb_hat)\n",
    "            print(\"Finished for Rb hat!\")\n",
    "            \n",
    "            #### Compute DISTANCES rb\n",
    "            \n",
    "            #compute distance between qb and the last retrieved doc from INDEX\n",
    "            first_10_docs = index_retrieve(index, query_emb, 10, batch=32)\n",
    "            # 3 raggi rb per 3,5,10\n",
    "            rb_dist_list = []\n",
    "            for i in [3,5,10]:\n",
    "                last_doc_embedding = doc_embeddings[first_10_docs[0][i-1]]\n",
    "                dist_rb = l2_distance(query_emb, last_doc_embedding)\n",
    "                rb_dist_list.append(dist_rb)\n",
    "            query_radius_dict[qid] = rb_dist_list\n",
    "            print(\"Finished retrieving in the big index!\")\n",
    "            \n",
    "            # save top10 for qb in INDEX\n",
    "            results_list_rb= first_10_docs[0][:10]\n",
    "            result_list_qb_in_cache = nearest_neighbors[0][:10]\n",
    "        \n",
    "            #### Compute COVERAGE          \n",
    "            # Cov2 - intersezione tra risultati di query qb top 1000 su cache e query qb su indice per k=3,5,10\n",
    "            num_intersection = []\n",
    "            for cut_off in [3,5,10]:\n",
    "                elem_in_common = set(results_list_rb[:cut_off]).intersection(result_list_qb_in_cache[:cut_off])\n",
    "                num_intersection.append(len(elem_in_common))\n",
    "            coverage2[qid] = num_intersection\n",
    "            \n",
    "            print(\"finished with qid: \", qid)"
   ]
  },
  {
   "cell_type": "code",
   "execution_count": null,
   "id": "c1db43b0-3ee0-48ed-8616-adb5a338b370",
   "metadata": {},
   "outputs": [],
   "source": [
    "len(results_list)"
   ]
  },
  {
   "cell_type": "code",
   "execution_count": null,
   "id": "b95e7722-ce79-48d6-841c-9357f7da1a1b",
   "metadata": {},
   "outputs": [],
   "source": [
    "# convert ids to original\n",
    "with open(\"/data3/muntean/conversational-cache/data/star-ranking/CAST-manual-queries-star-L2-ranking-top1000-cache-top\"+str(topk)+\"-first-utt.bak.tsv\", 'w') as outputfile:\n",
    "    for (qid, pid, idx) in results_list:\n",
    "        \n",
    "        new_qid = offset2qid[qid]\n",
    "        orig_qid = newqid2qid_dict[new_qid]\n",
    "        \n",
    "        new_pid = offset2pid[pid]\n",
    "        orig_pid = newpid2pid_dict[new_pid]\n",
    "        \n",
    "        outputfile.write(f\"{orig_qid}\\t{orig_pid}\\t{idx}\\n\")"
   ]
  },
  {
   "cell_type": "markdown",
   "id": "88f891e1-a592-4ea6-9245-966e59aa2dee",
   "metadata": {
    "tags": []
   },
   "source": [
    "# Eval results"
   ]
  },
  {
   "cell_type": "code",
   "execution_count": null,
   "id": "420e75ce-8ca7-4097-8ebf-22c9c50cabb4",
   "metadata": {},
   "outputs": [],
   "source": [
    "# import pyterrier as pt\n",
    "# pt.init()"
   ]
  },
  {
   "cell_type": "code",
   "execution_count": null,
   "id": "8a43705f-a26e-4b0e-ac47-c17e764a32ee",
   "metadata": {},
   "outputs": [],
   "source": [
    "qrel_path = \"../data/CAST_qrels/qrels-docs.2019.txt\"\n",
    "qrels_df = pd.read_csv(qrel_path, delimiter=\" \", header=None)\n",
    "qrels_df[[3]] = qrels_df[[3]].astype(int)\n",
    "qrels_df = qrels_df.drop([1], axis=1)\n",
    "qrels_df.columns=[\"qid\", \"docno\", \"label\"]\n",
    "qrels = qrels_df"
   ]
  },
  {
   "cell_type": "code",
   "execution_count": null,
   "id": "fa18fb4e-d621-4ee3-bee5-6ae288742ab4",
   "metadata": {},
   "outputs": [],
   "source": [
    "topics_path='../data/CAST-2019/test_manual_utterance.tsv' #manual\n",
    "\n",
    "topics_df = pd.read_csv(topics_path, delimiter=\"\\t\", header=None)\n",
    "topics_df.columns=[\"qid\", \"query\"]\n",
    "topics = topics_df\n",
    "topics.head()"
   ]
  },
  {
   "cell_type": "code",
   "execution_count": null,
   "id": "3fb09f29-89af-4c8f-9def-080ba06eb30d",
   "metadata": {},
   "outputs": [],
   "source": [
    "results_path = \"../data/star-ranking/CAST-manual-queries-star-L2-ranking-top1000-cache-top\"+str(topk)+\"-first-utt.bak.tsv\"\n",
    "results_df = pd.read_csv(results_path, delimiter=\"\\t\", header=None)\n",
    "results_df[3] = 1000-results_df[2]\n",
    "results_df.columns=[\"qid\", \"docno\", \"rank\", \"score\"]\n",
    "results_df.head()\n",
    "# Results produced by the transformers must have “qid”, “docno”, “score”, “rank” columns."
   ]
  },
  {
   "cell_type": "code",
   "execution_count": null,
   "id": "f1d8219c-375a-4388-9ea7-c2b1390d03a1",
   "metadata": {},
   "outputs": [],
   "source": [
    "%%time\n",
    "pt.Experiment([results_df], topics, qrels, names=[\"STAR\"], \n",
    "              eval_metrics=[\"map\", \"recip_rank\", \"recall_200\", \"P_3\", \"P_1\", \"ndcg_cut_3\"])"
   ]
  },
  {
   "cell_type": "code",
   "execution_count": 38,
   "id": "737f6f77-5186-4a8f-96df-927f989b5511",
   "metadata": {},
   "outputs": [],
   "source": [
    "# %%time\n",
    "# res_per_query = pt.Experiment([results_df], topics, qrels, names=[\"STAR\"], \n",
    "#               eval_metrics=[\"map\", \"recip_rank\", \"recall_200\", \"P_3\", \"P_1\", \"ndcg_cut_3\"], perquery=True)"
   ]
  },
  {
   "cell_type": "code",
   "execution_count": 75,
   "id": "15a21ce0-a87d-4f8b-a27d-25c9ea5eab7c",
   "metadata": {},
   "outputs": [],
   "source": [
    "# res_per_query"
   ]
  },
  {
   "cell_type": "markdown",
   "id": "04d09717-be37-406e-be37-6c80a00e8c82",
   "metadata": {
    "tags": []
   },
   "source": [
    "# Explore the dictionaries"
   ]
  },
  {
   "cell_type": "code",
   "execution_count": null,
   "id": "08403465-1618-4bbe-93f5-d357fe71ddb1",
   "metadata": {},
   "outputs": [],
   "source": [
    "# distance dicts\n",
    "\n",
    "# cache_radius_dict = dict() # between first utterance (qi) and last retrieved doc from the big index\n",
    "# query_distance_dict = dict() # distance between the first (qi) and the rest of utterances of the conversation (q)\n",
    "# query_radius_dict = dict() # between current utterance (q) and last retrieved doc from the big index for top-k = 3,5,10\n",
    "# diff_distance_dict = dict() # rbcapuccio = rqi - d(q, qi)"
   ]
  },
  {
   "cell_type": "markdown",
   "id": "d4af1723-fd03-4a69-9e5d-32286b66bc13",
   "metadata": {},
   "source": [
    "## save into .tsv files"
   ]
  },
  {
   "cell_type": "code",
   "execution_count": 27,
   "id": "da2439d4-56eb-4176-9ed4-2032f73fd864",
   "metadata": {},
   "outputs": [
    {
     "name": "stdout",
     "output_type": "stream",
     "text": [
      "Stored 'cache_radius_dict' (dict)\n"
     ]
    }
   ],
   "source": [
    "cache_radius_dict\n",
    "%store cache_radius_dict"
   ]
  },
  {
   "cell_type": "code",
   "execution_count": null,
   "id": "fe36e661-38d3-4b5d-b489-cb714e0ef97d",
   "metadata": {},
   "outputs": [],
   "source": [
    "with open('../data/adore-star-ranking/cache-radius-adore-star-L2-ranking-top1000-cache-top'+str(topk)+'.tsv', 'w+') as fout:\n",
    "    for i in cache_radius_dict:\n",
    "        fout.write((i)+\"\\t\"+str(cache_radius_dict[i])+\"\\n\")"
   ]
  },
  {
   "cell_type": "code",
   "execution_count": 28,
   "id": "fd9df1a1-80cb-40d8-b905-61aa615fac58",
   "metadata": {},
   "outputs": [
    {
     "name": "stdout",
     "output_type": "stream",
     "text": [
      "Stored 'query_distance_dict' (dict)\n"
     ]
    }
   ],
   "source": [
    "query_distance_dict\n",
    "%store query_distance_dict"
   ]
  },
  {
   "cell_type": "code",
   "execution_count": null,
   "id": "c45904f3-650b-4f46-9ec0-7a724ce1db9a",
   "metadata": {},
   "outputs": [],
   "source": [
    "with open('../data/adore-star-ranking/query-dist-adore-star-L2-ranking-top1000-cache-top'+str(topk)+'.tsv', 'w+') as fout:\n",
    "    for i in query_distance_dict:\n",
    "        fout.write((i)+\"\\t\"+str(query_distance_dict[i])+\"\\n\")"
   ]
  },
  {
   "cell_type": "code",
   "execution_count": 29,
   "id": "17facbce-42fb-4f93-ba83-0a2f942bb2f2",
   "metadata": {},
   "outputs": [
    {
     "name": "stdout",
     "output_type": "stream",
     "text": [
      "Stored 'query_radius_dict' (dict)\n"
     ]
    }
   ],
   "source": [
    "query_radius_dict # in the big index\n",
    "%store query_radius_dict"
   ]
  },
  {
   "cell_type": "code",
   "execution_count": null,
   "id": "8ad56a3a-21ae-4922-b7c0-ab01859a8237",
   "metadata": {},
   "outputs": [],
   "source": [
    "with open('../data/adore-star-ranking/query-radius-adore-star-L2-ranking-top1000-cache-top'+str(topk)+'.tsv', 'w+') as fout:\n",
    "    for i in query_radius_dict:\n",
    "        fout.write(str(i)+\"\\t\"+str(query_radius_dict[i])+\"\\n\")"
   ]
  },
  {
   "cell_type": "code",
   "execution_count": 44,
   "id": "d6f97a9a-7112-4d15-bb2c-2139a5932df0",
   "metadata": {},
   "outputs": [
    {
     "data": {
      "text/plain": [
       "{'31_2': 1.1922746,\n",
       " '31_3': -0.28006983,\n",
       " '31_4': 0.024394512,\n",
       " '31_5': 0.6538353,\n",
       " '31_6': 2.1069584,\n",
       " '31_7': 0.46484995,\n",
       " '31_8': 0.54337215,\n",
       " '31_9': 0.9853544,\n",
       " '32_2': 1.0498905,\n",
       " '32_3': -0.40476704,\n",
       " '32_4': 0.06253052,\n",
       " '32_5': -0.28178406,\n",
       " '32_6': -2.899055,\n",
       " '32_7': -1.0418816,\n",
       " '32_8': -0.9443598,\n",
       " '32_9': -1.1089778,\n",
       " '32_10': -1.1165481,\n",
       " '32_11': -0.3880849,\n",
       " '33_2': 3.1122327,\n",
       " '33_3': 1.0197573,\n",
       " '33_4': 1.5657752,\n",
       " '33_5': 1.7771974,\n",
       " '33_6': 1.6857264,\n",
       " '33_7': 1.8940551,\n",
       " '33_8': 2.043764,\n",
       " '33_9': 1.3270102,\n",
       " '33_10': -2.8636627,\n",
       " '34_2': 2.0680525,\n",
       " '34_3': 2.1345227,\n",
       " '34_4': 1.4963417,\n",
       " '34_5': 2.282047,\n",
       " '34_6': 1.2865701,\n",
       " '34_7': 1.4457664,\n",
       " '34_8': 1.1338959,\n",
       " '34_9': 1.9562111,\n",
       " '37_2': 3.608572,\n",
       " '37_3': 2.2854183,\n",
       " '37_4': 2.2847168,\n",
       " '37_5': 2.673964,\n",
       " '37_6': -0.9204898,\n",
       " '37_7': -1.4266291,\n",
       " '37_8': 1.0603819,\n",
       " '37_9': -0.9671798,\n",
       " '37_10': -0.8802271,\n",
       " '37_11': -0.80972195,\n",
       " '37_12': -0.78487635,\n",
       " '40_2': 0.89891815,\n",
       " '40_3': 0.6096163,\n",
       " '40_4': 0.14829683,\n",
       " '40_5': -0.23018122,\n",
       " '40_6': 0.20576191,\n",
       " '40_7': -0.488101,\n",
       " '40_8': -1.5450535,\n",
       " '40_9': -1.1530132,\n",
       " '40_10': -0.1789217,\n",
       " '49_2': 1.9733472,\n",
       " '49_3': -0.43969727,\n",
       " '49_4': 1.0194917,\n",
       " '49_5': -1.0444355,\n",
       " '49_6': -0.24592352,\n",
       " '49_7': -0.0026831627,\n",
       " '49_8': 0.93152046,\n",
       " '49_9': -0.06107807,\n",
       " '49_10': -0.17516708,\n",
       " '50_2': -0.5068793,\n",
       " '50_3': 0.5452547,\n",
       " '50_4': -0.84254885,\n",
       " '50_5': -3.1913795,\n",
       " '50_6': -2.7765312,\n",
       " '50_7': -3.0427637,\n",
       " '50_8': -3.0961828,\n",
       " '50_9': -2.9480743,\n",
       " '50_10': -2.9094143,\n",
       " '54_2': 0.63962936,\n",
       " '54_3': -1.4369555,\n",
       " '54_4': -0.108822346,\n",
       " '54_5': 0.9886379,\n",
       " '54_6': 0.57372046,\n",
       " '54_7': 0.73256683,\n",
       " '54_8': -2.159679,\n",
       " '54_9': -1.5740376,\n",
       " '56_2': 2.0608997,\n",
       " '56_3': 0.12637424,\n",
       " '56_4': 0.97057056,\n",
       " '56_5': 1.3250155,\n",
       " '56_6': 0.8758974,\n",
       " '56_7': -1.7470002,\n",
       " '56_8': 0.6011529,\n",
       " '58_2': 2.483809,\n",
       " '58_3': 1.4125643,\n",
       " '58_4': 1.2129993,\n",
       " '58_5': 2.0665872,\n",
       " '58_6': 1.1958337,\n",
       " '58_7': -1.3137517,\n",
       " '58_8': -0.642262,\n",
       " '59_2': 0.018852234,\n",
       " '59_3': -3.2373343,\n",
       " '59_4': -2.1461258,\n",
       " '59_5': -2.510476,\n",
       " '59_6': -2.4557066,\n",
       " '59_7': -1.2679138,\n",
       " '59_8': 0.15724659,\n",
       " '61_2': 1.1394181,\n",
       " '61_3': 1.5600982,\n",
       " '61_4': 0.55803347,\n",
       " '61_5': -0.14690876,\n",
       " '61_6': -1.8347044,\n",
       " '61_7': -1.8558178,\n",
       " '61_8': -1.819046,\n",
       " '61_9': -0.18148232,\n",
       " '67_2': 1.0589414,\n",
       " '67_3': 0.5989752,\n",
       " '67_4': -0.73309755,\n",
       " '67_5': -0.7776499,\n",
       " '67_6': -0.9050298,\n",
       " '67_7': -1.581317,\n",
       " '67_8': -0.62074804,\n",
       " '67_9': -1.0700727,\n",
       " '67_10': -1.1830735,\n",
       " '67_11': -2.5714335,\n",
       " '68_2': 1.4326105,\n",
       " '68_3': 3.0148246,\n",
       " '68_4': -2.0181217,\n",
       " '68_5': -1.6959076,\n",
       " '68_6': -1.351274,\n",
       " '68_7': -1.9025998,\n",
       " '68_8': -1.8578,\n",
       " '68_9': 2.179445,\n",
       " '68_10': -0.69229126,\n",
       " '68_11': -0.7485366,\n",
       " '69_2': 0.6933098,\n",
       " '69_3': -1.9119825,\n",
       " '69_4': -1.3103004,\n",
       " '69_5': -1.0702114,\n",
       " '69_6': -0.7139168,\n",
       " '69_7': -1.5450039,\n",
       " '69_8': -1.3534732,\n",
       " '69_9': -0.51392174,\n",
       " '69_10': -0.91343546,\n",
       " '75_2': 0.0593462,\n",
       " '75_3': 0.16449404,\n",
       " '75_4': -0.35660458,\n",
       " '75_5': -0.5353017,\n",
       " '75_6': -0.07764673,\n",
       " '75_7': -0.9362531,\n",
       " '75_8': 0.53248024,\n",
       " '75_9': 0.060636997,\n",
       " '75_10': -0.24741125,\n",
       " '77_2': -0.0044994354,\n",
       " '77_3': 0.20652199,\n",
       " '77_4': -1.3792286,\n",
       " '77_5': -1.8681965,\n",
       " '77_6': -2.7144294,\n",
       " '77_7': -2.1934018,\n",
       " '77_8': -1.571538,\n",
       " '77_9': -1.5404725,\n",
       " '77_10': -1.0101547,\n",
       " '78_2': 1.0849371,\n",
       " '78_3': 1.0887256,\n",
       " '78_4': 0.25191307,\n",
       " '78_5': 1.0095754,\n",
       " '78_6': 1.1143427,\n",
       " '78_7': -1.6119003,\n",
       " '78_8': 0.08079052,\n",
       " '78_9': -2.3707862,\n",
       " '78_10': -1.0924959,\n",
       " '79_2': -1.5613089,\n",
       " '79_3': -0.26709032,\n",
       " '79_4': -1.3930979,\n",
       " '79_5': -2.686779,\n",
       " '79_6': -0.6335645,\n",
       " '79_7': -1.1361909,\n",
       " '79_8': -2.2359638,\n",
       " '79_9': -2.3384929}"
      ]
     },
     "execution_count": 44,
     "metadata": {},
     "output_type": "execute_result"
    }
   ],
   "source": [
    "diff_distance_dict"
   ]
  },
  {
   "cell_type": "code",
   "execution_count": null,
   "id": "a86e6b4c-619d-456b-a646-18fc51180cb3",
   "metadata": {},
   "outputs": [],
   "source": [
    "with open('../data/adore-star-ranking/rbhat-adore-star-L2-ranking-top1000-cache-top'+str(topk)+'.tsv', 'w+') as fout:\n",
    "    for i in diff_distance_dict:\n",
    "        fout.write(str(i)+\"\\t\"+str(diff_distance_dict[i])+\"\\n\")"
   ]
  },
  {
   "cell_type": "code",
   "execution_count": 40,
   "id": "b217b4c7-0efa-45c3-88c6-abbafc0c11aa",
   "metadata": {},
   "outputs": [
    {
     "data": {
      "text/plain": [
       "{'31_2': 0,\n",
       " '31_3': 0,\n",
       " '31_4': 0,\n",
       " '31_5': 0,\n",
       " '31_6': 0,\n",
       " '31_7': 0,\n",
       " '31_8': 0,\n",
       " '31_9': 0,\n",
       " '32_2': 0,\n",
       " '32_3': 0,\n",
       " '32_4': 0,\n",
       " '32_5': 0,\n",
       " '32_6': 0,\n",
       " '32_7': 0,\n",
       " '32_8': 0,\n",
       " '32_9': 0,\n",
       " '32_10': 0,\n",
       " '32_11': 0,\n",
       " '33_2': 0,\n",
       " '33_3': 0,\n",
       " '33_4': 0,\n",
       " '33_5': 0,\n",
       " '33_6': 0,\n",
       " '33_7': 0,\n",
       " '33_8': 0,\n",
       " '33_9': 0,\n",
       " '33_10': 0,\n",
       " '34_2': 0,\n",
       " '34_3': 0,\n",
       " '34_4': 0,\n",
       " '34_5': 0,\n",
       " '34_6': 0,\n",
       " '34_7': 0,\n",
       " '34_8': 0,\n",
       " '34_9': 0,\n",
       " '37_2': 0,\n",
       " '37_3': 0,\n",
       " '37_4': 0,\n",
       " '37_5': 0,\n",
       " '37_6': 0,\n",
       " '37_7': 0,\n",
       " '37_8': 0,\n",
       " '37_9': 0,\n",
       " '37_10': 0,\n",
       " '37_11': 0,\n",
       " '37_12': 0,\n",
       " '40_2': 0,\n",
       " '40_3': 0,\n",
       " '40_4': 0,\n",
       " '40_5': 0,\n",
       " '40_6': 0,\n",
       " '40_7': 0,\n",
       " '40_8': 0,\n",
       " '40_9': 0,\n",
       " '40_10': 0,\n",
       " '49_2': 0,\n",
       " '49_3': 0,\n",
       " '49_4': 0,\n",
       " '49_5': 0,\n",
       " '49_6': 0,\n",
       " '49_7': 0,\n",
       " '49_8': 0,\n",
       " '49_9': 0,\n",
       " '49_10': 0,\n",
       " '50_2': 0,\n",
       " '50_3': 0,\n",
       " '50_4': 0,\n",
       " '50_5': 0,\n",
       " '50_6': 0,\n",
       " '50_7': 0,\n",
       " '50_8': 0,\n",
       " '50_9': 0,\n",
       " '50_10': 0,\n",
       " '54_2': 0,\n",
       " '54_3': 0,\n",
       " '54_4': 0,\n",
       " '54_5': 0,\n",
       " '54_6': 0,\n",
       " '54_7': 0,\n",
       " '54_8': 0,\n",
       " '54_9': 0,\n",
       " '56_2': 0,\n",
       " '56_3': 0,\n",
       " '56_4': 0,\n",
       " '56_5': 0,\n",
       " '56_6': 0,\n",
       " '56_7': 0,\n",
       " '56_8': 0,\n",
       " '58_2': 0,\n",
       " '58_3': 0,\n",
       " '58_4': 0,\n",
       " '58_5': 0,\n",
       " '58_6': 0,\n",
       " '58_7': 0,\n",
       " '58_8': 0,\n",
       " '59_2': 0,\n",
       " '59_3': 0,\n",
       " '59_4': 0,\n",
       " '59_5': 0,\n",
       " '59_6': 0,\n",
       " '59_7': 0,\n",
       " '59_8': 0,\n",
       " '61_2': 0,\n",
       " '61_3': 0,\n",
       " '61_4': 0,\n",
       " '61_5': 0,\n",
       " '61_6': 0,\n",
       " '61_7': 0,\n",
       " '61_8': 0,\n",
       " '61_9': 0,\n",
       " '67_2': 0,\n",
       " '67_3': 0,\n",
       " '67_4': 0,\n",
       " '67_5': 0,\n",
       " '67_6': 0,\n",
       " '67_7': 0,\n",
       " '67_8': 0,\n",
       " '67_9': 0,\n",
       " '67_10': 0,\n",
       " '67_11': 0,\n",
       " '68_2': 0,\n",
       " '68_3': 0,\n",
       " '68_4': 0,\n",
       " '68_5': 0,\n",
       " '68_6': 0,\n",
       " '68_7': 0,\n",
       " '68_8': 0,\n",
       " '68_9': 0,\n",
       " '68_10': 0,\n",
       " '68_11': 0,\n",
       " '69_2': 0,\n",
       " '69_3': 0,\n",
       " '69_4': 0,\n",
       " '69_5': 0,\n",
       " '69_6': 0,\n",
       " '69_7': 0,\n",
       " '69_8': 0,\n",
       " '69_9': 0,\n",
       " '69_10': 0,\n",
       " '75_2': 0,\n",
       " '75_3': 0,\n",
       " '75_4': 0,\n",
       " '75_5': 0,\n",
       " '75_6': 0,\n",
       " '75_7': 0,\n",
       " '75_8': 0,\n",
       " '75_9': 0,\n",
       " '75_10': 0,\n",
       " '77_2': 0,\n",
       " '77_3': 0,\n",
       " '77_4': 0,\n",
       " '77_5': 0,\n",
       " '77_6': 0,\n",
       " '77_7': 0,\n",
       " '77_8': 0,\n",
       " '77_9': 0,\n",
       " '77_10': 0,\n",
       " '78_2': 0,\n",
       " '78_3': 0,\n",
       " '78_4': 0,\n",
       " '78_5': 0,\n",
       " '78_6': 0,\n",
       " '78_7': 0,\n",
       " '78_8': 0,\n",
       " '78_9': 0,\n",
       " '78_10': 0,\n",
       " '79_2': 0,\n",
       " '79_3': 0,\n",
       " '79_4': 0,\n",
       " '79_5': 0,\n",
       " '79_6': 0,\n",
       " '79_7': 0,\n",
       " '79_8': 0,\n",
       " '79_9': 0}"
      ]
     },
     "execution_count": 40,
     "metadata": {},
     "output_type": "execute_result"
    }
   ],
   "source": [
    "coverage1"
   ]
  },
  {
   "cell_type": "code",
   "execution_count": null,
   "id": "f3788648-aaac-44f3-851c-de70e108033e",
   "metadata": {},
   "outputs": [],
   "source": [
    "with open('../data/adore-star-ranking/garanteed-coverage-adore-star-L2-ranking-top1000-cache-top'+str(topk)+'_v2.tsv', 'w+') as fout:\n",
    "    for i in coverage1:\n",
    "        fout.write(str(i)+\"\\t\"+str(coverage1[i])+\"\\n\")"
   ]
  },
  {
   "cell_type": "code",
   "execution_count": 41,
   "id": "783147ee-3a19-4307-a0dd-407cff87e66c",
   "metadata": {},
   "outputs": [
    {
     "data": {
      "text/plain": [
       "{'31_2': [3, 5, 10],\n",
       " '31_3': [3, 5, 9],\n",
       " '31_4': [2, 4, 8],\n",
       " '31_5': [1, 2, 7],\n",
       " '31_6': [3, 5, 10],\n",
       " '31_7': [3, 5, 10],\n",
       " '31_8': [3, 5, 10],\n",
       " '31_9': [3, 5, 10],\n",
       " '32_2': [3, 5, 10],\n",
       " '32_3': [3, 5, 10],\n",
       " '32_4': [3, 5, 10],\n",
       " '32_5': [0, 2, 4],\n",
       " '32_6': [0, 0, 1],\n",
       " '32_7': [3, 5, 9],\n",
       " '32_8': [2, 4, 9],\n",
       " '32_9': [1, 3, 7],\n",
       " '32_10': [2, 2, 5],\n",
       " '32_11': [3, 5, 9],\n",
       " '33_2': [3, 5, 10],\n",
       " '33_3': [3, 5, 10],\n",
       " '33_4': [3, 5, 10],\n",
       " '33_5': [3, 5, 10],\n",
       " '33_6': [3, 5, 10],\n",
       " '33_7': [3, 5, 10],\n",
       " '33_8': [3, 5, 10],\n",
       " '33_9': [2, 4, 9],\n",
       " '33_10': [0, 0, 0],\n",
       " '34_2': [3, 5, 10],\n",
       " '34_3': [3, 5, 10],\n",
       " '34_4': [3, 5, 10],\n",
       " '34_5': [3, 5, 10],\n",
       " '34_6': [3, 5, 10],\n",
       " '34_7': [3, 5, 10],\n",
       " '34_8': [3, 5, 9],\n",
       " '34_9': [3, 5, 10],\n",
       " '37_2': [3, 5, 10],\n",
       " '37_3': [3, 5, 10],\n",
       " '37_4': [3, 5, 10],\n",
       " '37_5': [3, 5, 10],\n",
       " '37_6': [0, 0, 1],\n",
       " '37_7': [0, 0, 1],\n",
       " '37_8': [2, 3, 6],\n",
       " '37_9': [0, 0, 0],\n",
       " '37_10': [0, 0, 0],\n",
       " '37_11': [1, 1, 1],\n",
       " '37_12': [0, 0, 0],\n",
       " '40_2': [3, 5, 10],\n",
       " '40_3': [2, 2, 5],\n",
       " '40_4': [3, 5, 10],\n",
       " '40_5': [1, 3, 5],\n",
       " '40_6': [1, 3, 6],\n",
       " '40_7': [1, 3, 7],\n",
       " '40_8': [0, 0, 0],\n",
       " '40_9': [3, 5, 9],\n",
       " '40_10': [3, 5, 10],\n",
       " '49_2': [3, 5, 10],\n",
       " '49_3': [1, 3, 6],\n",
       " '49_4': [3, 5, 10],\n",
       " '49_5': [3, 4, 8],\n",
       " '49_6': [2, 3, 5],\n",
       " '49_7': [3, 5, 10],\n",
       " '49_8': [3, 5, 10],\n",
       " '49_9': [3, 3, 4],\n",
       " '49_10': [2, 2, 3],\n",
       " '50_2': [0, 0, 0],\n",
       " '50_3': [2, 4, 8],\n",
       " '50_4': [0, 0, 2],\n",
       " '50_5': [0, 0, 0],\n",
       " '50_6': [0, 0, 0],\n",
       " '50_7': [0, 0, 0],\n",
       " '50_8': [0, 0, 0],\n",
       " '50_9': [0, 0, 1],\n",
       " '50_10': [0, 0, 0],\n",
       " '54_2': [3, 5, 10],\n",
       " '54_3': [0, 0, 0],\n",
       " '54_4': [3, 3, 4],\n",
       " '54_5': [3, 5, 10],\n",
       " '54_6': [2, 2, 5],\n",
       " '54_7': [3, 5, 10],\n",
       " '54_8': [0, 0, 0],\n",
       " '54_9': [0, 1, 1],\n",
       " '56_2': [3, 5, 10],\n",
       " '56_3': [3, 5, 10],\n",
       " '56_4': [3, 5, 10],\n",
       " '56_5': [3, 5, 10],\n",
       " '56_6': [3, 5, 10],\n",
       " '56_7': [0, 0, 0],\n",
       " '56_8': [3, 5, 10],\n",
       " '58_2': [3, 5, 10],\n",
       " '58_3': [3, 5, 10],\n",
       " '58_4': [3, 5, 9],\n",
       " '58_5': [3, 5, 10],\n",
       " '58_6': [1, 3, 8],\n",
       " '58_7': [1, 1, 1],\n",
       " '58_8': [1, 1, 1],\n",
       " '59_2': [0, 1, 5],\n",
       " '59_3': [0, 0, 0],\n",
       " '59_4': [0, 0, 1],\n",
       " '59_5': [0, 0, 0],\n",
       " '59_6': [0, 0, 0],\n",
       " '59_7': [0, 0, 0],\n",
       " '59_8': [3, 5, 10],\n",
       " '61_2': [3, 5, 10],\n",
       " '61_3': [3, 5, 10],\n",
       " '61_4': [3, 4, 7],\n",
       " '61_5': [1, 1, 1],\n",
       " '61_6': [0, 0, 0],\n",
       " '61_7': [0, 0, 0],\n",
       " '61_8': [0, 0, 0],\n",
       " '61_9': [3, 4, 4],\n",
       " '67_2': [3, 5, 10],\n",
       " '67_3': [3, 5, 10],\n",
       " '67_4': [0, 1, 3],\n",
       " '67_5': [2, 3, 7],\n",
       " '67_6': [0, 0, 0],\n",
       " '67_7': [0, 0, 1],\n",
       " '67_8': [0, 2, 5],\n",
       " '67_9': [0, 0, 0],\n",
       " '67_10': [0, 0, 0],\n",
       " '67_11': [0, 0, 0],\n",
       " '68_2': [3, 5, 8],\n",
       " '68_3': [3, 5, 10],\n",
       " '68_4': [0, 0, 0],\n",
       " '68_5': [1, 2, 5],\n",
       " '68_6': [2, 4, 5],\n",
       " '68_7': [0, 0, 0],\n",
       " '68_8': [0, 0, 0],\n",
       " '68_9': [3, 5, 10],\n",
       " '68_10': [2, 4, 9],\n",
       " '68_11': [2, 4, 7],\n",
       " '69_2': [3, 4, 10],\n",
       " '69_3': [0, 0, 0],\n",
       " '69_4': [0, 0, 0],\n",
       " '69_5': [0, 0, 1],\n",
       " '69_6': [0, 0, 0],\n",
       " '69_7': [2, 4, 5],\n",
       " '69_8': [1, 1, 1],\n",
       " '69_9': [2, 2, 4],\n",
       " '69_10': [0, 2, 6],\n",
       " '75_2': [3, 5, 10],\n",
       " '75_3': [3, 5, 10],\n",
       " '75_4': [3, 5, 9],\n",
       " '75_5': [0, 0, 3],\n",
       " '75_6': [2, 3, 6],\n",
       " '75_7': [3, 5, 8],\n",
       " '75_8': [3, 5, 10],\n",
       " '75_9': [3, 5, 9],\n",
       " '75_10': [3, 5, 8],\n",
       " '77_2': [1, 1, 2],\n",
       " '77_3': [3, 5, 10],\n",
       " '77_4': [2, 2, 4],\n",
       " '77_5': [0, 0, 0],\n",
       " '77_6': [0, 0, 0],\n",
       " '77_7': [0, 0, 0],\n",
       " '77_8': [2, 2, 2],\n",
       " '77_9': [2, 2, 2],\n",
       " '77_10': [3, 4, 7],\n",
       " '78_2': [3, 5, 10],\n",
       " '78_3': [2, 5, 10],\n",
       " '78_4': [3, 5, 10],\n",
       " '78_5': [3, 5, 10],\n",
       " '78_6': [3, 5, 10],\n",
       " '78_7': [0, 0, 0],\n",
       " '78_8': [0, 0, 1],\n",
       " '78_9': [0, 0, 0],\n",
       " '78_10': [0, 0, 1],\n",
       " '79_2': [1, 1, 1],\n",
       " '79_3': [3, 5, 8],\n",
       " '79_4': [0, 0, 0],\n",
       " '79_5': [0, 0, 0],\n",
       " '79_6': [0, 0, 0],\n",
       " '79_7': [0, 0, 0],\n",
       " '79_8': [0, 0, 0],\n",
       " '79_9': [0, 0, 0]}"
      ]
     },
     "execution_count": 41,
     "metadata": {},
     "output_type": "execute_result"
    }
   ],
   "source": [
    "coverage2 # 3,5,10 between top-k "
   ]
  },
  {
   "cell_type": "code",
   "execution_count": null,
   "id": "d29b14f2-1e78-4349-b128-7d7720c76374",
   "metadata": {},
   "outputs": [],
   "source": [
    "with open('../data/adore-star-ranking/approximated-coverage-adore-star-L2-ranking-top1000-cache-top'+str(topk)+'_v2.tsv', 'w+') as fout:\n",
    "    for i in coverage2:\n",
    "        fout.write(str(i)+\"\\t\"+str(coverage2[i])+\"\\n\")"
   ]
  },
  {
   "cell_type": "code",
   "execution_count": 44,
   "id": "8cf1a559-65fa-49ca-b9a8-4d2ff49cd42d",
   "metadata": {},
   "outputs": [],
   "source": [
    "with open('../data/star-ranking/approximated-coverage-star-L2-ranking-top1000-cache-top'+str(5000)+'_first_utt.tsv.test', 'w+') as fout:\n",
    "    for qid, (a,b,c) in coverage2.items():  \n",
    "        fout.write(str(qid)+\"\\t\"+str((a,b,c))+\"\\t\"+str(diff_distance_dict[qid])+\"\\n\")"
   ]
  },
  {
   "cell_type": "code",
   "execution_count": 45,
   "id": "22146dae-f29c-4e9f-8ebf-08e22cea9756",
   "metadata": {},
   "outputs": [
    {
     "name": "stderr",
     "output_type": "stream",
     "text": [
      "  0%|                                                                                                                                                                                                                                                | 0/1 [06:51<?, ?it/s]\n"
     ]
    }
   ],
   "source": [
    "%matplotlib inline\n",
    "import matplotlib.pyplot as plt\n",
    "plt.style.use('seaborn-whitegrid')\n",
    "import numpy as np"
   ]
  },
  {
   "cell_type": "code",
   "execution_count": 46,
   "id": "001c5106-b39c-48fa-8392-04764ce8f4c8",
   "metadata": {},
   "outputs": [],
   "source": [
    "rng = np.random.RandomState(0)\n",
    "\n",
    "x = list(diff_distance_dict.values()) # rb_hat\n",
    "y = [c for (a,b,c) in coverage2.values()] # top-10 di gcov"
   ]
  },
  {
   "cell_type": "code",
   "execution_count": 47,
   "id": "bd11f81f-1cbc-4c2a-8511-f6f35f28549f",
   "metadata": {},
   "outputs": [
    {
     "data": {
      "text/plain": [
       "<matplotlib.collections.PathCollection at 0x7ecd6710b9a0>"
      ]
     },
     "execution_count": 47,
     "metadata": {},
     "output_type": "execute_result"
    },
    {
     "data": {
      "image/png": "[encoded data removed]",
      "text/plain": [
       "<Figure size 432x288 with 1 Axes>"
      ]
     },
     "metadata": {},
     "output_type": "display_data"
    }
   ],
   "source": [
    "plt.scatter(x, y, c='r', alpha=0.5, cmap='viridis')"
   ]
  },
  {
   "cell_type": "code",
   "execution_count": 50,
   "id": "afdf66c4-1235-4241-b8a4-834780c60fb5",
   "metadata": {},
   "outputs": [
    {
     "name": "stdout",
     "output_type": "stream",
     "text": [
      "[1.4491434, -0.023200989, 0.28126335, 0.91070414, 2.3638272, 0.7217188, 0.800241, 1.2422233, 1.3569245, -0.09773302, 0.36956453, 0.025249958, -2.592021, -0.73484755, -0.63732576, -0.8019438, -0.80951405, -0.08105087, 3.2127762, 1.1203008, 1.6663187, 1.8777409, 1.7862699, 1.9945986, 2.1443076, 1.4275537, -2.7631192, 2.2174704, 2.2839406, 1.6457596, 2.431465, 1.435988, 1.5951843, 1.2833138, 2.105629, 3.7660708, 2.442917, 2.4422157, 2.8314629, -0.76299095, -1.2691302, 1.2178807, -0.80968094, -0.72272825, -0.6522231, -0.6273775, 1.1048613, 0.8155594, 0.35423994, -0.02423811, 0.41170502, -0.2821579, -1.3391104, -0.9470701, 0.027021408, 2.15443, -0.25861454, 1.2005744, -0.8633528, -0.06484079, 0.17839956, 1.1126032, 0.120004654, 0.005915642, -0.3194232, 0.73271084, -0.6550927, -3.0039234, -2.589075, -2.8553076, -2.9087267, -2.7606182, -2.7219582, 0.814229, -1.2623558, 0.0657773, 1.1632376, 0.7483201, 0.9071665, -1.9850793, -1.3994379, 2.4030461, 0.46852064, 1.312717, 1.667162, 1.2180438, -1.4048538, 0.9432993, 2.631075, 1.5598302, 1.3602653, 2.2138531, 1.3430996, -1.1664858, -0.49499607, 0.16068316, -3.0955033, -2.0042949, -2.3686452, -2.3138757, -1.1260829, 0.2990775, 1.4078503, 1.8285303, 0.8264656, 0.12152338, -1.5662723, -1.5873857, -1.5506139, 0.086949825, 1.2858486, 0.82588243, -0.5061903, -0.5507426, -0.6781225, -1.3544097, -0.3938408, -0.8431654, -0.95616627, -2.3445263, 1.5925088, 3.174723, -1.8582234, -1.5360093, -1.1913757, -1.7427015, -1.6979017, 2.3393433, -0.532393, -0.5886383, 0.9261031, -1.6791892, -1.077507, -0.8374181, -0.48112345, -1.3122106, -1.1206799, -0.2811284, -0.6806421, 0.21771955, 0.3228674, -0.19823122, -0.37692833, 0.08072662, -0.7778797, 0.6908536, 0.21901035, -0.089037895, 0.2125082, 0.42352962, -1.162221, -1.6511889, -2.4974217, -1.9763942, -1.3545303, -1.3234649, -0.7931471, 1.4716315, 1.47542, 0.6386075, 1.3962698, 1.5010371, -1.2252059, 0.46748495, -1.9840918, -0.7058015, -1.3222017, -0.027983189, -1.1539907, -2.447672, -0.39445734, -0.89708376, -1.9968567, -2.0993857]\n"
     ]
    }
   ],
   "source": [
    "print(x)"
   ]
  },
  {
   "cell_type": "code",
   "execution_count": 51,
   "id": "7efee231-81bd-40f8-b89e-3aff8a8c9b82",
   "metadata": {},
   "outputs": [
    {
     "name": "stdout",
     "output_type": "stream",
     "text": [
      "[10, 9, 8, 7, 10, 10, 10, 10, 10, 10, 10, 4, 1, 9, 9, 7, 5, 9, 10, 10, 10, 10, 10, 10, 10, 9, 0, 10, 10, 10, 10, 10, 10, 9, 10, 10, 10, 10, 10, 1, 1, 6, 0, 0, 1, 0, 10, 5, 10, 5, 6, 7, 0, 9, 10, 10, 6, 10, 8, 5, 10, 10, 4, 3, 0, 8, 2, 0, 0, 0, 0, 1, 0, 10, 0, 4, 10, 5, 10, 0, 1, 10, 10, 10, 10, 10, 0, 10, 10, 10, 9, 10, 8, 1, 1, 5, 0, 1, 0, 0, 0, 10, 10, 10, 7, 1, 0, 0, 0, 4, 10, 10, 3, 7, 0, 1, 5, 0, 0, 0, 8, 10, 0, 5, 5, 0, 0, 10, 9, 7, 10, 0, 0, 1, 0, 5, 1, 4, 6, 10, 10, 9, 3, 6, 8, 10, 9, 8, 2, 10, 4, 0, 0, 0, 2, 2, 7, 10, 10, 10, 10, 10, 0, 1, 0, 1, 1, 8, 0, 0, 0, 0, 0, 0]\n"
     ]
    }
   ],
   "source": [
    "print(y)"
   ]
  },
  {
   "cell_type": "code",
   "execution_count": null,
   "id": "8fdb6010-cf09-4e99-aaf8-94a842c3303e",
   "metadata": {},
   "outputs": [],
   "source": []
  }
 ],
 "metadata": {
  "kernelspec": {
   "display_name": "DRhard",
   "language": "python",
   "name": "drhard"
  },
  "language_info": {
   "codemirror_mode": {
    "name": "ipython",
    "version": 3
   },
   "file_extension": ".py",
   "mimetype": "text/x-python",
   "name": "python",
   "nbconvert_exporter": "python",
   "pygments_lexer": "ipython3",
   "version": "3.8.12"
  }
 },
 "nbformat": 4,
 "nbformat_minor": 5
}
