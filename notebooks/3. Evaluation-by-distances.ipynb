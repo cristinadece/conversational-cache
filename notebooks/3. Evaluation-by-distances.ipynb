{
 "cells": [
  {
   "cell_type": "code",
   "execution_count": null,
   "id": "e7f6bba3-c223-4483-860f-cccb4bfba3d5",
   "metadata": {},
   "outputs": [],
   "source": [
    "import pyterrier as pt\n",
    "pt.init()"
   ]
  },
  {
   "cell_type": "markdown",
   "id": "66955ec5-0407-454a-88bf-613b91e0dcaa",
   "metadata": {},
   "source": [
    "# Load data"
   ]
  },
  {
   "cell_type": "code",
   "execution_count": null,
   "id": "bc1d3cd2-7493-4af3-a8ba-50161e3d3e09",
   "metadata": {},
   "outputs": [],
   "source": [
    "qrel_path = \"../data/CAST_qrels/qrels-docs.2019.txt\"\n",
    "qrels_df = pd.read_csv(qrel_path, delimiter=\" \", header=None)\n",
    "qrels_df[[3]] = qrels_df[[3]].astype(int)\n",
    "qrels_df = qrels_df.drop([1], axis=1)\n",
    "qrels_df.columns=[\"qid\", \"docno\", \"label\"]\n",
    "qrels = qrels_df"
   ]
  },
  {
   "cell_type": "code",
   "execution_count": null,
   "id": "7670a2a7-926e-42af-afa5-bf74f3b2e8c7",
   "metadata": {},
   "outputs": [],
   "source": [
    "topics_path='../data/CAST-2019/test_manual_utterance.tsv' #manual\n",
    "\n",
    "topics_df = pd.read_csv(topics_path, delimiter=\"\\t\", header=None)\n",
    "topics_df.columns=[\"qid\", \"query\"]\n",
    "topics = topics_df\n",
    "topics.head()"
   ]
  },
  {
   "cell_type": "markdown",
   "id": "ef7ca3c8-cfac-4bf7-91ce-c78e5cd4e7d0",
   "metadata": {},
   "source": [
    "# Read Star ranking result files"
   ]
  },
  {
   "cell_type": "code",
   "execution_count": null,
   "id": "e9b0c380-c675-4b1c-ba70-d975f773faa5",
   "metadata": {},
   "outputs": [],
   "source": [
    "topk = 2000"
   ]
  },
  {
   "cell_type": "code",
   "execution_count": null,
   "id": "2cb53cbd-29ba-4d99-97b2-0f5b4bbc2a57",
   "metadata": {},
   "outputs": [],
   "source": [
    "results_path = \"../data/star-ranking/CAST-manual-queries-star-dotp-ranking-top1000-cache-top\"+str(topk)\"-first-utt_new.tsv\"\n",
    "results_df = pd.read_csv(results_path, delimiter=\"\\t\", header=None)\n",
    "results_df[3] = 1000-results_df[2]\n",
    "results_df.columns=[\"qid\", \"docno\", \"rank\", \"score\"]\n",
    "results_df.head()\n",
    "# Results produced by the transformers must have “qid”, “docno”, “score”, “rank” columns."
   ]
  },
  {
   "cell_type": "code",
   "execution_count": null,
   "id": "81513eeb-9aa4-4081-a294-f7c560e8fa57",
   "metadata": {},
   "outputs": [],
   "source": [
    "%%time\n",
    "pt.Experiment([results_df], topics, qrels, names=[\"STAR\"], \n",
    "              eval_metrics=[\"map\", \"recip_rank\", \"recall_200\", \"P_3\", \"P_1\", \"ndcg_cut_3\"])"
   ]
  },
  {
   "cell_type": "code",
   "execution_count": null,
   "id": "4faaddbb-f340-428c-afc2-7308086a4824",
   "metadata": {},
   "outputs": [],
   "source": [
    "topk = 3000"
   ]
  },
  {
   "cell_type": "code",
   "execution_count": null,
   "id": "caac7669-3c51-41d5-8f92-f126e967717c",
   "metadata": {},
   "outputs": [],
   "source": [
    "results_path = \"../data/star-ranking/CAST-manual-queries-star-dotp-ranking-top1000-cache-top\"+str(topk)\"-first-utt_new.tsv\"\n",
    "results_df = pd.read_csv(results_path, delimiter=\"\\t\", header=None)\n",
    "results_df[3] = 1000-results_df[2]\n",
    "results_df.columns=[\"qid\", \"docno\", \"rank\", \"score\"]\n",
    "results_df.head()\n",
    "# Results produced by the transformers must have “qid”, “docno”, “score”, “rank” columns."
   ]
  },
  {
   "cell_type": "code",
   "execution_count": null,
   "id": "79eac495-8769-4938-bd77-25dec52a9007",
   "metadata": {},
   "outputs": [],
   "source": [
    "%%time\n",
    "pt.Experiment([results_df], topics, qrels, names=[\"STAR\"], \n",
    "              eval_metrics=[\"map\", \"recip_rank\", \"recall_200\", \"P_3\", \"P_1\", \"ndcg_cut_3\"])"
   ]
  },
  {
   "cell_type": "code",
   "execution_count": null,
   "id": "98137fda-8857-416f-acf3-069c4e8f963e",
   "metadata": {},
   "outputs": [],
   "source": [
    "topk = 5000"
   ]
  },
  {
   "cell_type": "code",
   "execution_count": null,
   "id": "8b85ebf4-d675-4b58-8b6c-4a16ec3f07af",
   "metadata": {},
   "outputs": [],
   "source": [
    "results_path = \"../data/star-ranking/CAST-manual-queries-star-dotp-ranking-top1000-cache-top\"+str(topk)\"-first-utt_new.tsv\"\n",
    "results_df = pd.read_csv(results_path, delimiter=\"\\t\", header=None)\n",
    "results_df[3] = 1000-results_df[2]\n",
    "results_df.columns=[\"qid\", \"docno\", \"rank\", \"score\"]\n",
    "results_df.head()\n",
    "# Results produced by the transformers must have “qid”, “docno”, “score”, “rank” columns."
   ]
  },
  {
   "cell_type": "code",
   "execution_count": null,
   "id": "7b20eb7e-9463-49b9-a18a-ef7436bf6fcd",
   "metadata": {},
   "outputs": [],
   "source": [
    "%%time\n",
    "pt.Experiment([results_df], topics, qrels, names=[\"STAR\"], \n",
    "              eval_metrics=[\"map\", \"recip_rank\", \"recall_200\", \"P_3\", \"P_1\", \"ndcg_cut_3\"])"
   ]
  },
  {
   "cell_type": "code",
   "execution_count": null,
   "id": "9d48a231-91f6-4d68-a9af-9b092dd82f71",
   "metadata": {},
   "outputs": [],
   "source": [
    "topk = 10000"
   ]
  },
  {
   "cell_type": "code",
   "execution_count": null,
   "id": "d084c7e1-ac95-4497-8d66-d4526f7b951d",
   "metadata": {},
   "outputs": [],
   "source": [
    "results_path = \"../data/star-ranking/CAST-manual-queries-star-dotp-ranking-top1000-cache-top\"+str(topk)\"-first-utt_new.tsv\"\n",
    "results_df = pd.read_csv(results_path, delimiter=\"\\t\", header=None)\n",
    "results_df[3] = 1000-results_df[2]\n",
    "results_df.columns=[\"qid\", \"docno\", \"rank\", \"score\"]\n",
    "results_df.head()\n",
    "# Results produced by the transformers must have “qid”, “docno”, “score”, “rank” columns."
   ]
  },
  {
   "cell_type": "code",
   "execution_count": null,
   "id": "10039c38-13a8-4276-883d-42534fcc2a5c",
   "metadata": {},
   "outputs": [],
   "source": [
    "%%time\n",
    "pt.Experiment([results_df], topics, qrels, names=[\"STAR\"], \n",
    "              eval_metrics=[\"map\", \"recip_rank\", \"recall_200\", \"P_3\", \"P_1\", \"ndcg_cut_3\"])"
   ]
  },
  {
   "cell_type": "markdown",
   "id": "9259eb3f-6271-4f25-88c4-25cb37730240",
   "metadata": {},
   "source": [
    "# Read qrels and relevants per query"
   ]
  },
  {
   "cell_type": "code",
   "execution_count": null,
   "id": "8e2f5453-6e98-4829-a522-43ec65f4b380",
   "metadata": {},
   "outputs": [],
   "source": [
    "qrels_rel = qrels[qrels"
   ]
  },
  {
   "cell_type": "markdown",
   "id": "922c139a-7c52-4a0a-958c-6bcf5bb5601c",
   "metadata": {},
   "source": [
    "# Read distance dicts"
   ]
  }
 ],
 "metadata": {
  "kernelspec": {
   "display_name": "Python 3 (ipykernel)",
   "language": "python",
   "name": "python3"
  },
  "language_info": {
   "codemirror_mode": {
    "name": "ipython",
    "version": 3
   },
   "file_extension": ".py",
   "mimetype": "text/x-python",
   "name": "python",
   "nbconvert_exporter": "python",
   "pygments_lexer": "ipython3",
   "version": "3.9.9"
  }
 },
 "nbformat": 4,
 "nbformat_minor": 5
}
