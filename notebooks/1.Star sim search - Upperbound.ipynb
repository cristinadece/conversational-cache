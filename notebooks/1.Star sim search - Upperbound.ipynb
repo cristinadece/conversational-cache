{
 "cells": [
  {
   "cell_type": "code",
   "execution_count": 1,
   "id": "f14b944a-6704-4583-8437-688a470389d1",
   "metadata": {},
   "outputs": [],
   "source": [
    "%load_ext autoreload\n",
    "%autoreload 2\n",
    "\n",
    "from time import time\n",
    "import pandas as pd\n",
    "import numpy as np\n",
    "import os\n",
    "import pickle\n",
    "from collections import Counter, defaultdict"
   ]
  },
  {
   "cell_type": "code",
   "execution_count": 2,
   "id": "adb41179-1233-4dc2-a36d-30f1197b179f",
   "metadata": {},
   "outputs": [
    {
     "name": "stderr",
     "output_type": "stream",
     "text": [
      "PyTerrier 0.8.0 has loaded Terrier 5.6 (built by craigmacdonald on 2021-09-17 13:27)\n",
      "\n",
      "No etc/terrier.properties, using terrier.default.properties for bootstrap configuration.\n"
     ]
    }
   ],
   "source": [
    "import pyterrier as pt\n",
    "pt.init()"
   ]
  },
  {
   "cell_type": "code",
   "execution_count": 3,
   "id": "112dd77f-19b2-4613-bff7-c9ace6174d3e",
   "metadata": {},
   "outputs": [],
   "source": [
    "from jnius import autoclass\n",
    "tokeniser = autoclass(\"org.terrier.indexing.tokenisation.Tokeniser\").getTokeniser()"
   ]
  },
  {
   "cell_type": "code",
   "execution_count": 4,
   "id": "12f3df81-af0d-4f76-b336-20b3d52d2b25",
   "metadata": {},
   "outputs": [],
   "source": [
    "def terrier_tokenizer(raw_utterance):\n",
    "    new_utterance = \" \".join(tokeniser.getTokens(raw_utterance))\n",
    "    return new_utterance"
   ]
  },
  {
   "cell_type": "code",
   "execution_count": 5,
   "id": "b42eaa3b-cb54-46fc-ac6d-202b5b44e7b5",
   "metadata": {},
   "outputs": [],
   "source": [
    "import sys\n",
    "sys.path.insert(0, \"/data3/muntean/DRhard\")"
   ]
  },
  {
   "cell_type": "code",
   "execution_count": 7,
   "id": "f79848a9-22d9-4be5-88a7-c3ae9dca8af7",
   "metadata": {},
   "outputs": [
    {
     "name": "stderr",
     "output_type": "stream",
     "text": [
      "/data3/muntean/DRhard/DRhard/lib/python3.8/site-packages/torch-1.7.0-py3.8-linux-x86_64.egg/torch/cuda/__init__.py:52: UserWarning: CUDA initialization: Unexpected error from cudaGetDeviceCount(). Did you run some cuda functions before calling NumCudaDevices() that might have already set an error? Error 803: system has unsupported display driver / cuda driver combination (Triggered internally at  /pytorch/c10/cuda/CUDAFunctions.cpp:100.)\n",
      "  return torch._C._cuda_getDeviceCount() > 0\n"
     ]
    }
   ],
   "source": [
    "import argparse\n",
    "# import subprl2_index_alls\n",
    "import sys\n",
    "sys.path.append(\"./\")\n",
    "import faiss\n",
    "import logging\n",
    "import os\n",
    "import numpy as np\n",
    "# import torch\n",
    "from transformers import RobertaConfig\n",
    "from tqdm import tqdm\n",
    "from torch.utils.data.dataloader import DataLoader\n",
    "from torch.utils.data.sampler import SequentialSampler\n",
    "\n",
    "from model import RobertaDot\n",
    "from dataset import (\n",
    "    TextTokenIdsCache, load_rel, SubsetSeqDataset, SequenceDataset,\n",
    "    single_get_collate_function\n",
    ")\n",
    "from retrieve_utils import (\n",
    "    construct_flatindex_from_embeddings, \n",
    "    index_retrieve, convert_index_to_gpu\n",
    ")\n",
    "logger = logging.Logger(__name__)"
   ]
  },
  {
   "cell_type": "markdown",
   "id": "c942ad3f-ab0b-4b2e-9b2d-f412a3d61c79",
   "metadata": {},
   "source": [
    "# Load Star ranking\n",
    "\n",
    "We run star inference_query.py with --no_cuda\n",
    "```python ./star/inference_query.py --data_type passage --max_doc_length 256 --mode test-manual --topk 1000  --no_cuda```\n",
    "\n",
    "```\n",
    "Using mean: False\n",
    "output_embedding_size 768\n",
    "./data/passage/evaluate/star/test-manual-query.memmap exists, skip inference\n",
    "./data/passage/evaluate/star/passages.memmap exists, skip inference\n",
    "embedding shape: (38626614, 768)\n",
    "(38626614,) int64\n",
    "Query Num 479\n",
    "100%|██████████████████████████████████████████████████████████████████████████████| 479/479 [26:17<00:00,  3.29s/it]\n",
    "Elapsed Time: 1578.1s, Elapsed Time per query: 3294.5ms\n",
    "```\n",
    "\n",
    "\n",
    "Star output can be found in: ```/data3/muntean/DRhard/data/passage/evaluate/star/test-manual.rank.tsv```\n",
    "\n",
    "We need to convert their ids to our ids (remapped with numbers).\n",
    "```python ./cvt_back.py --input_dir ./data/passage/evaluate/star/ --preprocess_dir ./data/passage/preprocess --output_dir ./data/passage/official_runs/star --mode test-manual --dataset passage```\n",
    "\n",
    "and then our numerical ids to the initial qids and docids, like in the qrels:"
   ]
  },
  {
   "cell_type": "code",
   "execution_count": 8,
   "id": "cf77152f-54a0-4efc-8a06-df08f20a1b99",
   "metadata": {},
   "outputs": [],
   "source": [
    "doc_memmap_path = \"/data3/muntean/DRhard/data/passage/evaluate/star/passages.memmap\"\n",
    "docid_memmap_path = \"/data3/muntean/DRhard/data/passage/evaluate/star/passages-id.memmap\"\n",
    "query_memmap_path = \"/data3/muntean/DRhard/data/passage/evaluate/star/test-manual-query.memmap\"\n",
    "queryids_memmap_path = \"/data3/muntean/DRhard/data/passage/evaluate/star/test-manual-query-id.memmap\"\n",
    "\n",
    "query_adore_memmap_path = \"/data3/muntean/DRhard/data/passage/evaluate/adore-star/test-manual.qembed.memmap\""
   ]
  },
  {
   "cell_type": "code",
   "execution_count": 9,
   "id": "32a9f853-8016-4877-9a64-86d0870cce79",
   "metadata": {},
   "outputs": [],
   "source": [
    "doc_embeddings = np.memmap(doc_memmap_path, dtype=np.float32, mode=\"r\")\n",
    "doc_ids = np.memmap(docid_memmap_path, dtype=np.int32, mode=\"r\")\n",
    "doc_embeddings = doc_embeddings.reshape(-1, 768)\n",
    "\n",
    "query_embeddings = np.memmap(query_adore_memmap_path, dtype=np.float32, mode=\"r\")\n",
    "query_embeddings = query_embeddings.reshape(-1, 768)\n",
    "query_ids = np.memmap(queryids_memmap_path, dtype=np.int32, mode=\"r\")"
   ]
  },
  {
   "cell_type": "code",
   "execution_count": 10,
   "id": "191e0aa0-b3cb-4d35-9889-0a1301dada2d",
   "metadata": {},
   "outputs": [
    {
     "name": "stdout",
     "output_type": "stream",
     "text": [
      "embedding shape: (38626614, 768)\n",
      "(38626614,) int64\n"
     ]
    }
   ],
   "source": [
    "index = construct_flatindex_from_embeddings(doc_embeddings, doc_ids)"
   ]
  },
  {
   "cell_type": "code",
   "execution_count": 13,
   "id": "09be43a0-9832-4a02-a07d-f4f3c9068a52",
   "metadata": {},
   "outputs": [
    {
     "name": "stdout",
     "output_type": "stream",
     "text": [
      "Query Num 479\n"
     ]
    },
    {
     "name": "stderr",
     "output_type": "stream",
     "text": [
      "100%|████████████████████████████████████████████████████████████████████████████████████████████████████████████████████████████████████████████████████████████████████████████████████████████████████████████████████████████████████| 479/479 [20:07<00:00,  2.52s/it]"
     ]
    },
    {
     "name": "stdout",
     "output_type": "stream",
     "text": [
      "Elapsed Time: 1207.6s, Elapsed Time per query: 2521.0ms\n"
     ]
    },
    {
     "name": "stderr",
     "output_type": "stream",
     "text": [
      "\n"
     ]
    }
   ],
   "source": [
    "# fare retireval nel indice grande e prendere top 2000 documenti\n",
    "faiss.omp_set_num_threads(16) #32\n",
    "nearest_neighbors = index_retrieve(index, query_embeddings, 1000, batch=32)"
   ]
  },
  {
   "cell_type": "code",
   "execution_count": 1,
   "id": "5ca6606e-7ee4-46e6-a5b0-f41faf932085",
   "metadata": {},
   "outputs": [
    {
     "ename": "NameError",
     "evalue": "name 'query_ids' is not defined",
     "output_type": "error",
     "traceback": [
      "\u001b[0;31m---------------------------------------------------------------------------\u001b[0m",
      "\u001b[0;31mNameError\u001b[0m                                 Traceback (most recent call last)",
      "Input \u001b[0;32mIn [1]\u001b[0m, in \u001b[0;36m<module>\u001b[0;34m\u001b[0m\n\u001b[1;32m      1\u001b[0m \u001b[38;5;28;01mwith\u001b[39;00m \u001b[38;5;28mopen\u001b[39m(\u001b[38;5;124m\"\u001b[39m\u001b[38;5;124m/data3/muntean/conversational-cache/data/adore-star-ranking/CAST-manual-queries-adore-star-L2-ranking-top1000.raw_ids.tsv\u001b[39m\u001b[38;5;124m\"\u001b[39m, \u001b[38;5;124m'\u001b[39m\u001b[38;5;124mw\u001b[39m\u001b[38;5;124m'\u001b[39m) \u001b[38;5;28;01mas\u001b[39;00m outputfile:\n\u001b[0;32m----> 2\u001b[0m         \u001b[38;5;28;01mfor\u001b[39;00m qid, neighbors \u001b[38;5;129;01min\u001b[39;00m \u001b[38;5;28mzip\u001b[39m(\u001b[43mquery_ids\u001b[49m, nearest_neighbors):\n\u001b[1;32m      3\u001b[0m             \u001b[38;5;28;01mfor\u001b[39;00m idx, pid \u001b[38;5;129;01min\u001b[39;00m \u001b[38;5;28menumerate\u001b[39m(neighbors):\n\u001b[1;32m      4\u001b[0m                 outputfile\u001b[38;5;241m.\u001b[39mwrite(\u001b[38;5;124mf\u001b[39m\u001b[38;5;124m\"\u001b[39m\u001b[38;5;132;01m{\u001b[39;00mqid\u001b[38;5;132;01m}\u001b[39;00m\u001b[38;5;130;01m\\t\u001b[39;00m\u001b[38;5;132;01m{\u001b[39;00mpid\u001b[38;5;132;01m}\u001b[39;00m\u001b[38;5;130;01m\\t\u001b[39;00m\u001b[38;5;132;01m{\u001b[39;00midx\u001b[38;5;241m+\u001b[39m\u001b[38;5;241m1\u001b[39m\u001b[38;5;132;01m}\u001b[39;00m\u001b[38;5;130;01m\\n\u001b[39;00m\u001b[38;5;124m\"\u001b[39m)\n",
      "\u001b[0;31mNameError\u001b[0m: name 'query_ids' is not defined"
     ]
    }
   ],
   "source": [
    "with open(\"/data3/muntean/conversational-cache/data/adore-star-ranking/CAST-manual-queries-adore-star-L2-ranking-top1000.raw_ids.tsv\", 'w') as outputfile:\n",
    "        for qid, neighbors in zip(query_ids, nearest_neighbors):\n",
    "            for idx, pid in enumerate(neighbors):\n",
    "                outputfile.write(f\"{qid}\\t{pid}\\t{idx+1}\\n\")"
   ]
  },
  {
   "cell_type": "markdown",
   "id": "d95d79a1-0ef0-464c-b859-f1f0707ca5ab",
   "metadata": {},
   "source": [
    "# Load id maps"
   ]
  },
  {
   "cell_type": "code",
   "execution_count": 18,
   "id": "7a6da860-80f2-4259-9f69-d49ab71429a0",
   "metadata": {},
   "outputs": [
    {
     "name": "stdout",
     "output_type": "stream",
     "text": [
      "479\n",
      "38626614\n"
     ]
    }
   ],
   "source": [
    "# Load our qid and docid remapping dictionaries\n",
    "\n",
    "# query id dict\n",
    "qid_mapping_path = \"/data3/muntean/DRhard/data/passage/dataset/queries.CASTmanual.QID2newID.test.tsv\"\n",
    "queries_df = pd.read_csv(qid_mapping_path, delimiter=\"\\t\", header=None)\n",
    "print(len(queries_df))\n",
    "\n",
    "# collection id dict\n",
    "collection_mapping_path = \"/data3/muntean/DRhard/data/passage/dataset/CASTcollectionPID2newID.tsv\"\n",
    "collection_df = pd.read_csv(collection_mapping_path, delimiter=\"\\t\", header=None)\n",
    "print(len(collection_df))"
   ]
  },
  {
   "cell_type": "code",
   "execution_count": 19,
   "id": "3a28fe02-7ea3-4c56-aac5-403847bc9a7b",
   "metadata": {},
   "outputs": [],
   "source": [
    "# Direct dictionaries\n",
    "qid2newqid_dict = dict(zip(queries_df[0], queries_df[1])) \n",
    "pid2newpid_dict = dict(zip(collection_df[0], collection_df[1])) "
   ]
  },
  {
   "cell_type": "code",
   "execution_count": 20,
   "id": "c74da818-7132-40c2-8d2c-a3aa998f455c",
   "metadata": {},
   "outputs": [],
   "source": [
    "# Create reverse dictionaries\n",
    "newqid2qid_dict = dict(zip(queries_df[1], queries_df[0])) \n",
    "newpid2pid_dict = dict(zip(collection_df[1], collection_df[0]))"
   ]
  },
  {
   "cell_type": "code",
   "execution_count": 21,
   "id": "daabd055-f435-4575-81c6-bfe275cde718",
   "metadata": {},
   "outputs": [],
   "source": [
    "# DRhard docid and qid encoding\n",
    "preprocess_dir = \"/data3/muntean/DRhard/data/passage/preprocess\"\n",
    "\n",
    "pid2offset = pickle.load(open(os.path.join(preprocess_dir, \"pid2offset.pickle\"), 'rb'))\n",
    "offset2pid = {v:k for k, v in pid2offset.items()}\n",
    "qid2offset = pickle.load(open(os.path.join(preprocess_dir, f\"test-manual-qid2offset.pickle\"), 'rb'))\n",
    "offset2qid = {v:k for k, v in qid2offset.items()}"
   ]
  },
  {
   "cell_type": "markdown",
   "id": "5b277999-8a1a-4827-8a7c-de1430870a53",
   "metadata": {},
   "source": [
    "# Remapping results"
   ]
  },
  {
   "cell_type": "code",
   "execution_count": 23,
   "id": "bef92e7e-c2d0-425b-903b-64e01627b6ff",
   "metadata": {},
   "outputs": [],
   "source": [
    "# results_star_dot_product_path = \"/data3/muntean/conversational-cache/data/adore-star-ranking/CAST-manual-queries-adore-star-L2-ranking-top1000.raw_ids.tsv\" # original queries\n",
    "# results_star_dot_product_df = pd.read_csv(results_star_dot_product_path, delimiter=\"\\t\", header=None)\n",
    "# print(len(results_star_dot_product_df))\n",
    "# results_star_dot_product_df.head()"
   ]
  },
  {
   "cell_type": "code",
   "execution_count": 26,
   "id": "61090173-e0bd-4b1a-a94a-b6818ba93f44",
   "metadata": {},
   "outputs": [],
   "source": [
    "with open ('/data3/muntean/conversational-cache/data/adore-star-ranking/CAST-manual-queries-adore-star-L2-ranking-top1000.tsv', \"w\") as f:\n",
    "    for qid, neighbors in zip(query_ids, nearest_neighbors):\n",
    "            for idx, pid in enumerate(neighbors):\n",
    "        \n",
    "                new_qid = offset2qid[qid]\n",
    "                orig_qid = newqid2qid_dict[new_qid]\n",
    "\n",
    "                new_pid = offset2pid[pid]\n",
    "                orig_pid = newpid2pid_dict[new_pid]\n",
    "\n",
    "                f.write(f\"{orig_qid}\\t{orig_pid}\\t{idx+1}\\n\")"
   ]
  },
  {
   "cell_type": "markdown",
   "id": "3944423e-cba6-421d-8897-4a62ad4018b2",
   "metadata": {},
   "source": [
    "# Starting to eval with pyterrier"
   ]
  },
  {
   "cell_type": "code",
   "execution_count": 27,
   "id": "42d79622-2e64-4ba2-bbbe-f2e9f3e30900",
   "metadata": {},
   "outputs": [],
   "source": [
    "qrel_path = \"../data/CAST_qrels/qrels-docs.2019.txt\"\n",
    "qrels_df = pd.read_csv(qrel_path, delimiter=\" \", header=None)\n",
    "qrels_df[[3]] = qrels_df[[3]].astype(int)\n",
    "qrels_df = qrels_df.drop([1], axis=1)\n",
    "qrels_df.columns=[\"qid\", \"docno\", \"label\"]\n",
    "qrels = qrels_df"
   ]
  },
  {
   "cell_type": "code",
   "execution_count": 28,
   "id": "cec96c6e-d3b3-4173-84a1-a2d4140e7c3b",
   "metadata": {},
   "outputs": [
    {
     "data": {
      "text/html": [
       "<div>\n",
       "<style scoped>\n",
       "    .dataframe tbody tr th:only-of-type {\n",
       "        vertical-align: middle;\n",
       "    }\n",
       "\n",
       "    .dataframe tbody tr th {\n",
       "        vertical-align: top;\n",
       "    }\n",
       "\n",
       "    .dataframe thead th {\n",
       "        text-align: right;\n",
       "    }\n",
       "</style>\n",
       "<table border=\"1\" class=\"dataframe\">\n",
       "  <thead>\n",
       "    <tr style=\"text-align: right;\">\n",
       "      <th></th>\n",
       "      <th>qid</th>\n",
       "      <th>query</th>\n",
       "    </tr>\n",
       "  </thead>\n",
       "  <tbody>\n",
       "    <tr>\n",
       "      <th>0</th>\n",
       "      <td>31_1</td>\n",
       "      <td>what is throat cancer</td>\n",
       "    </tr>\n",
       "    <tr>\n",
       "      <th>1</th>\n",
       "      <td>31_2</td>\n",
       "      <td>is throat cancer treatable</td>\n",
       "    </tr>\n",
       "    <tr>\n",
       "      <th>2</th>\n",
       "      <td>31_3</td>\n",
       "      <td>tell me about lung cancer</td>\n",
       "    </tr>\n",
       "    <tr>\n",
       "      <th>3</th>\n",
       "      <td>31_4</td>\n",
       "      <td>what are lung cancer s symptoms</td>\n",
       "    </tr>\n",
       "    <tr>\n",
       "      <th>4</th>\n",
       "      <td>31_5</td>\n",
       "      <td>can lung cancer spread to the throat</td>\n",
       "    </tr>\n",
       "  </tbody>\n",
       "</table>\n",
       "</div>"
      ],
      "text/plain": [
       "    qid                                 query\n",
       "0  31_1                 what is throat cancer\n",
       "1  31_2            is throat cancer treatable\n",
       "2  31_3             tell me about lung cancer\n",
       "3  31_4       what are lung cancer s symptoms\n",
       "4  31_5  can lung cancer spread to the throat"
      ]
     },
     "execution_count": 28,
     "metadata": {},
     "output_type": "execute_result"
    }
   ],
   "source": [
    "topics_path='../data/CAST-2019/test_manual_utterance.tsv' #manual\n",
    "\n",
    "topics_df = pd.read_csv(topics_path, delimiter=\"\\t\", header=None)\n",
    "\n",
    "topics_df[2] = topics_df[1].apply(lambda s: terrier_tokenizer(s))\n",
    "\n",
    "topics_df = topics_df.drop([1], axis=1)\n",
    "topics_df.columns=[\"qid\", \"query\"]\n",
    "\n",
    "topics = topics_df\n",
    "topics.head()"
   ]
  },
  {
   "cell_type": "code",
   "execution_count": 29,
   "id": "96891877-7217-41bf-a99d-f39f53a8328c",
   "metadata": {},
   "outputs": [
    {
     "data": {
      "text/html": [
       "<div>\n",
       "<style scoped>\n",
       "    .dataframe tbody tr th:only-of-type {\n",
       "        vertical-align: middle;\n",
       "    }\n",
       "\n",
       "    .dataframe tbody tr th {\n",
       "        vertical-align: top;\n",
       "    }\n",
       "\n",
       "    .dataframe thead th {\n",
       "        text-align: right;\n",
       "    }\n",
       "</style>\n",
       "<table border=\"1\" class=\"dataframe\">\n",
       "  <thead>\n",
       "    <tr style=\"text-align: right;\">\n",
       "      <th></th>\n",
       "      <th>qid</th>\n",
       "      <th>docno</th>\n",
       "      <th>rank</th>\n",
       "      <th>score</th>\n",
       "    </tr>\n",
       "  </thead>\n",
       "  <tbody>\n",
       "    <tr>\n",
       "      <th>0</th>\n",
       "      <td>31_1</td>\n",
       "      <td>MARCO_3878347</td>\n",
       "      <td>1</td>\n",
       "      <td>999</td>\n",
       "    </tr>\n",
       "    <tr>\n",
       "      <th>1</th>\n",
       "      <td>31_1</td>\n",
       "      <td>MARCO_789620</td>\n",
       "      <td>2</td>\n",
       "      <td>998</td>\n",
       "    </tr>\n",
       "    <tr>\n",
       "      <th>2</th>\n",
       "      <td>31_1</td>\n",
       "      <td>MARCO_291003</td>\n",
       "      <td>3</td>\n",
       "      <td>997</td>\n",
       "    </tr>\n",
       "    <tr>\n",
       "      <th>3</th>\n",
       "      <td>31_1</td>\n",
       "      <td>MARCO_5625372</td>\n",
       "      <td>4</td>\n",
       "      <td>996</td>\n",
       "    </tr>\n",
       "    <tr>\n",
       "      <th>4</th>\n",
       "      <td>31_1</td>\n",
       "      <td>MARCO_2954451</td>\n",
       "      <td>5</td>\n",
       "      <td>995</td>\n",
       "    </tr>\n",
       "  </tbody>\n",
       "</table>\n",
       "</div>"
      ],
      "text/plain": [
       "    qid          docno  rank  score\n",
       "0  31_1  MARCO_3878347     1    999\n",
       "1  31_1   MARCO_789620     2    998\n",
       "2  31_1   MARCO_291003     3    997\n",
       "3  31_1  MARCO_5625372     4    996\n",
       "4  31_1  MARCO_2954451     5    995"
      ]
     },
     "execution_count": 29,
     "metadata": {},
     "output_type": "execute_result"
    }
   ],
   "source": [
    "results_path = \"../data/adore-star-ranking/CAST-manual-queries-adore-star-L2-ranking-top1000.tsv\"\n",
    "results_df = pd.read_csv(results_path, delimiter=\"\\t\", header=None)\n",
    "results_df[3] = 1000-results_df[2]\n",
    "results_df.columns=[\"qid\", \"docno\", \"rank\", \"score\"] # Results produced by the transformers must have “qid”, “docno”, “score”, “rank” columns.\n",
    "results_df = results_df.loc[results_df['rank'] < 201]\n",
    "results_df.head()"
   ]
  },
  {
   "cell_type": "code",
   "execution_count": 30,
   "id": "2aac36b9-9f2e-4b28-a7c9-51c95cf08a65",
   "metadata": {},
   "outputs": [
    {
     "name": "stdout",
     "output_type": "stream",
     "text": [
      "CPU times: user 247 ms, sys: 170 µs, total: 247 ms\n",
      "Wall time: 543 ms\n"
     ]
    },
    {
     "data": {
      "text/html": [
       "<div>\n",
       "<style scoped>\n",
       "    .dataframe tbody tr th:only-of-type {\n",
       "        vertical-align: middle;\n",
       "    }\n",
       "\n",
       "    .dataframe tbody tr th {\n",
       "        vertical-align: top;\n",
       "    }\n",
       "\n",
       "    .dataframe thead th {\n",
       "        text-align: right;\n",
       "    }\n",
       "</style>\n",
       "<table border=\"1\" class=\"dataframe\">\n",
       "  <thead>\n",
       "    <tr style=\"text-align: right;\">\n",
       "      <th></th>\n",
       "      <th>name</th>\n",
       "      <th>map_cut_200</th>\n",
       "      <th>recip_rank</th>\n",
       "      <th>recall_200</th>\n",
       "      <th>P_3</th>\n",
       "      <th>P_1</th>\n",
       "      <th>ndcg_cut_3</th>\n",
       "    </tr>\n",
       "  </thead>\n",
       "  <tbody>\n",
       "    <tr>\n",
       "      <th>0</th>\n",
       "      <td>STAR-l2</td>\n",
       "      <td>0.180779</td>\n",
       "      <td>0.664051</td>\n",
       "      <td>0.441143</td>\n",
       "      <td>0.504817</td>\n",
       "      <td>0.531792</td>\n",
       "      <td>0.395627</td>\n",
       "    </tr>\n",
       "  </tbody>\n",
       "</table>\n",
       "</div>"
      ],
      "text/plain": [
       "      name  map_cut_200  recip_rank  recall_200       P_3       P_1  \\\n",
       "0  STAR-l2     0.180779    0.664051    0.441143  0.504817  0.531792   \n",
       "\n",
       "   ndcg_cut_3  \n",
       "0    0.395627  "
      ]
     },
     "execution_count": 30,
     "metadata": {},
     "output_type": "execute_result"
    }
   ],
   "source": [
    "%%time\n",
    "pt.Experiment([results_df], topics, qrels, names=[\"STAR-l2\"], \n",
    "              eval_metrics=[\"map_cut_200\", \"recip_rank\", \"recall_200\", \"P_3\", \"P_1\", \"ndcg_cut_3\"])"
   ]
  },
  {
   "cell_type": "code",
   "execution_count": null,
   "id": "bc1b4a3f-2649-4d9d-a9ac-5792def571a7",
   "metadata": {},
   "outputs": [],
   "source": [
    "# %%time\n",
    "# res_per_query = pt.Experiment([results_df], topics, qrels, names=[\"STAR-l2\"], \n",
    "#               eval_metrics=[\"map\", \"recip_rank\", \"recall_200\", \"P_3\", \"P_1\", \"ndcg_cut_3\"], perquery=True)"
   ]
  },
  {
   "cell_type": "code",
   "execution_count": null,
   "id": "5c33ac62-8949-40f6-90da-80eab09672e7",
   "metadata": {},
   "outputs": [],
   "source": [
    "# res_per_query"
   ]
  },
  {
   "cell_type": "code",
   "execution_count": null,
   "id": "4f879bfd-dece-49a4-89f9-732328b75f6b",
   "metadata": {},
   "outputs": [],
   "source": [
    "# we can drop NaN rows"
   ]
  },
  {
   "cell_type": "code",
   "execution_count": null,
   "id": "ef169858-74ae-43ba-97d3-355c66fbce0e",
   "metadata": {},
   "outputs": [],
   "source": []
  }
 ],
 "metadata": {
  "kernelspec": {
   "display_name": "DRhard",
   "language": "python",
   "name": "drhard"
  },
  "language_info": {
   "codemirror_mode": {
    "name": "ipython",
    "version": 3
   },
   "file_extension": ".py",
   "mimetype": "text/x-python",
   "name": "python",
   "nbconvert_exporter": "python",
   "pygments_lexer": "ipython3",
   "version": "3.8.12"
  }
 },
 "nbformat": 4,
 "nbformat_minor": 5
}
