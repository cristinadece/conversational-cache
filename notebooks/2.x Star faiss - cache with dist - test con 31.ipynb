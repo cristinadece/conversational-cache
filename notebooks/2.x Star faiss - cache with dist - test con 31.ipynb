{
 "cells": [
  {
   "cell_type": "code",
   "execution_count": 1,
   "id": "5f5644eb-6c34-46d3-8b78-4d07201d3f50",
   "metadata": {},
   "outputs": [],
   "source": [
    "%load_ext autoreload\n",
    "%autoreload 2\n",
    "\n",
    "from time import time\n",
    "import pandas as pd\n",
    "import numpy as np\n",
    "import os\n",
    "from collections import Counter, defaultdict\n",
    "import pickle"
   ]
  },
  {
   "cell_type": "code",
   "execution_count": 2,
   "id": "2bb342c7-82ed-4d0f-88fb-33b531aa4b8a",
   "metadata": {},
   "outputs": [],
   "source": [
    "import sys\n",
    "sys.path.insert(0, \"/data3/muntean/DRhard\")"
   ]
  },
  {
   "cell_type": "code",
   "execution_count": 3,
   "id": "c03b1191-fbfb-4aad-9799-b2290a192a8b",
   "metadata": {},
   "outputs": [],
   "source": [
    "import argparse\n",
    "import subprocess\n",
    "import sys\n",
    "sys.path.append(\"./\")\n",
    "import faiss\n",
    "import logging\n",
    "import os\n",
    "import numpy as np\n",
    "# import torch\n",
    "from transformers import RobertaConfig\n",
    "from tqdm import tqdm\n",
    "from torch.utils.data.dataloader import DataLoader\n",
    "from torch.utils.data.sampler import SequentialSampler\n",
    "\n",
    "from model import RobertaDot\n",
    "from dataset import (\n",
    "    TextTokenIdsCache, load_rel, SubsetSeqDataset, SequenceDataset,\n",
    "    single_get_collate_function\n",
    ")\n",
    "from retrieve_utils import (\n",
    "    construct_flatindex_from_embeddings, \n",
    "    index_retrieve, convert_index_to_gpu\n",
    ")\n",
    "logger = logging.Logger(__name__)"
   ]
  },
  {
   "cell_type": "code",
   "execution_count": 4,
   "id": "95697847-503b-4c85-9a68-58df9fe970b1",
   "metadata": {},
   "outputs": [],
   "source": [
    "doc_memmap_path = \"/data3/muntean/DRhard/data/passage/evaluate/star/passages.memmap\"\n",
    "docid_memmap_path = \"/data3/muntean/DRhard/data/passage/evaluate/star/passages-id.memmap\"\n",
    "query_memmap_path = \"/data3/muntean/DRhard/data/passage/evaluate/star/test-manual-query.memmap\"\n",
    "queryids_memmap_path = \"/data3/muntean/DRhard/data/passage/evaluate/star/test-manual-query-id.memmap\""
   ]
  },
  {
   "cell_type": "code",
   "execution_count": 5,
   "id": "064b43b7-40d8-471a-b21f-e030c9ce1dce",
   "metadata": {},
   "outputs": [],
   "source": [
    "doc_embeddings = np.memmap(doc_memmap_path, dtype=np.float32, mode=\"r\")\n",
    "doc_ids = np.memmap(docid_memmap_path, dtype=np.int32, mode=\"r\")\n",
    "doc_embeddings = doc_embeddings.reshape(-1, 768)\n",
    "\n",
    "query_embeddings = np.memmap(query_memmap_path, dtype=np.float32, mode=\"r\")\n",
    "query_embeddings = query_embeddings.reshape(-1, 768)\n",
    "query_ids = np.memmap(queryids_memmap_path, dtype=np.int32, mode=\"r\")"
   ]
  },
  {
   "cell_type": "code",
   "execution_count": 6,
   "id": "4380dbc8-548d-479b-b1e8-c984dbc62cba",
   "metadata": {},
   "outputs": [
    {
     "name": "stdout",
     "output_type": "stream",
     "text": [
      "CPU times: user 2 µs, sys: 2 µs, total: 4 µs\n",
      "Wall time: 7.63 µs\n",
      "embedding shape: (38626614, 768)\n",
      "(38626614,) int64\n"
     ]
    }
   ],
   "source": [
    "%time\n",
    "index = construct_flatindex_from_embeddings(doc_embeddings, doc_ids)"
   ]
  },
  {
   "cell_type": "code",
   "execution_count": 7,
   "id": "b8c2d248-ab49-48e0-b5de-367bdf0f245b",
   "metadata": {},
   "outputs": [
    {
     "data": {
      "text/plain": [
       "faiss.swigfaiss.IndexIDMap2"
      ]
     },
     "execution_count": 7,
     "metadata": {},
     "output_type": "execute_result"
    }
   ],
   "source": [
    "type(index)"
   ]
  },
  {
   "cell_type": "markdown",
   "id": "40335fb8-c5b0-4be5-8894-2b81f3a6fa74",
   "metadata": {},
   "source": [
    "# Select certain queries and certain docs for small index"
   ]
  },
  {
   "cell_type": "code",
   "execution_count": 8,
   "id": "d9fce66a-3f25-42e3-8eb1-94b477fd712c",
   "metadata": {},
   "outputs": [
    {
     "name": "stdout",
     "output_type": "stream",
     "text": [
      "479\n",
      "38626614\n"
     ]
    }
   ],
   "source": [
    "# Load our qid and docid remapping dictionaries\n",
    "\n",
    "# query id dict\n",
    "qid_mapping_path = \"/data3/muntean/DRhard/data/passage/dataset/queries.CASTmanual.QID2newID.test.tsv\"\n",
    "queries_df = pd.read_csv(qid_mapping_path, delimiter=\"\\t\", header=None)\n",
    "print(len(queries_df))\n",
    "\n",
    "# collection id dict\n",
    "collection_mapping_path = \"/data3/muntean/DRhard/data/passage/dataset/CASTcollectionPID2newID.tsv\"\n",
    "collection_df = pd.read_csv(collection_mapping_path, delimiter=\"\\t\", header=None)\n",
    "print(len(collection_df))"
   ]
  },
  {
   "cell_type": "code",
   "execution_count": 9,
   "id": "cc674760-7d63-4bd6-92fd-5bce892259af",
   "metadata": {},
   "outputs": [],
   "source": [
    "qid2newqid_dict = dict(zip(queries_df[0], queries_df[1])) \n",
    "pid2newpid_dict = dict(zip(collection_df[0], collection_df[1])) "
   ]
  },
  {
   "cell_type": "code",
   "execution_count": 10,
   "id": "eb9bbdf2-5905-4820-9141-d9eb2939adcb",
   "metadata": {},
   "outputs": [
    {
     "data": {
      "text/plain": [
       "9"
      ]
     },
     "execution_count": 10,
     "metadata": {},
     "output_type": "execute_result"
    }
   ],
   "source": [
    "qid2newqid_dict[\"32_1\"]"
   ]
  },
  {
   "cell_type": "code",
   "execution_count": 11,
   "id": "80f062ce-28ee-4415-83e7-f3019be07308",
   "metadata": {},
   "outputs": [],
   "source": [
    "# Create reverse dictionaries\n",
    "newqid2qid_dict = dict(zip(queries_df[1], queries_df[0])) \n",
    "newpid2pid_dict = dict(zip(collection_df[1], collection_df[0])) "
   ]
  },
  {
   "cell_type": "code",
   "execution_count": 12,
   "id": "6c3ce1de-233a-4bcf-8444-260e671fd08b",
   "metadata": {},
   "outputs": [
    {
     "data": {
      "text/plain": [
       "'32_1'"
      ]
     },
     "execution_count": 12,
     "metadata": {},
     "output_type": "execute_result"
    }
   ],
   "source": [
    "newqid2qid_dict[9]"
   ]
  },
  {
   "cell_type": "code",
   "execution_count": 13,
   "id": "dcf29fa9-d116-4371-95a7-c407e175dec3",
   "metadata": {},
   "outputs": [],
   "source": [
    "# DRhard docid and qid encoding\n",
    "preprocess_dir = \"/data3/muntean/DRhard/data/passage/preprocess\"\n",
    "\n",
    "pid2offset = pickle.load(open(os.path.join(preprocess_dir, \"pid2offset.pickle\"), 'rb'))\n",
    "offset2pid = {v:k for k, v in pid2offset.items()}\n",
    "qid2offset = pickle.load(open(os.path.join(preprocess_dir, f\"test-manual-qid2offset.pickle\"), 'rb'))\n",
    "offset2qid = {v:k for k, v in qid2offset.items()}"
   ]
  },
  {
   "cell_type": "code",
   "execution_count": 14,
   "id": "8fda4ab8-b818-4efc-880d-56f3678523bb",
   "metadata": {},
   "outputs": [
    {
     "data": {
      "text/plain": [
       "9"
      ]
     },
     "execution_count": 14,
     "metadata": {},
     "output_type": "execute_result"
    }
   ],
   "source": [
    "qid2offset[9]"
   ]
  },
  {
   "cell_type": "markdown",
   "id": "89a6855b-09d7-4f63-bdc2-ddd7900333ba",
   "metadata": {},
   "source": [
    "# Create conv cache"
   ]
  },
  {
   "cell_type": "code",
   "execution_count": 15,
   "id": "cf060aa8-3cc8-49da-9673-aaad5a0cc79f",
   "metadata": {},
   "outputs": [],
   "source": [
    "topk = 2000 # cache dimension [1000,2000,5000,10000]\n",
    "# evaluation is done on top 1000 - another topk?"
   ]
  },
  {
   "cell_type": "code",
   "execution_count": 16,
   "id": "c8b6a11a-a764-474e-9665-a167849a95f0",
   "metadata": {},
   "outputs": [],
   "source": [
    "# distance dicts\n",
    "\n",
    "cache_radius_dict = dict() # between first utterance (qa) and last retrieved doc from the big index\n",
    "query_distance_dict = dict() # distance between the first (qa) and the rest of utterances of the conversation (qb)\n",
    "query_radius_dict = dict() # between current utterance (qb) and last retrieved doc from the big index\n",
    "diff_distance_dict = dict() # rb_hat = ra - d(qb, qa)"
   ]
  },
  {
   "cell_type": "code",
   "execution_count": 17,
   "id": "93f7a3b2-c61d-4922-beb2-9c09e3322549",
   "metadata": {},
   "outputs": [],
   "source": [
    "def l2_distance(v1,v2):\n",
    "    return np.linalg.norm(v1-v2)"
   ]
  },
  {
   "cell_type": "code",
   "execution_count": 49,
   "id": "a477a6db-0389-451a-87b6-354a75387308",
   "metadata": {},
   "outputs": [],
   "source": [
    "def create_conv_cache(conv_id, qid2newqid_dict, qid2offset, query_embeddings, doc_embeddings, \n",
    "                      index, topk, cache_radius_dict):\n",
    "    # first utt of the conversation - determines the size of the cache\n",
    "    first_qid = conv_id + \"_1\"\n",
    "    newqid = qid2newqid_dict[first_qid] #added first\n",
    "    qid_offset = qid2offset[newqid]\n",
    "\n",
    "    # prendere il memmap\n",
    "    query_emb = query_embeddings[qid_offset].reshape(1, 768)\n",
    "    \n",
    "    # fare retireval nel indice grande e prendere top 2000 documenti\n",
    "    faiss.omp_set_num_threads(16) #32\n",
    "    nearest_neighbors = index_retrieve(index, query_emb, topk, batch=32)\n",
    "    \n",
    "    # select doc embeddings, paired with ids\n",
    "    small_doc_emb = doc_embeddings[nearest_neighbors[0]]\n",
    "    small_doc_ids = np.array(nearest_neighbors[0])\n",
    "    index_conv = construct_flatindex_from_embeddings(small_doc_emb, small_doc_ids)\n",
    "       \n",
    "    # compute distance between the first query and last doc in the list of topk retrieved that are stored in cache (e.g., r_q_i)\n",
    "    last_doc = nearest_neighbors[0][-1]\n",
    "    last_doc_embedding = doc_embeddings[last_doc]\n",
    "    cache_radius_dict[first_qid] = l2_distance(query_emb, last_doc_embedding)\n",
    "    \n",
    "    return index_conv, nearest_neighbors, cache_radius_dict"
   ]
  },
  {
   "cell_type": "code",
   "execution_count": 50,
   "id": "2cd491ce-c49d-4e0d-b541-5eb0c59cc6e1",
   "metadata": {},
   "outputs": [
    {
     "name": "stdout",
     "output_type": "stream",
     "text": [
      "Query Num 1\n"
     ]
    },
    {
     "name": "stderr",
     "output_type": "stream",
     "text": [
      "100%|█████████████████████████████████████████████████████| 1/1 [00:32<00:00, 32.48s/it]"
     ]
    },
    {
     "name": "stdout",
     "output_type": "stream",
     "text": [
      "Elapsed Time: 32.5s, Elapsed Time per query: 32486.3ms\n",
      "embedding shape: (2000, 768)\n",
      "(2000,) int64\n"
     ]
    },
    {
     "name": "stderr",
     "output_type": "stream",
     "text": [
      "\n"
     ]
    }
   ],
   "source": [
    "# Create cache for conv 31\n",
    "index_conv, nearest_neighbors_qa, cache_radius_dict = create_conv_cache(\"31\", qid2newqid_dict, \n",
    "                                                                     qid2offset, query_embeddings, \n",
    "                                                                     doc_embeddings, index, topk, \n",
    "                                                                     cache_radius_dict)"
   ]
  },
  {
   "cell_type": "code",
   "execution_count": 51,
   "id": "88f8b6d0-e5e1-48f7-8d97-820f9a9c28b5",
   "metadata": {},
   "outputs": [
    {
     "data": {
      "text/plain": [
       "{'31_1': 5.1092577}"
      ]
     },
     "execution_count": 51,
     "metadata": {},
     "output_type": "execute_result"
    }
   ],
   "source": [
    "cache_radius_dict"
   ]
  },
  {
   "cell_type": "code",
   "execution_count": 28,
   "id": "e55cec51-cc54-4336-8a19-795e28bb2a46",
   "metadata": {},
   "outputs": [
    {
     "data": {
      "text/plain": [
       "2000"
      ]
     },
     "execution_count": 28,
     "metadata": {},
     "output_type": "execute_result"
    }
   ],
   "source": [
    "len(nearest_neighbors_qa[0])"
   ]
  },
  {
   "cell_type": "code",
   "execution_count": 29,
   "id": "fe7dba39-6729-4591-bf7d-d9ed1aa51fac",
   "metadata": {},
   "outputs": [],
   "source": [
    "# save docs for qa for coverage\n",
    "retrieved_qa = nearest_neighbors_qa[0]"
   ]
  },
  {
   "cell_type": "code",
   "execution_count": 31,
   "id": "0c46a2b2-f8e6-412e-a98a-e85c18ddcca4",
   "metadata": {},
   "outputs": [
    {
     "data": {
      "text/plain": [
       "0"
      ]
     },
     "execution_count": 31,
     "metadata": {},
     "output_type": "execute_result"
    }
   ],
   "source": [
    "# first  query id & embedding\n",
    "first_qid = \"31_1\"\n",
    "first_newqid = qid2newqid_dict[first_qid] #added first\n",
    "first_qid_offset = qid2offset[first_newqid]\n",
    "first_qid_offset"
   ]
  },
  {
   "cell_type": "code",
   "execution_count": 35,
   "id": "ef678b2c-c9a5-4f62-a7b1-e36a4a91c052",
   "metadata": {},
   "outputs": [
    {
     "data": {
      "text/plain": [
       "[(0, 3878310, 1),\n",
       " (0, 789615, 2),\n",
       " (0, 291001, 3),\n",
       " (0, 5625323, 4),\n",
       " (0, 2954424, 5),\n",
       " (0, 6430388, 6),\n",
       " (0, 4976140, 7),\n",
       " (0, 7069008, 8),\n",
       " (0, 3705851, 9),\n",
       " (0, 19317044, 10)]"
      ]
     },
     "execution_count": 35,
     "metadata": {},
     "output_type": "execute_result"
    }
   ],
   "source": [
    "results_list_qa = []\n",
    "# save results - top 1000 for first conv query qa\n",
    "for idx, pid in enumerate(nearest_neighbors_qa[0][:1000]):\n",
    "    results_list_qa.append((first_qid_offset, pid, idx+1))\n",
    "results_list_qa[:10]"
   ]
  },
  {
   "cell_type": "code",
   "execution_count": 38,
   "id": "7c9d7230-2a7e-424c-96c6-eeaba4c851f9",
   "metadata": {},
   "outputs": [],
   "source": [
    "# prendere il memmap di qa\n",
    "first_query_emb = query_embeddings[first_qid_offset].reshape(1, 768)\n",
    "# first_query_emb"
   ]
  },
  {
   "cell_type": "code",
   "execution_count": 42,
   "id": "74d14069-21de-4a0a-9bca-6cf5de443037",
   "metadata": {},
   "outputs": [],
   "source": [
    "qb_id = \"31_2\""
   ]
  },
  {
   "cell_type": "code",
   "execution_count": 43,
   "id": "f47d7d81-808d-4cfb-b0bd-442cd64efa4d",
   "metadata": {},
   "outputs": [],
   "source": [
    "# select query embedding\n",
    "newqid = qid2newqid_dict[qb_id]\n",
    "qid_offset = qid2offset[newqid]\n",
    "# prendere il memmap\n",
    "query_emb = query_embeddings[qid_offset].reshape(1, 768)"
   ]
  },
  {
   "cell_type": "code",
   "execution_count": 44,
   "id": "7709efb1-577e-49f5-83ea-b87da1b491a9",
   "metadata": {},
   "outputs": [
    {
     "data": {
      "text/plain": [
       "memmap([[-9.98741984e-01,  3.03324759e-01, -4.50298727e-01,\n",
       "          2.55340219e-01, -7.40765333e-01, -6.88003659e-01,\n",
       "          1.66195786e+00, -5.47632515e-01,  1.68535888e+00,\n",
       "          3.49659741e-01,  2.78651208e-01,  1.37620175e+00,\n",
       "          1.65046170e-01, -1.41864347e+00, -2.67653435e-01,\n",
       "         -1.76145780e+00,  6.53178692e-01, -1.37068197e-01,\n",
       "         -5.54729137e-04, -6.27226412e-01, -4.92283046e-01,\n",
       "          7.48788416e-01, -3.95853549e-01, -5.91552615e-01,\n",
       "          4.99970317e-01, -8.49153161e-01, -7.66879916e-02,\n",
       "         -8.57331038e-01,  8.90509129e-01,  6.91347301e-01,\n",
       "         -4.62582350e-01, -1.12830174e+00,  7.49185905e-02,\n",
       "          2.59847585e-02,  1.35250473e+00, -1.32519913e+00,\n",
       "          1.06401420e+00, -1.29503000e+00,  1.63081318e-01,\n",
       "          7.57634997e-01,  1.55356482e-01,  7.05008864e-01,\n",
       "         -1.38746428e+00,  2.96265841e-01,  9.91439283e-01,\n",
       "          1.53246868e+00, -1.90052092e+00, -1.43841231e+00,\n",
       "         -1.46393314e-01, -1.42840147e-01,  6.88987374e-02,\n",
       "          1.69139493e+00, -1.27356446e+00, -1.42713273e+00,\n",
       "         -4.36178178e-01, -2.08054733e+00, -2.29845852e-01,\n",
       "         -6.83673263e-01, -1.75294772e-01,  1.36988592e+00,\n",
       "         -1.13423669e+00,  4.48462695e-01, -1.24435723e+00,\n",
       "          1.77848175e-01,  3.54234478e-04,  1.20176136e+00,\n",
       "          5.21262109e-01,  5.24295986e-01,  1.98850587e-01,\n",
       "          6.26603246e-01,  9.54102874e-01, -9.35899019e-01,\n",
       "         -7.65945256e-01,  1.34180832e+00, -3.24088961e-01,\n",
       "         -5.09081304e-01,  7.57326901e-01,  7.93012321e-01,\n",
       "         -4.88095760e-01, -7.16536939e-01, -7.70581365e-01,\n",
       "         -5.79036832e-01,  1.06126249e+00,  5.80067933e-01,\n",
       "          4.23849493e-01, -1.16391253e+00,  1.21439588e+00,\n",
       "          6.15973711e-01,  2.22146101e-02, -2.42652997e-01,\n",
       "         -1.23960304e+00,  6.82315052e-01, -8.34857374e-02,\n",
       "         -3.52202207e-01,  2.17432305e-01, -5.74939907e-01,\n",
       "         -2.08794735e-02,  2.27311015e+00,  5.96735179e-01,\n",
       "          2.43803382e-01, -1.72773987e-01, -1.37224495e+00,\n",
       "          1.33950710e+00, -6.91835523e-01, -8.91984642e-01,\n",
       "         -6.56751573e-01,  2.21030369e-01,  9.77505445e-01,\n",
       "          6.56942725e-01, -1.65343359e-01, -6.40829146e-01,\n",
       "          3.99129063e-01, -1.47936955e-01,  1.03866532e-01,\n",
       "          3.33862662e-01,  1.12313426e+00, -1.39921355e+00,\n",
       "          8.56308222e-01, -4.42411721e-01, -1.00663030e+00,\n",
       "          5.88772893e-01, -6.76467121e-01, -7.26939917e-01,\n",
       "          1.25404882e+00,  4.06143665e-01, -4.72960025e-01,\n",
       "          2.10478410e-01,  1.69108939e+00, -6.53799951e-01,\n",
       "         -1.14732254e-02, -9.02106881e-01,  7.73815930e-01,\n",
       "          5.37958086e-01, -4.11677331e-01, -1.01082575e+00,\n",
       "          1.48016000e-02, -1.78758934e-01, -1.15161526e+00,\n",
       "          7.53043666e-02,  1.08707011e+00, -1.04215097e+00,\n",
       "         -1.61990809e+00, -5.04205048e-01, -2.33644173e-01,\n",
       "          1.54339150e-01, -5.35250843e-01, -1.00404930e+00,\n",
       "          2.27202892e-01,  1.21565056e+00,  2.21996486e-01,\n",
       "          1.51116180e+00,  1.32070875e+00,  8.41983318e-01,\n",
       "         -6.73016012e-01, -8.26058745e-01, -6.15755916e-01,\n",
       "          9.17803168e-01,  7.98942506e-01,  2.23956609e+00,\n",
       "          9.26349461e-01, -1.57946837e+00, -6.42862201e-01,\n",
       "          1.72942594e-01,  9.19545367e-02, -9.49411243e-02,\n",
       "         -1.30014682e+00,  1.75646693e-01,  1.32798696e+00,\n",
       "         -6.71230555e-01,  8.89899015e-01, -1.05435491e+00,\n",
       "         -7.75187135e-01,  1.58844721e+00,  7.61131823e-01,\n",
       "          1.72476280e+00, -2.02528477e-01,  8.71702135e-01,\n",
       "         -1.17821358e-01, -5.44271529e-01,  1.24149013e+00,\n",
       "          3.54340523e-01, -5.53607881e-01,  1.17979574e+00,\n",
       "          9.30085897e-01,  9.54660177e-01, -8.81270587e-01,\n",
       "          6.08667016e-01,  9.66993034e-01,  2.69878715e-01,\n",
       "          5.72190344e-01,  8.16942632e-01,  2.71371663e-01,\n",
       "         -2.31262699e-01,  2.21894890e-01, -2.25241160e+00,\n",
       "         -9.01145339e-01,  3.39243323e-01, -5.81697762e-01,\n",
       "         -7.26905048e-01,  2.07315159e+00, -2.85307169e-01,\n",
       "         -1.49042189e+00, -6.15235448e-01,  2.82440186e-01,\n",
       "          9.29335952e-01, -3.65074843e-01,  7.41035819e-01,\n",
       "         -3.42010170e-01,  6.34705424e-01, -1.52300274e+00,\n",
       "         -7.34092057e-01,  8.73214781e-01,  2.79201221e+00,\n",
       "         -4.35967058e-01, -7.94054449e-01, -1.03366899e+00,\n",
       "         -5.64723849e-01,  3.15202475e-02, -6.06682539e-01,\n",
       "         -6.69587195e-01,  2.74383426e-01,  4.59979862e-01,\n",
       "         -3.79763901e-01,  1.45613885e+00, -2.06811762e+00,\n",
       "         -1.51960686e-01,  4.72425520e-01, -7.62921572e-01,\n",
       "          1.21992612e+00,  5.64175725e-01, -4.57990527e-01,\n",
       "          6.97033703e-02,  1.34356499e+00, -5.73588610e-01,\n",
       "         -1.39628291e+00,  4.81759697e-01, -1.50305998e+00,\n",
       "         -1.88085377e+00,  2.77094334e-01, -9.58240390e-01,\n",
       "         -1.39600083e-01,  1.32677805e+00,  2.83574581e-01,\n",
       "          5.34147859e-01, -2.13058853e+00,  4.88433808e-01,\n",
       "         -4.52086419e-01, -1.10627282e+00, -4.52814162e-01,\n",
       "         -4.42385264e-02,  5.81182480e-01,  1.62626672e+00,\n",
       "          1.63897693e+00,  1.80295694e+00, -1.72906503e-01,\n",
       "         -3.62300366e-01, -7.31922865e-01,  4.23187643e-01,\n",
       "          8.77368674e-02,  3.12664837e-01, -9.78162944e-01,\n",
       "          6.85993493e-01, -1.68074608e+00,  2.63961434e-01,\n",
       "          1.33892864e-01, -5.20044744e-01,  1.20073564e-01,\n",
       "          5.28180420e-01,  2.60484785e-01, -4.22757007e-02,\n",
       "         -1.66646206e+00, -1.14777923e+00, -1.41204643e+00,\n",
       "         -9.65594709e-01, -3.57396096e-01, -8.61536980e-01,\n",
       "          1.01689911e+00,  1.15045190e+00,  4.84863013e-01,\n",
       "          4.52517986e-01, -2.69449294e-01, -6.89369023e-01,\n",
       "          9.40073311e-01,  6.68532327e-02, -1.16528523e+00,\n",
       "         -4.10035312e-01, -4.81007956e-02, -1.38932037e+00,\n",
       "         -4.97152627e-01, -1.13948965e+00,  7.15617299e-01,\n",
       "         -1.86421514e-01,  5.14934659e-01,  6.90412462e-01,\n",
       "          2.97206063e-02, -1.02221727e+00,  7.46648666e-03,\n",
       "          4.83543277e-01, -5.90242267e-01,  1.55762052e-02,\n",
       "          8.20325136e-01,  1.21713161e+00, -5.61936915e-01,\n",
       "          1.43333852e+00,  9.01253462e-01,  5.25980592e-01,\n",
       "          8.51473287e-02, -1.77584040e+00,  2.52770539e-02,\n",
       "         -1.19854856e+00, -9.71412957e-01, -7.85971224e-01,\n",
       "         -4.59432900e-01,  1.52244091e+00, -3.91923577e-01,\n",
       "          3.62152070e-01,  9.09687519e-01,  4.38609600e-01,\n",
       "         -8.27105939e-01, -1.29308820e+00, -8.51658434e-02,\n",
       "         -1.50651705e+00,  1.17214561e+00, -6.17879629e-01,\n",
       "          4.00851488e-01,  2.42029652e-01,  2.72088468e-01,\n",
       "          9.64283764e-01, -1.14399052e+00,  3.76868308e-01,\n",
       "          1.35965014e+00,  3.38187099e-01, -3.03196982e-02,\n",
       "         -4.70725536e-01,  1.17927507e-01, -1.34526122e+00,\n",
       "         -1.88333839e-02, -5.60316563e-01,  1.23487949e-01,\n",
       "         -4.28640917e-02, -5.48106730e-02, -1.19332302e+00,\n",
       "         -2.61273444e-01,  1.31153524e-01,  1.25631452e+00,\n",
       "          1.58104122e-01,  1.86615705e-01,  1.09352815e+00,\n",
       "         -4.94933784e-01,  1.11201596e+00, -9.03085172e-01,\n",
       "         -2.45358825e-01, -1.57688522e+00, -6.92576587e-01,\n",
       "          1.17915049e-01,  8.47140193e-01,  1.44732857e+00,\n",
       "         -3.79370630e-01,  2.25430059e+00,  3.50816309e-01,\n",
       "          2.56115273e-02,  1.43594372e+00, -1.54272270e+00,\n",
       "          5.06184220e-01,  2.32057422e-01,  8.77729356e-01,\n",
       "         -7.60460317e-01,  9.49405313e-01,  3.66077602e-01,\n",
       "         -5.38763702e-02, -1.11781871e+00,  6.64740652e-02,\n",
       "         -3.23085785e-01,  1.60159302e+00,  3.66647184e-01,\n",
       "          1.01433620e-01, -1.28448293e-01, -7.99503997e-02,\n",
       "         -6.62858188e-02,  8.06593299e-01, -8.93153191e-01,\n",
       "         -1.21600592e+00, -9.37266648e-01, -8.00190866e-02,\n",
       "         -9.07115757e-01,  7.41154850e-02, -5.44621110e-01,\n",
       "          1.12711594e-01, -6.44324005e-01, -1.17927372e+00,\n",
       "          4.92308617e-01, -1.91759244e-01, -1.00587934e-01,\n",
       "          4.82898235e-01,  8.49675715e-01,  4.67836440e-01,\n",
       "          1.44298017e+00,  2.67902523e-01,  9.35092628e-01,\n",
       "         -2.43501887e-01,  8.70240092e-01,  8.09895635e-01,\n",
       "          1.23067248e+00, -4.76786541e-03,  4.31849420e-01,\n",
       "         -5.45415223e-01,  1.46005380e+00,  1.57621980e+00,\n",
       "          8.39990377e-01,  1.45467103e+00, -3.35950524e-01,\n",
       "         -2.99089581e-01,  1.78077435e+00, -9.81586814e-01,\n",
       "          5.25638103e-01, -1.12912035e+00, -7.42015004e-01,\n",
       "          8.08920339e-02, -1.40701079e+00,  2.44777501e-01,\n",
       "          6.20935261e-01, -4.07806188e-01,  5.93110383e-01,\n",
       "          1.62337765e-01,  9.28463578e-01, -1.07396245e+00,\n",
       "          5.52956998e-01, -4.25270200e-01, -9.07814205e-01,\n",
       "         -1.61280274e+00,  3.82929951e-01, -2.17103386e+00,\n",
       "          9.21261072e-01, -1.29396474e+00,  3.03586602e-01,\n",
       "         -3.32492352e-01, -1.74273694e+00,  8.07150722e-01,\n",
       "         -1.62276483e+00,  1.00524402e+00, -5.60411215e-01,\n",
       "         -6.55127704e-01, -3.09191257e-01,  1.79689690e-01,\n",
       "          2.94617146e-01,  7.96949804e-01,  9.17740405e-01,\n",
       "         -1.47766367e-01,  3.60856384e-01,  1.11724532e+00,\n",
       "          1.56298086e-01,  7.86691546e-01,  9.11997855e-01,\n",
       "         -1.04840147e+00,  1.35048544e+00, -1.07590997e+00,\n",
       "         -1.22590876e+00,  2.35735312e-01, -1.11472964e+00,\n",
       "         -1.98766720e+00,  2.37297386e-01, -1.74109399e+00,\n",
       "          1.41423628e-01,  1.91285074e+00, -1.43008465e-02,\n",
       "          8.36192012e-01,  7.48363614e-01,  1.73284137e+00,\n",
       "         -7.49608397e-01, -1.27026272e+00,  6.98297501e-01,\n",
       "         -1.03812456e+00,  5.67508578e-01,  5.86772978e-01,\n",
       "          5.81809103e-01, -2.09256917e-01,  8.00408006e-01,\n",
       "         -4.31095004e-01,  5.31710722e-02,  1.82857886e-01,\n",
       "          7.87099779e-01,  2.33579814e-01,  4.69597653e-02,\n",
       "          1.38573900e-01,  1.42871812e-01,  4.74259853e-01,\n",
       "         -1.25045884e+00, -1.72148192e+00,  3.00134383e-02,\n",
       "         -1.74442279e+00,  1.50126171e+00,  3.31204444e-01,\n",
       "         -1.76535201e+00, -8.00623119e-01,  1.01537931e+00,\n",
       "          7.23097205e-01, -4.36718524e-01,  4.56367642e-01,\n",
       "          3.33152443e-01, -1.53632045e+00, -4.00523514e-01,\n",
       "         -9.48726773e-01, -1.38077796e+00, -3.74896795e-01,\n",
       "         -9.46789920e-01, -3.29513937e-01, -1.44515491e+00,\n",
       "         -2.08695427e-01,  9.38279808e-01, -9.35156524e-01,\n",
       "          6.64961576e-01,  5.18139124e-01, -3.48596312e-02,\n",
       "         -1.08803415e+00,  8.79553497e-01,  2.86352132e-02,\n",
       "          1.02696545e-01,  1.60697842e+00,  1.31661212e+00,\n",
       "          1.58726025e+00, -3.30034196e-01,  9.75260139e-01,\n",
       "         -1.72463381e+00, -5.41885257e-01, -1.25765061e+00,\n",
       "         -1.20710683e+00, -1.57776237e+00, -8.86781991e-01,\n",
       "         -1.19089067e+00,  3.62073541e-01, -2.14135706e-01,\n",
       "         -5.95886528e-01, -1.19867468e+00, -2.12281689e-01,\n",
       "          2.56197155e-01,  8.32080126e-01, -4.09552336e-01,\n",
       "          5.75276077e-01,  5.23685634e-01, -1.07228041e+00,\n",
       "          5.30902669e-02, -4.76453919e-03,  1.15726030e+00,\n",
       "          1.26870990e+00,  1.14660487e-01, -5.17781496e-01,\n",
       "          1.15827668e+00,  9.29094851e-01,  3.28255385e-01,\n",
       "         -1.19669294e+00,  1.10971868e+00,  8.12336445e-01,\n",
       "         -5.80552340e-01, -1.69196510e+00, -1.41933787e+00,\n",
       "         -1.08963048e+00, -6.71198249e-01,  2.32386804e+00,\n",
       "         -1.21729243e+00, -3.95166785e-01,  6.92963183e-01,\n",
       "         -1.71393543e-01,  9.27656829e-01,  1.99771151e-01,\n",
       "         -4.31146920e-02,  8.72699976e-01, -3.50348294e-01,\n",
       "          6.17413402e-01,  1.14036882e+00,  1.37329900e+00,\n",
       "          4.81656611e-01,  8.38271916e-01,  1.12026441e+00,\n",
       "         -2.79491544e-01, -5.09959221e-01,  6.63067341e-01,\n",
       "          2.15935111e+00, -6.95088565e-01, -1.57646036e+00,\n",
       "          1.24026406e+00, -1.90598488e-01, -2.40363419e-01,\n",
       "          1.55042660e+00,  4.11821976e-02, -6.48325443e-01,\n",
       "          8.03740263e-01, -6.68912828e-01,  2.21421361e+00,\n",
       "          2.64617741e-01, -7.92697430e-01, -2.43226066e-01,\n",
       "         -1.14439917e+00, -5.97767413e-01,  2.03562200e-01,\n",
       "         -1.89748928e-01,  1.19732070e+00, -3.80373091e-01,\n",
       "         -9.44077909e-01,  6.27965808e-01, -2.17748269e-01,\n",
       "         -5.12085855e-01, -3.73644263e-01, -1.64920080e+00,\n",
       "          2.89645255e-01,  5.07815838e-01, -2.59423971e-01,\n",
       "         -6.51100874e-01, -6.87307194e-02,  7.55767882e-01,\n",
       "         -8.99312019e-01, -8.04552555e-01,  1.16042840e+00,\n",
       "         -4.13816631e-01,  9.73384500e-01, -2.14881495e-01,\n",
       "         -3.08473766e-01, -4.88864481e-01,  1.15309048e+00,\n",
       "          8.80932689e-01,  1.14355445e+00, -3.64597589e-01,\n",
       "         -8.45722407e-02,  1.13854468e+00, -6.69433117e-01,\n",
       "          4.89184171e-01,  1.58515185e-01,  2.00448608e+00,\n",
       "         -6.79608762e-01, -4.84916121e-01,  3.83976161e-01,\n",
       "          1.83551997e-01,  2.60459006e-01,  2.99465746e-01,\n",
       "          1.46994543e+00,  2.70279258e-01, -4.44759279e-01,\n",
       "         -6.73248887e-01,  1.01057172e+00,  9.14509445e-02,\n",
       "         -1.28113616e+00, -3.85737449e-01, -9.32640061e-02,\n",
       "         -3.63236696e-01,  7.38979220e-01, -1.12618411e+00,\n",
       "          7.58199096e-01,  2.99564153e-01,  4.98703867e-01,\n",
       "          1.63578236e+00, -1.26228499e+00, -2.97442555e-01,\n",
       "         -1.14191759e+00, -1.31500602e+00,  1.28876722e+00,\n",
       "          7.33742118e-01,  6.72323942e-01,  2.92230070e-01,\n",
       "          1.16772985e+00, -4.64793086e-01,  4.59744334e-01,\n",
       "          3.68655980e-01,  4.08969484e-02,  1.22276722e-02,\n",
       "          9.42791820e-01, -7.59149194e-01,  1.58779311e+00,\n",
       "         -3.03732365e-01,  1.83356255e-01,  4.12620842e-01,\n",
       "         -1.05851054e-01, -2.17564508e-01, -3.19447517e-01,\n",
       "          3.66390914e-01, -3.90299767e-01, -5.33755839e-01,\n",
       "         -4.23168033e-01,  4.76731122e-01, -2.02581421e-01,\n",
       "         -1.50045824e+00,  4.27961767e-01,  1.78370714e-01,\n",
       "         -9.40959394e-01, -4.42987569e-02, -9.03817732e-03,\n",
       "         -1.67059436e-01,  2.12465405e+00,  3.48595142e-01,\n",
       "         -1.56502652e+00, -7.20641494e-01,  7.57828534e-01,\n",
       "         -9.33395982e-01,  9.28961217e-01, -1.60540020e+00,\n",
       "         -1.18763685e+00,  3.90890062e-01, -2.00086713e+00,\n",
       "         -4.02744144e-01,  7.49633461e-02, -3.72195959e-01,\n",
       "          1.27445769e+00,  3.12130630e-01, -1.43382084e+00,\n",
       "          1.80924094e+00,  9.93339241e-01, -3.04909587e-01,\n",
       "         -6.56780362e-01,  1.58203936e+00, -4.24589008e-01,\n",
       "         -1.52726030e+00, -9.89634514e-01, -3.19966763e-01,\n",
       "          3.56264412e-01, -4.96503890e-01,  8.63749325e-01,\n",
       "         -8.76211002e-03, -1.16535783e+00, -4.60575759e-01,\n",
       "          6.92252100e-01, -6.07024908e-01, -2.54662275e-01,\n",
       "         -7.95536458e-01,  2.39251349e-02,  7.77155578e-01,\n",
       "         -1.54345310e+00, -3.69393051e-01, -3.01929146e-01,\n",
       "         -1.83834469e+00, -8.77658725e-02, -8.82087708e-01,\n",
       "         -4.67541963e-02, -3.77933741e-01,  6.50707066e-01,\n",
       "          9.48032916e-01, -1.24794364e+00,  1.56443465e+00,\n",
       "          1.63737655e+00,  1.77174783e+00,  5.87394893e-01,\n",
       "         -1.21427512e+00,  2.58310527e-01, -1.76635161e-01,\n",
       "          1.05645335e+00,  5.56918740e-01,  9.97860253e-01,\n",
       "         -6.13114595e-01,  6.88759029e-01, -4.12671030e-01,\n",
       "          5.90723336e-01,  3.12820911e-01, -6.04053020e-01,\n",
       "         -6.62040532e-01, -4.79508251e-01,  1.48233140e+00,\n",
       "          7.95982897e-01, -6.97410643e-01,  6.68495417e-01,\n",
       "          8.65309417e-01,  6.22884095e-01,  2.83054840e-02,\n",
       "         -2.48513475e-01, -4.71216217e-02,  3.63553077e-01,\n",
       "         -4.34787154e-01,  3.71471159e-02,  7.97261059e-01,\n",
       "         -6.83440566e-01,  9.51632202e-01, -1.52364683e+00]],\n",
       "       dtype=float32)"
      ]
     },
     "execution_count": 44,
     "metadata": {},
     "output_type": "execute_result"
    }
   ],
   "source": [
    "query_emb"
   ]
  },
  {
   "cell_type": "code",
   "execution_count": 45,
   "id": "71225946-7cae-4490-86e3-b3a15fb85cea",
   "metadata": {},
   "outputs": [
    {
     "data": {
      "text/plain": [
       "3.9169831"
      ]
     },
     "execution_count": 45,
     "metadata": {},
     "output_type": "execute_result"
    }
   ],
   "source": [
    "l2_distance(first_query_emb,query_emb)"
   ]
  },
  {
   "cell_type": "code",
   "execution_count": 47,
   "id": "ae2befb1-b0c7-4016-8bbd-6e2c8f832e5d",
   "metadata": {},
   "outputs": [
    {
     "name": "stdout",
     "output_type": "stream",
     "text": [
      "Query Num 1\n"
     ]
    },
    {
     "name": "stderr",
     "output_type": "stream",
     "text": [
      "100%|████████████████████████████████████████████████████| 1/1 [00:00<00:00, 240.39it/s]"
     ]
    },
    {
     "name": "stdout",
     "output_type": "stream",
     "text": [
      "Elapsed Time: 0.0s, Elapsed Time per query: 7.8ms\n",
      "Retrieved top 1000 for 31_2\n"
     ]
    },
    {
     "name": "stderr",
     "output_type": "stream",
     "text": [
      "\n"
     ]
    }
   ],
   "source": [
    "# retrieve docs for qb\n",
    "faiss.omp_set_num_threads(16) #32\n",
    "nearest_neighbors_qb = index_retrieve(index_conv, query_emb, 1000, batch=32)\n",
    "print(\"Retrieved top 1000 for\", qb_id)"
   ]
  },
  {
   "cell_type": "code",
   "execution_count": null,
   "id": "8280b2ca-3454-42b9-a374-10fe7fe1e321",
   "metadata": {},
   "outputs": [],
   "source": []
  },
  {
   "cell_type": "code",
   "execution_count": null,
   "id": "c8d60652-5641-4b15-bda6-eec00863730c",
   "metadata": {},
   "outputs": [
    {
     "name": "stdout",
     "output_type": "stream",
     "text": [
      "Starting conv:  31\n",
      "Query Num 1\n"
     ]
    },
    {
     "name": "stderr",
     "output_type": "stream",
     "text": [
      "\n",
      "\n",
      "  0%|                                                             | 0/1 [00:00<?, ?it/s]\u001b[A\u001b[A\n",
      "\n",
      "100%|█████████████████████████████████████████████████████| 1/1 [01:13<00:00, 73.13s/it]\u001b[A\u001b[A\n"
     ]
    },
    {
     "name": "stdout",
     "output_type": "stream",
     "text": [
      "Elapsed Time: 73.1s, Elapsed Time per query: 73137.9ms\n",
      "embedding shape: (2000, 768)\n",
      "(2000,) int64\n",
      "Create cache for:  31\n",
      "Processing qid: 31_2\n",
      "Query Num 1\n"
     ]
    },
    {
     "name": "stderr",
     "output_type": "stream",
     "text": [
      "\n",
      "\n",
      "100%|████████████████████████████████████████████████████| 1/1 [00:00<00:00, 167.30it/s]\u001b[A\u001b[A\n"
     ]
    },
    {
     "name": "stdout",
     "output_type": "stream",
     "text": [
      "Elapsed Time: 0.0s, Elapsed Time per query: 10.3ms\n",
      "Retrieved top 1000 for 31_2\n",
      "Computing distances and coverage!\n",
      "Finished for Rb hat!\n",
      "Query Num 1\n"
     ]
    },
    {
     "name": "stderr",
     "output_type": "stream",
     "text": [
      "\n",
      "\n",
      "  0%|                                                             | 0/1 [00:00<?, ?it/s]\u001b[A\u001b[A\n",
      "\n",
      "100%|█████████████████████████████████████████████████████| 1/1 [01:09<00:00, 69.53s/it]\u001b[A\u001b[A\n"
     ]
    },
    {
     "name": "stdout",
     "output_type": "stream",
     "text": [
      "Elapsed Time: 69.5s, Elapsed Time per query: 69532.7ms\n",
      "Finished retrieving in the big index!\n",
      "finished with qid:  31_2\n",
      "Processing qid: 31_3\n",
      "Query Num 1\n"
     ]
    },
    {
     "name": "stderr",
     "output_type": "stream",
     "text": [
      "\n",
      "\n",
      "100%|████████████████████████████████████████████████████| 1/1 [00:00<00:00, 237.56it/s]\u001b[A\u001b[A\n"
     ]
    },
    {
     "name": "stdout",
     "output_type": "stream",
     "text": [
      "Elapsed Time: 0.0s, Elapsed Time per query: 7.1ms\n",
      "Retrieved top 1000 for 31_3\n",
      "Computing distances and coverage!\n",
      "Finished for Rb hat!\n",
      "Query Num 1\n"
     ]
    },
    {
     "name": "stderr",
     "output_type": "stream",
     "text": [
      "\n",
      "\n",
      "  0%|                                                             | 0/1 [00:00<?, ?it/s]\u001b[A\u001b[A\n",
      "\n",
      "100%|█████████████████████████████████████████████████████| 1/1 [01:08<00:00, 68.38s/it]\u001b[A\u001b[A\n"
     ]
    },
    {
     "name": "stdout",
     "output_type": "stream",
     "text": [
      "Elapsed Time: 68.4s, Elapsed Time per query: 68379.0ms\n",
      "Finished retrieving in the big index!\n",
      "finished with qid:  31_3\n",
      "Processing qid: 31_4\n",
      "Query Num 1\n"
     ]
    },
    {
     "name": "stderr",
     "output_type": "stream",
     "text": [
      "\n",
      "\n",
      "100%|█████████████████████████████████████████████████████| 1/1 [00:00<00:00, 92.21it/s]\u001b[A\u001b[A\n"
     ]
    },
    {
     "name": "stdout",
     "output_type": "stream",
     "text": [
      "Elapsed Time: 0.0s, Elapsed Time per query: 14.9ms\n",
      "Retrieved top 1000 for 31_4\n",
      "Computing distances and coverage!\n",
      "Finished for Rb hat!\n",
      "Query Num 1\n"
     ]
    },
    {
     "name": "stderr",
     "output_type": "stream",
     "text": [
      "\n",
      "\n",
      "  0%|                                                             | 0/1 [00:00<?, ?it/s]\u001b[A\u001b[A\n",
      "\n",
      "100%|█████████████████████████████████████████████████████| 1/1 [01:10<00:00, 70.37s/it]\u001b[A\u001b[A\n"
     ]
    },
    {
     "name": "stdout",
     "output_type": "stream",
     "text": [
      "Elapsed Time: 70.4s, Elapsed Time per query: 70375.2ms\n",
      "Finished retrieving in the big index!\n",
      "finished with qid:  31_4\n",
      "Processing qid: 31_5\n",
      "Query Num 1\n"
     ]
    },
    {
     "name": "stderr",
     "output_type": "stream",
     "text": [
      "\n",
      "\n",
      "100%|█████████████████████████████████████████████████████| 1/1 [00:00<00:00, 90.52it/s]\u001b[A\u001b[A\n"
     ]
    },
    {
     "name": "stdout",
     "output_type": "stream",
     "text": [
      "Elapsed Time: 0.0s, Elapsed Time per query: 15.3ms\n",
      "Retrieved top 1000 for 31_5\n",
      "Computing distances and coverage!\n",
      "Finished for Rb hat!\n",
      "Query Num 1\n"
     ]
    },
    {
     "name": "stderr",
     "output_type": "stream",
     "text": [
      "\n",
      "\n",
      "  0%|                                                             | 0/1 [00:00<?, ?it/s]\u001b[A\u001b[A\n",
      "\n",
      "100%|█████████████████████████████████████████████████████| 1/1 [01:08<00:00, 68.94s/it]\u001b[A\u001b[A\n"
     ]
    },
    {
     "name": "stdout",
     "output_type": "stream",
     "text": [
      "Elapsed Time: 68.9s, Elapsed Time per query: 68938.1ms\n",
      "Finished retrieving in the big index!\n",
      "finished with qid:  31_5\n",
      "Processing qid: 31_6\n",
      "Query Num 1\n"
     ]
    },
    {
     "name": "stderr",
     "output_type": "stream",
     "text": [
      "\n",
      "\n",
      "100%|████████████████████████████████████████████████████| 1/1 [00:00<00:00, 178.60it/s]\u001b[A\u001b[A\n"
     ]
    },
    {
     "name": "stdout",
     "output_type": "stream",
     "text": [
      "Elapsed Time: 0.0s, Elapsed Time per query: 10.0ms\n",
      "Retrieved top 1000 for 31_6\n",
      "Computing distances and coverage!\n",
      "Finished for Rb hat!\n",
      "Query Num 1\n"
     ]
    },
    {
     "name": "stderr",
     "output_type": "stream",
     "text": [
      "\n",
      "\n",
      "  0%|                                                             | 0/1 [00:00<?, ?it/s]\u001b[A\u001b[A\n",
      "\n",
      "100%|█████████████████████████████████████████████████████| 1/1 [01:09<00:00, 69.57s/it]\u001b[A\u001b[A\n"
     ]
    },
    {
     "name": "stdout",
     "output_type": "stream",
     "text": [
      "Elapsed Time: 69.6s, Elapsed Time per query: 69568.5ms\n",
      "Finished retrieving in the big index!\n",
      "finished with qid:  31_6\n",
      "Processing qid: 31_7\n",
      "Query Num 1\n"
     ]
    },
    {
     "name": "stderr",
     "output_type": "stream",
     "text": [
      "\n",
      "\n",
      "100%|████████████████████████████████████████████████████| 1/1 [00:00<00:00, 153.60it/s]\u001b[A\u001b[A\n"
     ]
    },
    {
     "name": "stdout",
     "output_type": "stream",
     "text": [
      "Elapsed Time: 0.0s, Elapsed Time per query: 10.8ms\n",
      "Retrieved top 1000 for 31_7\n",
      "Computing distances and coverage!\n",
      "Finished for Rb hat!\n",
      "Query Num 1\n"
     ]
    },
    {
     "name": "stderr",
     "output_type": "stream",
     "text": [
      "\n",
      "\n",
      "  0%|                                                             | 0/1 [00:00<?, ?it/s]\u001b[A\u001b[A\n",
      "\n",
      "100%|█████████████████████████████████████████████████████| 1/1 [01:11<00:00, 71.38s/it]\u001b[A\u001b[A\n"
     ]
    },
    {
     "name": "stdout",
     "output_type": "stream",
     "text": [
      "Elapsed Time: 71.4s, Elapsed Time per query: 71387.1ms\n",
      "Finished retrieving in the big index!\n",
      "finished with qid:  31_7\n",
      "Processing qid: 31_8\n",
      "Query Num 1\n"
     ]
    },
    {
     "name": "stderr",
     "output_type": "stream",
     "text": [
      "\n",
      "\n",
      "100%|████████████████████████████████████████████████████| 1/1 [00:00<00:00, 239.41it/s]\u001b[A\u001b[A\n"
     ]
    },
    {
     "name": "stdout",
     "output_type": "stream",
     "text": [
      "Elapsed Time: 0.0s, Elapsed Time per query: 6.9ms\n",
      "Retrieved top 1000 for 31_8\n",
      "Computing distances and coverage!\n",
      "Finished for Rb hat!\n",
      "Query Num 1\n"
     ]
    },
    {
     "name": "stderr",
     "output_type": "stream",
     "text": [
      "\n",
      "\n",
      "  0%|                                                             | 0/1 [00:00<?, ?it/s]\u001b[A\u001b[A\n",
      "\n",
      "100%|█████████████████████████████████████████████████████| 1/1 [01:09<00:00, 69.64s/it]\u001b[A\u001b[A\n"
     ]
    },
    {
     "name": "stdout",
     "output_type": "stream",
     "text": [
      "Elapsed Time: 69.6s, Elapsed Time per query: 69638.3ms\n",
      "Finished retrieving in the big index!\n",
      "finished with qid:  31_8\n",
      "Processing qid: 31_9\n",
      "Query Num 1\n"
     ]
    },
    {
     "name": "stderr",
     "output_type": "stream",
     "text": [
      "\n",
      "\n",
      "100%|████████████████████████████████████████████████████| 1/1 [00:00<00:00, 139.05it/s]\u001b[A\u001b[A\n"
     ]
    },
    {
     "name": "stdout",
     "output_type": "stream",
     "text": [
      "Elapsed Time: 0.0s, Elapsed Time per query: 10.5ms\n",
      "Retrieved top 1000 for 31_9\n",
      "Computing distances and coverage!\n",
      "Finished for Rb hat!\n",
      "Query Num 1\n"
     ]
    },
    {
     "name": "stderr",
     "output_type": "stream",
     "text": [
      "\n",
      "\n",
      "  0%|                                                             | 0/1 [00:00<?, ?it/s]\u001b[A\u001b[A\n",
      "\n",
      "100%|█████████████████████████████████████████████████████| 1/1 [01:10<00:00, 70.39s/it]\u001b[A\u001b[A\n"
     ]
    },
    {
     "name": "stdout",
     "output_type": "stream",
     "text": [
      "Elapsed Time: 70.4s, Elapsed Time per query: 70396.6ms\n",
      "Finished retrieving in the big index!\n",
      "finished with qid:  31_9\n",
      "Starting conv:  32\n",
      "Query Num 1\n"
     ]
    },
    {
     "name": "stderr",
     "output_type": "stream",
     "text": [
      "\n",
      "\n",
      "  0%|                                                             | 0/1 [00:00<?, ?it/s]\u001b[A\u001b[A\n",
      "\n",
      "100%|█████████████████████████████████████████████████████| 1/1 [01:08<00:00, 68.79s/it]\u001b[A\u001b[A\n"
     ]
    },
    {
     "name": "stdout",
     "output_type": "stream",
     "text": [
      "Elapsed Time: 68.8s, Elapsed Time per query: 68791.3ms\n",
      "embedding shape: (2000, 768)\n",
      "(2000,) int64\n",
      "Create cache for:  32\n",
      "Processing qid: 32_2\n",
      "Query Num 1\n"
     ]
    },
    {
     "name": "stderr",
     "output_type": "stream",
     "text": [
      "\n",
      "\n",
      "100%|████████████████████████████████████████████████████| 1/1 [00:00<00:00, 103.77it/s]\u001b[A\u001b[A\n"
     ]
    },
    {
     "name": "stdout",
     "output_type": "stream",
     "text": [
      "Elapsed Time: 0.0s, Elapsed Time per query: 13.5ms\n",
      "Retrieved top 1000 for 32_2\n",
      "Computing distances and coverage!\n",
      "Finished for Rb hat!\n",
      "Query Num 1\n"
     ]
    },
    {
     "name": "stderr",
     "output_type": "stream",
     "text": [
      "\n",
      "\n",
      "  0%|                                                             | 0/1 [00:00<?, ?it/s]\u001b[A\u001b[A\n",
      "\n",
      "100%|█████████████████████████████████████████████████████| 1/1 [01:10<00:00, 70.46s/it]\u001b[A\u001b[A\n"
     ]
    },
    {
     "name": "stdout",
     "output_type": "stream",
     "text": [
      "Elapsed Time: 70.5s, Elapsed Time per query: 70466.8ms\n",
      "Finished retrieving in the big index!\n",
      "finished with qid:  32_2\n",
      "Processing qid: 32_3\n",
      "Query Num 1\n"
     ]
    },
    {
     "name": "stderr",
     "output_type": "stream",
     "text": [
      "\n",
      "\n",
      "100%|████████████████████████████████████████████████████| 1/1 [00:00<00:00, 271.53it/s]\u001b[A\u001b[A\n"
     ]
    },
    {
     "name": "stdout",
     "output_type": "stream",
     "text": [
      "Elapsed Time: 0.0s, Elapsed Time per query: 10.9ms\n",
      "Retrieved top 1000 for 32_3\n",
      "Computing distances and coverage!\n",
      "Finished for Rb hat!\n",
      "Query Num 1\n"
     ]
    },
    {
     "name": "stderr",
     "output_type": "stream",
     "text": [
      "\n",
      "\n",
      "  0%|                                                             | 0/1 [00:00<?, ?it/s]\u001b[A\u001b[A\n",
      "\n",
      "100%|█████████████████████████████████████████████████████| 1/1 [01:08<00:00, 68.43s/it]\u001b[A\u001b[A\n"
     ]
    },
    {
     "name": "stdout",
     "output_type": "stream",
     "text": [
      "Elapsed Time: 68.4s, Elapsed Time per query: 68434.6ms\n",
      "Finished retrieving in the big index!\n",
      "finished with qid:  32_3\n",
      "Processing qid: 32_4\n",
      "Query Num 1\n"
     ]
    },
    {
     "name": "stderr",
     "output_type": "stream",
     "text": [
      "\n",
      "\n",
      "100%|████████████████████████████████████████████████████| 1/1 [00:00<00:00, 322.39it/s]\u001b[A\u001b[A\n"
     ]
    },
    {
     "name": "stdout",
     "output_type": "stream",
     "text": [
      "Elapsed Time: 0.0s, Elapsed Time per query: 5.7ms\n",
      "Retrieved top 1000 for 32_4\n",
      "Computing distances and coverage!\n",
      "Finished for Rb hat!\n",
      "Query Num 1\n"
     ]
    },
    {
     "name": "stderr",
     "output_type": "stream",
     "text": [
      "\n",
      "\n",
      "  0%|                                                             | 0/1 [00:00<?, ?it/s]\u001b[A\u001b[A\n",
      "\n",
      "100%|█████████████████████████████████████████████████████| 1/1 [01:08<00:00, 68.70s/it]\u001b[A\u001b[A\n"
     ]
    },
    {
     "name": "stdout",
     "output_type": "stream",
     "text": [
      "Elapsed Time: 68.7s, Elapsed Time per query: 68704.8ms\n",
      "Finished retrieving in the big index!\n",
      "finished with qid:  32_4\n",
      "Processing qid: 32_5\n",
      "Query Num 1\n"
     ]
    },
    {
     "name": "stderr",
     "output_type": "stream",
     "text": [
      "\n",
      "\n",
      "100%|████████████████████████████████████████████████████| 1/1 [00:00<00:00, 200.89it/s]\u001b[A\u001b[A\n"
     ]
    },
    {
     "name": "stdout",
     "output_type": "stream",
     "text": [
      "Elapsed Time: 0.0s, Elapsed Time per query: 7.9ms\n",
      "Retrieved top 1000 for 32_5\n",
      "Computing distances and coverage!\n",
      "Finished for Rb hat!\n",
      "Query Num 1\n"
     ]
    },
    {
     "name": "stderr",
     "output_type": "stream",
     "text": [
      "\n",
      "\n",
      "  0%|                                                             | 0/1 [00:00<?, ?it/s]\u001b[A\u001b[A\n",
      "\n",
      "100%|█████████████████████████████████████████████████████| 1/1 [01:10<00:00, 70.40s/it]\u001b[A\u001b[A\n"
     ]
    },
    {
     "name": "stdout",
     "output_type": "stream",
     "text": [
      "Elapsed Time: 70.4s, Elapsed Time per query: 70406.6ms\n",
      "Finished retrieving in the big index!\n",
      "finished with qid:  32_5\n",
      "Processing qid: 32_6\n",
      "Query Num 1\n"
     ]
    },
    {
     "name": "stderr",
     "output_type": "stream",
     "text": [
      "\n",
      "\n",
      "100%|████████████████████████████████████████████████████| 1/1 [00:00<00:00, 136.05it/s]\u001b[A\u001b[A\n"
     ]
    },
    {
     "name": "stdout",
     "output_type": "stream",
     "text": [
      "Elapsed Time: 0.0s, Elapsed Time per query: 12.0ms\n",
      "Retrieved top 1000 for 32_6\n",
      "Computing distances and coverage!\n",
      "Finished for Rb hat!\n",
      "Query Num 1\n"
     ]
    },
    {
     "name": "stderr",
     "output_type": "stream",
     "text": [
      "\n",
      "\n",
      "  0%|                                                             | 0/1 [00:00<?, ?it/s]\u001b[A\u001b[A\n",
      "\n",
      "100%|█████████████████████████████████████████████████████| 1/1 [01:09<00:00, 69.04s/it]\u001b[A\u001b[A\n"
     ]
    },
    {
     "name": "stdout",
     "output_type": "stream",
     "text": [
      "Elapsed Time: 69.0s, Elapsed Time per query: 69040.7ms\n",
      "Finished retrieving in the big index!\n",
      "finished with qid:  32_6\n",
      "Processing qid: 32_7\n",
      "Query Num 1\n"
     ]
    },
    {
     "name": "stderr",
     "output_type": "stream",
     "text": [
      "\n",
      "\n",
      "100%|████████████████████████████████████████████████████| 1/1 [00:00<00:00, 314.58it/s]\u001b[A\u001b[A\n"
     ]
    },
    {
     "name": "stdout",
     "output_type": "stream",
     "text": [
      "Elapsed Time: 0.0s, Elapsed Time per query: 6.3ms\n",
      "Retrieved top 1000 for 32_7\n",
      "Computing distances and coverage!\n",
      "Finished for Rb hat!\n",
      "Query Num 1\n"
     ]
    },
    {
     "name": "stderr",
     "output_type": "stream",
     "text": [
      "\n",
      "\n",
      "  0%|                                                             | 0/1 [00:00<?, ?it/s]\u001b[A\u001b[A\n",
      "\n",
      "100%|█████████████████████████████████████████████████████| 1/1 [01:09<00:00, 69.35s/it]\u001b[A\u001b[A\n"
     ]
    },
    {
     "name": "stdout",
     "output_type": "stream",
     "text": [
      "Elapsed Time: 69.4s, Elapsed Time per query: 69351.8ms\n",
      "Finished retrieving in the big index!\n",
      "finished with qid:  32_7\n",
      "Processing qid: 32_8\n",
      "Query Num 1\n"
     ]
    },
    {
     "name": "stderr",
     "output_type": "stream",
     "text": [
      "\n",
      "\n",
      "100%|████████████████████████████████████████████████████| 1/1 [00:00<00:00, 266.15it/s]\u001b[A\u001b[A\n"
     ]
    },
    {
     "name": "stdout",
     "output_type": "stream",
     "text": [
      "Elapsed Time: 0.0s, Elapsed Time per query: 6.9ms\n",
      "Retrieved top 1000 for 32_8\n",
      "Computing distances and coverage!\n",
      "Finished for Rb hat!\n",
      "Query Num 1\n"
     ]
    },
    {
     "name": "stderr",
     "output_type": "stream",
     "text": [
      "\n",
      "\n",
      "  0%|                                                             | 0/1 [00:00<?, ?it/s]\u001b[A\u001b[A\n",
      "\n",
      "100%|█████████████████████████████████████████████████████| 1/1 [01:09<00:00, 69.22s/it]\u001b[A\u001b[A\n"
     ]
    },
    {
     "name": "stdout",
     "output_type": "stream",
     "text": [
      "Elapsed Time: 69.2s, Elapsed Time per query: 69226.2ms\n",
      "Finished retrieving in the big index!\n",
      "finished with qid:  32_8\n",
      "Processing qid: 32_9\n",
      "Query Num 1\n"
     ]
    },
    {
     "name": "stderr",
     "output_type": "stream",
     "text": [
      "\n",
      "\n",
      "100%|████████████████████████████████████████████████████| 1/1 [00:00<00:00, 126.40it/s]\u001b[A\u001b[A\n"
     ]
    },
    {
     "name": "stdout",
     "output_type": "stream",
     "text": [
      "Elapsed Time: 0.0s, Elapsed Time per query: 11.3ms\n",
      "Retrieved top 1000 for 32_9\n",
      "Computing distances and coverage!\n",
      "Finished for Rb hat!\n",
      "Query Num 1\n"
     ]
    },
    {
     "name": "stderr",
     "output_type": "stream",
     "text": [
      "\n",
      "\n",
      "  0%|                                                             | 0/1 [00:00<?, ?it/s]\u001b[A\u001b[A\n",
      "\n",
      "100%|█████████████████████████████████████████████████████| 1/1 [01:09<00:00, 69.56s/it]\u001b[A\u001b[A\n"
     ]
    },
    {
     "name": "stdout",
     "output_type": "stream",
     "text": [
      "Elapsed Time: 69.6s, Elapsed Time per query: 69569.2ms\n",
      "Finished retrieving in the big index!\n",
      "finished with qid:  32_9\n",
      "Processing qid: 32_10\n",
      "Query Num 1\n"
     ]
    },
    {
     "name": "stderr",
     "output_type": "stream",
     "text": [
      "\n",
      "\n",
      "100%|████████████████████████████████████████████████████| 1/1 [00:00<00:00, 245.04it/s]\u001b[A\u001b[A\n"
     ]
    },
    {
     "name": "stdout",
     "output_type": "stream",
     "text": [
      "Elapsed Time: 0.0s, Elapsed Time per query: 8.0ms\n",
      "Retrieved top 1000 for 32_10\n",
      "Computing distances and coverage!\n",
      "Finished for Rb hat!\n",
      "Query Num 1\n"
     ]
    },
    {
     "name": "stderr",
     "output_type": "stream",
     "text": [
      "\n",
      "\n",
      "  0%|                                                             | 0/1 [00:00<?, ?it/s]\u001b[A\u001b[A\n",
      "\n",
      "100%|█████████████████████████████████████████████████████| 1/1 [01:09<00:00, 69.07s/it]\u001b[A\u001b[A\n"
     ]
    },
    {
     "name": "stdout",
     "output_type": "stream",
     "text": [
      "Elapsed Time: 69.1s, Elapsed Time per query: 69075.0ms\n",
      "Finished retrieving in the big index!\n",
      "finished with qid:  32_10\n",
      "Processing qid: 32_11\n",
      "Query Num 1\n"
     ]
    },
    {
     "name": "stderr",
     "output_type": "stream",
     "text": [
      "\n",
      "\n",
      "100%|████████████████████████████████████████████████████| 1/1 [00:00<00:00, 130.85it/s]\u001b[A\u001b[A\n"
     ]
    },
    {
     "name": "stdout",
     "output_type": "stream",
     "text": [
      "Elapsed Time: 0.0s, Elapsed Time per query: 10.8ms\n",
      "Retrieved top 1000 for 32_11\n",
      "Computing distances and coverage!\n",
      "Finished for Rb hat!\n",
      "Query Num 1\n"
     ]
    },
    {
     "name": "stderr",
     "output_type": "stream",
     "text": [
      "\n",
      "\n",
      "  0%|                                                             | 0/1 [00:00<?, ?it/s]\u001b[A\u001b[A\n",
      "\n",
      "100%|█████████████████████████████████████████████████████| 1/1 [01:10<00:00, 70.55s/it]\u001b[A\u001b[A\n"
     ]
    },
    {
     "name": "stdout",
     "output_type": "stream",
     "text": [
      "Elapsed Time: 70.5s, Elapsed Time per query: 70549.4ms\n",
      "Finished retrieving in the big index!\n",
      "finished with qid:  32_11\n",
      "Starting conv:  33\n",
      "Query Num 1\n"
     ]
    },
    {
     "name": "stderr",
     "output_type": "stream",
     "text": [
      "\n",
      "\n",
      "  0%|                                                             | 0/1 [00:00<?, ?it/s]\u001b[A\u001b[A\n",
      "\n",
      "100%|█████████████████████████████████████████████████████| 1/1 [01:09<00:00, 69.34s/it]\u001b[A\u001b[A\n"
     ]
    },
    {
     "name": "stdout",
     "output_type": "stream",
     "text": [
      "Elapsed Time: 69.3s, Elapsed Time per query: 69345.2ms\n",
      "embedding shape: (2000, 768)\n",
      "(2000,) int64\n",
      "Create cache for:  33\n",
      "Processing qid: 33_2\n",
      "Query Num 1\n"
     ]
    },
    {
     "name": "stderr",
     "output_type": "stream",
     "text": [
      "\n",
      "\n",
      "100%|████████████████████████████████████████████████████| 1/1 [00:00<00:00, 111.41it/s]\u001b[A\u001b[A\n"
     ]
    },
    {
     "name": "stdout",
     "output_type": "stream",
     "text": [
      "Elapsed Time: 0.0s, Elapsed Time per query: 13.4ms\n",
      "Retrieved top 1000 for 33_2\n",
      "Computing distances and coverage!\n",
      "Finished for Rb hat!\n",
      "Query Num 1\n"
     ]
    },
    {
     "name": "stderr",
     "output_type": "stream",
     "text": [
      "\n",
      "\n",
      "  0%|                                                             | 0/1 [00:00<?, ?it/s]\u001b[A\u001b[A\n",
      "\n",
      "100%|█████████████████████████████████████████████████████| 1/1 [01:08<00:00, 68.62s/it]\u001b[A\u001b[A\n"
     ]
    },
    {
     "name": "stdout",
     "output_type": "stream",
     "text": [
      "Elapsed Time: 68.6s, Elapsed Time per query: 68626.4ms\n",
      "Finished retrieving in the big index!\n",
      "finished with qid:  33_2\n",
      "Processing qid: 33_3\n",
      "Query Num 1\n"
     ]
    },
    {
     "name": "stderr",
     "output_type": "stream",
     "text": [
      "\n",
      "\n",
      "100%|████████████████████████████████████████████████████| 1/1 [00:00<00:00, 158.53it/s]\u001b[A\u001b[A\n"
     ]
    },
    {
     "name": "stdout",
     "output_type": "stream",
     "text": [
      "Elapsed Time: 0.0s, Elapsed Time per query: 11.0ms\n",
      "Retrieved top 1000 for 33_3\n",
      "Computing distances and coverage!\n",
      "Finished for Rb hat!\n",
      "Query Num 1\n"
     ]
    },
    {
     "name": "stderr",
     "output_type": "stream",
     "text": [
      "\n",
      "\n",
      "  0%|                                                             | 0/1 [00:00<?, ?it/s]\u001b[A\u001b[A\n",
      "\n",
      "100%|█████████████████████████████████████████████████████| 1/1 [01:08<00:00, 68.56s/it]\u001b[A\u001b[A\n"
     ]
    },
    {
     "name": "stdout",
     "output_type": "stream",
     "text": [
      "Elapsed Time: 68.6s, Elapsed Time per query: 68563.8ms\n",
      "Finished retrieving in the big index!\n",
      "finished with qid:  33_3\n",
      "Processing qid: 33_4\n",
      "Query Num 1\n"
     ]
    },
    {
     "name": "stderr",
     "output_type": "stream",
     "text": [
      "\n",
      "\n",
      "100%|████████████████████████████████████████████████████| 1/1 [00:00<00:00, 152.99it/s]\u001b[A\u001b[A\n"
     ]
    },
    {
     "name": "stdout",
     "output_type": "stream",
     "text": [
      "Elapsed Time: 0.0s, Elapsed Time per query: 11.0ms\n",
      "Retrieved top 1000 for 33_4\n",
      "Computing distances and coverage!\n",
      "Finished for Rb hat!\n",
      "Query Num 1\n"
     ]
    },
    {
     "name": "stderr",
     "output_type": "stream",
     "text": [
      "\n",
      "\n",
      "  0%|                                                             | 0/1 [00:00<?, ?it/s]\u001b[A\u001b[A\n",
      "\n",
      "100%|█████████████████████████████████████████████████████| 1/1 [01:10<00:00, 70.27s/it]\u001b[A\u001b[A\n"
     ]
    },
    {
     "name": "stdout",
     "output_type": "stream",
     "text": [
      "Elapsed Time: 70.3s, Elapsed Time per query: 70275.6ms\n",
      "Finished retrieving in the big index!\n",
      "finished with qid:  33_4\n",
      "Processing qid: 33_5\n",
      "Query Num 1\n"
     ]
    },
    {
     "name": "stderr",
     "output_type": "stream",
     "text": [
      "\n",
      "\n",
      "100%|█████████████████████████████████████████████████████| 1/1 [00:00<00:00, 84.78it/s]\u001b[A\u001b[A\n"
     ]
    },
    {
     "name": "stdout",
     "output_type": "stream",
     "text": [
      "Elapsed Time: 0.0s, Elapsed Time per query: 14.7ms\n",
      "Retrieved top 1000 for 33_5\n",
      "Computing distances and coverage!\n",
      "Finished for Rb hat!\n",
      "Query Num 1\n"
     ]
    },
    {
     "name": "stderr",
     "output_type": "stream",
     "text": [
      "\n",
      "\n",
      "  0%|                                                             | 0/1 [00:00<?, ?it/s]\u001b[A\u001b[A\n",
      "\n",
      "100%|█████████████████████████████████████████████████████| 1/1 [01:11<00:00, 71.25s/it]\u001b[A\u001b[A\n"
     ]
    },
    {
     "name": "stdout",
     "output_type": "stream",
     "text": [
      "Elapsed Time: 71.2s, Elapsed Time per query: 71248.5ms\n",
      "Finished retrieving in the big index!\n",
      "finished with qid:  33_5\n",
      "Processing qid: 33_6\n",
      "Query Num 1\n"
     ]
    },
    {
     "name": "stderr",
     "output_type": "stream",
     "text": [
      "\n",
      "\n",
      "100%|████████████████████████████████████████████████████| 1/1 [00:00<00:00, 173.90it/s]\u001b[A\u001b[A\n"
     ]
    },
    {
     "name": "stdout",
     "output_type": "stream",
     "text": [
      "Elapsed Time: 0.0s, Elapsed Time per query: 11.9ms\n",
      "Retrieved top 1000 for 33_6\n",
      "Computing distances and coverage!\n",
      "Finished for Rb hat!\n",
      "Query Num 1\n"
     ]
    },
    {
     "name": "stderr",
     "output_type": "stream",
     "text": [
      "\n",
      "\n",
      "  0%|                                                             | 0/1 [00:00<?, ?it/s]\u001b[A\u001b[A\n",
      "\n",
      "100%|█████████████████████████████████████████████████████| 1/1 [01:08<00:00, 68.69s/it]\u001b[A\u001b[A\n"
     ]
    },
    {
     "name": "stdout",
     "output_type": "stream",
     "text": [
      "Elapsed Time: 68.7s, Elapsed Time per query: 68717.3ms\n",
      "Finished retrieving in the big index!\n",
      "finished with qid:  33_6\n",
      "Processing qid: 33_7\n",
      "Query Num 1\n"
     ]
    },
    {
     "name": "stderr",
     "output_type": "stream",
     "text": [
      "\n",
      "\n",
      "100%|████████████████████████████████████████████████████| 1/1 [00:00<00:00, 235.01it/s]\u001b[A\u001b[A\n"
     ]
    },
    {
     "name": "stdout",
     "output_type": "stream",
     "text": [
      "Elapsed Time: 0.0s, Elapsed Time per query: 7.4ms\n",
      "Retrieved top 1000 for 33_7\n",
      "Computing distances and coverage!\n",
      "Finished for Rb hat!\n",
      "Query Num 1\n"
     ]
    },
    {
     "name": "stderr",
     "output_type": "stream",
     "text": [
      "\n",
      "\n",
      "  0%|                                                             | 0/1 [00:00<?, ?it/s]\u001b[A\u001b[A\n",
      "\n",
      "100%|█████████████████████████████████████████████████████| 1/1 [01:07<00:00, 67.06s/it]\u001b[A\u001b[A\n"
     ]
    },
    {
     "name": "stdout",
     "output_type": "stream",
     "text": [
      "Elapsed Time: 67.1s, Elapsed Time per query: 67063.1ms\n",
      "Finished retrieving in the big index!\n",
      "finished with qid:  33_7\n",
      "Processing qid: 33_8\n",
      "Query Num 1\n"
     ]
    },
    {
     "name": "stderr",
     "output_type": "stream",
     "text": [
      "\n",
      "\n",
      "100%|████████████████████████████████████████████████████| 1/1 [00:00<00:00, 115.05it/s]\u001b[A\u001b[A\n"
     ]
    },
    {
     "name": "stdout",
     "output_type": "stream",
     "text": [
      "Elapsed Time: 0.0s, Elapsed Time per query: 11.9ms\n",
      "Retrieved top 1000 for 33_8\n",
      "Computing distances and coverage!\n",
      "Finished for Rb hat!\n",
      "Query Num 1\n"
     ]
    },
    {
     "name": "stderr",
     "output_type": "stream",
     "text": [
      "\n",
      "\n",
      "  0%|                                                             | 0/1 [00:00<?, ?it/s]\u001b[A\u001b[A\n",
      "\n",
      "100%|█████████████████████████████████████████████████████| 1/1 [01:09<00:00, 69.99s/it]\u001b[A\u001b[A\n"
     ]
    },
    {
     "name": "stdout",
     "output_type": "stream",
     "text": [
      "Elapsed Time: 70.0s, Elapsed Time per query: 69994.0ms\n",
      "Finished retrieving in the big index!\n",
      "finished with qid:  33_8\n",
      "Processing qid: 33_9\n",
      "Query Num 1\n"
     ]
    },
    {
     "name": "stderr",
     "output_type": "stream",
     "text": [
      "\n",
      "\n",
      "100%|████████████████████████████████████████████████████| 1/1 [00:00<00:00, 155.34it/s]\u001b[A\u001b[A\n"
     ]
    },
    {
     "name": "stdout",
     "output_type": "stream",
     "text": [
      "Elapsed Time: 0.0s, Elapsed Time per query: 10.9ms\n",
      "Retrieved top 1000 for 33_9\n",
      "Computing distances and coverage!\n",
      "Finished for Rb hat!\n",
      "Query Num 1\n"
     ]
    },
    {
     "name": "stderr",
     "output_type": "stream",
     "text": [
      "\n",
      "\n",
      "  0%|                                                             | 0/1 [00:00<?, ?it/s]\u001b[A\u001b[A\n",
      "\n",
      "100%|█████████████████████████████████████████████████████| 1/1 [01:09<00:00, 69.42s/it]\u001b[A\u001b[A\n"
     ]
    },
    {
     "name": "stdout",
     "output_type": "stream",
     "text": [
      "Elapsed Time: 69.4s, Elapsed Time per query: 69425.2ms\n",
      "Finished retrieving in the big index!\n",
      "finished with qid:  33_9\n",
      "Processing qid: 33_10\n",
      "Query Num 1\n"
     ]
    },
    {
     "name": "stderr",
     "output_type": "stream",
     "text": [
      "\n",
      "\n",
      "100%|████████████████████████████████████████████████████| 1/1 [00:00<00:00, 114.07it/s]\u001b[A\u001b[A\n"
     ]
    },
    {
     "name": "stdout",
     "output_type": "stream",
     "text": [
      "Elapsed Time: 0.0s, Elapsed Time per query: 13.3ms\n",
      "Retrieved top 1000 for 33_10\n",
      "Computing distances and coverage!\n",
      "Finished for Rb hat!\n",
      "Query Num 1\n"
     ]
    },
    {
     "name": "stderr",
     "output_type": "stream",
     "text": [
      "\n",
      "\n",
      "  0%|                                                             | 0/1 [00:00<?, ?it/s]\u001b[A\u001b[A\n",
      "\n",
      "100%|█████████████████████████████████████████████████████| 1/1 [01:09<00:00, 69.46s/it]\u001b[A\u001b[A\n"
     ]
    },
    {
     "name": "stdout",
     "output_type": "stream",
     "text": [
      "Elapsed Time: 69.5s, Elapsed Time per query: 69466.3ms\n",
      "Finished retrieving in the big index!\n",
      "finished with qid:  33_10\n",
      "Starting conv:  34\n",
      "Query Num 1\n"
     ]
    },
    {
     "name": "stderr",
     "output_type": "stream",
     "text": [
      "\n",
      "\n",
      "  0%|                                                             | 0/1 [00:00<?, ?it/s]\u001b[A\u001b[A\n",
      "\n",
      "100%|█████████████████████████████████████████████████████| 1/1 [01:08<00:00, 68.67s/it]\u001b[A\u001b[A\n"
     ]
    },
    {
     "name": "stdout",
     "output_type": "stream",
     "text": [
      "Elapsed Time: 68.7s, Elapsed Time per query: 68671.4ms\n",
      "embedding shape: (2000, 768)\n",
      "(2000,) int64\n",
      "Create cache for:  34\n",
      "Processing qid: 34_2\n",
      "Query Num 1\n"
     ]
    },
    {
     "name": "stderr",
     "output_type": "stream",
     "text": [
      "\n",
      "\n",
      "100%|████████████████████████████████████████████████████| 1/1 [00:00<00:00, 418.13it/s]\u001b[A\u001b[A\n"
     ]
    },
    {
     "name": "stdout",
     "output_type": "stream",
     "text": [
      "Elapsed Time: 0.0s, Elapsed Time per query: 5.2ms\n",
      "Retrieved top 1000 for 34_2\n",
      "Computing distances and coverage!\n",
      "Finished for Rb hat!\n",
      "Query Num 1\n"
     ]
    },
    {
     "name": "stderr",
     "output_type": "stream",
     "text": [
      "\n",
      "\n",
      "  0%|                                                             | 0/1 [00:00<?, ?it/s]\u001b[A\u001b[A\n",
      "\n",
      "100%|█████████████████████████████████████████████████████| 1/1 [01:09<00:00, 69.49s/it]\u001b[A\u001b[A\n"
     ]
    },
    {
     "name": "stdout",
     "output_type": "stream",
     "text": [
      "Elapsed Time: 69.5s, Elapsed Time per query: 69495.2ms\n",
      "Finished retrieving in the big index!\n",
      "finished with qid:  34_2\n",
      "Processing qid: 34_3\n",
      "Query Num 1\n"
     ]
    },
    {
     "name": "stderr",
     "output_type": "stream",
     "text": [
      "\n",
      "\n",
      "100%|████████████████████████████████████████████████████| 1/1 [00:00<00:00, 112.54it/s]\u001b[A\u001b[A\n"
     ]
    },
    {
     "name": "stdout",
     "output_type": "stream",
     "text": [
      "Elapsed Time: 0.0s, Elapsed Time per query: 14.4ms\n",
      "Retrieved top 1000 for 34_3\n",
      "Computing distances and coverage!\n",
      "Finished for Rb hat!\n",
      "Query Num 1\n"
     ]
    },
    {
     "name": "stderr",
     "output_type": "stream",
     "text": [
      "\n",
      "\n",
      "  0%|                                                             | 0/1 [00:00<?, ?it/s]\u001b[A\u001b[A\n",
      "\n",
      "100%|█████████████████████████████████████████████████████| 1/1 [01:08<00:00, 68.98s/it]\u001b[A\u001b[A\n"
     ]
    },
    {
     "name": "stdout",
     "output_type": "stream",
     "text": [
      "Elapsed Time: 69.0s, Elapsed Time per query: 68983.8ms\n",
      "Finished retrieving in the big index!\n",
      "finished with qid:  34_3\n",
      "Processing qid: 34_4\n",
      "Query Num 1\n"
     ]
    },
    {
     "name": "stderr",
     "output_type": "stream",
     "text": [
      "\n",
      "\n",
      "100%|████████████████████████████████████████████████████| 1/1 [00:00<00:00, 208.33it/s]\u001b[A\u001b[A\n"
     ]
    },
    {
     "name": "stdout",
     "output_type": "stream",
     "text": [
      "Elapsed Time: 0.0s, Elapsed Time per query: 7.5ms\n",
      "Retrieved top 1000 for 34_4\n",
      "Computing distances and coverage!\n",
      "Finished for Rb hat!\n",
      "Query Num 1\n"
     ]
    },
    {
     "name": "stderr",
     "output_type": "stream",
     "text": [
      "\n",
      "\n",
      "  0%|                                                             | 0/1 [00:00<?, ?it/s]\u001b[A\u001b[A\n",
      "\n",
      "100%|█████████████████████████████████████████████████████| 1/1 [01:09<00:00, 69.30s/it]\u001b[A\u001b[A\n"
     ]
    },
    {
     "name": "stdout",
     "output_type": "stream",
     "text": [
      "Elapsed Time: 69.3s, Elapsed Time per query: 69303.0ms\n",
      "Finished retrieving in the big index!\n",
      "finished with qid:  34_4\n",
      "Processing qid: 34_5\n",
      "Query Num 1\n"
     ]
    },
    {
     "name": "stderr",
     "output_type": "stream",
     "text": [
      "\n",
      "\n",
      "100%|████████████████████████████████████████████████████| 1/1 [00:00<00:00, 101.07it/s]\u001b[A\u001b[A\n"
     ]
    },
    {
     "name": "stdout",
     "output_type": "stream",
     "text": [
      "Elapsed Time: 0.0s, Elapsed Time per query: 12.8ms\n",
      "Retrieved top 1000 for 34_5\n",
      "Computing distances and coverage!\n",
      "Finished for Rb hat!\n",
      "Query Num 1\n"
     ]
    },
    {
     "name": "stderr",
     "output_type": "stream",
     "text": [
      "\n",
      "\n",
      "  0%|                                                             | 0/1 [00:00<?, ?it/s]\u001b[A\u001b[A\n",
      "\n",
      "100%|█████████████████████████████████████████████████████| 1/1 [01:08<00:00, 68.98s/it]\u001b[A\u001b[A\n"
     ]
    },
    {
     "name": "stdout",
     "output_type": "stream",
     "text": [
      "Elapsed Time: 69.0s, Elapsed Time per query: 68982.7ms\n",
      "Finished retrieving in the big index!\n",
      "finished with qid:  34_5\n",
      "Processing qid: 34_6\n",
      "Query Num 1\n"
     ]
    },
    {
     "name": "stderr",
     "output_type": "stream",
     "text": [
      "\n",
      "\n",
      "100%|████████████████████████████████████████████████████| 1/1 [00:00<00:00, 204.17it/s]\u001b[A\u001b[A\n"
     ]
    },
    {
     "name": "stdout",
     "output_type": "stream",
     "text": [
      "Elapsed Time: 0.0s, Elapsed Time per query: 9.9ms\n",
      "Retrieved top 1000 for 34_6\n",
      "Computing distances and coverage!\n",
      "Finished for Rb hat!\n",
      "Query Num 1\n"
     ]
    },
    {
     "name": "stderr",
     "output_type": "stream",
     "text": [
      "\n",
      "\n",
      "  0%|                                                             | 0/1 [00:00<?, ?it/s]\u001b[A\u001b[A\n",
      "\n",
      "100%|█████████████████████████████████████████████████████| 1/1 [01:09<00:00, 69.17s/it]\u001b[A\u001b[A\n"
     ]
    },
    {
     "name": "stdout",
     "output_type": "stream",
     "text": [
      "Elapsed Time: 69.2s, Elapsed Time per query: 69173.5ms\n",
      "Finished retrieving in the big index!\n",
      "finished with qid:  34_6\n",
      "Processing qid: 34_7\n",
      "Query Num 1\n"
     ]
    },
    {
     "name": "stderr",
     "output_type": "stream",
     "text": [
      "\n",
      "\n",
      "100%|████████████████████████████████████████████████████| 1/1 [00:00<00:00, 119.22it/s]\u001b[A\u001b[A\n"
     ]
    },
    {
     "name": "stdout",
     "output_type": "stream",
     "text": [
      "Elapsed Time: 0.0s, Elapsed Time per query: 13.0ms\n",
      "Retrieved top 1000 for 34_7\n",
      "Computing distances and coverage!\n",
      "Finished for Rb hat!\n",
      "Query Num 1\n"
     ]
    },
    {
     "name": "stderr",
     "output_type": "stream",
     "text": [
      "\n",
      "\n",
      "  0%|                                                             | 0/1 [00:00<?, ?it/s]\u001b[A\u001b[A\n",
      "\n",
      "100%|█████████████████████████████████████████████████████| 1/1 [01:08<00:00, 68.81s/it]\u001b[A\u001b[A\n"
     ]
    },
    {
     "name": "stdout",
     "output_type": "stream",
     "text": [
      "Elapsed Time: 68.8s, Elapsed Time per query: 68814.1ms\n",
      "Finished retrieving in the big index!\n",
      "finished with qid:  34_7\n",
      "Processing qid: 34_8\n",
      "Query Num 1\n"
     ]
    },
    {
     "name": "stderr",
     "output_type": "stream",
     "text": [
      "\n",
      "\n",
      "100%|████████████████████████████████████████████████████| 1/1 [00:00<00:00, 163.59it/s]\u001b[A\u001b[A\n"
     ]
    },
    {
     "name": "stdout",
     "output_type": "stream",
     "text": [
      "Elapsed Time: 0.0s, Elapsed Time per query: 10.3ms\n",
      "Retrieved top 1000 for 34_8\n",
      "Computing distances and coverage!\n",
      "Finished for Rb hat!\n",
      "Query Num 1\n"
     ]
    },
    {
     "name": "stderr",
     "output_type": "stream",
     "text": [
      "\n",
      "\n",
      "  0%|                                                             | 0/1 [00:00<?, ?it/s]\u001b[A\u001b[A\n",
      "\n",
      "100%|█████████████████████████████████████████████████████| 1/1 [01:09<00:00, 69.50s/it]\u001b[A\u001b[A\n"
     ]
    },
    {
     "name": "stdout",
     "output_type": "stream",
     "text": [
      "Elapsed Time: 69.5s, Elapsed Time per query: 69502.9ms\n",
      "Finished retrieving in the big index!\n",
      "finished with qid:  34_8\n",
      "Processing qid: 34_9\n",
      "Query Num 1\n"
     ]
    },
    {
     "name": "stderr",
     "output_type": "stream",
     "text": [
      "\n",
      "\n",
      "100%|████████████████████████████████████████████████████| 1/1 [00:00<00:00, 117.74it/s]\u001b[A\u001b[A\n"
     ]
    },
    {
     "name": "stdout",
     "output_type": "stream",
     "text": [
      "Elapsed Time: 0.0s, Elapsed Time per query: 12.1ms\n",
      "Retrieved top 1000 for 34_9\n",
      "Computing distances and coverage!\n",
      "Finished for Rb hat!\n",
      "Query Num 1\n"
     ]
    },
    {
     "name": "stderr",
     "output_type": "stream",
     "text": [
      "\n",
      "\n",
      "  0%|                                                             | 0/1 [00:00<?, ?it/s]\u001b[A\u001b[A\n",
      "\n",
      "100%|█████████████████████████████████████████████████████| 1/1 [01:09<00:00, 69.78s/it]\u001b[A\u001b[A\n"
     ]
    },
    {
     "name": "stdout",
     "output_type": "stream",
     "text": [
      "Elapsed Time: 69.8s, Elapsed Time per query: 69780.6ms\n",
      "Finished retrieving in the big index!\n",
      "finished with qid:  34_9\n",
      "Starting conv:  37\n",
      "Query Num 1\n"
     ]
    },
    {
     "name": "stderr",
     "output_type": "stream",
     "text": [
      "\n",
      "\n",
      "  0%|                                                             | 0/1 [00:00<?, ?it/s]\u001b[A\u001b[A\n",
      "\n",
      "100%|█████████████████████████████████████████████████████| 1/1 [01:09<00:00, 69.84s/it]\u001b[A\u001b[A\n"
     ]
    },
    {
     "name": "stdout",
     "output_type": "stream",
     "text": [
      "Elapsed Time: 69.8s, Elapsed Time per query: 69843.6ms\n",
      "embedding shape: (2000, 768)\n",
      "(2000,) int64\n",
      "Create cache for:  37\n",
      "Processing qid: 37_2\n",
      "Query Num 1\n"
     ]
    },
    {
     "name": "stderr",
     "output_type": "stream",
     "text": [
      "\n",
      "\n",
      "100%|████████████████████████████████████████████████████| 1/1 [00:00<00:00, 108.69it/s]\u001b[A\u001b[A\n"
     ]
    },
    {
     "name": "stdout",
     "output_type": "stream",
     "text": [
      "Elapsed Time: 0.0s, Elapsed Time per query: 15.2ms\n",
      "Retrieved top 1000 for 37_2\n",
      "Computing distances and coverage!\n",
      "Finished for Rb hat!\n",
      "Query Num 1\n"
     ]
    },
    {
     "name": "stderr",
     "output_type": "stream",
     "text": [
      "\n",
      "\n",
      "  0%|                                                             | 0/1 [00:00<?, ?it/s]\u001b[A\u001b[A\n",
      "\n",
      "100%|█████████████████████████████████████████████████████| 1/1 [01:09<00:00, 69.42s/it]\u001b[A\u001b[A\n"
     ]
    },
    {
     "name": "stdout",
     "output_type": "stream",
     "text": [
      "Elapsed Time: 69.4s, Elapsed Time per query: 69418.3ms\n",
      "Finished retrieving in the big index!\n",
      "finished with qid:  37_2\n",
      "Processing qid: 37_3\n",
      "Query Num 1\n"
     ]
    },
    {
     "name": "stderr",
     "output_type": "stream",
     "text": [
      "\n",
      "\n",
      "100%|████████████████████████████████████████████████████| 1/1 [00:00<00:00, 234.44it/s]\u001b[A\u001b[A\n"
     ]
    },
    {
     "name": "stdout",
     "output_type": "stream",
     "text": [
      "Elapsed Time: 0.0s, Elapsed Time per query: 7.0ms\n",
      "Retrieved top 1000 for 37_3\n",
      "Computing distances and coverage!\n",
      "Finished for Rb hat!\n",
      "Query Num 1\n"
     ]
    },
    {
     "name": "stderr",
     "output_type": "stream",
     "text": [
      "\n",
      "\n",
      "  0%|                                                             | 0/1 [00:00<?, ?it/s]\u001b[A\u001b[A\n",
      "\n",
      "100%|█████████████████████████████████████████████████████| 1/1 [01:08<00:00, 68.48s/it]\u001b[A\u001b[A\n"
     ]
    },
    {
     "name": "stdout",
     "output_type": "stream",
     "text": [
      "Elapsed Time: 68.5s, Elapsed Time per query: 68484.3ms\n",
      "Finished retrieving in the big index!\n",
      "finished with qid:  37_3\n",
      "Processing qid: 37_4\n",
      "Query Num 1\n"
     ]
    },
    {
     "name": "stderr",
     "output_type": "stream",
     "text": [
      "\n",
      "\n",
      "100%|████████████████████████████████████████████████████| 1/1 [00:00<00:00, 114.26it/s]\u001b[A\u001b[A\n"
     ]
    },
    {
     "name": "stdout",
     "output_type": "stream",
     "text": [
      "Elapsed Time: 0.0s, Elapsed Time per query: 13.2ms\n",
      "Retrieved top 1000 for 37_4\n",
      "Computing distances and coverage!\n",
      "Finished for Rb hat!\n",
      "Query Num 1\n"
     ]
    },
    {
     "name": "stderr",
     "output_type": "stream",
     "text": [
      "\n",
      "\n",
      "  0%|                                                             | 0/1 [00:00<?, ?it/s]\u001b[A\u001b[A\n",
      "\n",
      "100%|█████████████████████████████████████████████████████| 1/1 [01:11<00:00, 71.85s/it]\u001b[A\u001b[A\n"
     ]
    },
    {
     "name": "stdout",
     "output_type": "stream",
     "text": [
      "Elapsed Time: 71.9s, Elapsed Time per query: 71857.1ms\n",
      "Finished retrieving in the big index!\n",
      "finished with qid:  37_4\n",
      "Processing qid: 37_5\n",
      "Query Num 1\n"
     ]
    },
    {
     "name": "stderr",
     "output_type": "stream",
     "text": [
      "\n",
      "\n",
      "100%|████████████████████████████████████████████████████| 1/1 [00:00<00:00, 115.42it/s]\u001b[A\u001b[A\n"
     ]
    },
    {
     "name": "stdout",
     "output_type": "stream",
     "text": [
      "Elapsed Time: 0.0s, Elapsed Time per query: 13.9ms\n",
      "Retrieved top 1000 for 37_5\n",
      "Computing distances and coverage!\n",
      "Finished for Rb hat!\n",
      "Query Num 1\n"
     ]
    },
    {
     "name": "stderr",
     "output_type": "stream",
     "text": [
      "\n",
      "\n",
      "  0%|                                                             | 0/1 [00:00<?, ?it/s]\u001b[A\u001b[A\n",
      "\n",
      "100%|█████████████████████████████████████████████████████| 1/1 [01:09<00:00, 69.07s/it]\u001b[A\u001b[A\n"
     ]
    },
    {
     "name": "stdout",
     "output_type": "stream",
     "text": [
      "Elapsed Time: 69.1s, Elapsed Time per query: 69074.5ms\n",
      "Finished retrieving in the big index!\n",
      "finished with qid:  37_5\n",
      "Processing qid: 37_6\n",
      "Query Num 1\n"
     ]
    },
    {
     "name": "stderr",
     "output_type": "stream",
     "text": [
      "\n",
      "\n",
      "100%|████████████████████████████████████████████████████| 1/1 [00:00<00:00, 105.51it/s]\u001b[A\u001b[A\n"
     ]
    },
    {
     "name": "stdout",
     "output_type": "stream",
     "text": [
      "Elapsed Time: 0.0s, Elapsed Time per query: 14.6ms\n",
      "Retrieved top 1000 for 37_6\n",
      "Computing distances and coverage!\n",
      "Finished for Rb hat!\n",
      "Query Num 1\n"
     ]
    },
    {
     "name": "stderr",
     "output_type": "stream",
     "text": [
      "\n",
      "\n",
      "  0%|                                                             | 0/1 [00:00<?, ?it/s]\u001b[A\u001b[A\n",
      "\n",
      "100%|█████████████████████████████████████████████████████| 1/1 [01:09<00:00, 69.38s/it]\u001b[A\u001b[A\n"
     ]
    },
    {
     "name": "stdout",
     "output_type": "stream",
     "text": [
      "Elapsed Time: 69.4s, Elapsed Time per query: 69387.6ms\n",
      "Finished retrieving in the big index!\n",
      "finished with qid:  37_6\n",
      "Processing qid: 37_7\n",
      "Query Num 1\n"
     ]
    },
    {
     "name": "stderr",
     "output_type": "stream",
     "text": [
      "\n",
      "\n",
      "100%|████████████████████████████████████████████████████| 1/1 [00:00<00:00, 116.15it/s]\u001b[A\u001b[A\n"
     ]
    },
    {
     "name": "stdout",
     "output_type": "stream",
     "text": [
      "Elapsed Time: 0.0s, Elapsed Time per query: 11.8ms\n",
      "Retrieved top 1000 for 37_7\n",
      "Computing distances and coverage!\n",
      "Finished for Rb hat!\n",
      "Query Num 1\n"
     ]
    },
    {
     "name": "stderr",
     "output_type": "stream",
     "text": [
      "\n",
      "\n",
      "  0%|                                                             | 0/1 [00:00<?, ?it/s]\u001b[A\u001b[A\n",
      "\n",
      "100%|█████████████████████████████████████████████████████| 1/1 [01:09<00:00, 69.95s/it]\u001b[A\u001b[A\n"
     ]
    },
    {
     "name": "stdout",
     "output_type": "stream",
     "text": [
      "Elapsed Time: 70.0s, Elapsed Time per query: 69950.1ms\n",
      "Finished retrieving in the big index!\n",
      "finished with qid:  37_7\n",
      "Processing qid: 37_8\n",
      "Query Num 1\n"
     ]
    },
    {
     "name": "stderr",
     "output_type": "stream",
     "text": [
      "\n",
      "\n",
      "100%|████████████████████████████████████████████████████| 1/1 [00:00<00:00, 112.17it/s]\u001b[A\u001b[A\n"
     ]
    },
    {
     "name": "stdout",
     "output_type": "stream",
     "text": [
      "Elapsed Time: 0.0s, Elapsed Time per query: 11.9ms\n",
      "Retrieved top 1000 for 37_8\n",
      "Computing distances and coverage!\n",
      "Finished for Rb hat!\n",
      "Query Num 1\n"
     ]
    },
    {
     "name": "stderr",
     "output_type": "stream",
     "text": [
      "\n",
      "\n",
      "  0%|                                                             | 0/1 [00:00<?, ?it/s]\u001b[A\u001b[A\n",
      "\n",
      "100%|█████████████████████████████████████████████████████| 1/1 [01:08<00:00, 68.68s/it]\u001b[A\u001b[A\n"
     ]
    },
    {
     "name": "stdout",
     "output_type": "stream",
     "text": [
      "Elapsed Time: 68.7s, Elapsed Time per query: 68685.9ms\n",
      "Finished retrieving in the big index!\n",
      "finished with qid:  37_8\n",
      "Processing qid: 37_9\n",
      "Query Num 1\n"
     ]
    },
    {
     "name": "stderr",
     "output_type": "stream",
     "text": [
      "\n",
      "\n",
      "100%|████████████████████████████████████████████████████| 1/1 [00:00<00:00, 106.99it/s]\u001b[A\u001b[A\n"
     ]
    },
    {
     "name": "stdout",
     "output_type": "stream",
     "text": [
      "Elapsed Time: 0.0s, Elapsed Time per query: 14.6ms\n",
      "Retrieved top 1000 for 37_9\n",
      "Computing distances and coverage!\n",
      "Finished for Rb hat!\n",
      "Query Num 1\n"
     ]
    },
    {
     "name": "stderr",
     "output_type": "stream",
     "text": [
      "\n",
      "\n",
      "  0%|                                                             | 0/1 [00:00<?, ?it/s]\u001b[A\u001b[A\n",
      "\n",
      "100%|█████████████████████████████████████████████████████| 1/1 [01:08<00:00, 68.71s/it]\u001b[A\u001b[A\n"
     ]
    },
    {
     "name": "stdout",
     "output_type": "stream",
     "text": [
      "Elapsed Time: 68.7s, Elapsed Time per query: 68712.1ms\n",
      "Finished retrieving in the big index!\n",
      "finished with qid:  37_9\n",
      "Processing qid: 37_10\n",
      "Query Num 1\n"
     ]
    },
    {
     "name": "stderr",
     "output_type": "stream",
     "text": [
      "\n",
      "\n",
      "100%|████████████████████████████████████████████████████| 1/1 [00:00<00:00, 265.65it/s]\u001b[A\u001b[A\n"
     ]
    },
    {
     "name": "stdout",
     "output_type": "stream",
     "text": [
      "Elapsed Time: 0.0s, Elapsed Time per query: 7.5ms\n",
      "Retrieved top 1000 for 37_10\n",
      "Computing distances and coverage!\n",
      "Finished for Rb hat!\n",
      "Query Num 1\n"
     ]
    },
    {
     "name": "stderr",
     "output_type": "stream",
     "text": [
      "\n",
      "\n",
      "  0%|                                                             | 0/1 [00:00<?, ?it/s]\u001b[A\u001b[A\n",
      "\n",
      "100%|█████████████████████████████████████████████████████| 1/1 [01:08<00:00, 68.73s/it]\u001b[A\u001b[A\n"
     ]
    },
    {
     "name": "stdout",
     "output_type": "stream",
     "text": [
      "Elapsed Time: 68.7s, Elapsed Time per query: 68735.4ms\n",
      "Finished retrieving in the big index!\n",
      "finished with qid:  37_10\n",
      "Processing qid: 37_11\n",
      "Query Num 1\n"
     ]
    },
    {
     "name": "stderr",
     "output_type": "stream",
     "text": [
      "\n",
      "\n",
      "100%|████████████████████████████████████████████████████| 1/1 [00:00<00:00, 241.19it/s]\u001b[A\u001b[A\n"
     ]
    },
    {
     "name": "stdout",
     "output_type": "stream",
     "text": [
      "Elapsed Time: 0.0s, Elapsed Time per query: 6.6ms\n",
      "Retrieved top 1000 for 37_11\n",
      "Computing distances and coverage!\n",
      "Finished for Rb hat!\n",
      "Query Num 1\n"
     ]
    },
    {
     "name": "stderr",
     "output_type": "stream",
     "text": [
      "\n",
      "\n",
      "  0%|                                                             | 0/1 [00:00<?, ?it/s]\u001b[A\u001b[A\n",
      "\n",
      "100%|█████████████████████████████████████████████████████| 1/1 [01:07<00:00, 67.37s/it]\u001b[A\u001b[A\n"
     ]
    },
    {
     "name": "stdout",
     "output_type": "stream",
     "text": [
      "Elapsed Time: 67.4s, Elapsed Time per query: 67367.4ms\n",
      "Finished retrieving in the big index!\n",
      "finished with qid:  37_11\n",
      "Processing qid: 37_12\n",
      "Query Num 1\n"
     ]
    },
    {
     "name": "stderr",
     "output_type": "stream",
     "text": [
      "\n",
      "\n",
      "100%|█████████████████████████████████████████████████████| 1/1 [00:00<00:00, 92.56it/s]\u001b[A\u001b[A\n"
     ]
    },
    {
     "name": "stdout",
     "output_type": "stream",
     "text": [
      "Elapsed Time: 0.0s, Elapsed Time per query: 15.1ms\n",
      "Retrieved top 1000 for 37_12\n",
      "Computing distances and coverage!\n",
      "Finished for Rb hat!\n",
      "Query Num 1\n"
     ]
    },
    {
     "name": "stderr",
     "output_type": "stream",
     "text": [
      "\n",
      "\n",
      "  0%|                                                             | 0/1 [00:00<?, ?it/s]\u001b[A\u001b[A\n",
      "\n",
      "100%|█████████████████████████████████████████████████████| 1/1 [01:04<00:00, 64.65s/it]\u001b[A\u001b[A\n"
     ]
    },
    {
     "name": "stdout",
     "output_type": "stream",
     "text": [
      "Elapsed Time: 64.6s, Elapsed Time per query: 64649.6ms\n",
      "Finished retrieving in the big index!\n",
      "finished with qid:  37_12\n",
      "Starting conv:  40\n",
      "Query Num 1\n"
     ]
    },
    {
     "name": "stderr",
     "output_type": "stream",
     "text": [
      "\n",
      "\n",
      "  0%|                                                             | 0/1 [00:00<?, ?it/s]\u001b[A\u001b[A\n",
      "\n",
      "100%|█████████████████████████████████████████████████████| 1/1 [01:03<00:00, 63.35s/it]\u001b[A\u001b[A\n"
     ]
    },
    {
     "name": "stdout",
     "output_type": "stream",
     "text": [
      "Elapsed Time: 63.4s, Elapsed Time per query: 63356.0ms\n",
      "embedding shape: (2000, 768)\n",
      "(2000,) int64\n",
      "Create cache for:  40\n",
      "Processing qid: 40_2\n",
      "Query Num 1\n"
     ]
    },
    {
     "name": "stderr",
     "output_type": "stream",
     "text": [
      "\n",
      "\n",
      "100%|████████████████████████████████████████████████████| 1/1 [00:00<00:00, 375.80it/s]\u001b[A\u001b[A\n"
     ]
    },
    {
     "name": "stdout",
     "output_type": "stream",
     "text": [
      "Elapsed Time: 0.0s, Elapsed Time per query: 7.3ms\n",
      "Retrieved top 1000 for 40_2\n",
      "Computing distances and coverage!\n",
      "Finished for Rb hat!\n",
      "Query Num 1\n"
     ]
    },
    {
     "name": "stderr",
     "output_type": "stream",
     "text": [
      "\n",
      "\n",
      "  0%|                                                             | 0/1 [00:00<?, ?it/s]\u001b[A\u001b[A\n",
      "\n",
      "100%|█████████████████████████████████████████████████████| 1/1 [01:03<00:00, 63.39s/it]\u001b[A\u001b[A\n"
     ]
    },
    {
     "name": "stdout",
     "output_type": "stream",
     "text": [
      "Elapsed Time: 63.4s, Elapsed Time per query: 63393.4ms\n",
      "Finished retrieving in the big index!\n",
      "finished with qid:  40_2\n",
      "Processing qid: 40_3\n",
      "Query Num 1\n"
     ]
    },
    {
     "name": "stderr",
     "output_type": "stream",
     "text": [
      "\n",
      "\n",
      "100%|████████████████████████████████████████████████████| 1/1 [00:00<00:00, 321.45it/s]\u001b[A\u001b[A\n"
     ]
    },
    {
     "name": "stdout",
     "output_type": "stream",
     "text": [
      "Elapsed Time: 0.0s, Elapsed Time per query: 5.9ms\n",
      "Retrieved top 1000 for 40_3\n",
      "Computing distances and coverage!\n",
      "Finished for Rb hat!\n",
      "Query Num 1\n"
     ]
    },
    {
     "name": "stderr",
     "output_type": "stream",
     "text": [
      "\n",
      "\n",
      "  0%|                                                             | 0/1 [00:00<?, ?it/s]\u001b[A\u001b[A\n",
      "\n",
      "100%|█████████████████████████████████████████████████████| 1/1 [01:03<00:00, 63.26s/it]\u001b[A\u001b[A\n"
     ]
    },
    {
     "name": "stdout",
     "output_type": "stream",
     "text": [
      "Elapsed Time: 63.3s, Elapsed Time per query: 63264.4ms\n",
      "Finished retrieving in the big index!\n",
      "finished with qid:  40_3\n",
      "Processing qid: 40_4\n",
      "Query Num 1\n"
     ]
    },
    {
     "name": "stderr",
     "output_type": "stream",
     "text": [
      "\n",
      "\n",
      "100%|████████████████████████████████████████████████████| 1/1 [00:00<00:00, 366.54it/s]\u001b[A\u001b[A\n"
     ]
    },
    {
     "name": "stdout",
     "output_type": "stream",
     "text": [
      "Elapsed Time: 0.0s, Elapsed Time per query: 5.4ms\n",
      "Retrieved top 1000 for 40_4\n",
      "Computing distances and coverage!\n",
      "Finished for Rb hat!\n",
      "Query Num 1\n"
     ]
    },
    {
     "name": "stderr",
     "output_type": "stream",
     "text": [
      "\n",
      "\n",
      "  0%|                                                             | 0/1 [00:00<?, ?it/s]\u001b[A\u001b[A\n",
      "\n",
      "100%|█████████████████████████████████████████████████████| 1/1 [01:03<00:00, 63.26s/it]\u001b[A\u001b[A\n"
     ]
    },
    {
     "name": "stdout",
     "output_type": "stream",
     "text": [
      "Elapsed Time: 63.3s, Elapsed Time per query: 63260.8ms\n",
      "Finished retrieving in the big index!\n",
      "finished with qid:  40_4\n",
      "Processing qid: 40_5\n",
      "Query Num 1\n"
     ]
    },
    {
     "name": "stderr",
     "output_type": "stream",
     "text": [
      "\n",
      "\n",
      "100%|████████████████████████████████████████████████████| 1/1 [00:00<00:00, 330.16it/s]\u001b[A\u001b[A\n"
     ]
    },
    {
     "name": "stdout",
     "output_type": "stream",
     "text": [
      "Elapsed Time: 0.0s, Elapsed Time per query: 6.0ms\n",
      "Retrieved top 1000 for 40_5\n",
      "Computing distances and coverage!\n",
      "Finished for Rb hat!\n",
      "Query Num 1\n"
     ]
    },
    {
     "name": "stderr",
     "output_type": "stream",
     "text": [
      "\n",
      "\n",
      "  0%|                                                             | 0/1 [00:00<?, ?it/s]\u001b[A\u001b[A\n",
      "\n",
      "100%|█████████████████████████████████████████████████████| 1/1 [01:03<00:00, 63.37s/it]\u001b[A\u001b[A\n"
     ]
    },
    {
     "name": "stdout",
     "output_type": "stream",
     "text": [
      "Elapsed Time: 63.4s, Elapsed Time per query: 63374.8ms\n",
      "Finished retrieving in the big index!\n",
      "finished with qid:  40_5\n",
      "Processing qid: 40_6\n",
      "Query Num 1\n"
     ]
    },
    {
     "name": "stderr",
     "output_type": "stream",
     "text": [
      "\n",
      "\n",
      "100%|████████████████████████████████████████████████████| 1/1 [00:00<00:00, 312.10it/s]\u001b[A\u001b[A\n"
     ]
    },
    {
     "name": "stdout",
     "output_type": "stream",
     "text": [
      "Elapsed Time: 0.0s, Elapsed Time per query: 5.9ms\n",
      "Retrieved top 1000 for 40_6\n",
      "Computing distances and coverage!\n",
      "Finished for Rb hat!\n",
      "Query Num 1\n"
     ]
    },
    {
     "name": "stderr",
     "output_type": "stream",
     "text": [
      "\n",
      "\n",
      "  0%|                                                             | 0/1 [00:00<?, ?it/s]\u001b[A\u001b[A\n",
      "\n",
      "100%|█████████████████████████████████████████████████████| 1/1 [01:03<00:00, 63.45s/it]\u001b[A\u001b[A\n"
     ]
    },
    {
     "name": "stdout",
     "output_type": "stream",
     "text": [
      "Elapsed Time: 63.5s, Elapsed Time per query: 63450.5ms\n",
      "Finished retrieving in the big index!\n",
      "finished with qid:  40_6\n",
      "Processing qid: 40_7\n",
      "Query Num 1\n"
     ]
    },
    {
     "name": "stderr",
     "output_type": "stream",
     "text": [
      "\n",
      "\n",
      "100%|████████████████████████████████████████████████████| 1/1 [00:00<00:00, 310.57it/s]\u001b[A\u001b[A\n"
     ]
    },
    {
     "name": "stdout",
     "output_type": "stream",
     "text": [
      "Elapsed Time: 0.0s, Elapsed Time per query: 5.6ms\n",
      "Retrieved top 1000 for 40_7\n",
      "Computing distances and coverage!\n",
      "Finished for Rb hat!\n",
      "Query Num 1\n"
     ]
    },
    {
     "name": "stderr",
     "output_type": "stream",
     "text": [
      "\n",
      "\n",
      "  0%|                                                             | 0/1 [00:00<?, ?it/s]\u001b[A\u001b[A\n",
      "\n",
      "100%|█████████████████████████████████████████████████████| 1/1 [01:04<00:00, 64.08s/it]\u001b[A\u001b[A\n"
     ]
    },
    {
     "name": "stdout",
     "output_type": "stream",
     "text": [
      "Elapsed Time: 64.1s, Elapsed Time per query: 64085.8ms\n",
      "Finished retrieving in the big index!\n",
      "finished with qid:  40_7\n",
      "Processing qid: 40_8\n",
      "Query Num 1\n"
     ]
    },
    {
     "name": "stderr",
     "output_type": "stream",
     "text": [
      "\n",
      "\n",
      "100%|████████████████████████████████████████████████████| 1/1 [00:00<00:00, 314.25it/s]\u001b[A\u001b[A\n"
     ]
    },
    {
     "name": "stdout",
     "output_type": "stream",
     "text": [
      "Elapsed Time: 0.0s, Elapsed Time per query: 5.7ms\n",
      "Retrieved top 1000 for 40_8\n",
      "Computing distances and coverage!\n",
      "Finished for Rb hat!\n",
      "Query Num 1\n"
     ]
    },
    {
     "name": "stderr",
     "output_type": "stream",
     "text": [
      "\n",
      "\n",
      "  0%|                                                             | 0/1 [00:00<?, ?it/s]\u001b[A\u001b[A\n",
      "\n",
      "100%|█████████████████████████████████████████████████████| 1/1 [01:03<00:00, 63.39s/it]\u001b[A\u001b[A\n"
     ]
    },
    {
     "name": "stdout",
     "output_type": "stream",
     "text": [
      "Elapsed Time: 63.4s, Elapsed Time per query: 63395.1ms\n",
      "Finished retrieving in the big index!\n",
      "finished with qid:  40_8\n",
      "Processing qid: 40_9\n",
      "Query Num 1\n"
     ]
    },
    {
     "name": "stderr",
     "output_type": "stream",
     "text": [
      "\n",
      "\n",
      "100%|████████████████████████████████████████████████████| 1/1 [00:00<00:00, 327.25it/s]\u001b[A\u001b[A\n"
     ]
    },
    {
     "name": "stdout",
     "output_type": "stream",
     "text": [
      "Elapsed Time: 0.0s, Elapsed Time per query: 5.6ms\n",
      "Retrieved top 1000 for 40_9\n",
      "Computing distances and coverage!\n",
      "Finished for Rb hat!\n",
      "Query Num 1\n"
     ]
    },
    {
     "name": "stderr",
     "output_type": "stream",
     "text": [
      "\n",
      "\n",
      "  0%|                                                             | 0/1 [00:00<?, ?it/s]\u001b[A\u001b[A\n",
      "\n",
      "100%|█████████████████████████████████████████████████████| 1/1 [01:03<00:00, 63.39s/it]\u001b[A\u001b[A\n"
     ]
    },
    {
     "name": "stdout",
     "output_type": "stream",
     "text": [
      "Elapsed Time: 63.4s, Elapsed Time per query: 63390.8ms\n",
      "Finished retrieving in the big index!\n",
      "finished with qid:  40_9\n",
      "Processing qid: 40_10\n",
      "Query Num 1\n"
     ]
    },
    {
     "name": "stderr",
     "output_type": "stream",
     "text": [
      "\n",
      "\n",
      "100%|████████████████████████████████████████████████████| 1/1 [00:00<00:00, 325.34it/s]\u001b[A\u001b[A\n"
     ]
    },
    {
     "name": "stdout",
     "output_type": "stream",
     "text": [
      "Elapsed Time: 0.0s, Elapsed Time per query: 5.7ms\n",
      "Retrieved top 1000 for 40_10\n",
      "Computing distances and coverage!\n",
      "Finished for Rb hat!\n",
      "Query Num 1\n"
     ]
    },
    {
     "name": "stderr",
     "output_type": "stream",
     "text": [
      "\n",
      "\n",
      "  0%|                                                             | 0/1 [00:00<?, ?it/s]\u001b[A\u001b[A\n",
      "\n",
      "100%|█████████████████████████████████████████████████████| 1/1 [01:03<00:00, 63.41s/it]\u001b[A\u001b[A\n"
     ]
    },
    {
     "name": "stdout",
     "output_type": "stream",
     "text": [
      "Elapsed Time: 63.4s, Elapsed Time per query: 63414.6ms\n",
      "Finished retrieving in the big index!\n",
      "finished with qid:  40_10\n",
      "Starting conv:  49\n",
      "Query Num 1\n"
     ]
    },
    {
     "name": "stderr",
     "output_type": "stream",
     "text": [
      "\n",
      "\n",
      "  0%|                                                             | 0/1 [00:00<?, ?it/s]\u001b[A\u001b[A\n",
      "\n",
      "100%|█████████████████████████████████████████████████████| 1/1 [01:03<00:00, 63.46s/it]\u001b[A\u001b[A\n"
     ]
    },
    {
     "name": "stdout",
     "output_type": "stream",
     "text": [
      "Elapsed Time: 63.5s, Elapsed Time per query: 63457.9ms\n",
      "embedding shape: (2000, 768)\n",
      "(2000,) int64\n",
      "Create cache for:  49\n",
      "Processing qid: 49_2\n",
      "Query Num 1\n"
     ]
    },
    {
     "name": "stderr",
     "output_type": "stream",
     "text": [
      "\n",
      "\n",
      "100%|████████████████████████████████████████████████████| 1/1 [00:00<00:00, 332.88it/s]\u001b[A\u001b[A\n"
     ]
    },
    {
     "name": "stdout",
     "output_type": "stream",
     "text": [
      "Elapsed Time: 0.0s, Elapsed Time per query: 6.8ms\n",
      "Retrieved top 1000 for 49_2\n",
      "Computing distances and coverage!\n",
      "Finished for Rb hat!\n",
      "Query Num 1\n"
     ]
    },
    {
     "name": "stderr",
     "output_type": "stream",
     "text": [
      "\n",
      "\n",
      "  0%|                                                             | 0/1 [00:00<?, ?it/s]\u001b[A\u001b[A\n",
      "\n",
      "100%|█████████████████████████████████████████████████████| 1/1 [01:03<00:00, 63.36s/it]\u001b[A\u001b[A\n"
     ]
    },
    {
     "name": "stdout",
     "output_type": "stream",
     "text": [
      "Elapsed Time: 63.4s, Elapsed Time per query: 63362.1ms\n",
      "Finished retrieving in the big index!\n",
      "finished with qid:  49_2\n",
      "Processing qid: 49_3\n",
      "Query Num 1\n"
     ]
    },
    {
     "name": "stderr",
     "output_type": "stream",
     "text": [
      "\n",
      "\n",
      "100%|████████████████████████████████████████████████████| 1/1 [00:00<00:00, 242.25it/s]\u001b[A\u001b[A\n"
     ]
    },
    {
     "name": "stdout",
     "output_type": "stream",
     "text": [
      "Elapsed Time: 0.0s, Elapsed Time per query: 7.0ms\n",
      "Retrieved top 1000 for 49_3\n",
      "Computing distances and coverage!\n",
      "Finished for Rb hat!\n",
      "Query Num 1\n"
     ]
    },
    {
     "name": "stderr",
     "output_type": "stream",
     "text": [
      "\n",
      "\n",
      "  0%|                                                             | 0/1 [00:00<?, ?it/s]\u001b[A\u001b[A\n",
      "\n",
      "100%|█████████████████████████████████████████████████████| 1/1 [01:03<00:00, 63.22s/it]\u001b[A\u001b[A\n"
     ]
    },
    {
     "name": "stdout",
     "output_type": "stream",
     "text": [
      "Elapsed Time: 63.2s, Elapsed Time per query: 63218.2ms\n",
      "Finished retrieving in the big index!\n",
      "finished with qid:  49_3\n",
      "Processing qid: 49_4\n",
      "Query Num 1\n"
     ]
    },
    {
     "name": "stderr",
     "output_type": "stream",
     "text": [
      "\n",
      "\n",
      "100%|████████████████████████████████████████████████████| 1/1 [00:00<00:00, 155.14it/s]\u001b[A\u001b[A\n"
     ]
    },
    {
     "name": "stdout",
     "output_type": "stream",
     "text": [
      "Elapsed Time: 0.0s, Elapsed Time per query: 9.6ms\n",
      "Retrieved top 1000 for 49_4\n",
      "Computing distances and coverage!\n",
      "Finished for Rb hat!\n",
      "Query Num 1\n"
     ]
    },
    {
     "name": "stderr",
     "output_type": "stream",
     "text": [
      "\n",
      "\n",
      "  0%|                                                             | 0/1 [00:00<?, ?it/s]\u001b[A\u001b[A\n",
      "\n",
      "100%|█████████████████████████████████████████████████████| 1/1 [01:03<00:00, 63.29s/it]\u001b[A\u001b[A\n"
     ]
    },
    {
     "name": "stdout",
     "output_type": "stream",
     "text": [
      "Elapsed Time: 63.3s, Elapsed Time per query: 63295.8ms\n",
      "Finished retrieving in the big index!\n",
      "finished with qid:  49_4\n",
      "Processing qid: 49_5\n",
      "Query Num 1\n"
     ]
    },
    {
     "name": "stderr",
     "output_type": "stream",
     "text": [
      "\n",
      "\n",
      "100%|████████████████████████████████████████████████████| 1/1 [00:00<00:00, 242.52it/s]\u001b[A\u001b[A\n"
     ]
    },
    {
     "name": "stdout",
     "output_type": "stream",
     "text": [
      "Elapsed Time: 0.0s, Elapsed Time per query: 8.0ms\n",
      "Retrieved top 1000 for 49_5\n",
      "Computing distances and coverage!\n",
      "Finished for Rb hat!\n",
      "Query Num 1\n"
     ]
    },
    {
     "name": "stderr",
     "output_type": "stream",
     "text": [
      "\n",
      "\n",
      "  0%|                                                             | 0/1 [00:00<?, ?it/s]\u001b[A\u001b[A\n",
      "\n",
      "100%|█████████████████████████████████████████████████████| 1/1 [01:03<00:00, 63.27s/it]\u001b[A\u001b[A\n"
     ]
    },
    {
     "name": "stdout",
     "output_type": "stream",
     "text": [
      "Elapsed Time: 63.3s, Elapsed Time per query: 63267.6ms\n",
      "Finished retrieving in the big index!\n",
      "finished with qid:  49_5\n",
      "Processing qid: 49_6\n",
      "Query Num 1\n"
     ]
    },
    {
     "name": "stderr",
     "output_type": "stream",
     "text": [
      "\n",
      "\n",
      "100%|████████████████████████████████████████████████████| 1/1 [00:00<00:00, 159.01it/s]\u001b[A\u001b[A\n"
     ]
    },
    {
     "name": "stdout",
     "output_type": "stream",
     "text": [
      "Elapsed Time: 0.0s, Elapsed Time per query: 10.2ms\n",
      "Retrieved top 1000 for 49_6\n",
      "Computing distances and coverage!\n",
      "Finished for Rb hat!\n",
      "Query Num 1\n"
     ]
    },
    {
     "name": "stderr",
     "output_type": "stream",
     "text": [
      "\n",
      "\n",
      "  0%|                                                             | 0/1 [00:00<?, ?it/s]\u001b[A\u001b[A\n",
      "\n",
      "100%|█████████████████████████████████████████████████████| 1/1 [01:03<00:00, 63.24s/it]\u001b[A\u001b[A\n"
     ]
    },
    {
     "name": "stdout",
     "output_type": "stream",
     "text": [
      "Elapsed Time: 63.2s, Elapsed Time per query: 63242.4ms\n",
      "Finished retrieving in the big index!\n",
      "finished with qid:  49_6\n",
      "Processing qid: 49_7\n",
      "Query Num 1\n"
     ]
    },
    {
     "name": "stderr",
     "output_type": "stream",
     "text": [
      "\n",
      "\n",
      "100%|████████████████████████████████████████████████████| 1/1 [00:00<00:00, 232.02it/s]\u001b[A\u001b[A\n"
     ]
    },
    {
     "name": "stdout",
     "output_type": "stream",
     "text": [
      "Elapsed Time: 0.0s, Elapsed Time per query: 7.6ms\n",
      "Retrieved top 1000 for 49_7\n",
      "Computing distances and coverage!\n",
      "Finished for Rb hat!\n",
      "Query Num 1\n"
     ]
    },
    {
     "name": "stderr",
     "output_type": "stream",
     "text": [
      "\n",
      "\n",
      "  0%|                                                             | 0/1 [00:00<?, ?it/s]\u001b[A\u001b[A\n",
      "\n",
      "100%|█████████████████████████████████████████████████████| 1/1 [01:03<00:00, 63.40s/it]\u001b[A\u001b[A\n"
     ]
    },
    {
     "name": "stdout",
     "output_type": "stream",
     "text": [
      "Elapsed Time: 63.4s, Elapsed Time per query: 63406.4ms\n",
      "Finished retrieving in the big index!\n",
      "finished with qid:  49_7\n",
      "Processing qid: 49_8\n",
      "Query Num 1\n"
     ]
    },
    {
     "name": "stderr",
     "output_type": "stream",
     "text": [
      "\n",
      "\n",
      "100%|████████████████████████████████████████████████████| 1/1 [00:00<00:00, 229.86it/s]\u001b[A\u001b[A\n"
     ]
    },
    {
     "name": "stdout",
     "output_type": "stream",
     "text": [
      "Elapsed Time: 0.0s, Elapsed Time per query: 8.4ms\n",
      "Retrieved top 1000 for 49_8\n",
      "Computing distances and coverage!\n",
      "Finished for Rb hat!\n",
      "Query Num 1\n"
     ]
    },
    {
     "name": "stderr",
     "output_type": "stream",
     "text": [
      "\n",
      "\n",
      "  0%|                                                             | 0/1 [00:00<?, ?it/s]\u001b[A\u001b[A\n",
      "\n",
      "100%|█████████████████████████████████████████████████████| 1/1 [01:03<00:00, 63.41s/it]\u001b[A\u001b[A\n"
     ]
    },
    {
     "name": "stdout",
     "output_type": "stream",
     "text": [
      "Elapsed Time: 63.4s, Elapsed Time per query: 63410.5ms\n",
      "Finished retrieving in the big index!\n",
      "finished with qid:  49_8\n",
      "Processing qid: 49_9\n",
      "Query Num 1\n"
     ]
    },
    {
     "name": "stderr",
     "output_type": "stream",
     "text": [
      "\n",
      "\n",
      "100%|████████████████████████████████████████████████████| 1/1 [00:00<00:00, 241.82it/s]\u001b[A\u001b[A\n"
     ]
    },
    {
     "name": "stdout",
     "output_type": "stream",
     "text": [
      "Elapsed Time: 0.0s, Elapsed Time per query: 7.6ms\n",
      "Retrieved top 1000 for 49_9\n",
      "Computing distances and coverage!\n",
      "Finished for Rb hat!\n",
      "Query Num 1\n"
     ]
    },
    {
     "name": "stderr",
     "output_type": "stream",
     "text": [
      "\n",
      "\n",
      "  0%|                                                             | 0/1 [00:00<?, ?it/s]\u001b[A\u001b[A\n",
      "\n",
      "100%|█████████████████████████████████████████████████████| 1/1 [01:03<00:00, 63.42s/it]\u001b[A\u001b[A\n"
     ]
    },
    {
     "name": "stdout",
     "output_type": "stream",
     "text": [
      "Elapsed Time: 63.4s, Elapsed Time per query: 63418.0ms\n",
      "Finished retrieving in the big index!\n",
      "finished with qid:  49_9\n",
      "Processing qid: 49_10\n",
      "Query Num 1\n"
     ]
    },
    {
     "name": "stderr",
     "output_type": "stream",
     "text": [
      "\n",
      "\n",
      "100%|████████████████████████████████████████████████████| 1/1 [00:00<00:00, 239.92it/s]\u001b[A\u001b[A\n"
     ]
    },
    {
     "name": "stdout",
     "output_type": "stream",
     "text": [
      "Elapsed Time: 0.0s, Elapsed Time per query: 6.9ms\n",
      "Retrieved top 1000 for 49_10\n",
      "Computing distances and coverage!\n",
      "Finished for Rb hat!\n",
      "Query Num 1\n"
     ]
    },
    {
     "name": "stderr",
     "output_type": "stream",
     "text": [
      "\n",
      "\n",
      "  0%|                                                             | 0/1 [00:00<?, ?it/s]\u001b[A\u001b[A\n",
      "\n",
      "100%|█████████████████████████████████████████████████████| 1/1 [01:03<00:00, 63.41s/it]\u001b[A\u001b[A\n"
     ]
    },
    {
     "name": "stdout",
     "output_type": "stream",
     "text": [
      "Elapsed Time: 63.4s, Elapsed Time per query: 63415.6ms\n",
      "Finished retrieving in the big index!\n",
      "finished with qid:  49_10\n",
      "Starting conv:  50\n",
      "Query Num 1\n"
     ]
    },
    {
     "name": "stderr",
     "output_type": "stream",
     "text": [
      "\n",
      "\n",
      "  0%|                                                             | 0/1 [00:00<?, ?it/s]\u001b[A\u001b[A\n",
      "\n",
      "100%|█████████████████████████████████████████████████████| 1/1 [01:03<00:00, 63.39s/it]\u001b[A\u001b[A\n"
     ]
    },
    {
     "name": "stdout",
     "output_type": "stream",
     "text": [
      "Elapsed Time: 63.4s, Elapsed Time per query: 63394.5ms\n",
      "embedding shape: (2000, 768)\n",
      "(2000,) int64\n",
      "Create cache for:  50\n",
      "Processing qid: 50_2\n",
      "Query Num 1\n"
     ]
    },
    {
     "name": "stderr",
     "output_type": "stream",
     "text": [
      "\n",
      "\n",
      "100%|████████████████████████████████████████████████████| 1/1 [00:00<00:00, 368.08it/s]\u001b[A\u001b[A\n"
     ]
    },
    {
     "name": "stdout",
     "output_type": "stream",
     "text": [
      "Elapsed Time: 0.0s, Elapsed Time per query: 6.4ms\n",
      "Retrieved top 1000 for 50_2\n",
      "Computing distances and coverage!\n",
      "Finished for Rb hat!\n",
      "Query Num 1\n"
     ]
    },
    {
     "name": "stderr",
     "output_type": "stream",
     "text": [
      "\n",
      "\n",
      "  0%|                                                             | 0/1 [00:00<?, ?it/s]\u001b[A\u001b[A\n",
      "\n",
      "100%|█████████████████████████████████████████████████████| 1/1 [01:03<00:00, 63.37s/it]\u001b[A\u001b[A\n"
     ]
    },
    {
     "name": "stdout",
     "output_type": "stream",
     "text": [
      "Elapsed Time: 63.4s, Elapsed Time per query: 63375.5ms\n",
      "Finished retrieving in the big index!\n",
      "finished with qid:  50_2\n",
      "Processing qid: 50_3\n",
      "Query Num 1\n"
     ]
    },
    {
     "name": "stderr",
     "output_type": "stream",
     "text": [
      "\n",
      "\n",
      "100%|████████████████████████████████████████████████████| 1/1 [00:00<00:00, 326.96it/s]\u001b[A\u001b[A\n"
     ]
    },
    {
     "name": "stdout",
     "output_type": "stream",
     "text": [
      "Elapsed Time: 0.0s, Elapsed Time per query: 6.9ms\n",
      "Retrieved top 1000 for 50_3\n",
      "Computing distances and coverage!\n",
      "Finished for Rb hat!\n",
      "Query Num 1\n"
     ]
    },
    {
     "name": "stderr",
     "output_type": "stream",
     "text": [
      "\n",
      "\n",
      "  0%|                                                             | 0/1 [00:00<?, ?it/s]\u001b[A\u001b[A"
     ]
    }
   ],
   "source": [
    "\n",
    "coverage1 = {} # top10 ranking for each query from the BIG index\n",
    "coverage2 = {} # list of triples (3,5,10) for each qb\n",
    "\n",
    "\n",
    "            \n",
    "            # save results - top1000, for qb\n",
    "            for idx, pid in enumerate(nearest_neighbors[0]):\n",
    "                results_list.append((qid_offset, pid, idx+1))\n",
    "            \n",
    "            print(\"Computing distances and coverage!\")\n",
    "            #### Compute DISTANCES rb_hat\n",
    "            \n",
    "            # compute distance between qb and qa\n",
    "            query_distance_dict[qid] = l2_distance(query_emb, first_query_emb)\n",
    "            \n",
    "            # compute rb_capuccio = ra - d(qb, qa)\n",
    "            diff_distance_dict[qid] = cache_radius_dict[first_qid] - query_distance_dict[qid]\n",
    "            \n",
    "            #### Compute COVERAGE \n",
    "            # Cov1 - intersezione tra Ba ed Bb_hat\n",
    "            # distance between qb and each doc in top1000 from cache and check if < rb_hat\n",
    "            # put them in a list - exact match - and intersect with top k in cache\n",
    "            retrieved_qb_in_rb_hat = []\n",
    "            small_doc_emb = doc_embeddings[nearest_neighbors[0]]\n",
    "            for doc_id, doc_emb in zip(nearest_neighbors[0], small_doc_emb):\n",
    "                if l2_distance(query_emb, doc_emb) < diff_distance_dict[qid]:\n",
    "                    retrieved_qb_in_rb_hat.append(doc_id)\n",
    "            coverage1[qid]=len(retrieved_qb_in_rb_hat)\n",
    "            print(\"Finished for Rb hat!\")\n",
    "            \n",
    "            #### Compute DISTANCES rb\n",
    "            \n",
    "            #compute distance between qb and the last retrieved doc from INDEX\n",
    "            first_10_docs = index_retrieve(index, query_emb, 10, batch=32)\n",
    "            # 3 raggi rb per 3,5,10\n",
    "            rb_dist_list = []\n",
    "            for i in [3,5,10]:\n",
    "                dist_rb = l2_distance(query_emb, first_10_docs[0][i-1])\n",
    "                rb_dist_list.append(dist_rb)\n",
    "            query_radius_dict[qid] = rb_dist_list\n",
    "            print(\"Finished retrieving in the big index!\")\n",
    "            \n",
    "            # save top10 for qb in INDEX\n",
    "            results_list_rb= first_10_docs[0][:10]\n",
    "            result_list_qb_in_cache = nearest_neighbors[0][:10]\n",
    "        \n",
    "            #### Compute COVERAGE          \n",
    "            # Cov2 - intersezione tra risultati di query qb su cache e query qb su indice per k=3,5,10\n",
    "            num_intersection = []\n",
    "            for cut_off in [3,5,10]:\n",
    "                elem_in_common = set(results_list_rb[:cut_off]).intersection(result_list_qb_in_cache[:cut_off])\n",
    "                num_intersection.append(len(elem_in_common))\n",
    "            coverage2[qid] = num_intersection\n",
    "            \n",
    "            print(\"finished with qid: \", qid)"
   ]
  },
  {
   "cell_type": "code",
   "execution_count": null,
   "id": "ecaa2fbe-9c24-4572-89ab-3b711ade4fe0",
   "metadata": {},
   "outputs": [],
   "source": []
  },
  {
   "cell_type": "code",
   "execution_count": 27,
   "id": "c1db43b0-3ee0-48ed-8616-adb5a338b370",
   "metadata": {},
   "outputs": [
    {
     "data": {
      "text/plain": [
       "194000"
      ]
     },
     "execution_count": 27,
     "metadata": {},
     "output_type": "execute_result"
    }
   ],
   "source": [
    "len(results_list)"
   ]
  },
  {
   "cell_type": "code",
   "execution_count": 40,
   "id": "b95e7722-ce79-48d6-841c-9357f7da1a1b",
   "metadata": {},
   "outputs": [],
   "source": [
    "# convert ids to original\n",
    "with open(\"/data3/muntean/conversational-cache/data/star-ranking/CAST-manual-queries-star-L2-ranking-top1000-cache-top\"+str(topk)+\"-first-utt_v2.tsv\", 'w') as outputfile:\n",
    "    for (qid, pid, idx) in results_list:\n",
    "        \n",
    "        new_qid = offset2qid[qid]\n",
    "        orig_qid = newqid2qid_dict[new_qid]\n",
    "        \n",
    "        new_pid = offset2pid[pid]\n",
    "        orig_pid = newpid2pid_dict[new_pid]\n",
    "        \n",
    "        outputfile.write(f\"{orig_qid}\\t{orig_pid}\\t{idx}\\n\")"
   ]
  },
  {
   "cell_type": "markdown",
   "id": "88f891e1-a592-4ea6-9245-966e59aa2dee",
   "metadata": {},
   "source": [
    "# Eval results"
   ]
  },
  {
   "cell_type": "code",
   "execution_count": null,
   "id": "420e75ce-8ca7-4097-8ebf-22c9c50cabb4",
   "metadata": {},
   "outputs": [],
   "source": [
    "# import pyterrier as pt\n",
    "# pt.init()"
   ]
  },
  {
   "cell_type": "code",
   "execution_count": null,
   "id": "8a43705f-a26e-4b0e-ac47-c17e764a32ee",
   "metadata": {},
   "outputs": [],
   "source": [
    "qrel_path = \"../data/CAST_qrels/qrels-docs.2019.txt\"\n",
    "qrels_df = pd.read_csv(qrel_path, delimiter=\" \", header=None)\n",
    "qrels_df[[3]] = qrels_df[[3]].astype(int)\n",
    "qrels_df = qrels_df.drop([1], axis=1)\n",
    "qrels_df.columns=[\"qid\", \"docno\", \"label\"]\n",
    "qrels = qrels_df"
   ]
  },
  {
   "cell_type": "code",
   "execution_count": null,
   "id": "fa18fb4e-d621-4ee3-bee5-6ae288742ab4",
   "metadata": {},
   "outputs": [],
   "source": [
    "topics_path='../data/CAST-2019/test_manual_utterance.tsv' #manual\n",
    "\n",
    "topics_df = pd.read_csv(topics_path, delimiter=\"\\t\", header=None)\n",
    "topics_df.columns=[\"qid\", \"query\"]\n",
    "topics = topics_df\n",
    "topics.head()"
   ]
  },
  {
   "cell_type": "code",
   "execution_count": null,
   "id": "3fb09f29-89af-4c8f-9def-080ba06eb30d",
   "metadata": {},
   "outputs": [],
   "source": [
    "results_path = \"../data/star-ranking/CAST-manual-queries-star-L2-ranking-top1000-cache-top\"+str(topk)+\"-first-utt_new.tsv\"\n",
    "results_df = pd.read_csv(results_path, delimiter=\"\\t\", header=None)\n",
    "results_df[3] = 1000-results_df[2]\n",
    "results_df.columns=[\"qid\", \"docno\", \"rank\", \"score\"]\n",
    "results_df.head()\n",
    "# Results produced by the transformers must have “qid”, “docno”, “score”, “rank” columns."
   ]
  },
  {
   "cell_type": "code",
   "execution_count": null,
   "id": "f1d8219c-375a-4388-9ea7-c2b1390d03a1",
   "metadata": {},
   "outputs": [],
   "source": [
    "%%time\n",
    "pt.Experiment([results_df], topics, qrels, names=[\"STAR\"], \n",
    "              eval_metrics=[\"map\", \"recip_rank\", \"recall_200\", \"P_3\", \"P_1\", \"ndcg_cut_3\"])"
   ]
  },
  {
   "cell_type": "code",
   "execution_count": null,
   "id": "737f6f77-5186-4a8f-96df-927f989b5511",
   "metadata": {},
   "outputs": [],
   "source": [
    "%%time\n",
    "res_per_query = pt.Experiment([results_df], topics, qrels, names=[\"STAR\"], \n",
    "              eval_metrics=[\"map\", \"recip_rank\", \"recall_200\", \"P_3\", \"P_1\", \"ndcg_cut_3\"], perquery=True)"
   ]
  },
  {
   "cell_type": "code",
   "execution_count": null,
   "id": "15a21ce0-a87d-4f8b-a27d-25c9ea5eab7c",
   "metadata": {},
   "outputs": [],
   "source": [
    "res_per_query"
   ]
  },
  {
   "cell_type": "markdown",
   "id": "04d09717-be37-406e-be37-6c80a00e8c82",
   "metadata": {
    "tags": []
   },
   "source": [
    "# Explore the dictionaries"
   ]
  },
  {
   "cell_type": "code",
   "execution_count": null,
   "id": "08403465-1618-4bbe-93f5-d357fe71ddb1",
   "metadata": {},
   "outputs": [],
   "source": [
    "# distance dicts\n",
    "\n",
    "# cache_radius_dict = dict() # between first utterance (qi) and last retrieved doc from the big index\n",
    "# query_distance_dict = dict() # distance between the first (qi) and the rest of utterances of the conversation (q)\n",
    "# query_radius_dict = dict() # between current utterance (q) and last retrieved doc from the small index\n",
    "# diff_distance_dict = dict() # rbcapuccio = rqi - d(q, qi)"
   ]
  },
  {
   "cell_type": "markdown",
   "id": "d4af1723-fd03-4a69-9e5d-32286b66bc13",
   "metadata": {},
   "source": [
    "## save into .tsv files"
   ]
  },
  {
   "cell_type": "code",
   "execution_count": 63,
   "id": "da2439d4-56eb-4176-9ed4-2032f73fd864",
   "metadata": {},
   "outputs": [
    {
     "data": {
      "text/plain": [
       "{'31_1': 28431738.661924537,\n",
       " '32_1': 355076152.0915213,\n",
       " '33_1': 106153431.02278665,\n",
       " '34_1': 906646872.6375507,\n",
       " '37_1': 592793363.4919354,\n",
       " '40_1': 337580499.0137381,\n",
       " '49_1': 76002583.38057733,\n",
       " '50_1': 125072275.5781277,\n",
       " '54_1': 669592163.721115,\n",
       " '56_1': 797924352.9748623,\n",
       " '58_1': 13380189.454374745,\n",
       " '59_1': 43408989.84819126,\n",
       " '61_1': 444688996.72242874,\n",
       " '67_1': 197938599.9763936,\n",
       " '68_1': 316337297.70754796,\n",
       " '69_1': 178151706.9753045,\n",
       " '75_1': 851853126.6474372,\n",
       " '77_1': 12856472.70520966,\n",
       " '78_1': 152264309.32073274,\n",
       " '79_1': 367685953.07002944}"
      ]
     },
     "execution_count": 63,
     "metadata": {},
     "output_type": "execute_result"
    }
   ],
   "source": [
    "cache_radius_dict"
   ]
  },
  {
   "cell_type": "code",
   "execution_count": 64,
   "id": "fe36e661-38d3-4b5d-b489-cb714e0ef97d",
   "metadata": {},
   "outputs": [],
   "source": [
    "with open('../data/star-ranking/cache-radius-star-L2-ranking-top1000-cache-top'+str(topk)+'_v2.tsv', 'w+') as fout:\n",
    "    for i in cache_radius_dict:\n",
    "        fout.write((i)+\"\\t\"+str(cache_radius_dict[i])+\"\\n\")"
   ]
  },
  {
   "cell_type": "code",
   "execution_count": 65,
   "id": "fd9df1a1-80cb-40d8-b905-61aa615fac58",
   "metadata": {},
   "outputs": [
    {
     "data": {
      "text/plain": [
       "{'31_2': 3.9169831,\n",
       " '31_3': 5.3893275,\n",
       " '31_4': 5.084863,\n",
       " '31_5': 4.4554224,\n",
       " '31_6': 3.0022993,\n",
       " '31_7': 4.6444077,\n",
       " '31_8': 4.5658855,\n",
       " '31_9': 4.1239033,\n",
       " '32_2': 3.905776,\n",
       " '32_3': 5.3604336,\n",
       " '32_4': 4.893136,\n",
       " '32_5': 5.2374506,\n",
       " '32_6': 7.8547215,\n",
       " '32_7': 5.997548,\n",
       " '32_8': 5.9000263,\n",
       " '32_9': 6.0646443,\n",
       " '32_10': 6.0722146,\n",
       " '32_11': 5.3437514,\n",
       " '33_2': 2.2506719,\n",
       " '33_3': 4.3431473,\n",
       " '33_4': 3.7971294,\n",
       " '33_5': 3.5857072,\n",
       " '33_6': 3.6771781,\n",
       " '33_7': 3.4688494,\n",
       " '33_8': 3.3191404,\n",
       " '33_9': 4.0358944,\n",
       " '33_10': 8.226567,\n",
       " '34_2': 3.502506,\n",
       " '34_3': 3.4360359,\n",
       " '34_4': 4.074217,\n",
       " '34_5': 3.2885115,\n",
       " '34_6': 4.2839885,\n",
       " '34_7': 4.124792,\n",
       " '34_8': 4.4366627,\n",
       " '34_9': 3.6143475,\n",
       " '37_2': 2.6533976,\n",
       " '37_3': 3.9765513,\n",
       " '37_4': 3.9772527,\n",
       " '37_5': 3.5880055,\n",
       " '37_6': 7.1824594,\n",
       " '37_7': 7.6885986,\n",
       " '37_8': 5.2015877,\n",
       " '37_9': 7.2291493,\n",
       " '37_10': 7.1421967,\n",
       " '37_11': 7.0716915,\n",
       " '37_12': 7.046846,\n",
       " '40_2': 4.4159546,\n",
       " '40_3': 4.7052565,\n",
       " '40_4': 5.166576,\n",
       " '40_5': 5.545054,\n",
       " '40_6': 5.109111,\n",
       " '40_7': 5.8029737,\n",
       " '40_8': 6.859926,\n",
       " '40_9': 6.467886,\n",
       " '40_10': 5.4937944,\n",
       " '49_2': 3.5109725,\n",
       " '49_3': 5.924017,\n",
       " '49_4': 4.464828,\n",
       " '49_5': 6.528755,\n",
       " '49_6': 5.730243,\n",
       " '49_7': 5.487003,\n",
       " '49_8': 4.552799,\n",
       " '49_9': 5.5453978,\n",
       " '49_10': 5.659487,\n",
       " '50_2': 5.90025,\n",
       " '50_3': 4.848116,\n",
       " '50_4': 6.2359195,\n",
       " '50_5': 8.58475,\n",
       " '50_6': 8.169902,\n",
       " '50_7': 8.436134,\n",
       " '50_8': 8.489553,\n",
       " '50_9': 8.341445,\n",
       " '50_10': 8.302785,\n",
       " '54_2': 4.9131866,\n",
       " '54_3': 6.9897714,\n",
       " '54_4': 5.6616383,\n",
       " '54_5': 4.564178,\n",
       " '54_6': 4.9790955,\n",
       " '54_7': 4.820249,\n",
       " '54_8': 7.712495,\n",
       " '54_9': 7.1268535,\n",
       " '56_2': 3.7157674,\n",
       " '56_3': 5.650293,\n",
       " '56_4': 4.8060966,\n",
       " '56_5': 4.4516516,\n",
       " '56_6': 4.9007697,\n",
       " '56_7': 7.5236673,\n",
       " '56_8': 5.175514,\n",
       " '58_2': 3.4050937,\n",
       " '58_3': 4.4763384,\n",
       " '58_4': 4.6759033,\n",
       " '58_5': 3.8223155,\n",
       " '58_6': 4.693069,\n",
       " '58_7': 7.2026544,\n",
       " '58_8': 6.5311646,\n",
       " '59_2': 6.047142,\n",
       " '59_3': 9.3033285,\n",
       " '59_4': 8.21212,\n",
       " '59_5': 8.57647,\n",
       " '59_6': 8.521701,\n",
       " '59_7': 7.333908,\n",
       " '59_8': 5.9087477,\n",
       " '61_2': 5.04818,\n",
       " '61_3': 4.6275,\n",
       " '61_4': 5.629565,\n",
       " '61_5': 6.334507,\n",
       " '61_6': 8.022303,\n",
       " '61_7': 8.043416,\n",
       " '61_8': 8.006644,\n",
       " '61_9': 6.3690805,\n",
       " '67_2': 4.197474,\n",
       " '67_3': 4.65744,\n",
       " '67_4': 5.989513,\n",
       " '67_5': 6.0340652,\n",
       " '67_6': 6.161445,\n",
       " '67_7': 6.8377323,\n",
       " '67_8': 5.8771634,\n",
       " '67_9': 6.326488,\n",
       " '67_10': 6.439489,\n",
       " '67_11': 7.827849,\n",
       " '68_2': 4.383923,\n",
       " '68_3': 2.801709,\n",
       " '68_4': 7.8346553,\n",
       " '68_5': 7.512441,\n",
       " '68_6': 7.1678076,\n",
       " '68_7': 7.7191334,\n",
       " '68_8': 7.6743336,\n",
       " '68_9': 3.6370885,\n",
       " '68_10': 6.508825,\n",
       " '68_11': 6.56507,\n",
       " '69_2': 4.6701317,\n",
       " '69_3': 7.275424,\n",
       " '69_4': 6.673742,\n",
       " '69_5': 6.433653,\n",
       " '69_6': 6.0773582,\n",
       " '69_7': 6.9084454,\n",
       " '69_8': 6.7169147,\n",
       " '69_9': 5.877363,\n",
       " '69_10': 6.276877,\n",
       " '75_2': 5.5948677,\n",
       " '75_3': 5.48972,\n",
       " '75_4': 6.0108185,\n",
       " '75_5': 6.1895156,\n",
       " '75_6': 5.7318606,\n",
       " '75_7': 6.590467,\n",
       " '75_8': 5.1217337,\n",
       " '75_9': 5.593577,\n",
       " '75_10': 5.901625,\n",
       " '77_2': 5.463321,\n",
       " '77_3': 5.2523,\n",
       " '77_4': 6.8380504,\n",
       " '77_5': 7.3270183,\n",
       " '77_6': 8.173251,\n",
       " '77_7': 7.6522236,\n",
       " '77_8': 7.0303597,\n",
       " '77_9': 6.9992943,\n",
       " '77_10': 6.4689765,\n",
       " '78_2': 4.2332077,\n",
       " '78_3': 4.229419,\n",
       " '78_4': 5.0662317,\n",
       " '78_5': 4.3085694,\n",
       " '78_6': 4.203802,\n",
       " '78_7': 6.930045,\n",
       " '78_8': 5.2373543,\n",
       " '78_9': 7.688931,\n",
       " '78_10': 6.4106407,\n",
       " '79_2': 6.6443434,\n",
       " '79_3': 5.350125,\n",
       " '79_4': 6.4761324,\n",
       " '79_5': 7.7698135,\n",
       " '79_6': 5.716599,\n",
       " '79_7': 6.2192254,\n",
       " '79_8': 7.3189983,\n",
       " '79_9': 7.4215274}"
      ]
     },
     "execution_count": 65,
     "metadata": {},
     "output_type": "execute_result"
    }
   ],
   "source": [
    "query_distance_dict"
   ]
  },
  {
   "cell_type": "code",
   "execution_count": 82,
   "id": "c45904f3-650b-4f46-9ec0-7a724ce1db9a",
   "metadata": {},
   "outputs": [],
   "source": [
    "with open('../data/star-ranking/query-dist-star-L2-ranking-top1000-cache-top'+str(topk)+'_v2.tsv', 'w+') as fout:\n",
    "    for i in query_distance_dict:\n",
    "        fout.write((i)+\"\\t\"+str(query_distance_dict[i])+\"\\n\")"
   ]
  },
  {
   "cell_type": "code",
   "execution_count": 67,
   "id": "17facbce-42fb-4f93-ba83-0a2f942bb2f2",
   "metadata": {},
   "outputs": [
    {
     "data": {
      "text/plain": [
       "{'31_2': [99251942.92940265, 220947467.7251526, 212635840.87385574],\n",
       " '31_3': [124612187.46673912, 191627755.07755393, 121833534.56639196],\n",
       " '31_4': [1030599384.3308121, 93353991.23604874, 53113961.50053301],\n",
       " '31_5': [198164265.38188753, 777482.9, 101270710.48925853],\n",
       " '31_6': [102699527.70718996, 81083450.49029242, 178204139.5976222],\n",
       " '31_7': [166013882.86962366, 191627533.35039073, 194480290.31248894],\n",
       " '31_8': [182236215.32494026, 242726717.99504328, 3881733.6608218425],\n",
       " '31_9': [536862782.46281636, 244642560.1759066, 17845748.9718848],\n",
       " '32_2': [144977557.72888035, 943260071.1273872, 480213164.8269171],\n",
       " '32_3': [122397656.60753389, 364256714.1879441, 18660588.840928745],\n",
       " '32_4': [160500141.6396697, 160500197.06529555, 367388.72],\n",
       " '32_5': [121811253.46949138, 199441022.4187786, 97163948.77528352],\n",
       " '32_6': [88274121.80366217, 17066132.141343877, 87818661.72330387],\n",
       " '32_7': [185757543.91827187, 127331839.80048174, 229824519.12850353],\n",
       " '32_8': [472759554.38127977, 119167090.8555572, 78158418.54086064],\n",
       " '32_9': [965950241.5391548, 127331839.785236, 715381129.9960794],\n",
       " '32_10': [78158418.52769198, 34581876.967729725, 185757682.46705818],\n",
       " '32_11': [87818717.14824064, 1528084.5, 1528056.8],\n",
       " '33_2': [947503512.4525925, 582626142.0900791, 106516829.13206254],\n",
       " '33_3': [316327237.9327441, 392679335.3551176, 299843074.8382013],\n",
       " '33_4': [299843074.840768, 935297348.5781914, 172181036.84872964],\n",
       " '33_5': [299843074.83958507, 662745574.7277145, 172180925.9962951],\n",
       " '33_6': [932148064.5142283, 124173964.74501868, 947503512.4513077],\n",
       " '33_7': [631578331.9590746, 299843074.8354755, 914041205.3702201],\n",
       " '33_8': [935297348.5721657, 631578331.9583414, 392679335.3516585],\n",
       " '33_9': [124173853.8978964, 308264970.9751982, 809653551.6132779],\n",
       " '33_10': [165005552.18896493, 681482041.2681826, 184837173.66906038],\n",
       " '34_2': [714448150.4124683, 659826500.9859184, 773931874.301961],\n",
       " '34_3': [812120878.7676945, 1065194535.7785144, 787534791.6772286],\n",
       " '34_4': [504768490.67753613, 487711420.60147536, 812120878.7678202],\n",
       " '34_5': [528433209.88125235, 714448150.4315385, 50774473.55282014],\n",
       " '34_6': [717180661.5021234, 50774473.55657151, 169666875.03816235],\n",
       " '34_7': [708548369.6938777, 487711420.6110264, 689305867.1908588],\n",
       " '34_8': [528433209.87850595, 708548369.6860186, 966450762.6458373],\n",
       " '34_9': [528433209.8744561, 487711420.5991175, 1027259186.7017218],\n",
       " '37_2': [132150903.98143138, 146959356.4170737, 174896061.153765],\n",
       " '37_3': [146959190.13672245, 132150903.97795765, 132150820.83951889],\n",
       " '37_4': [174896171.99677575, 132150820.83475168, 146959356.40883276],\n",
       " '37_5': [56367002.35107565, 132150903.97012487, 88464259.40442325],\n",
       " '37_6': [806530040.4613215, 122602980.80265771, 994593345.865858],\n",
       " '37_7': [863631848.0891573, 817429240.3767865, 289677155.96592045],\n",
       " '37_8': [389753333.4400658, 476995956.6585482, 705524236.7010834],\n",
       " '37_9': [654596677.5352349, 633693844.984487, 469587518.1042945],\n",
       " '37_10': [723633063.4582887, 675715725.4464247, 448936595.0170307],\n",
       " '37_11': [122602980.82229212, 863631848.0998799, 476995956.6620537],\n",
       " '37_12': [692218982.6743481, 993184925.3141514, 492902584.74225605],\n",
       " '40_2': [23215217.358400136, 747999055.4041305, 774791498.0953097],\n",
       " '40_3': [405847216.98190683, 91622439.26657273, 91622411.5537598],\n",
       " '40_4': [491929670.9925469, 1692255.2, 133044780.73202951],\n",
       " '40_5': [88037426.6481043, 1026134489.9095588, 30864147.684663255],\n",
       " '40_6': [1030792819.8009276, 352051797.38825274, 874980245.0076978],\n",
       " '40_7': [486332126.2058919, 216786970.8560347, 995493208.6327016],\n",
       " '40_8': [481994405.879642, 63546228.24373792, 181774048.75866893],\n",
       " '40_9': [741182784.2069486, 725310575.4473295, 1039061796.6154704],\n",
       " '40_10': [733204265.3644546, 1056964273.7599936, 428396273.76689565],\n",
       " '49_2': [80970382.24243972, 45320952.254492104, 372290187.52472764],\n",
       " '49_3': [145809579.5199605, 97151478.01871645, 640623600.1334498],\n",
       " '49_4': [60484627.49781402, 372921152.82097363, 141309184.9462698],\n",
       " '49_5': [97151478.00316553, 68193888.66408771, 28026937.616248924],\n",
       " '49_6': [12476419.177966246, 28027020.743622176, 79763018.09912942],\n",
       " '49_7': [109415894.21147338, 144240452.32282668, 227023307.98354137],\n",
       " '49_8': [172637466.87886027, 169060075.28450108, 28775266.69910275],\n",
       " '49_9': [24278641.101583693, 114511255.13173977, 175491304.64209354],\n",
       " '49_10': [230625613.3866898, 230625724.2379415, 115955120.38956133],\n",
       " '50_2': [848158897.8414205, 72812118.09830405, 72812173.5239299],\n",
       " '50_3': [592286163.5905341, 906929626.4834827, 75826274.48625827],\n",
       " '50_4': [651931730.3058035, 195656089.57603756, 793324857.4183644],\n",
       " '50_5': [454751214.2737591, 669142246.2096008, 982676226.6372532],\n",
       " '50_6': [774094687.1017363, 913352153.9993453, 400917717.24873394],\n",
       " '50_7': [196757757.0068703, 110206540.75795758, 781563622.7318676],\n",
       " '50_8': [110206513.0382045, 839077769.2873045, 994125498.1567249],\n",
       " '50_9': [963901100.7169144, 110206707.031413, 110206568.46734838],\n",
       " '50_10': [574877667.2955209, 684096994.565444, 680748261.3904967],\n",
       " '54_2': [7985557.859739936, 7241801.386567378, 228279224.9580488],\n",
       " '54_3': [745431435.5327247, 939907291.8575138, 149049429.01995102],\n",
       " '54_4': [206797554.8590475, 206797637.99748623, 951227504.8151914],\n",
       " '54_5': [113158149.31695746, 183933264.84146172, 104440446.61792785],\n",
       " '54_6': [525794340.4082005, 511185143.09746075, 177983351.62689036],\n",
       " '54_7': [48976660.2494563, 48976577.11101754, 239731683.4602016],\n",
       " '54_8': [999829903.5864971, 356552191.9101947, 360965041.67568636],\n",
       " '54_9': [149171836.53679687, 26411834.88394242, 973276206.7795473],\n",
       " '56_2': [640476001.6761286, 215816856.1211568, 200419838.964696],\n",
       " '56_3': [116791215.97578636, 1065245610.5127486, 73671630.98807673],\n",
       " '56_4': [379253059.4602934, 185776028.3388075, 179093499.1950776],\n",
       " '56_5': [162932273.49810317, 340319190.0119713, 79413753.50558615],\n",
       " '56_6': [86269072.06066372, 197389359.7329079, 32009518.24774692],\n",
       " '56_7': [115451911.14651258, 132108891.34243108, 648309499.3690188],\n",
       " '56_8': [781872814.6008043, 156012079.30196998, 104544813.0933525],\n",
       " '58_2': [1032141934.9461828, 501400469.40551716, 379201319.66055053],\n",
       " '58_3': [767898268.4132923, 433339962.4630461, 68570090.10185724],\n",
       " '58_4': [440321651.4258192, 611664597.4312862, 492620218.8836319],\n",
       " '58_5': [576977827.4172735, 440321651.4173168, 68570090.09691472],\n",
       " '58_6': [858920004.7895473, 181090068.8144673, 440321651.4204199],\n",
       " '58_7': [21581463.86675516, 30345751.804301217, 144931388.16825855],\n",
       " '58_8': [1043845554.6515973, 29219142.816332843, 125051075.27157363],\n",
       " '59_2': [363310903.58031446, 1033593864.6382173, 106308539.6457364],\n",
       " '59_3': [500515626.9921757, 675124361.7235171, 103032220.04389639],\n",
       " '59_4': [92181240.43339655, 187759406.66072524, 615305146.5223718],\n",
       " '59_5': [169033969.83676895, 387589101.32932174, 229601929.8189864],\n",
       " '59_6': [3128249.997829805, 134008798.65680344, 117650146.89198062],\n",
       " '59_7': [102515292.9397628, 50206139.18741733, 153392719.63816753],\n",
       " '59_8': [89193771.47698936, 99634684.59626587, 89193549.77448599],\n",
       " '61_2': [720697805.4344199, 957486831.6037289, 651192380.1467079],\n",
       " '61_3': [265013777.8502946, 260279126.9011631, 137641283.32765627],\n",
       " '61_4': [942887250.6529719, 546048748.5741774, 598238182.9747066],\n",
       " '61_5': [768280178.6944069, 624072981.7065856, 73205723.17667028],\n",
       " '61_6': [47152519.76472737, 346740664.48452675, 491050537.4442204],\n",
       " '61_7': [830497383.5971959, 150661788.2125774, 661875253.8515097],\n",
       " '61_8': [139547924.85227686, 959685122.7869326, 610685697.736313],\n",
       " '61_9': [768513936.2651848, 92865940.90263635, 473599640.5829625],\n",
       " '67_2': [244514970.39884925, 244514998.11166218, 20265714.948223475],\n",
       " '67_3': [189106831.33992717, 217250661.64039087, 195890179.697064],\n",
       " '67_4': [108469058.23706189, 85974346.28650074, 200320876.50058085],\n",
       " '67_5': [24933661.1491791, 96167063.46095154, 201577098.3179901],\n",
       " '67_6': [143662307.61047563, 45189704.35041833, 2200591.286072881],\n",
       " '67_7': [231073369.3085658, 19685796.611501403, 169295440.2014001],\n",
       " '67_8': [55914673.80325087, 213039284.0114134, 194976017.1238134],\n",
       " '67_9': [179574316.50673875, 155949115.7786866, 36946860.70667862],\n",
       " '67_10': [70145397.24349743, 101388767.10512067, 120390888.66886145],\n",
       " '67_11': [219532506.91817078, 126684496.16857673, 154585118.82284462],\n",
       " '68_2': [191147076.34041896, 326502773.16842663, 229455827.8562782],\n",
       " '68_3': [191147076.34601703, 191147104.05882996, 167903342.4878238],\n",
       " '68_4': [326163041.80127084, 178060088.4242535, 28369163.154052474],\n",
       " '68_5': [627289136.772636, 813718051.3223376, 38092563.81967755],\n",
       " '68_6': [5994059.690205984, 238315724.99095714, 188647436.03311235],\n",
       " '68_7': [241802440.24959326, 128415854.16228628, 122747724.82272047],\n",
       " '68_8': [178741435.61407524, 178741380.1884494, 335290783.25162476],\n",
       " '68_9': [566217496.427289, 441578011.8021159, 25652337.53673648],\n",
       " '68_10': [941089631.3251225, 7164648.910540912, 740047307.117117],\n",
       " '68_11': [1010381751.0974541, 494601906.7094459, 12018769.80183097],\n",
       " '69_2': [1064892.5, 342666659.2772022, 856928312.6349535],\n",
       " '69_3': [86804843.86586204, 80962567.20990017, 157773810.51674885],\n",
       " '69_4': [170925313.8632395, 191735169.92663693, 466817677.8518852],\n",
       " '69_5': [12629172.22141089, 201250613.67815557, 49662441.522558525],\n",
       " '69_6': [134044742.16885577, 2713666.3102386836, 2713694.0230516037],\n",
       " '69_7': [157773865.93751222, 10179387.25199888, 81750691.89170088],\n",
       " '69_8': [186704269.0154662, 17233766.927842457, 53205358.365988776],\n",
       " '69_9': [155703247.70378247, 166090370.25317937, 706013450.981173],\n",
       " '69_10': [221174047.70968148, 112932567.0436807, 80377050.91586886],\n",
       " '75_2': [138501295.03670982, 152024066.9425035, 176926024.6746437],\n",
       " '75_3': [227861869.98724034, 17255216.64548192, 655065051.7683693],\n",
       " '75_4': [64089343.93858598, 1003540676.9418676, 560565773.0607708],\n",
       " '75_5': [177098093.52806517, 22246876.215080433, 167166098.5052715],\n",
       " '75_6': [393852723.56415313, 541237360.8302561, 132227862.43433477],\n",
       " '75_7': [86201286.52334149, 205569600.14122862, 85798674.77722374],\n",
       " '75_8': [520715274.6104201, 481091411.5573898, 7915582.985546633],\n",
       " '75_9': [1044025743.3697249, 983263516.56893, 742108918.6929727],\n",
       " '75_10': [863355606.7645822, 983263516.562858, 742108918.6869006],\n",
       " '77_2': [685093713.6253222, 1020800244.5533288, 944215470.3536693],\n",
       " '77_3': [26459140.65353259, 40730213.93381796, 137140734.49722832],\n",
       " '77_4': [693463925.3548499, 53032319.56554964, 756118743.2884656],\n",
       " '77_5': [576895160.0976443, 141130963.8617421, 607531037.3872254],\n",
       " '77_6': [539068528.4068961, 602532505.0521821, 52653097.45165384],\n",
       " '77_7': [476523896.60865283, 212492094.53819725, 599913505.6582714],\n",
       " '77_8': [477322579.8483891, 6334262.164483269, 206196741.07513818],\n",
       " '77_9': [333751585.90690184, 206196768.78805503, 592590671.9434534],\n",
       " '77_10': [99834299.98268467, 15850952.979056498, 875561133.2422023],\n",
       " '78_2': [192829798.33246705, 103800724.05465287, 48401231.39503681],\n",
       " '78_3': [134784646.56540236, 165977107.98969048, 134784452.57571194],\n",
       " '78_4': [146909168.48637888, 146909085.34794012, 79556003.38856013],\n",
       " '78_5': [133404105.07549997, 231259876.54556307, 92181683.83474262],\n",
       " '78_6': [115816750.32795694, 133404188.2177014, 231259876.54932576],\n",
       " '78_7': [191416777.43584013, 87910446.54960401, 29298207.488048214],\n",
       " '78_8': [235566530.8215739, 238328888.5879235, 7970731.508245241],\n",
       " '78_9': [122596828.57815473, 29298041.21359304, 204977987.0155778],\n",
       " '78_10': [183517323.2493041, 6875909.115868845, 156503288.90600795],\n",
       " '79_2': [220199609.79316086, 149396338.05072838, 201606085.94312847],\n",
       " '79_3': [169937296.65987712, 112389617.59386642, 45904334.658300005],\n",
       " '79_4': [70423717.02950917, 340142881.1316953, 143989789.94329643],\n",
       " '79_5': [277285288.5364755, 553480964.731139, 19667894.144751977],\n",
       " '79_6': [115510606.89250158, 61345803.186958335, 154301561.35318762],\n",
       " '79_7': [64998518.19992559, 1023286610.4122483, 1028599322.9261011],\n",
       " '79_8': [1023286610.4216018, 243738568.23964334, 118067446.44067048],\n",
       " '79_9': [495424478.41172963, 116817099.72840019, 188448180.90559855]}"
      ]
     },
     "execution_count": 67,
     "metadata": {},
     "output_type": "execute_result"
    }
   ],
   "source": [
    "query_radius_dict"
   ]
  },
  {
   "cell_type": "code",
   "execution_count": 68,
   "id": "8ad56a3a-21ae-4922-b7c0-ab01859a8237",
   "metadata": {},
   "outputs": [],
   "source": [
    "with open('../data/star-ranking/query-radius-star-L2-ranking-top1000-cache-top'+str(topk)+'_v2.tsv', 'w+') as fout:\n",
    "    for i in query_radius_dict:\n",
    "        fout.write(str(i)+\"\\t\"+str(query_radius_dict[i])+\"\\n\")"
   ]
  },
  {
   "cell_type": "code",
   "execution_count": 69,
   "id": "d6f97a9a-7112-4d15-bb2c-2139a5932df0",
   "metadata": {},
   "outputs": [
    {
     "data": {
      "text/plain": [
       "{'31_2': 28431734.74494141,\n",
       " '31_3': 28431733.27259701,\n",
       " '31_4': 28431733.57706135,\n",
       " '31_5': 28431734.206502136,\n",
       " '31_6': 28431735.65962523,\n",
       " '31_7': 28431734.017516788,\n",
       " '31_8': 28431734.096038993,\n",
       " '31_9': 28431734.538021263,\n",
       " '32_2': 355076148.1857453,\n",
       " '32_3': 355076146.73108774,\n",
       " '32_4': 355076147.1983853,\n",
       " '32_5': 355076146.8540707,\n",
       " '32_6': 355076144.2367998,\n",
       " '32_7': 355076146.0939732,\n",
       " '32_8': 355076146.191495,\n",
       " '32_9': 355076146.026877,\n",
       " '32_10': 355076146.0193067,\n",
       " '32_11': 355076146.7477699,\n",
       " '33_2': 106153428.77211478,\n",
       " '33_3': 106153426.67963937,\n",
       " '33_4': 106153427.22565725,\n",
       " '33_5': 106153427.43707946,\n",
       " '33_6': 106153427.3456085,\n",
       " '33_7': 106153427.55393723,\n",
       " '33_8': 106153427.70364621,\n",
       " '33_9': 106153426.98689225,\n",
       " '33_10': 106153422.79621938,\n",
       " '34_2': 906646869.1350447,\n",
       " '34_3': 906646869.2015148,\n",
       " '34_4': 906646868.5633339,\n",
       " '34_5': 906646869.3490392,\n",
       " '34_6': 906646868.3535622,\n",
       " '34_7': 906646868.5127586,\n",
       " '34_8': 906646868.200888,\n",
       " '34_9': 906646869.0232033,\n",
       " '37_2': 592793360.8385378,\n",
       " '37_3': 592793359.5153841,\n",
       " '37_4': 592793359.5146827,\n",
       " '37_5': 592793359.9039298,\n",
       " '37_6': 592793356.309476,\n",
       " '37_7': 592793355.8033367,\n",
       " '37_8': 592793358.2903477,\n",
       " '37_9': 592793356.262786,\n",
       " '37_10': 592793356.3497387,\n",
       " '37_11': 592793356.4202439,\n",
       " '37_12': 592793356.4450895,\n",
       " '40_2': 337580494.5977835,\n",
       " '40_3': 337580494.30848163,\n",
       " '40_4': 337580493.8471622,\n",
       " '40_5': 337580493.46868414,\n",
       " '40_6': 337580493.90462726,\n",
       " '40_7': 337580493.21076435,\n",
       " '40_8': 337580492.1538119,\n",
       " '40_9': 337580492.5458521,\n",
       " '40_10': 337580493.51994365,\n",
       " '49_2': 76002579.86960483,\n",
       " '49_3': 76002577.45656037,\n",
       " '49_4': 76002578.91574931,\n",
       " '49_5': 76002576.85182214,\n",
       " '49_6': 76002577.65033412,\n",
       " '49_7': 76002577.89357448,\n",
       " '49_8': 76002578.8277781,\n",
       " '49_9': 76002577.83517957,\n",
       " '49_10': 76002577.72109056,\n",
       " '50_2': 125072269.67787774,\n",
       " '50_3': 125072270.73001178,\n",
       " '50_4': 125072269.34220822,\n",
       " '50_5': 125072266.99337752,\n",
       " '50_6': 125072267.40822585,\n",
       " '50_7': 125072267.14199336,\n",
       " '50_8': 125072267.08857425,\n",
       " '50_9': 125072267.23668273,\n",
       " '50_10': 125072267.27534278,\n",
       " '54_2': 669592158.8079284,\n",
       " '54_3': 669592156.7313436,\n",
       " '54_4': 669592158.0594767,\n",
       " '54_5': 669592159.156937,\n",
       " '54_6': 669592158.7420195,\n",
       " '54_7': 669592158.9008659,\n",
       " '54_8': 669592156.0086201,\n",
       " '54_9': 669592156.5942615,\n",
       " '56_2': 797924349.259095,\n",
       " '56_3': 797924347.3245695,\n",
       " '56_4': 797924348.1687658,\n",
       " '56_5': 797924348.5232108,\n",
       " '56_6': 797924348.0740926,\n",
       " '56_7': 797924345.451195,\n",
       " '56_8': 797924347.7993481,\n",
       " '58_2': 13380186.049281076,\n",
       " '58_3': 13380184.978036359,\n",
       " '58_4': 13380184.778471425,\n",
       " '58_5': 13380185.632059291,\n",
       " '58_6': 13380184.761305764,\n",
       " '58_7': 13380182.251720384,\n",
       " '58_8': 13380182.9232101,\n",
       " '59_2': 43408983.80104923,\n",
       " '59_3': 43408980.54486275,\n",
       " '59_4': 43408981.636071205,\n",
       " '59_5': 43408981.271720886,\n",
       " '59_6': 43408981.3264904,\n",
       " '59_7': 43408982.51428318,\n",
       " '59_8': 43408983.93944359,\n",
       " '61_2': 444688991.67424864,\n",
       " '61_3': 444688992.0949287,\n",
       " '61_4': 444688991.092864,\n",
       " '61_5': 444688990.38792175,\n",
       " '61_6': 444688988.7001261,\n",
       " '61_7': 444688988.6790127,\n",
       " '61_8': 444688988.7157845,\n",
       " '61_9': 444688990.3533482,\n",
       " '67_2': 197938595.7789196,\n",
       " '67_3': 197938595.31895342,\n",
       " '67_4': 197938593.9868807,\n",
       " '67_5': 197938593.94232836,\n",
       " '67_6': 197938593.81494847,\n",
       " '67_7': 197938593.1386613,\n",
       " '67_8': 197938594.0992302,\n",
       " '67_9': 197938593.6499056,\n",
       " '67_10': 197938593.53690472,\n",
       " '67_11': 197938592.1485447,\n",
       " '68_2': 316337293.3236249,\n",
       " '68_3': 316337294.905839,\n",
       " '68_4': 316337289.8728927,\n",
       " '68_5': 316337290.1951068,\n",
       " '68_6': 316337290.5397404,\n",
       " '68_7': 316337289.9884146,\n",
       " '68_8': 316337290.0332144,\n",
       " '68_9': 316337294.0704594,\n",
       " '68_10': 316337291.19872314,\n",
       " '68_11': 316337291.1424778,\n",
       " '69_2': 178151702.30517283,\n",
       " '69_3': 178151699.6998805,\n",
       " '69_4': 178151700.3015627,\n",
       " '69_5': 178151700.54165164,\n",
       " '69_6': 178151700.89794627,\n",
       " '69_7': 178151700.06685916,\n",
       " '69_8': 178151700.25838986,\n",
       " '69_9': 178151701.0979413,\n",
       " '69_10': 178151700.6984276,\n",
       " '75_2': 851853121.0525695,\n",
       " '75_3': 851853121.1577173,\n",
       " '75_4': 851853120.6366187,\n",
       " '75_5': 851853120.4579216,\n",
       " '75_6': 851853120.9155766,\n",
       " '75_7': 851853120.0569702,\n",
       " '75_8': 851853121.5257035,\n",
       " '75_9': 851853121.0538603,\n",
       " '75_10': 851853120.745812,\n",
       " '77_2': 12856467.24188845,\n",
       " '77_3': 12856467.452909874,\n",
       " '77_4': 12856465.867159294,\n",
       " '77_5': 12856465.378191398,\n",
       " '77_6': 12856464.531958507,\n",
       " '77_7': 12856465.052986072,\n",
       " '77_8': 12856465.674849914,\n",
       " '77_9': 12856465.705915378,\n",
       " '77_10': 12856466.236233162,\n",
       " '78_2': 152264305.08752504,\n",
       " '78_3': 152264305.0913135,\n",
       " '78_4': 152264304.25450101,\n",
       " '78_5': 152264305.0121633,\n",
       " '78_6': 152264305.11693063,\n",
       " '78_7': 152264302.3906876,\n",
       " '78_8': 152264304.08337846,\n",
       " '78_9': 152264301.63180175,\n",
       " '78_10': 152264302.91009203,\n",
       " '79_2': 367685946.42568606,\n",
       " '79_3': 367685947.7199046,\n",
       " '79_4': 367685946.59389704,\n",
       " '79_5': 367685945.3002159,\n",
       " '79_6': 367685947.35343045,\n",
       " '79_7': 367685946.85080403,\n",
       " '79_8': 367685945.7510311,\n",
       " '79_9': 367685945.64850205}"
      ]
     },
     "execution_count": 69,
     "metadata": {},
     "output_type": "execute_result"
    }
   ],
   "source": [
    "diff_distance_dict"
   ]
  },
  {
   "cell_type": "code",
   "execution_count": 70,
   "id": "a86e6b4c-619d-456b-a646-18fc51180cb3",
   "metadata": {},
   "outputs": [],
   "source": [
    "with open('../data/star-ranking/rbhat-star-L2-ranking-top1000-cache-top'+str(topk)+'_v2.tsv', 'w+') as fout:\n",
    "    for i in diff_distance_dict:\n",
    "        fout.write(str(i)+\"\\t\"+str(diff_distance_dict[i])+\"\\n\")"
   ]
  },
  {
   "cell_type": "code",
   "execution_count": 71,
   "id": "b217b4c7-0efa-45c3-88c6-abbafc0c11aa",
   "metadata": {},
   "outputs": [
    {
     "data": {
      "text/plain": [
       "{'31_2': 1000,\n",
       " '31_3': 1000,\n",
       " '31_4': 1000,\n",
       " '31_5': 1000,\n",
       " '31_6': 1000,\n",
       " '31_7': 1000,\n",
       " '31_8': 1000,\n",
       " '31_9': 1000,\n",
       " '32_2': 1000,\n",
       " '32_3': 1000,\n",
       " '32_4': 1000,\n",
       " '32_5': 1000,\n",
       " '32_6': 1000,\n",
       " '32_7': 1000,\n",
       " '32_8': 1000,\n",
       " '32_9': 1000,\n",
       " '32_10': 1000,\n",
       " '32_11': 1000,\n",
       " '33_2': 1000,\n",
       " '33_3': 1000,\n",
       " '33_4': 1000,\n",
       " '33_5': 1000,\n",
       " '33_6': 1000,\n",
       " '33_7': 1000,\n",
       " '33_8': 1000,\n",
       " '33_9': 1000,\n",
       " '33_10': 1000,\n",
       " '34_2': 1000,\n",
       " '34_3': 1000,\n",
       " '34_4': 1000,\n",
       " '34_5': 1000,\n",
       " '34_6': 1000,\n",
       " '34_7': 1000,\n",
       " '34_8': 1000,\n",
       " '34_9': 1000,\n",
       " '37_2': 1000,\n",
       " '37_3': 1000,\n",
       " '37_4': 1000,\n",
       " '37_5': 1000,\n",
       " '37_6': 1000,\n",
       " '37_7': 1000,\n",
       " '37_8': 1000,\n",
       " '37_9': 1000,\n",
       " '37_10': 1000,\n",
       " '37_11': 1000,\n",
       " '37_12': 1000,\n",
       " '40_2': 1000,\n",
       " '40_3': 1000,\n",
       " '40_4': 1000,\n",
       " '40_5': 1000,\n",
       " '40_6': 1000,\n",
       " '40_7': 1000,\n",
       " '40_8': 1000,\n",
       " '40_9': 1000,\n",
       " '40_10': 1000,\n",
       " '49_2': 1000,\n",
       " '49_3': 1000,\n",
       " '49_4': 1000,\n",
       " '49_5': 1000,\n",
       " '49_6': 1000,\n",
       " '49_7': 1000,\n",
       " '49_8': 1000,\n",
       " '49_9': 1000,\n",
       " '49_10': 1000,\n",
       " '50_2': 1000,\n",
       " '50_3': 1000,\n",
       " '50_4': 1000,\n",
       " '50_5': 1000,\n",
       " '50_6': 1000,\n",
       " '50_7': 1000,\n",
       " '50_8': 1000,\n",
       " '50_9': 1000,\n",
       " '50_10': 1000,\n",
       " '54_2': 1000,\n",
       " '54_3': 1000,\n",
       " '54_4': 1000,\n",
       " '54_5': 1000,\n",
       " '54_6': 1000,\n",
       " '54_7': 1000,\n",
       " '54_8': 1000,\n",
       " '54_9': 1000,\n",
       " '56_2': 1000,\n",
       " '56_3': 1000,\n",
       " '56_4': 1000,\n",
       " '56_5': 1000,\n",
       " '56_6': 1000,\n",
       " '56_7': 1000,\n",
       " '56_8': 1000,\n",
       " '58_2': 1000,\n",
       " '58_3': 1000,\n",
       " '58_4': 1000,\n",
       " '58_5': 1000,\n",
       " '58_6': 1000,\n",
       " '58_7': 1000,\n",
       " '58_8': 1000,\n",
       " '59_2': 1000,\n",
       " '59_3': 1000,\n",
       " '59_4': 1000,\n",
       " '59_5': 1000,\n",
       " '59_6': 1000,\n",
       " '59_7': 1000,\n",
       " '59_8': 1000,\n",
       " '61_2': 1000,\n",
       " '61_3': 1000,\n",
       " '61_4': 1000,\n",
       " '61_5': 1000,\n",
       " '61_6': 1000,\n",
       " '61_7': 1000,\n",
       " '61_8': 1000,\n",
       " '61_9': 1000,\n",
       " '67_2': 1000,\n",
       " '67_3': 1000,\n",
       " '67_4': 1000,\n",
       " '67_5': 1000,\n",
       " '67_6': 1000,\n",
       " '67_7': 1000,\n",
       " '67_8': 1000,\n",
       " '67_9': 1000,\n",
       " '67_10': 1000,\n",
       " '67_11': 1000,\n",
       " '68_2': 1000,\n",
       " '68_3': 1000,\n",
       " '68_4': 1000,\n",
       " '68_5': 1000,\n",
       " '68_6': 1000,\n",
       " '68_7': 1000,\n",
       " '68_8': 1000,\n",
       " '68_9': 1000,\n",
       " '68_10': 1000,\n",
       " '68_11': 1000,\n",
       " '69_2': 1000,\n",
       " '69_3': 1000,\n",
       " '69_4': 1000,\n",
       " '69_5': 1000,\n",
       " '69_6': 1000,\n",
       " '69_7': 1000,\n",
       " '69_8': 1000,\n",
       " '69_9': 1000,\n",
       " '69_10': 1000,\n",
       " '75_2': 1000,\n",
       " '75_3': 1000,\n",
       " '75_4': 1000,\n",
       " '75_5': 1000,\n",
       " '75_6': 1000,\n",
       " '75_7': 1000,\n",
       " '75_8': 1000,\n",
       " '75_9': 1000,\n",
       " '75_10': 1000,\n",
       " '77_2': 1000,\n",
       " '77_3': 1000,\n",
       " '77_4': 1000,\n",
       " '77_5': 1000,\n",
       " '77_6': 1000,\n",
       " '77_7': 1000,\n",
       " '77_8': 1000,\n",
       " '77_9': 1000,\n",
       " '77_10': 1000,\n",
       " '78_2': 1000,\n",
       " '78_3': 1000,\n",
       " '78_4': 1000,\n",
       " '78_5': 1000,\n",
       " '78_6': 1000,\n",
       " '78_7': 1000,\n",
       " '78_8': 1000,\n",
       " '78_9': 1000,\n",
       " '78_10': 1000,\n",
       " '79_2': 1000,\n",
       " '79_3': 1000,\n",
       " '79_4': 1000,\n",
       " '79_5': 1000,\n",
       " '79_6': 1000,\n",
       " '79_7': 1000,\n",
       " '79_8': 1000,\n",
       " '79_9': 1000}"
      ]
     },
     "execution_count": 71,
     "metadata": {},
     "output_type": "execute_result"
    }
   ],
   "source": [
    "coverage1"
   ]
  },
  {
   "cell_type": "code",
   "execution_count": 72,
   "id": "f3788648-aaac-44f3-851c-de70e108033e",
   "metadata": {},
   "outputs": [],
   "source": [
    "with open('../data/star-ranking/garanteed-coverage-star-L2-ranking-top1000-cache-top'+str(topk)+'_v2.tsv', 'w+') as fout:\n",
    "    for i in coverage1:\n",
    "        fout.write(str(i)+\"\\t\"+str(coverage1[i])+\"\\n\")"
   ]
  },
  {
   "cell_type": "code",
   "execution_count": 73,
   "id": "783147ee-3a19-4307-a0dd-407cff87e66c",
   "metadata": {},
   "outputs": [
    {
     "data": {
      "text/plain": [
       "{'31_2': [3, 5, 10],\n",
       " '31_3': [0, 1, 4],\n",
       " '31_4': [0, 1, 3],\n",
       " '31_5': [0, 0, 3],\n",
       " '31_6': [3, 5, 10],\n",
       " '31_7': [3, 5, 10],\n",
       " '31_8': [3, 5, 10],\n",
       " '31_9': [2, 3, 7],\n",
       " '32_2': [3, 5, 10],\n",
       " '32_3': [3, 4, 7],\n",
       " '32_4': [3, 3, 8],\n",
       " '32_5': [0, 0, 1],\n",
       " '32_6': [0, 0, 0],\n",
       " '32_7': [1, 3, 6],\n",
       " '32_8': [1, 2, 4],\n",
       " '32_9': [0, 2, 3],\n",
       " '32_10': [1, 1, 2],\n",
       " '32_11': [3, 4, 7],\n",
       " '33_2': [3, 5, 10],\n",
       " '33_3': [3, 5, 10],\n",
       " '33_4': [3, 5, 10],\n",
       " '33_5': [3, 5, 10],\n",
       " '33_6': [3, 5, 10],\n",
       " '33_7': [3, 5, 10],\n",
       " '33_8': [3, 5, 10],\n",
       " '33_9': [2, 4, 9],\n",
       " '33_10': [0, 0, 0],\n",
       " '34_2': [3, 5, 10],\n",
       " '34_3': [3, 5, 10],\n",
       " '34_4': [3, 4, 9],\n",
       " '34_5': [3, 5, 10],\n",
       " '34_6': [3, 5, 9],\n",
       " '34_7': [3, 5, 10],\n",
       " '34_8': [3, 5, 9],\n",
       " '34_9': [3, 5, 10],\n",
       " '37_2': [3, 5, 10],\n",
       " '37_3': [3, 5, 10],\n",
       " '37_4': [3, 5, 10],\n",
       " '37_5': [3, 5, 10],\n",
       " '37_6': [0, 0, 1],\n",
       " '37_7': [0, 0, 1],\n",
       " '37_8': [2, 3, 4],\n",
       " '37_9': [0, 0, 0],\n",
       " '37_10': [0, 0, 0],\n",
       " '37_11': [1, 1, 1],\n",
       " '37_12': [0, 0, 0],\n",
       " '40_2': [3, 5, 10],\n",
       " '40_3': [2, 2, 5],\n",
       " '40_4': [2, 4, 9],\n",
       " '40_5': [0, 2, 2],\n",
       " '40_6': [1, 1, 4],\n",
       " '40_7': [1, 2, 5],\n",
       " '40_8': [0, 0, 0],\n",
       " '40_9': [0, 1, 3],\n",
       " '40_10': [2, 4, 7],\n",
       " '49_2': [3, 5, 10],\n",
       " '49_3': [1, 2, 4],\n",
       " '49_4': [3, 5, 10],\n",
       " '49_5': [1, 2, 6],\n",
       " '49_6': [0, 0, 1],\n",
       " '49_7': [3, 5, 9],\n",
       " '49_8': [3, 5, 10],\n",
       " '49_9': [3, 3, 4],\n",
       " '49_10': [2, 2, 3],\n",
       " '50_2': [0, 0, 0],\n",
       " '50_3': [2, 3, 7],\n",
       " '50_4': [0, 0, 0],\n",
       " '50_5': [0, 0, 0],\n",
       " '50_6': [0, 0, 0],\n",
       " '50_7': [0, 0, 0],\n",
       " '50_8': [0, 0, 0],\n",
       " '50_9': [0, 0, 1],\n",
       " '50_10': [0, 0, 0],\n",
       " '54_2': [3, 4, 9],\n",
       " '54_3': [0, 0, 0],\n",
       " '54_4': [3, 3, 3],\n",
       " '54_5': [3, 5, 10],\n",
       " '54_6': [0, 0, 3],\n",
       " '54_7': [3, 5, 10],\n",
       " '54_8': [0, 0, 0],\n",
       " '54_9': [0, 1, 1],\n",
       " '56_2': [3, 5, 10],\n",
       " '56_3': [2, 3, 8],\n",
       " '56_4': [3, 5, 10],\n",
       " '56_5': [3, 5, 10],\n",
       " '56_6': [3, 5, 10],\n",
       " '56_7': [0, 0, 0],\n",
       " '56_8': [3, 5, 10],\n",
       " '58_2': [3, 5, 10],\n",
       " '58_3': [3, 5, 10],\n",
       " '58_4': [3, 5, 8],\n",
       " '58_5': [3, 5, 10],\n",
       " '58_6': [1, 3, 8],\n",
       " '58_7': [1, 1, 1],\n",
       " '58_8': [1, 1, 1],\n",
       " '59_2': [0, 0, 1],\n",
       " '59_3': [0, 0, 0],\n",
       " '59_4': [0, 0, 0],\n",
       " '59_5': [0, 0, 0],\n",
       " '59_6': [0, 0, 0],\n",
       " '59_7': [0, 0, 0],\n",
       " '59_8': [3, 5, 10],\n",
       " '61_2': [3, 5, 10],\n",
       " '61_3': [3, 5, 10],\n",
       " '61_4': [3, 3, 6],\n",
       " '61_5': [1, 1, 1],\n",
       " '61_6': [0, 0, 0],\n",
       " '61_7': [0, 0, 0],\n",
       " '61_8': [0, 0, 0],\n",
       " '61_9': [3, 4, 4],\n",
       " '67_2': [3, 5, 10],\n",
       " '67_3': [3, 5, 9],\n",
       " '67_4': [0, 0, 1],\n",
       " '67_5': [1, 2, 4],\n",
       " '67_6': [0, 0, 0],\n",
       " '67_7': [0, 0, 1],\n",
       " '67_8': [0, 0, 2],\n",
       " '67_9': [0, 0, 0],\n",
       " '67_10': [0, 0, 0],\n",
       " '67_11': [0, 0, 0],\n",
       " '68_2': [3, 5, 7],\n",
       " '68_3': [3, 5, 10],\n",
       " '68_4': [0, 0, 0],\n",
       " '68_5': [1, 2, 4],\n",
       " '68_6': [1, 3, 4],\n",
       " '68_7': [0, 0, 0],\n",
       " '68_8': [0, 0, 0],\n",
       " '68_9': [3, 5, 10],\n",
       " '68_10': [2, 4, 7],\n",
       " '68_11': [1, 3, 3],\n",
       " '69_2': [3, 4, 10],\n",
       " '69_3': [0, 0, 0],\n",
       " '69_4': [0, 0, 0],\n",
       " '69_5': [0, 0, 0],\n",
       " '69_6': [0, 0, 0],\n",
       " '69_7': [1, 2, 2],\n",
       " '69_8': [0, 0, 0],\n",
       " '69_9': [1, 1, 1],\n",
       " '69_10': [0, 0, 0],\n",
       " '75_2': [3, 5, 9],\n",
       " '75_3': [3, 5, 10],\n",
       " '75_4': [1, 3, 5],\n",
       " '75_5': [0, 0, 3],\n",
       " '75_6': [2, 3, 6],\n",
       " '75_7': [1, 2, 4],\n",
       " '75_8': [3, 5, 8],\n",
       " '75_9': [3, 5, 9],\n",
       " '75_10': [3, 5, 8],\n",
       " '77_2': [1, 1, 2],\n",
       " '77_3': [1, 3, 7],\n",
       " '77_4': [1, 1, 3],\n",
       " '77_5': [0, 0, 0],\n",
       " '77_6': [0, 0, 0],\n",
       " '77_7': [0, 0, 0],\n",
       " '77_8': [1, 1, 1],\n",
       " '77_9': [1, 1, 1],\n",
       " '77_10': [1, 2, 5],\n",
       " '78_2': [3, 5, 10],\n",
       " '78_3': [3, 5, 10],\n",
       " '78_4': [3, 5, 10],\n",
       " '78_5': [3, 5, 10],\n",
       " '78_6': [3, 5, 9],\n",
       " '78_7': [0, 0, 0],\n",
       " '78_8': [0, 0, 0],\n",
       " '78_9': [0, 0, 0],\n",
       " '78_10': [0, 0, 0],\n",
       " '79_2': [0, 0, 0],\n",
       " '79_3': [3, 3, 5],\n",
       " '79_4': [0, 0, 0],\n",
       " '79_5': [0, 0, 0],\n",
       " '79_6': [0, 0, 0],\n",
       " '79_7': [0, 0, 0],\n",
       " '79_8': [0, 0, 0],\n",
       " '79_9': [0, 0, 0]}"
      ]
     },
     "execution_count": 73,
     "metadata": {},
     "output_type": "execute_result"
    }
   ],
   "source": [
    "coverage2"
   ]
  },
  {
   "cell_type": "code",
   "execution_count": 74,
   "id": "d29b14f2-1e78-4349-b128-7d7720c76374",
   "metadata": {},
   "outputs": [],
   "source": [
    "with open('../data/star-ranking/approximated-coverage-star-L2-ranking-top1000-cache-top'+str(topk)+'_v2.tsv', 'w+') as fout:\n",
    "    for i in coverage2:\n",
    "        fout.write(str(i)+\"\\t\"+str(coverage2[i])+\"\\n\")"
   ]
  },
  {
   "cell_type": "markdown",
   "id": "032ca576-63da-44ad-ab39-0754b5c7ebe9",
   "metadata": {
    "tags": []
   },
   "source": [
    "## save into .pickle files"
   ]
  },
  {
   "cell_type": "code",
   "execution_count": 75,
   "id": "0e06753f-6047-41c1-a9fb-80ae04b3d5f3",
   "metadata": {},
   "outputs": [],
   "source": [
    "with open('../data/star-ranking/cache-radius-star-L2-ranking-top1000-cache-top'+str(topk)+'_v2.pickle', 'wb') as handle:\n",
    "    pickle.dump(cache_radius_dict, handle)"
   ]
  },
  {
   "cell_type": "code",
   "execution_count": 76,
   "id": "85e4011a-a580-4276-8c36-1313b648bfef",
   "metadata": {},
   "outputs": [],
   "source": [
    "with open('../data/star-ranking/query-dist-star-L2-ranking-top1000-cache-top'+str(topk)+'_v2.pickle', 'wb') as handle:\n",
    "    pickle.dump(query_distance_dict, handle)"
   ]
  },
  {
   "cell_type": "code",
   "execution_count": 77,
   "id": "a79b0e4a-cdda-4435-81c7-5af4a33a562b",
   "metadata": {},
   "outputs": [],
   "source": [
    "with open('../data/star-ranking/query-radius-star-L2-ranking-top1000-cache-top'+str(topk)+'_v2.pickle', 'wb') as handle:\n",
    "    pickle.dump(query_radius_dict, handle)"
   ]
  },
  {
   "cell_type": "code",
   "execution_count": 78,
   "id": "7eb0d222-a137-47b3-a724-1550f6d7f963",
   "metadata": {},
   "outputs": [],
   "source": [
    "with open('../data/star-ranking/rbcapuccio-star-L2-ranking-top1000-cache-top'+str(topk)+'_v2.pickle', 'wb') as handle:\n",
    "    pickle.dump(diff_distance_dict, handle)"
   ]
  },
  {
   "cell_type": "code",
   "execution_count": 79,
   "id": "007cf7aa-3814-41ba-a050-0f75e6602d9d",
   "metadata": {},
   "outputs": [],
   "source": [
    "with open('../data/star-ranking/garanteed-coverage-star-L2-ranking-top1000-cache-top'+str(topk)+'_v2.pickle', 'wb') as handle:\n",
    "    pickle.dump(coverage1, handle)"
   ]
  },
  {
   "cell_type": "code",
   "execution_count": 81,
   "id": "68aa4041-7a6b-498b-a537-64b1de2dec2b",
   "metadata": {},
   "outputs": [],
   "source": [
    "with open('../data/star-ranking/approximated-coverage-star-L2-ranking-top1000-cache-top'+str(topk)+'_v2.pickle', 'wb') as handle:\n",
    "    pickle.dump(coverage2, handle)"
   ]
  },
  {
   "cell_type": "code",
   "execution_count": null,
   "id": "8cf1a559-65fa-49ca-b9a8-4d2ff49cd42d",
   "metadata": {},
   "outputs": [],
   "source": []
  }
 ],
 "metadata": {
  "kernelspec": {
   "display_name": "DRhard",
   "language": "python",
   "name": "drhard"
  },
  "language_info": {
   "codemirror_mode": {
    "name": "ipython",
    "version": 3
   },
   "file_extension": ".py",
   "mimetype": "text/x-python",
   "name": "python",
   "nbconvert_exporter": "python",
   "pygments_lexer": "ipython3",
   "version": "3.8.12"
  }
 },
 "nbformat": 4,
 "nbformat_minor": 5
}
