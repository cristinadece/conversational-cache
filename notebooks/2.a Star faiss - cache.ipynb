{
 "cells": [
  {
   "cell_type": "code",
   "execution_count": 5,
   "id": "5f5644eb-6c34-46d3-8b78-4d07201d3f50",
   "metadata": {},
   "outputs": [],
   "source": [
    "%load_ext autoreload\n",
    "%autoreload 2\n",
    "\n",
    "from time import time\n",
    "import pandas as pd\n",
    "import numpy as np\n",
    "import os\n",
    "from collections import Counter, defaultdict\n",
    "import pickle"
   ]
  },
  {
   "cell_type": "code",
   "execution_count": 6,
   "id": "2bb342c7-82ed-4d0f-88fb-33b531aa4b8a",
   "metadata": {},
   "outputs": [],
   "source": [
    "import sys\n",
    "sys.path.insert(0, \"/data3/muntean/DRhard\")"
   ]
  },
  {
   "cell_type": "code",
   "execution_count": 7,
   "id": "c03b1191-fbfb-4aad-9799-b2290a192a8b",
   "metadata": {},
   "outputs": [
    {
     "name": "stderr",
     "output_type": "stream",
     "text": [
      "/data3/muntean/DRhard/DRhard/lib/python3.8/site-packages/torch-1.7.0-py3.8-linux-x86_64.egg/torch/cuda/__init__.py:52: UserWarning: CUDA initialization: Unexpected error from cudaGetDeviceCount(). Did you run some cuda functions before calling NumCudaDevices() that might have already set an error? Error 803: system has unsupported display driver / cuda driver combination (Triggered internally at  /pytorch/c10/cuda/CUDAFunctions.cpp:100.)\n",
      "  return torch._C._cuda_getDeviceCount() > 0\n"
     ]
    }
   ],
   "source": [
    "import argparse\n",
    "import subprocess\n",
    "import sys\n",
    "sys.path.append(\"./\")\n",
    "import faiss\n",
    "import logging\n",
    "import os\n",
    "import numpy as np\n",
    "# import torch\n",
    "from transformers import RobertaConfig\n",
    "from tqdm import tqdm\n",
    "from torch.utils.data.dataloader import DataLoader\n",
    "from torch.utils.data.sampler import SequentialSampler\n",
    "\n",
    "from model import RobertaDot\n",
    "from dataset import (\n",
    "    TextTokenIdsCache, load_rel, SubsetSeqDataset, SequenceDataset,\n",
    "    single_get_collate_function\n",
    ")\n",
    "from retrieve_utils import (\n",
    "    construct_flatindex_from_embeddings, \n",
    "    index_retrieve, convert_index_to_gpu\n",
    ")\n",
    "logger = logging.Logger(__name__)"
   ]
  },
  {
   "cell_type": "code",
   "execution_count": 3,
   "id": "95697847-503b-4c85-9a68-58df9fe970b1",
   "metadata": {},
   "outputs": [
    {
     "data": {
      "text/plain": [
       "'/data3/muntean/DRhard/data/passage/evaluate/adore-star/test-manual.qembed.memmap'"
      ]
     },
     "execution_count": 3,
     "metadata": {},
     "output_type": "execute_result"
    }
   ],
   "source": [
    "doc_memmap_path = \"/data3/muntean/DRhard/data/passage/evaluate/star/passages.memmap\"\n",
    "docid_memmap_path = \"/data3/muntean/DRhard/data/passage/evaluate/star/passages-id.memmap\"\n",
    "query_memmap_path = \"/data3/muntean/DRhard/data/passage/evaluate/star/test-manual-query.memmap\"\n",
    "queryids_memmap_path = \"/data3/muntean/DRhard/data/passage/evaluate/star/test-manual-query-id.memmap\"\n",
    "\n",
    "query_adore_memmap_path = \"/data3/muntean/DRhard/data/passage/evaluate/adore-star/test-manual.qembed.memmap\""
   ]
  },
  {
   "cell_type": "code",
   "execution_count": 5,
   "id": "064b43b7-40d8-471a-b21f-e030c9ce1dce",
   "metadata": {},
   "outputs": [],
   "source": [
    "doc_embeddings = np.memmap(doc_memmap_path, dtype=np.float32, mode=\"r\")\n",
    "doc_ids = np.memmap(docid_memmap_path, dtype=np.int32, mode=\"r\")\n",
    "doc_embeddings = doc_embeddings.reshape(-1, 768)\n",
    "\n",
    "query_embeddings = np.memmap(query_adore_memmap_path, dtype=np.float32, mode=\"r\")\n",
    "query_embeddings = query_embeddings.reshape(-1, 768)\n",
    "query_ids = np.memmap(queryids_memmap_path, dtype=np.int32, mode=\"r\")"
   ]
  },
  {
   "cell_type": "code",
   "execution_count": 8,
   "id": "991cbf60-c4c0-417a-8e17-7fcde307afb7",
   "metadata": {},
   "outputs": [],
   "source": [
    "# query_adore_embeddings = np.memmap(query_adore_memmap_path, dtype=np.float32, mode=\"r\")\n",
    "# query_adore_embeddings = query_adore_embeddings.reshape(-1, 768)"
   ]
  },
  {
   "cell_type": "code",
   "execution_count": 10,
   "id": "cf2937ad-b4e8-42ec-8dac-5aaedf568a09",
   "metadata": {},
   "outputs": [
    {
     "data": {
      "text/plain": [
       "768"
      ]
     },
     "execution_count": 10,
     "metadata": {},
     "output_type": "execute_result"
    }
   ],
   "source": [
    "# len(query_adore_embeddings[1])"
   ]
  },
  {
   "cell_type": "code",
   "execution_count": 6,
   "id": "4380dbc8-548d-479b-b1e8-c984dbc62cba",
   "metadata": {},
   "outputs": [
    {
     "name": "stdout",
     "output_type": "stream",
     "text": [
      "CPU times: user 4 µs, sys: 3 µs, total: 7 µs\n",
      "Wall time: 12.9 µs\n",
      "embedding shape: (38626614, 768)\n",
      "(38626614,) int64\n"
     ]
    }
   ],
   "source": [
    "%time\n",
    "index = construct_flatindex_from_embeddings(doc_embeddings, doc_ids)"
   ]
  },
  {
   "cell_type": "code",
   "execution_count": 7,
   "id": "b8c2d248-ab49-48e0-b5de-367bdf0f245b",
   "metadata": {},
   "outputs": [
    {
     "data": {
      "text/plain": [
       "faiss.swigfaiss.IndexIDMap2"
      ]
     },
     "execution_count": 7,
     "metadata": {},
     "output_type": "execute_result"
    }
   ],
   "source": [
    "type(index)"
   ]
  },
  {
   "cell_type": "markdown",
   "id": "40335fb8-c5b0-4be5-8894-2b81f3a6fa74",
   "metadata": {},
   "source": [
    "# Select certain queries and certain docs for small index"
   ]
  },
  {
   "cell_type": "code",
   "execution_count": 8,
   "id": "d9fce66a-3f25-42e3-8eb1-94b477fd712c",
   "metadata": {},
   "outputs": [
    {
     "name": "stdout",
     "output_type": "stream",
     "text": [
      "479\n",
      "38626614\n"
     ]
    }
   ],
   "source": [
    "# Load our qid and docid remapping dictionaries\n",
    "\n",
    "# query id dict\n",
    "qid_mapping_path = \"/data3/muntean/DRhard/data/passage/dataset/queries.CASTmanual.QID2newID.test.tsv\"\n",
    "queries_df = pd.read_csv(qid_mapping_path, delimiter=\"\\t\", header=None)\n",
    "print(len(queries_df))\n",
    "\n",
    "# collection id dict\n",
    "collection_mapping_path = \"/data3/muntean/DRhard/data/passage/dataset/CASTcollectionPID2newID.tsv\"\n",
    "collection_df = pd.read_csv(collection_mapping_path, delimiter=\"\\t\", header=None)\n",
    "print(len(collection_df))"
   ]
  },
  {
   "cell_type": "code",
   "execution_count": 9,
   "id": "cc674760-7d63-4bd6-92fd-5bce892259af",
   "metadata": {},
   "outputs": [],
   "source": [
    "qid2newqid_dict = dict(zip(queries_df[0], queries_df[1])) \n",
    "pid2newpid_dict = dict(zip(collection_df[0], collection_df[1])) "
   ]
  },
  {
   "cell_type": "code",
   "execution_count": 10,
   "id": "eb9bbdf2-5905-4820-9141-d9eb2939adcb",
   "metadata": {},
   "outputs": [
    {
     "data": {
      "text/plain": [
       "9"
      ]
     },
     "execution_count": 10,
     "metadata": {},
     "output_type": "execute_result"
    }
   ],
   "source": [
    "qid2newqid_dict[\"32_1\"]"
   ]
  },
  {
   "cell_type": "code",
   "execution_count": 11,
   "id": "80f062ce-28ee-4415-83e7-f3019be07308",
   "metadata": {},
   "outputs": [],
   "source": [
    "# Create reverse dictionaries\n",
    "newqid2qid_dict = dict(zip(queries_df[1], queries_df[0])) \n",
    "newpid2pid_dict = dict(zip(collection_df[1], collection_df[0])) "
   ]
  },
  {
   "cell_type": "code",
   "execution_count": 12,
   "id": "6c3ce1de-233a-4bcf-8444-260e671fd08b",
   "metadata": {},
   "outputs": [
    {
     "data": {
      "text/plain": [
       "'32_1'"
      ]
     },
     "execution_count": 12,
     "metadata": {},
     "output_type": "execute_result"
    }
   ],
   "source": [
    "newqid2qid_dict[9]"
   ]
  },
  {
   "cell_type": "code",
   "execution_count": 13,
   "id": "dcf29fa9-d116-4371-95a7-c407e175dec3",
   "metadata": {},
   "outputs": [],
   "source": [
    "# DRhard docid and qid encoding\n",
    "preprocess_dir = \"/data3/muntean/DRhard/data/passage/preprocess\"\n",
    "\n",
    "pid2offset = pickle.load(open(os.path.join(preprocess_dir, \"pid2offset.pickle\"), 'rb'))\n",
    "offset2pid = {v:k for k, v in pid2offset.items()}\n",
    "qid2offset = pickle.load(open(os.path.join(preprocess_dir, f\"test-manual-qid2offset.pickle\"), 'rb'))\n",
    "offset2qid = {v:k for k, v in qid2offset.items()}"
   ]
  },
  {
   "cell_type": "code",
   "execution_count": 14,
   "id": "8fda4ab8-b818-4efc-880d-56f3678523bb",
   "metadata": {},
   "outputs": [
    {
     "data": {
      "text/plain": [
       "9"
      ]
     },
     "execution_count": 14,
     "metadata": {},
     "output_type": "execute_result"
    }
   ],
   "source": [
    "qid2offset[9]"
   ]
  },
  {
   "cell_type": "markdown",
   "id": "89a6855b-09d7-4f63-bdc2-ddd7900333ba",
   "metadata": {},
   "source": [
    "# Create conv cache"
   ]
  },
  {
   "cell_type": "code",
   "execution_count": 54,
   "id": "cf060aa8-3cc8-49da-9673-aaad5a0cc79f",
   "metadata": {},
   "outputs": [],
   "source": [
    "topk = 10000 # cache dimension [1000,2000,5000,10000]\n",
    "# evaluation is done on top 1000 - another topk?"
   ]
  },
  {
   "cell_type": "code",
   "execution_count": 55,
   "id": "c8b6a11a-a764-474e-9665-a167849a95f0",
   "metadata": {},
   "outputs": [],
   "source": [
    "# distance dicts\n",
    "\n",
    "cache_radius_dict = dict() # between first utterance (qi) and last retrieved doc from the big index\n",
    "query_distance_dict = dict() # distance between the first (qi) and the rest of utterances of the conversation (q)\n",
    "query_radius_dict = dict() # between current utterance (q) and last retrieved doc from the small index\n",
    "diff_distance_dict = dict() # rbcapuccio = rqi - d(q, qi)"
   ]
  },
  {
   "cell_type": "code",
   "execution_count": 56,
   "id": "93f7a3b2-c61d-4922-beb2-9c09e3322549",
   "metadata": {},
   "outputs": [],
   "source": [
    "def l2_distance(v1,v2):\n",
    "    return np.linalg.norm(v1-v2)"
   ]
  },
  {
   "cell_type": "code",
   "execution_count": 57,
   "id": "a477a6db-0389-451a-87b6-354a75387308",
   "metadata": {},
   "outputs": [],
   "source": [
    "def create_conv_cache(conv_id, qid2newqid_dict, qid2offset, query_embeddings, index, topk, cache_radius_dict):\n",
    "    first_qid = conv_id + \"_1\"\n",
    "    newqid = qid2newqid_dict[first_qid] #added first\n",
    "    qid_offset = qid2offset[newqid]\n",
    "\n",
    "    # prendere il memmap\n",
    "    query_emb = query_embeddings[qid_offset].reshape(1, 768)\n",
    "    \n",
    "    # fare retireval nel indice grande e prendere top 2000 documenti\n",
    "    faiss.omp_set_num_threads(16) #32\n",
    "    nearest_neighbors = index_retrieve(index, query_emb, topk, batch=32)\n",
    "    \n",
    "    \n",
    "    # select doc embeddings, paired with ids\n",
    "    small_doc_emb = doc_embeddings[nearest_neighbors[0]]\n",
    "    small_doc_ids = np.array(nearest_neighbors[0])\n",
    "    index_conv = construct_flatindex_from_embeddings(small_doc_emb, small_doc_ids)\n",
    "       \n",
    "    # compute distance between the first query and last doc in the list of topk retrieved that are stored in cache (e.g., r_q_i)\n",
    "    last_doc = nearest_neighbors[0][-1]\n",
    "    cache_radius_dict[first_qid] = l2_distance(query_emb, last_doc)\n",
    "    \n",
    "\n",
    "    return index_conv, nearest_neighbors, cache_radius_dict"
   ]
  },
  {
   "cell_type": "code",
   "execution_count": 58,
   "id": "c8d60652-5641-4b15-bda6-eec00863730c",
   "metadata": {},
   "outputs": [
    {
     "name": "stdout",
     "output_type": "stream",
     "text": [
      "Starting conv:  31\n",
      "Query Num 1\n"
     ]
    },
    {
     "name": "stderr",
     "output_type": "stream",
     "text": [
      "100%|█████████████████████████████████████████████████████| 1/1 [00:45<00:00, 45.83s/it]\n"
     ]
    },
    {
     "name": "stdout",
     "output_type": "stream",
     "text": [
      "Elapsed Time: 45.8s, Elapsed Time per query: 45832.5ms\n",
      "embedding shape: (10000, 768)\n",
      "(10000,) int64\n",
      "Query Num 1\n"
     ]
    },
    {
     "name": "stderr",
     "output_type": "stream",
     "text": [
      "100%|████████████████████████████████████████████████████| 1/1 [00:00<00:00, 103.15it/s]\n"
     ]
    },
    {
     "name": "stdout",
     "output_type": "stream",
     "text": [
      "Elapsed Time: 0.0s, Elapsed Time per query: 13.4ms\n",
      "Query Num 1\n"
     ]
    },
    {
     "name": "stderr",
     "output_type": "stream",
     "text": [
      "100%|████████████████████████████████████████████████████| 1/1 [00:00<00:00, 122.13it/s]\n"
     ]
    },
    {
     "name": "stdout",
     "output_type": "stream",
     "text": [
      "Elapsed Time: 0.0s, Elapsed Time per query: 11.0ms\n",
      "Query Num 1\n"
     ]
    },
    {
     "name": "stderr",
     "output_type": "stream",
     "text": [
      "100%|████████████████████████████████████████████████████| 1/1 [00:00<00:00, 119.31it/s]\n"
     ]
    },
    {
     "name": "stdout",
     "output_type": "stream",
     "text": [
      "Elapsed Time: 0.0s, Elapsed Time per query: 11.2ms\n",
      "Query Num 1\n"
     ]
    },
    {
     "name": "stderr",
     "output_type": "stream",
     "text": [
      "100%|████████████████████████████████████████████████████| 1/1 [00:00<00:00, 120.73it/s]\n"
     ]
    },
    {
     "name": "stdout",
     "output_type": "stream",
     "text": [
      "Elapsed Time: 0.0s, Elapsed Time per query: 10.3ms\n",
      "Query Num 1\n"
     ]
    },
    {
     "name": "stderr",
     "output_type": "stream",
     "text": [
      "100%|████████████████████████████████████████████████████| 1/1 [00:00<00:00, 120.82it/s]\n"
     ]
    },
    {
     "name": "stdout",
     "output_type": "stream",
     "text": [
      "Elapsed Time: 0.0s, Elapsed Time per query: 10.0ms\n",
      "Query Num 1\n"
     ]
    },
    {
     "name": "stderr",
     "output_type": "stream",
     "text": [
      "100%|████████████████████████████████████████████████████| 1/1 [00:00<00:00, 120.34it/s]\n"
     ]
    },
    {
     "name": "stdout",
     "output_type": "stream",
     "text": [
      "Elapsed Time: 0.0s, Elapsed Time per query: 10.2ms\n",
      "Query Num 1\n"
     ]
    },
    {
     "name": "stderr",
     "output_type": "stream",
     "text": [
      "100%|████████████████████████████████████████████████████| 1/1 [00:00<00:00, 120.75it/s]\n"
     ]
    },
    {
     "name": "stdout",
     "output_type": "stream",
     "text": [
      "Elapsed Time: 0.0s, Elapsed Time per query: 10.6ms\n",
      "Query Num 1\n"
     ]
    },
    {
     "name": "stderr",
     "output_type": "stream",
     "text": [
      "100%|████████████████████████████████████████████████████| 1/1 [00:00<00:00, 119.50it/s]\n"
     ]
    },
    {
     "name": "stdout",
     "output_type": "stream",
     "text": [
      "Elapsed Time: 0.0s, Elapsed Time per query: 10.3ms\n",
      "Starting conv:  32\n",
      "Query Num 1\n"
     ]
    },
    {
     "name": "stderr",
     "output_type": "stream",
     "text": [
      "100%|█████████████████████████████████████████████████████| 1/1 [01:01<00:00, 61.77s/it]\n"
     ]
    },
    {
     "name": "stdout",
     "output_type": "stream",
     "text": [
      "Elapsed Time: 61.8s, Elapsed Time per query: 61768.8ms\n",
      "embedding shape: (10000, 768)\n",
      "(10000,) int64\n",
      "Query Num 1\n"
     ]
    },
    {
     "name": "stderr",
     "output_type": "stream",
     "text": [
      "100%|█████████████████████████████████████████████████████| 1/1 [00:00<00:00, 84.14it/s]\n"
     ]
    },
    {
     "name": "stdout",
     "output_type": "stream",
     "text": [
      "Elapsed Time: 0.0s, Elapsed Time per query: 14.5ms\n",
      "Query Num 1\n"
     ]
    },
    {
     "name": "stderr",
     "output_type": "stream",
     "text": [
      "100%|████████████████████████████████████████████████████| 1/1 [00:00<00:00, 102.61it/s]\n"
     ]
    },
    {
     "name": "stdout",
     "output_type": "stream",
     "text": [
      "Elapsed Time: 0.0s, Elapsed Time per query: 12.5ms\n",
      "Query Num 1\n"
     ]
    },
    {
     "name": "stderr",
     "output_type": "stream",
     "text": [
      "100%|████████████████████████████████████████████████████| 1/1 [00:00<00:00, 103.85it/s]\n"
     ]
    },
    {
     "name": "stdout",
     "output_type": "stream",
     "text": [
      "Elapsed Time: 0.0s, Elapsed Time per query: 12.8ms\n",
      "Query Num 1\n"
     ]
    },
    {
     "name": "stderr",
     "output_type": "stream",
     "text": [
      "100%|████████████████████████████████████████████████████| 1/1 [00:00<00:00, 108.17it/s]\n"
     ]
    },
    {
     "name": "stdout",
     "output_type": "stream",
     "text": [
      "Elapsed Time: 0.0s, Elapsed Time per query: 11.5ms\n",
      "Query Num 1\n"
     ]
    },
    {
     "name": "stderr",
     "output_type": "stream",
     "text": [
      "100%|████████████████████████████████████████████████████| 1/1 [00:00<00:00, 106.90it/s]\n"
     ]
    },
    {
     "name": "stdout",
     "output_type": "stream",
     "text": [
      "Elapsed Time: 0.0s, Elapsed Time per query: 11.7ms\n",
      "Query Num 1\n"
     ]
    },
    {
     "name": "stderr",
     "output_type": "stream",
     "text": [
      "100%|████████████████████████████████████████████████████| 1/1 [00:00<00:00, 108.67it/s]\n"
     ]
    },
    {
     "name": "stdout",
     "output_type": "stream",
     "text": [
      "Elapsed Time: 0.0s, Elapsed Time per query: 11.3ms\n",
      "Query Num 1\n"
     ]
    },
    {
     "name": "stderr",
     "output_type": "stream",
     "text": [
      "100%|█████████████████████████████████████████████████████| 1/1 [00:00<00:00, 94.36it/s]\n"
     ]
    },
    {
     "name": "stdout",
     "output_type": "stream",
     "text": [
      "Elapsed Time: 0.0s, Elapsed Time per query: 13.9ms\n",
      "Query Num 1\n"
     ]
    },
    {
     "name": "stderr",
     "output_type": "stream",
     "text": [
      "100%|████████████████████████████████████████████████████| 1/1 [00:00<00:00, 112.57it/s]\n"
     ]
    },
    {
     "name": "stdout",
     "output_type": "stream",
     "text": [
      "Elapsed Time: 0.0s, Elapsed Time per query: 11.5ms\n",
      "Query Num 1\n"
     ]
    },
    {
     "name": "stderr",
     "output_type": "stream",
     "text": [
      "100%|████████████████████████████████████████████████████| 1/1 [00:00<00:00, 110.45it/s]\n"
     ]
    },
    {
     "name": "stdout",
     "output_type": "stream",
     "text": [
      "Elapsed Time: 0.0s, Elapsed Time per query: 11.7ms\n",
      "Query Num 1\n"
     ]
    },
    {
     "name": "stderr",
     "output_type": "stream",
     "text": [
      "100%|████████████████████████████████████████████████████| 1/1 [00:00<00:00, 114.33it/s]\n"
     ]
    },
    {
     "name": "stdout",
     "output_type": "stream",
     "text": [
      "Elapsed Time: 0.0s, Elapsed Time per query: 11.3ms\n",
      "Starting conv:  33\n",
      "Query Num 1\n"
     ]
    },
    {
     "name": "stderr",
     "output_type": "stream",
     "text": [
      "100%|█████████████████████████████████████████████████████| 1/1 [01:01<00:00, 61.33s/it]\n"
     ]
    },
    {
     "name": "stdout",
     "output_type": "stream",
     "text": [
      "Elapsed Time: 61.3s, Elapsed Time per query: 61334.2ms\n",
      "embedding shape: (10000, 768)\n",
      "(10000,) int64\n",
      "Query Num 1\n"
     ]
    },
    {
     "name": "stderr",
     "output_type": "stream",
     "text": [
      "100%|████████████████████████████████████████████████████| 1/1 [00:00<00:00, 116.77it/s]\n"
     ]
    },
    {
     "name": "stdout",
     "output_type": "stream",
     "text": [
      "Elapsed Time: 0.0s, Elapsed Time per query: 11.4ms\n",
      "Query Num 1\n"
     ]
    },
    {
     "name": "stderr",
     "output_type": "stream",
     "text": [
      "100%|████████████████████████████████████████████████████| 1/1 [00:00<00:00, 121.05it/s]\n"
     ]
    },
    {
     "name": "stdout",
     "output_type": "stream",
     "text": [
      "Elapsed Time: 0.0s, Elapsed Time per query: 11.2ms\n",
      "Query Num 1\n"
     ]
    },
    {
     "name": "stderr",
     "output_type": "stream",
     "text": [
      "100%|████████████████████████████████████████████████████| 1/1 [00:00<00:00, 120.20it/s]\n"
     ]
    },
    {
     "name": "stdout",
     "output_type": "stream",
     "text": [
      "Elapsed Time: 0.0s, Elapsed Time per query: 12.5ms\n",
      "Query Num 1\n"
     ]
    },
    {
     "name": "stderr",
     "output_type": "stream",
     "text": [
      "100%|████████████████████████████████████████████████████| 1/1 [00:00<00:00, 123.33it/s]\n"
     ]
    },
    {
     "name": "stdout",
     "output_type": "stream",
     "text": [
      "Elapsed Time: 0.0s, Elapsed Time per query: 11.1ms\n",
      "Query Num 1\n"
     ]
    },
    {
     "name": "stderr",
     "output_type": "stream",
     "text": [
      "100%|████████████████████████████████████████████████████| 1/1 [00:00<00:00, 124.09it/s]\n"
     ]
    },
    {
     "name": "stdout",
     "output_type": "stream",
     "text": [
      "Elapsed Time: 0.0s, Elapsed Time per query: 12.0ms\n",
      "Query Num 1\n"
     ]
    },
    {
     "name": "stderr",
     "output_type": "stream",
     "text": [
      "100%|████████████████████████████████████████████████████| 1/1 [00:00<00:00, 126.15it/s]\n"
     ]
    },
    {
     "name": "stdout",
     "output_type": "stream",
     "text": [
      "Elapsed Time: 0.0s, Elapsed Time per query: 10.5ms\n",
      "Query Num 1\n"
     ]
    },
    {
     "name": "stderr",
     "output_type": "stream",
     "text": [
      "100%|████████████████████████████████████████████████████| 1/1 [00:00<00:00, 121.97it/s]\n"
     ]
    },
    {
     "name": "stdout",
     "output_type": "stream",
     "text": [
      "Elapsed Time: 0.0s, Elapsed Time per query: 10.6ms\n",
      "Query Num 1\n"
     ]
    },
    {
     "name": "stderr",
     "output_type": "stream",
     "text": [
      "100%|████████████████████████████████████████████████████| 1/1 [00:00<00:00, 120.49it/s]\n"
     ]
    },
    {
     "name": "stdout",
     "output_type": "stream",
     "text": [
      "Elapsed Time: 0.0s, Elapsed Time per query: 10.2ms\n",
      "Query Num 1\n"
     ]
    },
    {
     "name": "stderr",
     "output_type": "stream",
     "text": [
      "100%|████████████████████████████████████████████████████| 1/1 [00:00<00:00, 120.53it/s]\n"
     ]
    },
    {
     "name": "stdout",
     "output_type": "stream",
     "text": [
      "Elapsed Time: 0.0s, Elapsed Time per query: 10.2ms\n",
      "Starting conv:  34\n",
      "Query Num 1\n"
     ]
    },
    {
     "name": "stderr",
     "output_type": "stream",
     "text": [
      "100%|█████████████████████████████████████████████████████| 1/1 [01:00<00:00, 60.88s/it]\n"
     ]
    },
    {
     "name": "stdout",
     "output_type": "stream",
     "text": [
      "Elapsed Time: 60.9s, Elapsed Time per query: 60882.3ms\n",
      "embedding shape: (10000, 768)\n",
      "(10000,) int64\n",
      "Query Num 1\n"
     ]
    },
    {
     "name": "stderr",
     "output_type": "stream",
     "text": [
      "100%|█████████████████████████████████████████████████████| 1/1 [00:00<00:00, 90.31it/s]\n"
     ]
    },
    {
     "name": "stdout",
     "output_type": "stream",
     "text": [
      "Elapsed Time: 0.0s, Elapsed Time per query: 15.1ms\n",
      "Query Num 1\n"
     ]
    },
    {
     "name": "stderr",
     "output_type": "stream",
     "text": [
      "100%|█████████████████████████████████████████████████████| 1/1 [00:00<00:00, 91.13it/s]\n"
     ]
    },
    {
     "name": "stdout",
     "output_type": "stream",
     "text": [
      "Elapsed Time: 0.0s, Elapsed Time per query: 14.0ms\n",
      "Query Num 1\n"
     ]
    },
    {
     "name": "stderr",
     "output_type": "stream",
     "text": [
      "100%|█████████████████████████████████████████████████████| 1/1 [00:00<00:00, 96.16it/s]\n"
     ]
    },
    {
     "name": "stdout",
     "output_type": "stream",
     "text": [
      "Elapsed Time: 0.0s, Elapsed Time per query: 13.2ms\n",
      "Query Num 1\n"
     ]
    },
    {
     "name": "stderr",
     "output_type": "stream",
     "text": [
      "100%|████████████████████████████████████████████████████| 1/1 [00:00<00:00, 104.02it/s]\n"
     ]
    },
    {
     "name": "stdout",
     "output_type": "stream",
     "text": [
      "Elapsed Time: 0.0s, Elapsed Time per query: 12.3ms\n",
      "Query Num 1\n"
     ]
    },
    {
     "name": "stderr",
     "output_type": "stream",
     "text": [
      "100%|█████████████████████████████████████████████████████| 1/1 [00:00<00:00, 95.74it/s]\n"
     ]
    },
    {
     "name": "stdout",
     "output_type": "stream",
     "text": [
      "Elapsed Time: 0.0s, Elapsed Time per query: 14.0ms\n",
      "Query Num 1\n"
     ]
    },
    {
     "name": "stderr",
     "output_type": "stream",
     "text": [
      "100%|█████████████████████████████████████████████████████| 1/1 [00:00<00:00, 66.24it/s]\n"
     ]
    },
    {
     "name": "stdout",
     "output_type": "stream",
     "text": [
      "Elapsed Time: 0.0s, Elapsed Time per query: 17.7ms\n",
      "Query Num 1\n"
     ]
    },
    {
     "name": "stderr",
     "output_type": "stream",
     "text": [
      "100%|████████████████████████████████████████████████████| 1/1 [00:00<00:00, 116.06it/s]\n"
     ]
    },
    {
     "name": "stdout",
     "output_type": "stream",
     "text": [
      "Elapsed Time: 0.0s, Elapsed Time per query: 10.6ms\n",
      "Query Num 1\n"
     ]
    },
    {
     "name": "stderr",
     "output_type": "stream",
     "text": [
      "100%|████████████████████████████████████████████████████| 1/1 [00:00<00:00, 118.51it/s]\n"
     ]
    },
    {
     "name": "stdout",
     "output_type": "stream",
     "text": [
      "Elapsed Time: 0.0s, Elapsed Time per query: 12.1ms\n",
      "Starting conv:  37\n",
      "Query Num 1\n"
     ]
    },
    {
     "name": "stderr",
     "output_type": "stream",
     "text": [
      "100%|█████████████████████████████████████████████████████| 1/1 [01:00<00:00, 60.33s/it]\n"
     ]
    },
    {
     "name": "stdout",
     "output_type": "stream",
     "text": [
      "Elapsed Time: 60.3s, Elapsed Time per query: 60330.3ms\n",
      "embedding shape: (10000, 768)\n",
      "(10000,) int64\n",
      "Query Num 1\n"
     ]
    },
    {
     "name": "stderr",
     "output_type": "stream",
     "text": [
      "100%|████████████████████████████████████████████████████| 1/1 [00:00<00:00, 109.51it/s]\n"
     ]
    },
    {
     "name": "stdout",
     "output_type": "stream",
     "text": [
      "Elapsed Time: 0.0s, Elapsed Time per query: 13.2ms\n",
      "Query Num 1\n"
     ]
    },
    {
     "name": "stderr",
     "output_type": "stream",
     "text": [
      "100%|████████████████████████████████████████████████████| 1/1 [00:00<00:00, 113.82it/s]\n"
     ]
    },
    {
     "name": "stdout",
     "output_type": "stream",
     "text": [
      "Elapsed Time: 0.0s, Elapsed Time per query: 12.5ms\n",
      "Query Num 1\n"
     ]
    },
    {
     "name": "stderr",
     "output_type": "stream",
     "text": [
      "100%|█████████████████████████████████████████████████████| 1/1 [00:00<00:00, 79.44it/s]\n"
     ]
    },
    {
     "name": "stdout",
     "output_type": "stream",
     "text": [
      "Elapsed Time: 0.0s, Elapsed Time per query: 15.1ms\n",
      "Query Num 1\n"
     ]
    },
    {
     "name": "stderr",
     "output_type": "stream",
     "text": [
      "100%|████████████████████████████████████████████████████| 1/1 [00:00<00:00, 115.56it/s]\n"
     ]
    },
    {
     "name": "stdout",
     "output_type": "stream",
     "text": [
      "Elapsed Time: 0.0s, Elapsed Time per query: 10.9ms\n",
      "Query Num 1\n"
     ]
    },
    {
     "name": "stderr",
     "output_type": "stream",
     "text": [
      "100%|████████████████████████████████████████████████████| 1/1 [00:00<00:00, 114.07it/s]\n"
     ]
    },
    {
     "name": "stdout",
     "output_type": "stream",
     "text": [
      "Elapsed Time: 0.0s, Elapsed Time per query: 11.3ms\n",
      "Query Num 1\n"
     ]
    },
    {
     "name": "stderr",
     "output_type": "stream",
     "text": [
      "100%|████████████████████████████████████████████████████| 1/1 [00:00<00:00, 115.29it/s]\n"
     ]
    },
    {
     "name": "stdout",
     "output_type": "stream",
     "text": [
      "Elapsed Time: 0.0s, Elapsed Time per query: 10.6ms\n",
      "Query Num 1\n"
     ]
    },
    {
     "name": "stderr",
     "output_type": "stream",
     "text": [
      "100%|████████████████████████████████████████████████████| 1/1 [00:00<00:00, 116.02it/s]\n"
     ]
    },
    {
     "name": "stdout",
     "output_type": "stream",
     "text": [
      "Elapsed Time: 0.0s, Elapsed Time per query: 10.7ms\n",
      "Query Num 1\n"
     ]
    },
    {
     "name": "stderr",
     "output_type": "stream",
     "text": [
      "100%|████████████████████████████████████████████████████| 1/1 [00:00<00:00, 116.63it/s]\n"
     ]
    },
    {
     "name": "stdout",
     "output_type": "stream",
     "text": [
      "Elapsed Time: 0.0s, Elapsed Time per query: 10.5ms\n",
      "Query Num 1\n"
     ]
    },
    {
     "name": "stderr",
     "output_type": "stream",
     "text": [
      "100%|████████████████████████████████████████████████████| 1/1 [00:00<00:00, 116.19it/s]\n"
     ]
    },
    {
     "name": "stdout",
     "output_type": "stream",
     "text": [
      "Elapsed Time: 0.0s, Elapsed Time per query: 10.5ms\n",
      "Query Num 1\n"
     ]
    },
    {
     "name": "stderr",
     "output_type": "stream",
     "text": [
      "100%|████████████████████████████████████████████████████| 1/1 [00:00<00:00, 117.28it/s]\n"
     ]
    },
    {
     "name": "stdout",
     "output_type": "stream",
     "text": [
      "Elapsed Time: 0.0s, Elapsed Time per query: 10.5ms\n",
      "Query Num 1\n"
     ]
    },
    {
     "name": "stderr",
     "output_type": "stream",
     "text": [
      "100%|████████████████████████████████████████████████████| 1/1 [00:00<00:00, 115.82it/s]\n"
     ]
    },
    {
     "name": "stdout",
     "output_type": "stream",
     "text": [
      "Elapsed Time: 0.0s, Elapsed Time per query: 10.5ms\n",
      "Starting conv:  40\n",
      "Query Num 1\n"
     ]
    },
    {
     "name": "stderr",
     "output_type": "stream",
     "text": [
      "100%|█████████████████████████████████████████████████████| 1/1 [01:02<00:00, 62.50s/it]\n"
     ]
    },
    {
     "name": "stdout",
     "output_type": "stream",
     "text": [
      "Elapsed Time: 62.5s, Elapsed Time per query: 62506.7ms\n",
      "embedding shape: (10000, 768)\n",
      "(10000,) int64\n",
      "Query Num 1\n"
     ]
    },
    {
     "name": "stderr",
     "output_type": "stream",
     "text": [
      "100%|████████████████████████████████████████████████████| 1/1 [00:00<00:00, 119.71it/s]\n"
     ]
    },
    {
     "name": "stdout",
     "output_type": "stream",
     "text": [
      "Elapsed Time: 0.0s, Elapsed Time per query: 10.9ms\n",
      "Query Num 1\n"
     ]
    },
    {
     "name": "stderr",
     "output_type": "stream",
     "text": [
      "100%|████████████████████████████████████████████████████| 1/1 [00:00<00:00, 123.08it/s]"
     ]
    },
    {
     "name": "stdout",
     "output_type": "stream",
     "text": [
      "Elapsed Time: 0.0s, Elapsed Time per query: 11.0ms\n",
      "Query Num 1"
     ]
    },
    {
     "name": "stderr",
     "output_type": "stream",
     "text": [
      "\n"
     ]
    },
    {
     "name": "stdout",
     "output_type": "stream",
     "text": [
      "\n"
     ]
    },
    {
     "name": "stderr",
     "output_type": "stream",
     "text": [
      "100%|████████████████████████████████████████████████████| 1/1 [00:00<00:00, 116.75it/s]\n"
     ]
    },
    {
     "name": "stdout",
     "output_type": "stream",
     "text": [
      "Elapsed Time: 0.0s, Elapsed Time per query: 11.0ms\n",
      "Query Num 1\n"
     ]
    },
    {
     "name": "stderr",
     "output_type": "stream",
     "text": [
      "100%|████████████████████████████████████████████████████| 1/1 [00:00<00:00, 128.75it/s]\n"
     ]
    },
    {
     "name": "stdout",
     "output_type": "stream",
     "text": [
      "Elapsed Time: 0.0s, Elapsed Time per query: 11.5ms\n",
      "Query Num 1\n"
     ]
    },
    {
     "name": "stderr",
     "output_type": "stream",
     "text": [
      "100%|████████████████████████████████████████████████████| 1/1 [00:00<00:00, 127.54it/s]\n"
     ]
    },
    {
     "name": "stdout",
     "output_type": "stream",
     "text": [
      "Elapsed Time: 0.0s, Elapsed Time per query: 11.7ms\n",
      "Query Num 1\n"
     ]
    },
    {
     "name": "stderr",
     "output_type": "stream",
     "text": [
      "100%|████████████████████████████████████████████████████| 1/1 [00:00<00:00, 127.91it/s]\n"
     ]
    },
    {
     "name": "stdout",
     "output_type": "stream",
     "text": [
      "Elapsed Time: 0.0s, Elapsed Time per query: 11.5ms\n",
      "Query Num 1\n"
     ]
    },
    {
     "name": "stderr",
     "output_type": "stream",
     "text": [
      "100%|████████████████████████████████████████████████████| 1/1 [00:00<00:00, 128.12it/s]\n"
     ]
    },
    {
     "name": "stdout",
     "output_type": "stream",
     "text": [
      "Elapsed Time: 0.0s, Elapsed Time per query: 11.7ms\n",
      "Query Num 1\n"
     ]
    },
    {
     "name": "stderr",
     "output_type": "stream",
     "text": [
      "100%|████████████████████████████████████████████████████| 1/1 [00:00<00:00, 128.67it/s]\n"
     ]
    },
    {
     "name": "stdout",
     "output_type": "stream",
     "text": [
      "Elapsed Time: 0.0s, Elapsed Time per query: 11.5ms\n",
      "Query Num 1\n"
     ]
    },
    {
     "name": "stderr",
     "output_type": "stream",
     "text": [
      "100%|████████████████████████████████████████████████████| 1/1 [00:00<00:00, 100.33it/s]\n"
     ]
    },
    {
     "name": "stdout",
     "output_type": "stream",
     "text": [
      "Elapsed Time: 0.0s, Elapsed Time per query: 13.7ms\n",
      "Starting conv:  49\n",
      "Query Num 1\n"
     ]
    },
    {
     "name": "stderr",
     "output_type": "stream",
     "text": [
      "100%|█████████████████████████████████████████████████████| 1/1 [00:58<00:00, 58.99s/it]\n"
     ]
    },
    {
     "name": "stdout",
     "output_type": "stream",
     "text": [
      "Elapsed Time: 59.0s, Elapsed Time per query: 58988.4ms\n",
      "embedding shape: (10000, 768)\n",
      "(10000,) int64\n",
      "Query Num 1\n"
     ]
    },
    {
     "name": "stderr",
     "output_type": "stream",
     "text": [
      "100%|█████████████████████████████████████████████████████| 1/1 [00:00<00:00, 99.03it/s]\n"
     ]
    },
    {
     "name": "stdout",
     "output_type": "stream",
     "text": [
      "Elapsed Time: 0.0s, Elapsed Time per query: 13.5ms\n",
      "Query Num 1\n"
     ]
    },
    {
     "name": "stderr",
     "output_type": "stream",
     "text": [
      "100%|████████████████████████████████████████████████████| 1/1 [00:00<00:00, 116.02it/s]\n"
     ]
    },
    {
     "name": "stdout",
     "output_type": "stream",
     "text": [
      "Elapsed Time: 0.0s, Elapsed Time per query: 10.7ms\n",
      "Query Num 1\n"
     ]
    },
    {
     "name": "stderr",
     "output_type": "stream",
     "text": [
      "100%|████████████████████████████████████████████████████| 1/1 [00:00<00:00, 118.06it/s]\n"
     ]
    },
    {
     "name": "stdout",
     "output_type": "stream",
     "text": [
      "Elapsed Time: 0.0s, Elapsed Time per query: 11.1ms\n",
      "Query Num 1\n"
     ]
    },
    {
     "name": "stderr",
     "output_type": "stream",
     "text": [
      "100%|████████████████████████████████████████████████████| 1/1 [00:00<00:00, 109.15it/s]\n"
     ]
    },
    {
     "name": "stdout",
     "output_type": "stream",
     "text": [
      "Elapsed Time: 0.0s, Elapsed Time per query: 11.4ms\n",
      "Query Num 1\n"
     ]
    },
    {
     "name": "stderr",
     "output_type": "stream",
     "text": [
      "100%|████████████████████████████████████████████████████| 1/1 [00:00<00:00, 111.34it/s]\n"
     ]
    },
    {
     "name": "stdout",
     "output_type": "stream",
     "text": [
      "Elapsed Time: 0.0s, Elapsed Time per query: 11.7ms\n",
      "Query Num 1\n"
     ]
    },
    {
     "name": "stderr",
     "output_type": "stream",
     "text": [
      "100%|████████████████████████████████████████████████████| 1/1 [00:00<00:00, 111.99it/s]\n"
     ]
    },
    {
     "name": "stdout",
     "output_type": "stream",
     "text": [
      "Elapsed Time: 0.0s, Elapsed Time per query: 11.0ms\n",
      "Query Num 1\n"
     ]
    },
    {
     "name": "stderr",
     "output_type": "stream",
     "text": [
      "100%|████████████████████████████████████████████████████| 1/1 [00:00<00:00, 111.07it/s]\n"
     ]
    },
    {
     "name": "stdout",
     "output_type": "stream",
     "text": [
      "Elapsed Time: 0.0s, Elapsed Time per query: 11.2ms\n",
      "Query Num 1\n"
     ]
    },
    {
     "name": "stderr",
     "output_type": "stream",
     "text": [
      "100%|████████████████████████████████████████████████████| 1/1 [00:00<00:00, 104.00it/s]\n"
     ]
    },
    {
     "name": "stdout",
     "output_type": "stream",
     "text": [
      "Elapsed Time: 0.0s, Elapsed Time per query: 11.8ms\n",
      "Query Num 1\n"
     ]
    },
    {
     "name": "stderr",
     "output_type": "stream",
     "text": [
      "100%|████████████████████████████████████████████████████| 1/1 [00:00<00:00, 110.50it/s]\n"
     ]
    },
    {
     "name": "stdout",
     "output_type": "stream",
     "text": [
      "Elapsed Time: 0.0s, Elapsed Time per query: 11.0ms\n",
      "Starting conv:  50\n",
      "Query Num 1\n"
     ]
    },
    {
     "name": "stderr",
     "output_type": "stream",
     "text": [
      "100%|█████████████████████████████████████████████████████| 1/1 [00:59<00:00, 59.26s/it]\n"
     ]
    },
    {
     "name": "stdout",
     "output_type": "stream",
     "text": [
      "Elapsed Time: 59.3s, Elapsed Time per query: 59260.7ms\n",
      "embedding shape: (10000, 768)\n",
      "(10000,) int64\n",
      "Query Num 1\n"
     ]
    },
    {
     "name": "stderr",
     "output_type": "stream",
     "text": [
      "100%|█████████████████████████████████████████████████████| 1/1 [00:00<00:00, 63.77it/s]\n"
     ]
    },
    {
     "name": "stdout",
     "output_type": "stream",
     "text": [
      "Elapsed Time: 0.0s, Elapsed Time per query: 18.4ms\n",
      "Query Num 1\n"
     ]
    },
    {
     "name": "stderr",
     "output_type": "stream",
     "text": [
      "100%|████████████████████████████████████████████████████| 1/1 [00:00<00:00, 103.47it/s]\n"
     ]
    },
    {
     "name": "stdout",
     "output_type": "stream",
     "text": [
      "Elapsed Time: 0.0s, Elapsed Time per query: 12.1ms\n",
      "Query Num 1\n"
     ]
    },
    {
     "name": "stderr",
     "output_type": "stream",
     "text": [
      "100%|████████████████████████████████████████████████████| 1/1 [00:00<00:00, 104.21it/s]\n"
     ]
    },
    {
     "name": "stdout",
     "output_type": "stream",
     "text": [
      "Elapsed Time: 0.0s, Elapsed Time per query: 12.5ms\n",
      "Query Num 1\n"
     ]
    },
    {
     "name": "stderr",
     "output_type": "stream",
     "text": [
      "100%|████████████████████████████████████████████████████| 1/1 [00:00<00:00, 106.49it/s]\n"
     ]
    },
    {
     "name": "stdout",
     "output_type": "stream",
     "text": [
      "Elapsed Time: 0.0s, Elapsed Time per query: 12.0ms\n",
      "Query Num 1\n"
     ]
    },
    {
     "name": "stderr",
     "output_type": "stream",
     "text": [
      "100%|████████████████████████████████████████████████████| 1/1 [00:00<00:00, 106.03it/s]\n"
     ]
    },
    {
     "name": "stdout",
     "output_type": "stream",
     "text": [
      "Elapsed Time: 0.0s, Elapsed Time per query: 11.8ms\n",
      "Query Num 1\n"
     ]
    },
    {
     "name": "stderr",
     "output_type": "stream",
     "text": [
      "100%|████████████████████████████████████████████████████| 1/1 [00:00<00:00, 108.48it/s]\n"
     ]
    },
    {
     "name": "stdout",
     "output_type": "stream",
     "text": [
      "Elapsed Time: 0.0s, Elapsed Time per query: 12.1ms\n",
      "Query Num 1\n"
     ]
    },
    {
     "name": "stderr",
     "output_type": "stream",
     "text": [
      "100%|████████████████████████████████████████████████████| 1/1 [00:00<00:00, 109.70it/s]\n"
     ]
    },
    {
     "name": "stdout",
     "output_type": "stream",
     "text": [
      "Elapsed Time: 0.0s, Elapsed Time per query: 11.5ms\n",
      "Query Num 1\n"
     ]
    },
    {
     "name": "stderr",
     "output_type": "stream",
     "text": [
      "100%|████████████████████████████████████████████████████| 1/1 [00:00<00:00, 109.31it/s]\n"
     ]
    },
    {
     "name": "stdout",
     "output_type": "stream",
     "text": [
      "Elapsed Time: 0.0s, Elapsed Time per query: 11.9ms\n",
      "Query Num 1\n"
     ]
    },
    {
     "name": "stderr",
     "output_type": "stream",
     "text": [
      "100%|████████████████████████████████████████████████████| 1/1 [00:00<00:00, 119.42it/s]\n"
     ]
    },
    {
     "name": "stdout",
     "output_type": "stream",
     "text": [
      "Elapsed Time: 0.0s, Elapsed Time per query: 11.0ms\n",
      "Starting conv:  54\n",
      "Query Num 1\n"
     ]
    },
    {
     "name": "stderr",
     "output_type": "stream",
     "text": [
      "100%|█████████████████████████████████████████████████████| 1/1 [00:59<00:00, 59.24s/it]\n"
     ]
    },
    {
     "name": "stdout",
     "output_type": "stream",
     "text": [
      "Elapsed Time: 59.2s, Elapsed Time per query: 59243.3ms\n",
      "embedding shape: (10000, 768)\n",
      "(10000,) int64\n",
      "Query Num 1\n"
     ]
    },
    {
     "name": "stderr",
     "output_type": "stream",
     "text": [
      "100%|█████████████████████████████████████████████████████| 1/1 [00:00<00:00, 97.92it/s]\n"
     ]
    },
    {
     "name": "stdout",
     "output_type": "stream",
     "text": [
      "Elapsed Time: 0.0s, Elapsed Time per query: 12.9ms\n",
      "Query Num 1\n"
     ]
    },
    {
     "name": "stderr",
     "output_type": "stream",
     "text": [
      "100%|████████████████████████████████████████████████████| 1/1 [00:00<00:00, 103.00it/s]\n"
     ]
    },
    {
     "name": "stdout",
     "output_type": "stream",
     "text": [
      "Elapsed Time: 0.0s, Elapsed Time per query: 12.8ms\n",
      "Query Num 1\n"
     ]
    },
    {
     "name": "stderr",
     "output_type": "stream",
     "text": [
      "100%|████████████████████████████████████████████████████| 1/1 [00:00<00:00, 104.79it/s]\n"
     ]
    },
    {
     "name": "stdout",
     "output_type": "stream",
     "text": [
      "Elapsed Time: 0.0s, Elapsed Time per query: 17.6ms\n",
      "Query Num 1\n"
     ]
    },
    {
     "name": "stderr",
     "output_type": "stream",
     "text": [
      "100%|████████████████████████████████████████████████████| 1/1 [00:00<00:00, 116.67it/s]\n"
     ]
    },
    {
     "name": "stdout",
     "output_type": "stream",
     "text": [
      "Elapsed Time: 0.0s, Elapsed Time per query: 10.7ms\n",
      "Query Num 1\n"
     ]
    },
    {
     "name": "stderr",
     "output_type": "stream",
     "text": [
      "100%|████████████████████████████████████████████████████| 1/1 [00:00<00:00, 121.13it/s]\n"
     ]
    },
    {
     "name": "stdout",
     "output_type": "stream",
     "text": [
      "Elapsed Time: 0.0s, Elapsed Time per query: 10.7ms\n",
      "Query Num 1\n"
     ]
    },
    {
     "name": "stderr",
     "output_type": "stream",
     "text": [
      "100%|████████████████████████████████████████████████████| 1/1 [00:00<00:00, 121.57it/s]\n"
     ]
    },
    {
     "name": "stdout",
     "output_type": "stream",
     "text": [
      "Elapsed Time: 0.0s, Elapsed Time per query: 10.2ms\n",
      "Query Num 1\n"
     ]
    },
    {
     "name": "stderr",
     "output_type": "stream",
     "text": [
      "100%|████████████████████████████████████████████████████| 1/1 [00:00<00:00, 122.26it/s]\n"
     ]
    },
    {
     "name": "stdout",
     "output_type": "stream",
     "text": [
      "Elapsed Time: 0.0s, Elapsed Time per query: 10.2ms\n",
      "Query Num 1\n"
     ]
    },
    {
     "name": "stderr",
     "output_type": "stream",
     "text": [
      "100%|████████████████████████████████████████████████████| 1/1 [00:00<00:00, 123.12it/s]\n"
     ]
    },
    {
     "name": "stdout",
     "output_type": "stream",
     "text": [
      "Elapsed Time: 0.0s, Elapsed Time per query: 9.9ms\n",
      "Starting conv:  56\n",
      "Query Num 1\n"
     ]
    },
    {
     "name": "stderr",
     "output_type": "stream",
     "text": [
      "100%|█████████████████████████████████████████████████████| 1/1 [00:59<00:00, 59.45s/it]\n"
     ]
    },
    {
     "name": "stdout",
     "output_type": "stream",
     "text": [
      "Elapsed Time: 59.5s, Elapsed Time per query: 59455.6ms\n",
      "embedding shape: (10000, 768)\n",
      "(10000,) int64\n",
      "Query Num 1\n"
     ]
    },
    {
     "name": "stderr",
     "output_type": "stream",
     "text": [
      "100%|████████████████████████████████████████████████████| 1/1 [00:00<00:00, 114.33it/s]\n"
     ]
    },
    {
     "name": "stdout",
     "output_type": "stream",
     "text": [
      "Elapsed Time: 0.0s, Elapsed Time per query: 11.7ms\n",
      "Query Num 1\n"
     ]
    },
    {
     "name": "stderr",
     "output_type": "stream",
     "text": [
      "100%|█████████████████████████████████████████████████████| 1/1 [00:00<00:00, 92.11it/s]\n"
     ]
    },
    {
     "name": "stdout",
     "output_type": "stream",
     "text": [
      "Elapsed Time: 0.0s, Elapsed Time per query: 14.1ms\n",
      "Query Num 1\n"
     ]
    },
    {
     "name": "stderr",
     "output_type": "stream",
     "text": [
      "100%|████████████████████████████████████████████████████| 1/1 [00:00<00:00, 115.55it/s]\n"
     ]
    },
    {
     "name": "stdout",
     "output_type": "stream",
     "text": [
      "Elapsed Time: 0.0s, Elapsed Time per query: 11.2ms\n",
      "Query Num 1\n"
     ]
    },
    {
     "name": "stderr",
     "output_type": "stream",
     "text": [
      "100%|████████████████████████████████████████████████████| 1/1 [00:00<00:00, 116.70it/s]\n"
     ]
    },
    {
     "name": "stdout",
     "output_type": "stream",
     "text": [
      "Elapsed Time: 0.0s, Elapsed Time per query: 11.1ms\n",
      "Query Num 1\n"
     ]
    },
    {
     "name": "stderr",
     "output_type": "stream",
     "text": [
      "100%|████████████████████████████████████████████████████| 1/1 [00:00<00:00, 117.09it/s]\n"
     ]
    },
    {
     "name": "stdout",
     "output_type": "stream",
     "text": [
      "Elapsed Time: 0.0s, Elapsed Time per query: 10.9ms\n",
      "Query Num 1\n"
     ]
    },
    {
     "name": "stderr",
     "output_type": "stream",
     "text": [
      "100%|████████████████████████████████████████████████████| 1/1 [00:00<00:00, 104.66it/s]\n"
     ]
    },
    {
     "name": "stdout",
     "output_type": "stream",
     "text": [
      "Elapsed Time: 0.0s, Elapsed Time per query: 12.0ms\n",
      "Query Num 1\n"
     ]
    },
    {
     "name": "stderr",
     "output_type": "stream",
     "text": [
      "100%|█████████████████████████████████████████████████████| 1/1 [00:00<00:00, 97.83it/s]\n"
     ]
    },
    {
     "name": "stdout",
     "output_type": "stream",
     "text": [
      "Elapsed Time: 0.0s, Elapsed Time per query: 12.4ms\n",
      "Starting conv:  58\n",
      "Query Num 1\n"
     ]
    },
    {
     "name": "stderr",
     "output_type": "stream",
     "text": [
      "100%|█████████████████████████████████████████████████████| 1/1 [00:58<00:00, 58.79s/it]\n"
     ]
    },
    {
     "name": "stdout",
     "output_type": "stream",
     "text": [
      "Elapsed Time: 58.8s, Elapsed Time per query: 58793.3ms\n",
      "embedding shape: (10000, 768)\n",
      "(10000,) int64\n",
      "Query Num 1\n"
     ]
    },
    {
     "name": "stderr",
     "output_type": "stream",
     "text": [
      "100%|████████████████████████████████████████████████████| 1/1 [00:00<00:00, 112.06it/s]\n"
     ]
    },
    {
     "name": "stdout",
     "output_type": "stream",
     "text": [
      "Elapsed Time: 0.0s, Elapsed Time per query: 11.3ms\n",
      "Query Num 1\n"
     ]
    },
    {
     "name": "stderr",
     "output_type": "stream",
     "text": [
      "100%|████████████████████████████████████████████████████| 1/1 [00:00<00:00, 114.64it/s]\n"
     ]
    },
    {
     "name": "stdout",
     "output_type": "stream",
     "text": [
      "Elapsed Time: 0.0s, Elapsed Time per query: 11.2ms\n",
      "Query Num 1\n"
     ]
    },
    {
     "name": "stderr",
     "output_type": "stream",
     "text": [
      "100%|████████████████████████████████████████████████████| 1/1 [00:00<00:00, 116.11it/s]\n"
     ]
    },
    {
     "name": "stdout",
     "output_type": "stream",
     "text": [
      "Elapsed Time: 0.0s, Elapsed Time per query: 10.7ms\n",
      "Query Num 1\n"
     ]
    },
    {
     "name": "stderr",
     "output_type": "stream",
     "text": [
      "100%|████████████████████████████████████████████████████| 1/1 [00:00<00:00, 114.17it/s]\n"
     ]
    },
    {
     "name": "stdout",
     "output_type": "stream",
     "text": [
      "Elapsed Time: 0.0s, Elapsed Time per query: 10.7ms\n",
      "Query Num 1\n"
     ]
    },
    {
     "name": "stderr",
     "output_type": "stream",
     "text": [
      "100%|████████████████████████████████████████████████████| 1/1 [00:00<00:00, 117.31it/s]\n"
     ]
    },
    {
     "name": "stdout",
     "output_type": "stream",
     "text": [
      "Elapsed Time: 0.0s, Elapsed Time per query: 10.7ms\n",
      "Query Num 1\n"
     ]
    },
    {
     "name": "stderr",
     "output_type": "stream",
     "text": [
      "100%|████████████████████████████████████████████████████| 1/1 [00:00<00:00, 115.92it/s]\n"
     ]
    },
    {
     "name": "stdout",
     "output_type": "stream",
     "text": [
      "Elapsed Time: 0.0s, Elapsed Time per query: 10.5ms\n",
      "Query Num 1\n"
     ]
    },
    {
     "name": "stderr",
     "output_type": "stream",
     "text": [
      "100%|████████████████████████████████████████████████████| 1/1 [00:00<00:00, 117.62it/s]\n"
     ]
    },
    {
     "name": "stdout",
     "output_type": "stream",
     "text": [
      "Elapsed Time: 0.0s, Elapsed Time per query: 10.4ms\n",
      "Starting conv:  59\n",
      "Query Num 1\n"
     ]
    },
    {
     "name": "stderr",
     "output_type": "stream",
     "text": [
      "100%|█████████████████████████████████████████████████████| 1/1 [00:29<00:00, 29.08s/it]\n"
     ]
    },
    {
     "name": "stdout",
     "output_type": "stream",
     "text": [
      "Elapsed Time: 29.1s, Elapsed Time per query: 29078.7ms\n",
      "embedding shape: (10000, 768)\n",
      "(10000,) int64\n",
      "Query Num 1\n"
     ]
    },
    {
     "name": "stderr",
     "output_type": "stream",
     "text": [
      "100%|████████████████████████████████████████████████████| 1/1 [00:00<00:00, 119.07it/s]\n"
     ]
    },
    {
     "name": "stdout",
     "output_type": "stream",
     "text": [
      "Elapsed Time: 0.0s, Elapsed Time per query: 10.9ms\n",
      "Query Num 1\n"
     ]
    },
    {
     "name": "stderr",
     "output_type": "stream",
     "text": [
      "100%|████████████████████████████████████████████████████| 1/1 [00:00<00:00, 121.81it/s]\n"
     ]
    },
    {
     "name": "stdout",
     "output_type": "stream",
     "text": [
      "Elapsed Time: 0.0s, Elapsed Time per query: 11.8ms\n",
      "Query Num 1\n"
     ]
    },
    {
     "name": "stderr",
     "output_type": "stream",
     "text": [
      "100%|████████████████████████████████████████████████████| 1/1 [00:00<00:00, 123.81it/s]\n"
     ]
    },
    {
     "name": "stdout",
     "output_type": "stream",
     "text": [
      "Elapsed Time: 0.0s, Elapsed Time per query: 11.2ms\n",
      "Query Num 1\n"
     ]
    },
    {
     "name": "stderr",
     "output_type": "stream",
     "text": [
      "100%|████████████████████████████████████████████████████| 1/1 [00:00<00:00, 119.48it/s]\n"
     ]
    },
    {
     "name": "stdout",
     "output_type": "stream",
     "text": [
      "Elapsed Time: 0.0s, Elapsed Time per query: 10.4ms\n",
      "Query Num 1\n"
     ]
    },
    {
     "name": "stderr",
     "output_type": "stream",
     "text": [
      "100%|████████████████████████████████████████████████████| 1/1 [00:00<00:00, 120.16it/s]\n"
     ]
    },
    {
     "name": "stdout",
     "output_type": "stream",
     "text": [
      "Elapsed Time: 0.0s, Elapsed Time per query: 10.4ms\n",
      "Query Num 1\n"
     ]
    },
    {
     "name": "stderr",
     "output_type": "stream",
     "text": [
      "100%|████████████████████████████████████████████████████| 1/1 [00:00<00:00, 121.66it/s]\n"
     ]
    },
    {
     "name": "stdout",
     "output_type": "stream",
     "text": [
      "Elapsed Time: 0.0s, Elapsed Time per query: 10.2ms\n",
      "Query Num 1\n"
     ]
    },
    {
     "name": "stderr",
     "output_type": "stream",
     "text": [
      "100%|████████████████████████████████████████████████████| 1/1 [00:00<00:00, 120.96it/s]\n"
     ]
    },
    {
     "name": "stdout",
     "output_type": "stream",
     "text": [
      "Elapsed Time: 0.0s, Elapsed Time per query: 10.5ms\n",
      "Starting conv:  61\n",
      "Query Num 1\n"
     ]
    },
    {
     "name": "stderr",
     "output_type": "stream",
     "text": [
      "100%|█████████████████████████████████████████████████████| 1/1 [01:00<00:00, 60.43s/it]\n"
     ]
    },
    {
     "name": "stdout",
     "output_type": "stream",
     "text": [
      "Elapsed Time: 60.4s, Elapsed Time per query: 60434.4ms\n",
      "embedding shape: (10000, 768)\n",
      "(10000,) int64\n",
      "Query Num 1\n"
     ]
    },
    {
     "name": "stderr",
     "output_type": "stream",
     "text": [
      "100%|█████████████████████████████████████████████████████| 1/1 [00:00<00:00, 86.58it/s]\n"
     ]
    },
    {
     "name": "stdout",
     "output_type": "stream",
     "text": [
      "Elapsed Time: 0.0s, Elapsed Time per query: 14.6ms\n",
      "Query Num 1\n"
     ]
    },
    {
     "name": "stderr",
     "output_type": "stream",
     "text": [
      "100%|████████████████████████████████████████████████████| 1/1 [00:00<00:00, 107.11it/s]\n"
     ]
    },
    {
     "name": "stdout",
     "output_type": "stream",
     "text": [
      "Elapsed Time: 0.0s, Elapsed Time per query: 12.0ms\n",
      "Query Num 1\n"
     ]
    },
    {
     "name": "stderr",
     "output_type": "stream",
     "text": [
      "100%|█████████████████████████████████████████████████████| 1/1 [00:00<00:00, 89.35it/s]\n"
     ]
    },
    {
     "name": "stdout",
     "output_type": "stream",
     "text": [
      "Elapsed Time: 0.0s, Elapsed Time per query: 13.7ms\n",
      "Query Num 1\n"
     ]
    },
    {
     "name": "stderr",
     "output_type": "stream",
     "text": [
      "100%|████████████████████████████████████████████████████| 1/1 [00:00<00:00, 110.78it/s]\n"
     ]
    },
    {
     "name": "stdout",
     "output_type": "stream",
     "text": [
      "Elapsed Time: 0.0s, Elapsed Time per query: 11.2ms\n",
      "Query Num 1\n"
     ]
    },
    {
     "name": "stderr",
     "output_type": "stream",
     "text": [
      "100%|████████████████████████████████████████████████████| 1/1 [00:00<00:00, 112.70it/s]\n"
     ]
    },
    {
     "name": "stdout",
     "output_type": "stream",
     "text": [
      "Elapsed Time: 0.0s, Elapsed Time per query: 10.9ms\n",
      "Query Num 1\n"
     ]
    },
    {
     "name": "stderr",
     "output_type": "stream",
     "text": [
      "100%|█████████████████████████████████████████████████████| 1/1 [00:00<00:00, 91.25it/s]\n"
     ]
    },
    {
     "name": "stdout",
     "output_type": "stream",
     "text": [
      "Elapsed Time: 0.0s, Elapsed Time per query: 14.1ms\n",
      "Query Num 1\n"
     ]
    },
    {
     "name": "stderr",
     "output_type": "stream",
     "text": [
      "100%|████████████████████████████████████████████████████| 1/1 [00:00<00:00, 103.87it/s]\n"
     ]
    },
    {
     "name": "stdout",
     "output_type": "stream",
     "text": [
      "Elapsed Time: 0.0s, Elapsed Time per query: 11.8ms\n",
      "Query Num 1\n"
     ]
    },
    {
     "name": "stderr",
     "output_type": "stream",
     "text": [
      "100%|████████████████████████████████████████████████████| 1/1 [00:00<00:00, 101.15it/s]\n"
     ]
    },
    {
     "name": "stdout",
     "output_type": "stream",
     "text": [
      "Elapsed Time: 0.0s, Elapsed Time per query: 12.2ms\n",
      "Starting conv:  67\n",
      "Query Num 1\n"
     ]
    },
    {
     "name": "stderr",
     "output_type": "stream",
     "text": [
      "100%|█████████████████████████████████████████████████████| 1/1 [01:00<00:00, 60.02s/it]\n"
     ]
    },
    {
     "name": "stdout",
     "output_type": "stream",
     "text": [
      "Elapsed Time: 60.0s, Elapsed Time per query: 60017.7ms\n",
      "embedding shape: (10000, 768)\n",
      "(10000,) int64\n",
      "Query Num 1\n"
     ]
    },
    {
     "name": "stderr",
     "output_type": "stream",
     "text": [
      "100%|████████████████████████████████████████████████████| 1/1 [00:00<00:00, 108.85it/s]\n"
     ]
    },
    {
     "name": "stdout",
     "output_type": "stream",
     "text": [
      "Elapsed Time: 0.0s, Elapsed Time per query: 11.6ms\n",
      "Query Num 1\n"
     ]
    },
    {
     "name": "stderr",
     "output_type": "stream",
     "text": [
      "100%|█████████████████████████████████████████████████████| 1/1 [00:00<00:00, 94.48it/s]\n"
     ]
    },
    {
     "name": "stdout",
     "output_type": "stream",
     "text": [
      "Elapsed Time: 0.0s, Elapsed Time per query: 13.0ms\n",
      "Query Num 1\n"
     ]
    },
    {
     "name": "stderr",
     "output_type": "stream",
     "text": [
      "100%|█████████████████████████████████████████████████████| 1/1 [00:00<00:00, 96.38it/s]\n"
     ]
    },
    {
     "name": "stdout",
     "output_type": "stream",
     "text": [
      "Elapsed Time: 0.0s, Elapsed Time per query: 12.7ms\n",
      "Query Num 1\n"
     ]
    },
    {
     "name": "stderr",
     "output_type": "stream",
     "text": [
      "100%|████████████████████████████████████████████████████| 1/1 [00:00<00:00, 114.31it/s]\n"
     ]
    },
    {
     "name": "stdout",
     "output_type": "stream",
     "text": [
      "Elapsed Time: 0.0s, Elapsed Time per query: 10.9ms\n",
      "Query Num 1\n"
     ]
    },
    {
     "name": "stderr",
     "output_type": "stream",
     "text": [
      "100%|█████████████████████████████████████████████████████| 1/1 [00:00<00:00, 96.97it/s]\n"
     ]
    },
    {
     "name": "stdout",
     "output_type": "stream",
     "text": [
      "Elapsed Time: 0.0s, Elapsed Time per query: 12.4ms\n",
      "Query Num 1\n"
     ]
    },
    {
     "name": "stderr",
     "output_type": "stream",
     "text": [
      "100%|████████████████████████████████████████████████████| 1/1 [00:00<00:00, 118.07it/s]\n"
     ]
    },
    {
     "name": "stdout",
     "output_type": "stream",
     "text": [
      "Elapsed Time: 0.0s, Elapsed Time per query: 11.0ms\n",
      "Query Num 1\n"
     ]
    },
    {
     "name": "stderr",
     "output_type": "stream",
     "text": [
      "100%|████████████████████████████████████████████████████| 1/1 [00:00<00:00, 114.18it/s]\n"
     ]
    },
    {
     "name": "stdout",
     "output_type": "stream",
     "text": [
      "Elapsed Time: 0.0s, Elapsed Time per query: 10.6ms\n",
      "Query Num 1\n"
     ]
    },
    {
     "name": "stderr",
     "output_type": "stream",
     "text": [
      "100%|████████████████████████████████████████████████████| 1/1 [00:00<00:00, 116.21it/s]\n"
     ]
    },
    {
     "name": "stdout",
     "output_type": "stream",
     "text": [
      "Elapsed Time: 0.0s, Elapsed Time per query: 10.4ms\n",
      "Query Num 1\n"
     ]
    },
    {
     "name": "stderr",
     "output_type": "stream",
     "text": [
      "100%|████████████████████████████████████████████████████| 1/1 [00:00<00:00, 116.54it/s]\n"
     ]
    },
    {
     "name": "stdout",
     "output_type": "stream",
     "text": [
      "Elapsed Time: 0.0s, Elapsed Time per query: 10.4ms\n",
      "Query Num 1\n"
     ]
    },
    {
     "name": "stderr",
     "output_type": "stream",
     "text": [
      "100%|████████████████████████████████████████████████████| 1/1 [00:00<00:00, 117.48it/s]\n"
     ]
    },
    {
     "name": "stdout",
     "output_type": "stream",
     "text": [
      "Elapsed Time: 0.0s, Elapsed Time per query: 10.3ms\n",
      "Starting conv:  68\n",
      "Query Num 1\n"
     ]
    },
    {
     "name": "stderr",
     "output_type": "stream",
     "text": [
      "100%|█████████████████████████████████████████████████████| 1/1 [00:59<00:00, 59.59s/it]\n"
     ]
    },
    {
     "name": "stdout",
     "output_type": "stream",
     "text": [
      "Elapsed Time: 59.6s, Elapsed Time per query: 59590.8ms\n",
      "embedding shape: (10000, 768)\n",
      "(10000,) int64\n",
      "Query Num 1\n"
     ]
    },
    {
     "name": "stderr",
     "output_type": "stream",
     "text": [
      "100%|█████████████████████████████████████████████████████| 1/1 [00:00<00:00, 78.43it/s]\n"
     ]
    },
    {
     "name": "stdout",
     "output_type": "stream",
     "text": [
      "Elapsed Time: 0.0s, Elapsed Time per query: 15.5ms\n",
      "Query Num 1\n"
     ]
    },
    {
     "name": "stderr",
     "output_type": "stream",
     "text": [
      "100%|████████████████████████████████████████████████████| 1/1 [00:00<00:00, 111.60it/s]\n"
     ]
    },
    {
     "name": "stdout",
     "output_type": "stream",
     "text": [
      "Elapsed Time: 0.0s, Elapsed Time per query: 11.2ms\n",
      "Query Num 1\n"
     ]
    },
    {
     "name": "stderr",
     "output_type": "stream",
     "text": [
      "100%|████████████████████████████████████████████████████| 1/1 [00:00<00:00, 113.72it/s]\n"
     ]
    },
    {
     "name": "stdout",
     "output_type": "stream",
     "text": [
      "Elapsed Time: 0.0s, Elapsed Time per query: 11.1ms\n",
      "Query Num 1\n"
     ]
    },
    {
     "name": "stderr",
     "output_type": "stream",
     "text": [
      "100%|████████████████████████████████████████████████████| 1/1 [00:00<00:00, 112.65it/s]\n"
     ]
    },
    {
     "name": "stdout",
     "output_type": "stream",
     "text": [
      "Elapsed Time: 0.0s, Elapsed Time per query: 10.9ms\n",
      "Query Num 1\n"
     ]
    },
    {
     "name": "stderr",
     "output_type": "stream",
     "text": [
      "100%|████████████████████████████████████████████████████| 1/1 [00:00<00:00, 113.82it/s]\n"
     ]
    },
    {
     "name": "stdout",
     "output_type": "stream",
     "text": [
      "Elapsed Time: 0.0s, Elapsed Time per query: 11.0ms\n",
      "Query Num 1\n"
     ]
    },
    {
     "name": "stderr",
     "output_type": "stream",
     "text": [
      "100%|████████████████████████████████████████████████████| 1/1 [00:00<00:00, 114.19it/s]\n"
     ]
    },
    {
     "name": "stdout",
     "output_type": "stream",
     "text": [
      "Elapsed Time: 0.0s, Elapsed Time per query: 10.8ms\n",
      "Query Num 1\n"
     ]
    },
    {
     "name": "stderr",
     "output_type": "stream",
     "text": [
      "100%|████████████████████████████████████████████████████| 1/1 [00:00<00:00, 115.56it/s]\n"
     ]
    },
    {
     "name": "stdout",
     "output_type": "stream",
     "text": [
      "Elapsed Time: 0.0s, Elapsed Time per query: 10.8ms\n",
      "Query Num 1\n"
     ]
    },
    {
     "name": "stderr",
     "output_type": "stream",
     "text": [
      "100%|████████████████████████████████████████████████████| 1/1 [00:00<00:00, 115.84it/s]\n"
     ]
    },
    {
     "name": "stdout",
     "output_type": "stream",
     "text": [
      "Elapsed Time: 0.0s, Elapsed Time per query: 10.6ms\n",
      "Query Num 1\n"
     ]
    },
    {
     "name": "stderr",
     "output_type": "stream",
     "text": [
      "100%|████████████████████████████████████████████████████| 1/1 [00:00<00:00, 114.28it/s]\n"
     ]
    },
    {
     "name": "stdout",
     "output_type": "stream",
     "text": [
      "Elapsed Time: 0.0s, Elapsed Time per query: 10.6ms\n",
      "Query Num 1\n"
     ]
    },
    {
     "name": "stderr",
     "output_type": "stream",
     "text": [
      "100%|████████████████████████████████████████████████████| 1/1 [00:00<00:00, 114.65it/s]\n"
     ]
    },
    {
     "name": "stdout",
     "output_type": "stream",
     "text": [
      "Elapsed Time: 0.0s, Elapsed Time per query: 10.5ms\n",
      "Starting conv:  69\n",
      "Query Num 1\n"
     ]
    },
    {
     "name": "stderr",
     "output_type": "stream",
     "text": [
      "100%|█████████████████████████████████████████████████████| 1/1 [00:59<00:00, 59.53s/it]\n"
     ]
    },
    {
     "name": "stdout",
     "output_type": "stream",
     "text": [
      "Elapsed Time: 59.5s, Elapsed Time per query: 59530.6ms\n",
      "embedding shape: (10000, 768)\n",
      "(10000,) int64\n",
      "Query Num 1\n"
     ]
    },
    {
     "name": "stderr",
     "output_type": "stream",
     "text": [
      "100%|█████████████████████████████████████████████████████| 1/1 [00:00<00:00, 69.56it/s]\n"
     ]
    },
    {
     "name": "stdout",
     "output_type": "stream",
     "text": [
      "Elapsed Time: 0.0s, Elapsed Time per query: 17.6ms\n",
      "Query Num 1\n"
     ]
    },
    {
     "name": "stderr",
     "output_type": "stream",
     "text": [
      "100%|████████████████████████████████████████████████████| 1/1 [00:00<00:00, 109.96it/s]\n"
     ]
    },
    {
     "name": "stdout",
     "output_type": "stream",
     "text": [
      "Elapsed Time: 0.0s, Elapsed Time per query: 12.9ms\n",
      "Query Num 1\n"
     ]
    },
    {
     "name": "stderr",
     "output_type": "stream",
     "text": [
      "100%|█████████████████████████████████████████████████████| 1/1 [00:00<00:00, 96.51it/s]\n"
     ]
    },
    {
     "name": "stdout",
     "output_type": "stream",
     "text": [
      "Elapsed Time: 0.0s, Elapsed Time per query: 13.0ms\n",
      "Query Num 1\n"
     ]
    },
    {
     "name": "stderr",
     "output_type": "stream",
     "text": [
      "100%|████████████████████████████████████████████████████| 1/1 [00:00<00:00, 102.85it/s]\n"
     ]
    },
    {
     "name": "stdout",
     "output_type": "stream",
     "text": [
      "Elapsed Time: 0.0s, Elapsed Time per query: 12.0ms\n",
      "Query Num 1\n"
     ]
    },
    {
     "name": "stderr",
     "output_type": "stream",
     "text": [
      "100%|████████████████████████████████████████████████████| 1/1 [00:00<00:00, 114.96it/s]\n"
     ]
    },
    {
     "name": "stdout",
     "output_type": "stream",
     "text": [
      "Elapsed Time: 0.0s, Elapsed Time per query: 11.7ms\n",
      "Query Num 1\n"
     ]
    },
    {
     "name": "stderr",
     "output_type": "stream",
     "text": [
      "100%|████████████████████████████████████████████████████| 1/1 [00:00<00:00, 114.21it/s]\n"
     ]
    },
    {
     "name": "stdout",
     "output_type": "stream",
     "text": [
      "Elapsed Time: 0.0s, Elapsed Time per query: 11.1ms\n",
      "Query Num 1\n"
     ]
    },
    {
     "name": "stderr",
     "output_type": "stream",
     "text": [
      "100%|████████████████████████████████████████████████████| 1/1 [00:00<00:00, 116.68it/s]\n"
     ]
    },
    {
     "name": "stdout",
     "output_type": "stream",
     "text": [
      "Elapsed Time: 0.0s, Elapsed Time per query: 11.3ms\n",
      "Query Num 1\n"
     ]
    },
    {
     "name": "stderr",
     "output_type": "stream",
     "text": [
      "100%|████████████████████████████████████████████████████| 1/1 [00:00<00:00, 114.54it/s]\n"
     ]
    },
    {
     "name": "stdout",
     "output_type": "stream",
     "text": [
      "Elapsed Time: 0.0s, Elapsed Time per query: 11.8ms\n",
      "Query Num 1\n"
     ]
    },
    {
     "name": "stderr",
     "output_type": "stream",
     "text": [
      "100%|████████████████████████████████████████████████████| 1/1 [00:00<00:00, 103.10it/s]\n"
     ]
    },
    {
     "name": "stdout",
     "output_type": "stream",
     "text": [
      "Elapsed Time: 0.0s, Elapsed Time per query: 12.2ms\n",
      "Starting conv:  75\n",
      "Query Num 1\n"
     ]
    },
    {
     "name": "stderr",
     "output_type": "stream",
     "text": [
      "100%|█████████████████████████████████████████████████████| 1/1 [00:59<00:00, 59.08s/it]\n"
     ]
    },
    {
     "name": "stdout",
     "output_type": "stream",
     "text": [
      "Elapsed Time: 59.1s, Elapsed Time per query: 59079.3ms\n",
      "embedding shape: (10000, 768)\n",
      "(10000,) int64\n",
      "Query Num 1\n"
     ]
    },
    {
     "name": "stderr",
     "output_type": "stream",
     "text": [
      "100%|████████████████████████████████████████████████████| 1/1 [00:00<00:00, 125.19it/s]\n"
     ]
    },
    {
     "name": "stdout",
     "output_type": "stream",
     "text": [
      "Elapsed Time: 0.0s, Elapsed Time per query: 11.7ms\n",
      "Query Num 1\n"
     ]
    },
    {
     "name": "stderr",
     "output_type": "stream",
     "text": [
      "100%|████████████████████████████████████████████████████| 1/1 [00:00<00:00, 126.91it/s]\n"
     ]
    },
    {
     "name": "stdout",
     "output_type": "stream",
     "text": [
      "Elapsed Time: 0.0s, Elapsed Time per query: 10.3ms\n",
      "Query Num 1\n"
     ]
    },
    {
     "name": "stderr",
     "output_type": "stream",
     "text": [
      "100%|████████████████████████████████████████████████████| 1/1 [00:00<00:00, 124.40it/s]\n"
     ]
    },
    {
     "name": "stdout",
     "output_type": "stream",
     "text": [
      "Elapsed Time: 0.0s, Elapsed Time per query: 11.3ms\n",
      "Query Num 1\n"
     ]
    },
    {
     "name": "stderr",
     "output_type": "stream",
     "text": [
      "100%|████████████████████████████████████████████████████| 1/1 [00:00<00:00, 126.67it/s]\n"
     ]
    },
    {
     "name": "stdout",
     "output_type": "stream",
     "text": [
      "Elapsed Time: 0.0s, Elapsed Time per query: 10.5ms\n",
      "Query Num 1\n"
     ]
    },
    {
     "name": "stderr",
     "output_type": "stream",
     "text": [
      "100%|████████████████████████████████████████████████████| 1/1 [00:00<00:00, 124.39it/s]\n"
     ]
    },
    {
     "name": "stdout",
     "output_type": "stream",
     "text": [
      "Elapsed Time: 0.0s, Elapsed Time per query: 10.3ms\n",
      "Query Num 1\n"
     ]
    },
    {
     "name": "stderr",
     "output_type": "stream",
     "text": [
      "100%|████████████████████████████████████████████████████| 1/1 [00:00<00:00, 128.53it/s]\n"
     ]
    },
    {
     "name": "stdout",
     "output_type": "stream",
     "text": [
      "Elapsed Time: 0.0s, Elapsed Time per query: 10.0ms\n",
      "Query Num 1\n"
     ]
    },
    {
     "name": "stderr",
     "output_type": "stream",
     "text": [
      "100%|████████████████████████████████████████████████████| 1/1 [00:00<00:00, 124.54it/s]\n"
     ]
    },
    {
     "name": "stdout",
     "output_type": "stream",
     "text": [
      "Elapsed Time: 0.0s, Elapsed Time per query: 10.0ms\n",
      "Query Num 1\n"
     ]
    },
    {
     "name": "stderr",
     "output_type": "stream",
     "text": [
      "100%|████████████████████████████████████████████████████| 1/1 [00:00<00:00, 125.56it/s]\n"
     ]
    },
    {
     "name": "stdout",
     "output_type": "stream",
     "text": [
      "Elapsed Time: 0.0s, Elapsed Time per query: 9.9ms\n",
      "Query Num 1\n"
     ]
    },
    {
     "name": "stderr",
     "output_type": "stream",
     "text": [
      "100%|████████████████████████████████████████████████████| 1/1 [00:00<00:00, 128.96it/s]\n"
     ]
    },
    {
     "name": "stdout",
     "output_type": "stream",
     "text": [
      "Elapsed Time: 0.0s, Elapsed Time per query: 9.8ms\n",
      "Starting conv:  77\n",
      "Query Num 1\n"
     ]
    },
    {
     "name": "stderr",
     "output_type": "stream",
     "text": [
      "100%|█████████████████████████████████████████████████████| 1/1 [00:58<00:00, 58.99s/it]\n"
     ]
    },
    {
     "name": "stdout",
     "output_type": "stream",
     "text": [
      "Elapsed Time: 59.0s, Elapsed Time per query: 58991.2ms\n",
      "embedding shape: (10000, 768)\n",
      "(10000,) int64\n",
      "Query Num 1\n"
     ]
    },
    {
     "name": "stderr",
     "output_type": "stream",
     "text": [
      "100%|████████████████████████████████████████████████████| 1/1 [00:00<00:00, 106.94it/s]\n"
     ]
    },
    {
     "name": "stdout",
     "output_type": "stream",
     "text": [
      "Elapsed Time: 0.0s, Elapsed Time per query: 12.3ms\n",
      "Query Num 1\n"
     ]
    },
    {
     "name": "stderr",
     "output_type": "stream",
     "text": [
      "100%|████████████████████████████████████████████████████| 1/1 [00:00<00:00, 109.49it/s]\n"
     ]
    },
    {
     "name": "stdout",
     "output_type": "stream",
     "text": [
      "Elapsed Time: 0.0s, Elapsed Time per query: 12.3ms\n",
      "Query Num 1\n"
     ]
    },
    {
     "name": "stderr",
     "output_type": "stream",
     "text": [
      "100%|████████████████████████████████████████████████████| 1/1 [00:00<00:00, 112.61it/s]\n"
     ]
    },
    {
     "name": "stdout",
     "output_type": "stream",
     "text": [
      "Elapsed Time: 0.0s, Elapsed Time per query: 11.8ms\n",
      "Query Num 1\n"
     ]
    },
    {
     "name": "stderr",
     "output_type": "stream",
     "text": [
      "100%|████████████████████████████████████████████████████| 1/1 [00:00<00:00, 109.86it/s]\n"
     ]
    },
    {
     "name": "stdout",
     "output_type": "stream",
     "text": [
      "Elapsed Time: 0.0s, Elapsed Time per query: 11.3ms\n",
      "Query Num 1\n"
     ]
    },
    {
     "name": "stderr",
     "output_type": "stream",
     "text": [
      "100%|████████████████████████████████████████████████████| 1/1 [00:00<00:00, 112.59it/s]\n"
     ]
    },
    {
     "name": "stdout",
     "output_type": "stream",
     "text": [
      "Elapsed Time: 0.0s, Elapsed Time per query: 11.1ms\n",
      "Query Num 1\n"
     ]
    },
    {
     "name": "stderr",
     "output_type": "stream",
     "text": [
      "100%|████████████████████████████████████████████████████| 1/1 [00:00<00:00, 113.27it/s]\n"
     ]
    },
    {
     "name": "stdout",
     "output_type": "stream",
     "text": [
      "Elapsed Time: 0.0s, Elapsed Time per query: 11.3ms\n",
      "Query Num 1\n"
     ]
    },
    {
     "name": "stderr",
     "output_type": "stream",
     "text": [
      "100%|████████████████████████████████████████████████████| 1/1 [00:00<00:00, 114.41it/s]\n"
     ]
    },
    {
     "name": "stdout",
     "output_type": "stream",
     "text": [
      "Elapsed Time: 0.0s, Elapsed Time per query: 11.1ms\n",
      "Query Num 1\n"
     ]
    },
    {
     "name": "stderr",
     "output_type": "stream",
     "text": [
      "100%|████████████████████████████████████████████████████| 1/1 [00:00<00:00, 112.23it/s]\n"
     ]
    },
    {
     "name": "stdout",
     "output_type": "stream",
     "text": [
      "Elapsed Time: 0.0s, Elapsed Time per query: 11.4ms\n",
      "Query Num 1\n"
     ]
    },
    {
     "name": "stderr",
     "output_type": "stream",
     "text": [
      "100%|████████████████████████████████████████████████████| 1/1 [00:00<00:00, 116.85it/s]\n"
     ]
    },
    {
     "name": "stdout",
     "output_type": "stream",
     "text": [
      "Elapsed Time: 0.0s, Elapsed Time per query: 10.8ms\n",
      "Starting conv:  78\n",
      "Query Num 1\n"
     ]
    },
    {
     "name": "stderr",
     "output_type": "stream",
     "text": [
      "100%|█████████████████████████████████████████████████████| 1/1 [00:59<00:00, 59.17s/it]\n"
     ]
    },
    {
     "name": "stdout",
     "output_type": "stream",
     "text": [
      "Elapsed Time: 59.2s, Elapsed Time per query: 59172.6ms\n",
      "embedding shape: (10000, 768)\n",
      "(10000,) int64\n",
      "Query Num 1\n"
     ]
    },
    {
     "name": "stderr",
     "output_type": "stream",
     "text": [
      "100%|████████████████████████████████████████████████████| 1/1 [00:00<00:00, 107.86it/s]\n"
     ]
    },
    {
     "name": "stdout",
     "output_type": "stream",
     "text": [
      "Elapsed Time: 0.0s, Elapsed Time per query: 12.8ms\n",
      "Query Num 1\n"
     ]
    },
    {
     "name": "stderr",
     "output_type": "stream",
     "text": [
      "100%|████████████████████████████████████████████████████| 1/1 [00:00<00:00, 112.11it/s]\n"
     ]
    },
    {
     "name": "stdout",
     "output_type": "stream",
     "text": [
      "Elapsed Time: 0.0s, Elapsed Time per query: 11.4ms\n",
      "Query Num 1\n"
     ]
    },
    {
     "name": "stderr",
     "output_type": "stream",
     "text": [
      "100%|████████████████████████████████████████████████████| 1/1 [00:00<00:00, 111.68it/s]\n"
     ]
    },
    {
     "name": "stdout",
     "output_type": "stream",
     "text": [
      "Elapsed Time: 0.0s, Elapsed Time per query: 11.7ms\n",
      "Query Num 1\n"
     ]
    },
    {
     "name": "stderr",
     "output_type": "stream",
     "text": [
      "100%|████████████████████████████████████████████████████| 1/1 [00:00<00:00, 116.51it/s]\n"
     ]
    },
    {
     "name": "stdout",
     "output_type": "stream",
     "text": [
      "Elapsed Time: 0.0s, Elapsed Time per query: 12.1ms\n",
      "Query Num 1\n"
     ]
    },
    {
     "name": "stderr",
     "output_type": "stream",
     "text": [
      "100%|████████████████████████████████████████████████████| 1/1 [00:00<00:00, 114.93it/s]\n"
     ]
    },
    {
     "name": "stdout",
     "output_type": "stream",
     "text": [
      "Elapsed Time: 0.0s, Elapsed Time per query: 11.3ms\n",
      "Query Num 1\n"
     ]
    },
    {
     "name": "stderr",
     "output_type": "stream",
     "text": [
      "100%|████████████████████████████████████████████████████| 1/1 [00:00<00:00, 115.27it/s]\n"
     ]
    },
    {
     "name": "stdout",
     "output_type": "stream",
     "text": [
      "Elapsed Time: 0.0s, Elapsed Time per query: 11.4ms\n",
      "Query Num 1\n"
     ]
    },
    {
     "name": "stderr",
     "output_type": "stream",
     "text": [
      "100%|████████████████████████████████████████████████████| 1/1 [00:00<00:00, 119.22it/s]\n"
     ]
    },
    {
     "name": "stdout",
     "output_type": "stream",
     "text": [
      "Elapsed Time: 0.0s, Elapsed Time per query: 11.1ms\n",
      "Query Num 1\n"
     ]
    },
    {
     "name": "stderr",
     "output_type": "stream",
     "text": [
      "100%|████████████████████████████████████████████████████| 1/1 [00:00<00:00, 118.37it/s]\n"
     ]
    },
    {
     "name": "stdout",
     "output_type": "stream",
     "text": [
      "Elapsed Time: 0.0s, Elapsed Time per query: 11.1ms\n",
      "Query Num 1\n"
     ]
    },
    {
     "name": "stderr",
     "output_type": "stream",
     "text": [
      "100%|████████████████████████████████████████████████████| 1/1 [00:00<00:00, 116.22it/s]\n"
     ]
    },
    {
     "name": "stdout",
     "output_type": "stream",
     "text": [
      "Elapsed Time: 0.0s, Elapsed Time per query: 11.7ms\n",
      "Starting conv:  79\n",
      "Query Num 1\n"
     ]
    },
    {
     "name": "stderr",
     "output_type": "stream",
     "text": [
      "100%|█████████████████████████████████████████████████████| 1/1 [00:32<00:00, 32.02s/it]\n"
     ]
    },
    {
     "name": "stdout",
     "output_type": "stream",
     "text": [
      "Elapsed Time: 32.0s, Elapsed Time per query: 32025.5ms\n",
      "embedding shape: (10000, 768)\n",
      "(10000,) int64\n",
      "Query Num 1\n"
     ]
    },
    {
     "name": "stderr",
     "output_type": "stream",
     "text": [
      "100%|█████████████████████████████████████████████████████| 1/1 [00:00<00:00, 89.53it/s]\n"
     ]
    },
    {
     "name": "stdout",
     "output_type": "stream",
     "text": [
      "Elapsed Time: 0.0s, Elapsed Time per query: 14.9ms\n",
      "Query Num 1\n"
     ]
    },
    {
     "name": "stderr",
     "output_type": "stream",
     "text": [
      "100%|████████████████████████████████████████████████████| 1/1 [00:00<00:00, 110.27it/s]\n"
     ]
    },
    {
     "name": "stdout",
     "output_type": "stream",
     "text": [
      "Elapsed Time: 0.0s, Elapsed Time per query: 11.4ms\n",
      "Query Num 1\n"
     ]
    },
    {
     "name": "stderr",
     "output_type": "stream",
     "text": [
      "100%|████████████████████████████████████████████████████| 1/1 [00:00<00:00, 113.37it/s]\n"
     ]
    },
    {
     "name": "stdout",
     "output_type": "stream",
     "text": [
      "Elapsed Time: 0.0s, Elapsed Time per query: 11.6ms\n",
      "Query Num 1\n"
     ]
    },
    {
     "name": "stderr",
     "output_type": "stream",
     "text": [
      "100%|████████████████████████████████████████████████████| 1/1 [00:00<00:00, 114.59it/s]\n"
     ]
    },
    {
     "name": "stdout",
     "output_type": "stream",
     "text": [
      "Elapsed Time: 0.0s, Elapsed Time per query: 11.5ms\n",
      "Query Num 1\n"
     ]
    },
    {
     "name": "stderr",
     "output_type": "stream",
     "text": [
      "100%|████████████████████████████████████████████████████| 1/1 [00:00<00:00, 116.59it/s]\n"
     ]
    },
    {
     "name": "stdout",
     "output_type": "stream",
     "text": [
      "Elapsed Time: 0.0s, Elapsed Time per query: 11.0ms\n",
      "Query Num 1\n"
     ]
    },
    {
     "name": "stderr",
     "output_type": "stream",
     "text": [
      "100%|████████████████████████████████████████████████████| 1/1 [00:00<00:00, 115.65it/s]\n"
     ]
    },
    {
     "name": "stdout",
     "output_type": "stream",
     "text": [
      "Elapsed Time: 0.0s, Elapsed Time per query: 11.5ms\n",
      "Query Num 1\n"
     ]
    },
    {
     "name": "stderr",
     "output_type": "stream",
     "text": [
      "100%|████████████████████████████████████████████████████| 1/1 [00:00<00:00, 116.13it/s]\n"
     ]
    },
    {
     "name": "stdout",
     "output_type": "stream",
     "text": [
      "Elapsed Time: 0.0s, Elapsed Time per query: 11.5ms\n",
      "Query Num 1\n"
     ]
    },
    {
     "name": "stderr",
     "output_type": "stream",
     "text": [
      "100%|████████████████████████████████████████████████████| 1/1 [00:00<00:00, 117.24it/s]"
     ]
    },
    {
     "name": "stdout",
     "output_type": "stream",
     "text": [
      "Elapsed Time: 0.0s, Elapsed Time per query: 11.3ms\n"
     ]
    },
    {
     "name": "stderr",
     "output_type": "stream",
     "text": [
      "\n"
     ]
    }
   ],
   "source": [
    "conv_ids = set([x.split(\"_\")[0] for x in qid2newqid_dict.keys()]) # this has all but we don't need all, just the ones in qrel\n",
    "# conv in qrel: subset of all conv\n",
    "conv_qrel_int = [31, 32, 33, 34, 37, 40, 49, 50, 54, 56, 58, 59, 61, 67, 68, 69, 75, 77, 78, 79]\n",
    "conv_qrel = [str(x) for x in conv_qrel_int]\n",
    "\n",
    "\n",
    "results_list = []\n",
    "for conv_id in conv_qrel: # conv_ids:\n",
    "    \n",
    "    print(\"Starting conv: \" , conv_id)\n",
    "    # Create index for first query and retrieve nearest neighbours - top 2000\n",
    "    index_conv, nearest_neighbors, cache_radius_dict = create_conv_cache(conv_id, qid2newqid_dict, qid2offset, query_embeddings, index, topk, cache_radius_dict)\n",
    "    \n",
    "    # save results - top 1000 for first conv query\n",
    "    newqid = qid2newqid_dict[conv_id + \"_1\"]\n",
    "    qid_offset = qid2offset[newqid]\n",
    "    for idx, pid in enumerate(nearest_neighbors[0][:1000]):\n",
    "        results_list.append((qid_offset, pid, idx+1))\n",
    "        \n",
    "    # first  query id & embedding\n",
    "    first_qid = conv_id + \"_1\"\n",
    "    first_newqid = qid2newqid_dict[first_qid] #added first\n",
    "    first_qid_offset = qid2offset[first_newqid]\n",
    "    # prendere il memmap\n",
    "    first_query_emb = query_embeddings[first_qid_offset].reshape(1, 768)\n",
    "    \n",
    "    for qid in qid2newqid_dict.keys():\n",
    "        if not qid.endswith(\"_1\") and qid.startswith(conv_id):\n",
    "            # select query embedding\n",
    "            newqid = qid2newqid_dict[qid]\n",
    "            qid_offset = qid2offset[newqid]\n",
    "            # prendere il memmap\n",
    "            query_emb = query_embeddings[qid_offset].reshape(1, 768)\n",
    "            # retrieve docs\n",
    "            faiss.omp_set_num_threads(16) #32\n",
    "            nearest_neighbors = index_retrieve(index_conv, query_emb, 1000, batch=32)\n",
    "            # save results\n",
    "            for idx, pid in enumerate(nearest_neighbors[0]):\n",
    "                results_list.append((qid_offset, pid, idx+1))\n",
    "                \n",
    "            # compute distance between the current query (q) and the first query (qi) (e.g., d(q, qi))\n",
    "            query_distance_dict[qid] = l2_distance(query_emb, first_query_emb)\n",
    "            \n",
    "            #compute distance between current query (q) and the last retrieved doc (from cache ???) (e.g., sq or rb?)\n",
    "            last_doc = nearest_neighbors[0][-1]\n",
    "            query_radius_dict[qid] = l2_distance(query_emb, last_doc)\n",
    "            \n",
    "            #compute sq = rqi - d(q, qi)\n",
    "            diff_distance_dict[qid] = cache_radius_dict[first_qid] - query_distance_dict[qid]"
   ]
  },
  {
   "cell_type": "code",
   "execution_count": 59,
   "id": "c1db43b0-3ee0-48ed-8616-adb5a338b370",
   "metadata": {},
   "outputs": [
    {
     "data": {
      "text/plain": [
       "194000"
      ]
     },
     "execution_count": 59,
     "metadata": {},
     "output_type": "execute_result"
    }
   ],
   "source": [
    "len(results_list)"
   ]
  },
  {
   "cell_type": "code",
   "execution_count": 60,
   "id": "b95e7722-ce79-48d6-841c-9357f7da1a1b",
   "metadata": {},
   "outputs": [],
   "source": [
    "# convert ids to original\n",
    "with open(\"/data3/muntean/conversational-cache/data/star-ranking/CAST-manual-queries-adore-star-L2-ranking-top1000-cache-top\"+str(topk)+\"-first-utt_new.tsv\", 'w') as outputfile:\n",
    "    for (qid, pid, idx) in results_list:\n",
    "        \n",
    "        new_qid = offset2qid[qid]\n",
    "        orig_qid = newqid2qid_dict[new_qid]\n",
    "        \n",
    "        new_pid = offset2pid[pid]\n",
    "        orig_pid = newpid2pid_dict[new_pid]\n",
    "        \n",
    "        outputfile.write(f\"{orig_qid}\\t{orig_pid}\\t{idx}\\n\")"
   ]
  },
  {
   "cell_type": "markdown",
   "id": "88f891e1-a592-4ea6-9245-966e59aa2dee",
   "metadata": {},
   "source": [
    "# Eval results"
   ]
  },
  {
   "cell_type": "code",
   "execution_count": 61,
   "id": "420e75ce-8ca7-4097-8ebf-22c9c50cabb4",
   "metadata": {},
   "outputs": [],
   "source": [
    "# import pyterrier as pt\n",
    "# pt.init()"
   ]
  },
  {
   "cell_type": "code",
   "execution_count": 62,
   "id": "8a43705f-a26e-4b0e-ac47-c17e764a32ee",
   "metadata": {},
   "outputs": [],
   "source": [
    "qrel_path = \"../data/CAST_qrels/qrels-docs.2019.txt\"\n",
    "qrels_df = pd.read_csv(qrel_path, delimiter=\" \", header=None)\n",
    "qrels_df[[3]] = qrels_df[[3]].astype(int)\n",
    "qrels_df = qrels_df.drop([1], axis=1)\n",
    "qrels_df.columns=[\"qid\", \"docno\", \"label\"]\n",
    "qrels = qrels_df"
   ]
  },
  {
   "cell_type": "code",
   "execution_count": 63,
   "id": "fa18fb4e-d621-4ee3-bee5-6ae288742ab4",
   "metadata": {},
   "outputs": [
    {
     "data": {
      "text/html": [
       "<div>\n",
       "<style scoped>\n",
       "    .dataframe tbody tr th:only-of-type {\n",
       "        vertical-align: middle;\n",
       "    }\n",
       "\n",
       "    .dataframe tbody tr th {\n",
       "        vertical-align: top;\n",
       "    }\n",
       "\n",
       "    .dataframe thead th {\n",
       "        text-align: right;\n",
       "    }\n",
       "</style>\n",
       "<table border=\"1\" class=\"dataframe\">\n",
       "  <thead>\n",
       "    <tr style=\"text-align: right;\">\n",
       "      <th></th>\n",
       "      <th>qid</th>\n",
       "      <th>query</th>\n",
       "    </tr>\n",
       "  </thead>\n",
       "  <tbody>\n",
       "    <tr>\n",
       "      <th>0</th>\n",
       "      <td>31_1</td>\n",
       "      <td>What is throat cancer?</td>\n",
       "    </tr>\n",
       "    <tr>\n",
       "      <th>1</th>\n",
       "      <td>31_2</td>\n",
       "      <td>Is throat cancer treatable?</td>\n",
       "    </tr>\n",
       "    <tr>\n",
       "      <th>2</th>\n",
       "      <td>31_3</td>\n",
       "      <td>Tell me about lung cancer.</td>\n",
       "    </tr>\n",
       "    <tr>\n",
       "      <th>3</th>\n",
       "      <td>31_4</td>\n",
       "      <td>What are lung cancer's symptoms?</td>\n",
       "    </tr>\n",
       "    <tr>\n",
       "      <th>4</th>\n",
       "      <td>31_5</td>\n",
       "      <td>Can lung cancer spread to the throat?</td>\n",
       "    </tr>\n",
       "  </tbody>\n",
       "</table>\n",
       "</div>"
      ],
      "text/plain": [
       "    qid                                  query\n",
       "0  31_1                 What is throat cancer?\n",
       "1  31_2            Is throat cancer treatable?\n",
       "2  31_3             Tell me about lung cancer.\n",
       "3  31_4       What are lung cancer's symptoms?\n",
       "4  31_5  Can lung cancer spread to the throat?"
      ]
     },
     "execution_count": 63,
     "metadata": {},
     "output_type": "execute_result"
    }
   ],
   "source": [
    "topics_path='../data/CAST-2019/test_manual_utterance.tsv' #manual\n",
    "\n",
    "topics_df = pd.read_csv(topics_path, delimiter=\"\\t\", header=None)\n",
    "topics_df.columns=[\"qid\", \"query\"]\n",
    "topics = topics_df\n",
    "topics.head()"
   ]
  },
  {
   "cell_type": "code",
   "execution_count": 64,
   "id": "3fb09f29-89af-4c8f-9def-080ba06eb30d",
   "metadata": {},
   "outputs": [
    {
     "data": {
      "text/html": [
       "<div>\n",
       "<style scoped>\n",
       "    .dataframe tbody tr th:only-of-type {\n",
       "        vertical-align: middle;\n",
       "    }\n",
       "\n",
       "    .dataframe tbody tr th {\n",
       "        vertical-align: top;\n",
       "    }\n",
       "\n",
       "    .dataframe thead th {\n",
       "        text-align: right;\n",
       "    }\n",
       "</style>\n",
       "<table border=\"1\" class=\"dataframe\">\n",
       "  <thead>\n",
       "    <tr style=\"text-align: right;\">\n",
       "      <th></th>\n",
       "      <th>qid</th>\n",
       "      <th>docno</th>\n",
       "      <th>rank</th>\n",
       "      <th>score</th>\n",
       "    </tr>\n",
       "  </thead>\n",
       "  <tbody>\n",
       "    <tr>\n",
       "      <th>0</th>\n",
       "      <td>31_1</td>\n",
       "      <td>MARCO_3878347</td>\n",
       "      <td>1</td>\n",
       "      <td>999</td>\n",
       "    </tr>\n",
       "    <tr>\n",
       "      <th>1</th>\n",
       "      <td>31_1</td>\n",
       "      <td>MARCO_789620</td>\n",
       "      <td>2</td>\n",
       "      <td>998</td>\n",
       "    </tr>\n",
       "    <tr>\n",
       "      <th>2</th>\n",
       "      <td>31_1</td>\n",
       "      <td>MARCO_291003</td>\n",
       "      <td>3</td>\n",
       "      <td>997</td>\n",
       "    </tr>\n",
       "    <tr>\n",
       "      <th>3</th>\n",
       "      <td>31_1</td>\n",
       "      <td>MARCO_5625372</td>\n",
       "      <td>4</td>\n",
       "      <td>996</td>\n",
       "    </tr>\n",
       "    <tr>\n",
       "      <th>4</th>\n",
       "      <td>31_1</td>\n",
       "      <td>MARCO_2954451</td>\n",
       "      <td>5</td>\n",
       "      <td>995</td>\n",
       "    </tr>\n",
       "  </tbody>\n",
       "</table>\n",
       "</div>"
      ],
      "text/plain": [
       "    qid          docno  rank  score\n",
       "0  31_1  MARCO_3878347     1    999\n",
       "1  31_1   MARCO_789620     2    998\n",
       "2  31_1   MARCO_291003     3    997\n",
       "3  31_1  MARCO_5625372     4    996\n",
       "4  31_1  MARCO_2954451     5    995"
      ]
     },
     "execution_count": 64,
     "metadata": {},
     "output_type": "execute_result"
    }
   ],
   "source": [
    "results_path = \"../data/star-ranking/CAST-manual-queries-adore-star-L2-ranking-top1000-cache-top\"+str(topk)+\"-first-utt_new.tsv\"\n",
    "results_df = pd.read_csv(results_path, delimiter=\"\\t\", header=None)\n",
    "results_df[3] = 1000-results_df[2]\n",
    "results_df.columns=[\"qid\", \"docno\", \"rank\", \"score\"]\n",
    "results_df.head()\n",
    "# Results produced by the transformers must have “qid”, “docno”, “score”, “rank” columns."
   ]
  },
  {
   "cell_type": "code",
   "execution_count": 65,
   "id": "f1d8219c-375a-4388-9ea7-c2b1390d03a1",
   "metadata": {},
   "outputs": [
    {
     "name": "stdout",
     "output_type": "stream",
     "text": [
      "CPU times: user 445 ms, sys: 0 ns, total: 445 ms\n",
      "Wall time: 444 ms\n"
     ]
    },
    {
     "data": {
      "text/html": [
       "<div>\n",
       "<style scoped>\n",
       "    .dataframe tbody tr th:only-of-type {\n",
       "        vertical-align: middle;\n",
       "    }\n",
       "\n",
       "    .dataframe tbody tr th {\n",
       "        vertical-align: top;\n",
       "    }\n",
       "\n",
       "    .dataframe thead th {\n",
       "        text-align: right;\n",
       "    }\n",
       "</style>\n",
       "<table border=\"1\" class=\"dataframe\">\n",
       "  <thead>\n",
       "    <tr style=\"text-align: right;\">\n",
       "      <th></th>\n",
       "      <th>name</th>\n",
       "      <th>map</th>\n",
       "      <th>recip_rank</th>\n",
       "      <th>recall_200</th>\n",
       "      <th>P_3</th>\n",
       "      <th>P_1</th>\n",
       "      <th>ndcg_cut_3</th>\n",
       "    </tr>\n",
       "  </thead>\n",
       "  <tbody>\n",
       "    <tr>\n",
       "      <th>0</th>\n",
       "      <td>STAR</td>\n",
       "      <td>0.135279</td>\n",
       "      <td>0.593401</td>\n",
       "      <td>0.329988</td>\n",
       "      <td>0.429672</td>\n",
       "      <td>0.468208</td>\n",
       "      <td>0.324213</td>\n",
       "    </tr>\n",
       "  </tbody>\n",
       "</table>\n",
       "</div>"
      ],
      "text/plain": [
       "   name       map  recip_rank  recall_200       P_3       P_1  ndcg_cut_3\n",
       "0  STAR  0.135279    0.593401    0.329988  0.429672  0.468208    0.324213"
      ]
     },
     "execution_count": 65,
     "metadata": {},
     "output_type": "execute_result"
    }
   ],
   "source": [
    "%%time\n",
    "pt.Experiment([results_df], topics, qrels, names=[\"STAR\"], \n",
    "              eval_metrics=[\"map\", \"recip_rank\", \"recall_200\", \"P_3\", \"P_1\", \"ndcg_cut_3\"])"
   ]
  },
  {
   "cell_type": "code",
   "execution_count": 66,
   "id": "737f6f77-5186-4a8f-96df-927f989b5511",
   "metadata": {},
   "outputs": [
    {
     "name": "stdout",
     "output_type": "stream",
     "text": [
      "CPU times: user 429 ms, sys: 798 µs, total: 430 ms\n",
      "Wall time: 428 ms\n"
     ]
    },
    {
     "name": "stderr",
     "output_type": "stream",
     "text": [
      "/data3/muntean/DRhard/DRhard/lib/python3.8/site-packages/pyterrier/pipelines.py:108: UserWarning: 306 topic(s) not found in qrels. Scores for these topics are given as NaN and should not contribute to averages.\n",
      "  warn(f'{backfill_count} topic(s) not found in qrels. Scores for these topics are given as NaN and should not contribute to averages.')\n"
     ]
    }
   ],
   "source": [
    "%%time\n",
    "res_per_query = pt.Experiment([results_df], topics, qrels, names=[\"STAR\"], \n",
    "              eval_metrics=[\"map\", \"recip_rank\", \"recall_200\", \"P_3\", \"P_1\", \"ndcg_cut_3\"], perquery=True)"
   ]
  },
  {
   "cell_type": "code",
   "execution_count": 67,
   "id": "15a21ce0-a87d-4f8b-a27d-25c9ea5eab7c",
   "metadata": {},
   "outputs": [
    {
     "data": {
      "text/html": [
       "<div>\n",
       "<style scoped>\n",
       "    .dataframe tbody tr th:only-of-type {\n",
       "        vertical-align: middle;\n",
       "    }\n",
       "\n",
       "    .dataframe tbody tr th {\n",
       "        vertical-align: top;\n",
       "    }\n",
       "\n",
       "    .dataframe thead th {\n",
       "        text-align: right;\n",
       "    }\n",
       "</style>\n",
       "<table border=\"1\" class=\"dataframe\">\n",
       "  <thead>\n",
       "    <tr style=\"text-align: right;\">\n",
       "      <th></th>\n",
       "      <th>name</th>\n",
       "      <th>qid</th>\n",
       "      <th>measure</th>\n",
       "      <th>value</th>\n",
       "    </tr>\n",
       "  </thead>\n",
       "  <tbody>\n",
       "    <tr>\n",
       "      <th>0</th>\n",
       "      <td>STAR</td>\n",
       "      <td>31_1</td>\n",
       "      <td>map</td>\n",
       "      <td>0.226870</td>\n",
       "    </tr>\n",
       "    <tr>\n",
       "      <th>1</th>\n",
       "      <td>STAR</td>\n",
       "      <td>31_1</td>\n",
       "      <td>recip_rank</td>\n",
       "      <td>1.000000</td>\n",
       "    </tr>\n",
       "    <tr>\n",
       "      <th>2</th>\n",
       "      <td>STAR</td>\n",
       "      <td>31_1</td>\n",
       "      <td>P_1</td>\n",
       "      <td>1.000000</td>\n",
       "    </tr>\n",
       "    <tr>\n",
       "      <th>3</th>\n",
       "      <td>STAR</td>\n",
       "      <td>31_1</td>\n",
       "      <td>P_3</td>\n",
       "      <td>1.000000</td>\n",
       "    </tr>\n",
       "    <tr>\n",
       "      <th>4</th>\n",
       "      <td>STAR</td>\n",
       "      <td>31_1</td>\n",
       "      <td>recall_200</td>\n",
       "      <td>0.438202</td>\n",
       "    </tr>\n",
       "    <tr>\n",
       "      <th>...</th>\n",
       "      <td>...</td>\n",
       "      <td>...</td>\n",
       "      <td>...</td>\n",
       "      <td>...</td>\n",
       "    </tr>\n",
       "    <tr>\n",
       "      <th>2863</th>\n",
       "      <td>STAR</td>\n",
       "      <td>80_9</td>\n",
       "      <td>recip_rank</td>\n",
       "      <td>NaN</td>\n",
       "    </tr>\n",
       "    <tr>\n",
       "      <th>2864</th>\n",
       "      <td>STAR</td>\n",
       "      <td>80_9</td>\n",
       "      <td>recall_200</td>\n",
       "      <td>NaN</td>\n",
       "    </tr>\n",
       "    <tr>\n",
       "      <th>2865</th>\n",
       "      <td>STAR</td>\n",
       "      <td>80_9</td>\n",
       "      <td>P_3</td>\n",
       "      <td>NaN</td>\n",
       "    </tr>\n",
       "    <tr>\n",
       "      <th>2866</th>\n",
       "      <td>STAR</td>\n",
       "      <td>80_9</td>\n",
       "      <td>P_1</td>\n",
       "      <td>NaN</td>\n",
       "    </tr>\n",
       "    <tr>\n",
       "      <th>2867</th>\n",
       "      <td>STAR</td>\n",
       "      <td>80_9</td>\n",
       "      <td>ndcg_cut_3</td>\n",
       "      <td>NaN</td>\n",
       "    </tr>\n",
       "  </tbody>\n",
       "</table>\n",
       "<p>2874 rows × 4 columns</p>\n",
       "</div>"
      ],
      "text/plain": [
       "      name   qid     measure     value\n",
       "0     STAR  31_1         map  0.226870\n",
       "1     STAR  31_1  recip_rank  1.000000\n",
       "2     STAR  31_1         P_1  1.000000\n",
       "3     STAR  31_1         P_3  1.000000\n",
       "4     STAR  31_1  recall_200  0.438202\n",
       "...    ...   ...         ...       ...\n",
       "2863  STAR  80_9  recip_rank       NaN\n",
       "2864  STAR  80_9  recall_200       NaN\n",
       "2865  STAR  80_9         P_3       NaN\n",
       "2866  STAR  80_9         P_1       NaN\n",
       "2867  STAR  80_9  ndcg_cut_3       NaN\n",
       "\n",
       "[2874 rows x 4 columns]"
      ]
     },
     "execution_count": 67,
     "metadata": {},
     "output_type": "execute_result"
    }
   ],
   "source": [
    "res_per_query"
   ]
  },
  {
   "cell_type": "markdown",
   "id": "04d09717-be37-406e-be37-6c80a00e8c82",
   "metadata": {},
   "source": [
    "# Explore the dictionaries"
   ]
  },
  {
   "cell_type": "code",
   "execution_count": 68,
   "id": "08403465-1618-4bbe-93f5-d357fe71ddb1",
   "metadata": {},
   "outputs": [],
   "source": [
    "# distance dicts\n",
    "\n",
    "# cache_radius_dict = dict() # between first utterance (qi) and last retrieved doc from the big index\n",
    "# query_distance_dict = dict() # distance between the first (qi) and the rest of utterances of the conversation (q)\n",
    "# query_radius_dict = dict() # between current utterance (q) and last retrieved doc from the small index\n",
    "# diff_distance_dict = dict() # rbcapuccio = rqi - d(q, qi)"
   ]
  },
  {
   "cell_type": "code",
   "execution_count": 69,
   "id": "0e06753f-6047-41c1-a9fb-80ae04b3d5f3",
   "metadata": {},
   "outputs": [],
   "source": [
    "with open('../data/star-ranking/cache-radius-star-L2-ranking-top1000-cache-top'+str(topk)+'.pickle', 'wb') as handle:\n",
    "    pickle.dump(cache_radius_dict, handle)"
   ]
  },
  {
   "cell_type": "code",
   "execution_count": 70,
   "id": "85e4011a-a580-4276-8c36-1313b648bfef",
   "metadata": {},
   "outputs": [],
   "source": [
    "with open('../data/star-ranking/query-dist-star-L2-ranking-top1000-cache-top'+str(topk)+'.pickle', 'wb') as handle:\n",
    "    pickle.dump(query_distance_dict, handle)"
   ]
  },
  {
   "cell_type": "code",
   "execution_count": 71,
   "id": "a79b0e4a-cdda-4435-81c7-5af4a33a562b",
   "metadata": {},
   "outputs": [],
   "source": [
    "with open('../data/star-ranking/query-radius-star-L2-ranking-top1000-cache-top'+str(topk)+'.pickle', 'wb') as handle:\n",
    "    pickle.dump(query_radius_dict, handle)"
   ]
  },
  {
   "cell_type": "code",
   "execution_count": 72,
   "id": "7eb0d222-a137-47b3-a724-1550f6d7f963",
   "metadata": {},
   "outputs": [],
   "source": [
    "with open('../data/star-ranking/rbcapuccio-star-L2-ranking-top1000-cache-top'+str(topk)+'.pickle', 'wb') as handle:\n",
    "    pickle.dump(diff_distance_dict, handle)"
   ]
  },
  {
   "cell_type": "code",
   "execution_count": 75,
   "id": "01667b88-40e9-4a98-98e4-ccd99d9c0c87",
   "metadata": {},
   "outputs": [
    {
     "data": {
      "text/plain": [
       "{'31_2': 118418702.4013666,\n",
       " '31_3': 118418700.92902221,\n",
       " '31_4': 118418701.23348655,\n",
       " '31_5': 118418701.86292733,\n",
       " '31_6': 118418703.31605043,\n",
       " '31_7': 118418701.67394198,\n",
       " '31_8': 118418701.75246419,\n",
       " '31_9': 118418702.19444646,\n",
       " '32_2': 132400537.1040189,\n",
       " '32_3': 132400535.64936134,\n",
       " '32_4': 132400536.1166589,\n",
       " '32_5': 132400535.77234432,\n",
       " '32_6': 132400533.15507337,\n",
       " '32_7': 132400535.01224682,\n",
       " '32_8': 132400535.1097686,\n",
       " '32_9': 132400534.94515058,\n",
       " '32_10': 132400534.93758032,\n",
       " '32_11': 132400535.66604349,\n",
       " '33_2': 270514020.71085685,\n",
       " '33_3': 270514018.61838144,\n",
       " '33_4': 270514019.1643993,\n",
       " '33_5': 270514019.37582153,\n",
       " '33_6': 270514019.2843506,\n",
       " '33_7': 270514019.4926793,\n",
       " '33_8': 270514019.6423883,\n",
       " '33_9': 270514018.9256343,\n",
       " '33_10': 270514014.73496145,\n",
       " '34_2': 508512266.5087433,\n",
       " '34_3': 508512266.57521343,\n",
       " '34_4': 508512265.93703246,\n",
       " '34_5': 508512266.7227378,\n",
       " '34_6': 508512265.7272608,\n",
       " '34_7': 508512265.8864572,\n",
       " '34_8': 508512265.57458663,\n",
       " '34_9': 508512266.39690185,\n",
       " '37_2': 699483755.3653458,\n",
       " '37_3': 699483754.0421921,\n",
       " '37_4': 699483754.0414907,\n",
       " '37_5': 699483754.4307379,\n",
       " '37_6': 699483750.836284,\n",
       " '37_7': 699483750.3301448,\n",
       " '37_8': 699483752.8171557,\n",
       " '37_9': 699483750.789594,\n",
       " '37_10': 699483750.8765467,\n",
       " '37_11': 699483750.9470519,\n",
       " '37_12': 699483750.9718975,\n",
       " '40_2': 287569453.5697303,\n",
       " '40_3': 287569453.2804284,\n",
       " '40_4': 287569452.81910896,\n",
       " '40_5': 287569452.4406309,\n",
       " '40_6': 287569452.87657404,\n",
       " '40_7': 287569452.1827111,\n",
       " '40_8': 287569451.12575865,\n",
       " '40_9': 287569451.5177989,\n",
       " '40_10': 287569452.49189043,\n",
       " '49_2': 412467665.9128844,\n",
       " '49_3': 412467663.49983996,\n",
       " '49_4': 412467664.9590289,\n",
       " '49_5': 412467662.8951017,\n",
       " '49_6': 412467663.6936137,\n",
       " '49_7': 412467663.93685406,\n",
       " '49_8': 412467664.8710577,\n",
       " '49_9': 412467663.87845916,\n",
       " '49_10': 412467663.76437014,\n",
       " '50_2': 563991347.9623438,\n",
       " '50_3': 563991349.0144778,\n",
       " '50_4': 563991347.6266743,\n",
       " '50_5': 563991345.2778436,\n",
       " '50_6': 563991345.6926919,\n",
       " '50_7': 563991345.4264594,\n",
       " '50_8': 563991345.3730403,\n",
       " '50_9': 563991345.5211488,\n",
       " '50_10': 563991345.5598089,\n",
       " '54_2': 138921859.77084565,\n",
       " '54_3': 138921857.69426084,\n",
       " '54_4': 138921859.02239394,\n",
       " '54_5': 138921860.1198542,\n",
       " '54_6': 138921859.70493674,\n",
       " '54_7': 138921859.86378312,\n",
       " '54_8': 138921856.97153735,\n",
       " '54_9': 138921857.55717874,\n",
       " '56_2': 593442061.2960061,\n",
       " '56_3': 593442059.3614806,\n",
       " '56_4': 593442060.2056769,\n",
       " '56_5': 593442060.5601219,\n",
       " '56_6': 593442060.1110038,\n",
       " '56_7': 593442057.4881061,\n",
       " '56_8': 593442059.8362592,\n",
       " '58_2': 212265317.1866733,\n",
       " '58_3': 212265316.1154286,\n",
       " '58_4': 212265315.91586366,\n",
       " '58_5': 212265316.76945153,\n",
       " '58_6': 212265315.898698,\n",
       " '58_7': 212265313.38911262,\n",
       " '58_8': 212265314.06060234,\n",
       " '59_2': 853112390.8093439,\n",
       " '59_3': 853112387.5531574,\n",
       " '59_4': 853112388.6443659,\n",
       " '59_5': 853112388.2800156,\n",
       " '59_6': 853112388.3347851,\n",
       " '59_7': 853112389.5225779,\n",
       " '59_8': 853112390.9477383,\n",
       " '61_2': 455119928.18087393,\n",
       " '61_3': 455119928.601554,\n",
       " '61_4': 455119927.5994893,\n",
       " '61_5': 455119926.89454705,\n",
       " '61_6': 455119925.2067514,\n",
       " '61_7': 455119925.185638,\n",
       " '61_8': 455119925.2224098,\n",
       " '61_9': 455119926.8599735,\n",
       " '67_2': 5259749.095243383,\n",
       " '67_3': 5259748.6352772005,\n",
       " '67_4': 5259747.303204466,\n",
       " '67_5': 5259747.258652139,\n",
       " '67_6': 5259747.131272245,\n",
       " '67_7': 5259746.454985071,\n",
       " '67_8': 5259747.415553976,\n",
       " '67_9': 5259746.966229368,\n",
       " '67_10': 5259746.853228498,\n",
       " '67_11': 5259745.464868475,\n",
       " '68_2': 898381383.2513444,\n",
       " '68_3': 898381384.8335586,\n",
       " '68_4': 898381379.8006122,\n",
       " '68_5': 898381380.1228263,\n",
       " '68_6': 898381380.4674599,\n",
       " '68_7': 898381379.9161341,\n",
       " '68_8': 898381379.9609339,\n",
       " '68_9': 898381383.998179,\n",
       " '68_10': 898381381.1264427,\n",
       " '68_11': 898381381.0701973,\n",
       " '69_2': 228506770.19282833,\n",
       " '69_3': 228506767.587536,\n",
       " '69_4': 228506768.1892182,\n",
       " '69_5': 228506768.42930713,\n",
       " '69_6': 228506768.78560176,\n",
       " '69_7': 228506767.95451465,\n",
       " '69_8': 228506768.14604536,\n",
       " '69_9': 228506768.9855968,\n",
       " '69_10': 228506768.58608308,\n",
       " '75_2': 375596680.7707529,\n",
       " '75_3': 375596680.87590075,\n",
       " '75_4': 375596680.35480213,\n",
       " '75_5': 375596680.176105,\n",
       " '75_6': 375596680.63376,\n",
       " '75_7': 375596679.77515364,\n",
       " '75_8': 375596681.24388695,\n",
       " '75_9': 375596680.7720437,\n",
       " '75_10': 375596680.46399546,\n",
       " '77_2': 221390368.4540199,\n",
       " '77_3': 221390368.66504133,\n",
       " '77_4': 221390367.07929075,\n",
       " '77_5': 221390366.59032285,\n",
       " '77_6': 221390365.74408996,\n",
       " '77_7': 221390366.26511753,\n",
       " '77_8': 221390366.88698137,\n",
       " '77_9': 221390366.91804683,\n",
       " '77_10': 221390367.44836462,\n",
       " '78_2': 377862537.132724,\n",
       " '78_3': 377862537.13651246,\n",
       " '78_4': 377862536.29969996,\n",
       " '78_5': 377862537.05736226,\n",
       " '78_6': 377862537.1621296,\n",
       " '78_7': 377862534.43588656,\n",
       " '78_8': 377862536.1285774,\n",
       " '78_9': 377862533.6770007,\n",
       " '78_10': 377862534.955291,\n",
       " '79_2': 911952456.3228049,\n",
       " '79_3': 911952457.6170235,\n",
       " '79_4': 911952456.4910159,\n",
       " '79_5': 911952455.1973348,\n",
       " '79_6': 911952457.2505493,\n",
       " '79_7': 911952456.7479229,\n",
       " '79_8': 911952455.64815,\n",
       " '79_9': 911952455.5456209}"
      ]
     },
     "execution_count": 75,
     "metadata": {},
     "output_type": "execute_result"
    }
   ],
   "source": [
    "diff_distance_dict"
   ]
  },
  {
   "cell_type": "code",
   "execution_count": 76,
   "id": "da30a54b-2aeb-4932-a4d0-ac3a7588df6a",
   "metadata": {},
   "outputs": [
    {
     "data": {
      "text/plain": [
       "{'31_2': 195019470.8074214,\n",
       " '31_3': 5294505.158112519,\n",
       " '31_4': 34332323.07639522,\n",
       " '31_5': 158067760.3044881,\n",
       " '31_6': 133634149.12005985,\n",
       " '31_7': 154450877.9551715,\n",
       " '31_8': 124908575.99352296,\n",
       " '31_9': 90299872.98001407,\n",
       " '32_2': 19571619.836761795,\n",
       " '32_3': 78685072.84893836,\n",
       " '32_4': 943334507.7418764,\n",
       " '32_5': 203165153.357555,\n",
       " '32_6': 121627545.24109851,\n",
       " '32_7': 1054655075.9210392,\n",
       " '32_8': 123378274.48142193,\n",
       " '32_9': 1042821039.6809728,\n",
       " '32_10': 162225596.79042092,\n",
       " '32_11': 185757571.63144034,\n",
       " '33_2': 784002045.4272158,\n",
       " '33_3': 568829041.0489368,\n",
       " '33_4': 846482965.4620757,\n",
       " '33_5': 562013462.6917564,\n",
       " '33_6': 841391844.596731,\n",
       " '33_7': 666755203.0610946,\n",
       " '33_8': 885052134.274929,\n",
       " '33_9': 405069650.8767906,\n",
       " '33_10': 286359599.70390195,\n",
       " '34_2': 955368685.870494,\n",
       " '34_3': 408387872.23913664,\n",
       " '34_4': 617255020.0267925,\n",
       " '34_5': 923005385.832172,\n",
       " '34_6': 672491395.0777481,\n",
       " '34_7': 1003828613.0707232,\n",
       " '34_8': 633061438.5702288,\n",
       " '34_9': 850734970.0540866,\n",
       " '37_2': 848766251.8546133,\n",
       " '37_3': 633962714.694967,\n",
       " '37_4': 1051992068.5844314,\n",
       " '37_5': 540453420.7956159,\n",
       " '37_6': 818806040.6266079,\n",
       " '37_7': 1036243957.7879722,\n",
       " '37_8': 329062411.70691705,\n",
       " '37_9': 504872746.3048359,\n",
       " '37_10': 109113547.43210001,\n",
       " '37_11': 551714106.6345992,\n",
       " '37_12': 113840937.629524,\n",
       " '40_2': 2010536.849455992,\n",
       " '40_3': 805893975.9869514,\n",
       " '40_4': 642819092.2831558,\n",
       " '40_5': 143469398.72446594,\n",
       " '40_6': 616699821.5668224,\n",
       " '40_7': 94832940.94135682,\n",
       " '40_8': 164693007.09943157,\n",
       " '40_9': 518511496.32403666,\n",
       " '40_10': 430248625.895355,\n",
       " '49_2': 175914451.59732032,\n",
       " '49_3': 144240396.913929,\n",
       " '49_4': 598153409.4587375,\n",
       " '49_5': 139425766.7711563,\n",
       " '49_6': 33341285.17499679,\n",
       " '49_7': 114260149.33570772,\n",
       " '49_8': 2184933.5526875346,\n",
       " '49_9': 959049473.9921737,\n",
       " '49_10': 2184794.9818737656,\n",
       " '50_2': 301293702.0510642,\n",
       " '50_3': 689054262.5790708,\n",
       " '50_4': 801570028.9442765,\n",
       " '50_5': 103808649.91955264,\n",
       " '50_6': 60070681.22637074,\n",
       " '50_7': 569694900.1768528,\n",
       " '50_8': 1017427622.9117432,\n",
       " '50_9': 831880086.6677022,\n",
       " '50_10': 909093553.729314,\n",
       " '54_2': 837864058.951443,\n",
       " '54_3': 33051104.30452681,\n",
       " '54_4': 151997850.60947993,\n",
       " '54_5': 57610891.93884529,\n",
       " '54_6': 602148599.4299821,\n",
       " '54_7': 16505030.80636795,\n",
       " '54_8': 226959762.50851092,\n",
       " '54_9': 25041907.402814224,\n",
       " '56_2': 65548007.85029324,\n",
       " '56_3': 82751734.14167535,\n",
       " '56_4': 91422934.71946904,\n",
       " '56_5': 919751596.7371933,\n",
       " '56_6': 308141593.5367484,\n",
       " '56_7': 236518050.24801174,\n",
       " '56_8': 287866761.04802877,\n",
       " '58_2': 324637700.86425745,\n",
       " '58_3': 624364160.2256988,\n",
       " '58_4': 192686550.81232756,\n",
       " '58_5': 559378001.900153,\n",
       " '58_6': 1020630503.5670848,\n",
       " '58_7': 980755063.5903363,\n",
       " '58_8': 164320048.04233587,\n",
       " '59_2': 236269106.054263,\n",
       " '59_3': 435427430.0943969,\n",
       " '59_4': 487726718.08691573,\n",
       " '59_5': 625894683.472925,\n",
       " '59_6': 154043832.18373972,\n",
       " '59_7': 940681587.8636862,\n",
       " '59_8': 231865844.90585697,\n",
       " '61_2': 76322333.8126898,\n",
       " '61_3': 1048131202.6236781,\n",
       " '61_4': 296251189.4556387,\n",
       " '61_5': 398788292.4267751,\n",
       " '61_6': 974117346.0757722,\n",
       " '61_7': 320127800.8245231,\n",
       " '61_8': 864265335.2854464,\n",
       " '61_9': 925108483.5006094,\n",
       " '67_2': 178047257.3866713,\n",
       " '67_3': 65882612.3578247,\n",
       " '67_4': 437418.97,\n",
       " '67_5': 52663323.460530676,\n",
       " '67_6': 63068625.606465384,\n",
       " '67_7': 196770698.89014223,\n",
       " '67_8': 185085341.90508506,\n",
       " '67_9': 107500523.14312592,\n",
       " '67_10': 224648125.93400845,\n",
       " '67_11': 104393140.8392304,\n",
       " '68_2': 627017578.926687,\n",
       " '68_3': 671282922.4574063,\n",
       " '68_4': 322204377.32674307,\n",
       " '68_5': 709809468.9565498,\n",
       " '68_6': 830218952.9563006,\n",
       " '68_7': 741253063.8800999,\n",
       " '68_8': 441730210.54461914,\n",
       " '68_9': 116456001.78994538,\n",
       " '68_10': 148732339.0316505,\n",
       " '68_11': 374174686.50984156,\n",
       " '69_2': 186036473.36436176,\n",
       " '69_3': 72818686.0152151,\n",
       " '69_4': 220829300.29497817,\n",
       " '69_5': 243263099.50248143,\n",
       " '69_6': 209560134.34351474,\n",
       " '69_7': 142951889.64916435,\n",
       " '69_8': 178966574.5197654,\n",
       " '69_9': 105752786.88477562,\n",
       " '69_10': 159686770.5844324,\n",
       " '75_2': 833474210.8079054,\n",
       " '75_3': 67836393.37374768,\n",
       " '75_4': 627342899.6292132,\n",
       " '75_5': 715424417.4011708,\n",
       " '75_6': 805402794.0846179,\n",
       " '75_7': 129646995.893507,\n",
       " '75_8': 205433973.6152802,\n",
       " '75_9': 403066984.45303434,\n",
       " '75_10': 114749308.18841635,\n",
       " '77_2': 203487730.50128132,\n",
       " '77_3': 213634860.0858219,\n",
       " '77_4': 1059663584.873081,\n",
       " '77_5': 700677238.0038515,\n",
       " '77_6': 238267643.28085142,\n",
       " '77_7': 87043562.05260745,\n",
       " '77_8': 801173791.1112512,\n",
       " '77_9': 135591033.97612432,\n",
       " '77_10': 214953823.68757346,\n",
       " '78_2': 10340842.10859969,\n",
       " '78_3': 108501232.82195841,\n",
       " '78_4': 74274356.93799217,\n",
       " '78_5': 200586198.97915778,\n",
       " '78_6': 156639635.9448311,\n",
       " '78_7': 51377338.096040726,\n",
       " '78_8': 48539352.06653655,\n",
       " '78_9': 22185132.08520178,\n",
       " '78_10': 162821311.42138657,\n",
       " '79_2': 131263899.98207745,\n",
       " '79_3': 62021607.822578624,\n",
       " '79_4': 4576161.344942504,\n",
       " '79_5': 656724882.991827,\n",
       " '79_6': 500267763.6039657,\n",
       " '79_7': 382692053.2829669,\n",
       " '79_8': 857485894.4466,\n",
       " '79_9': 579779925.3544658}"
      ]
     },
     "execution_count": 76,
     "metadata": {},
     "output_type": "execute_result"
    }
   ],
   "source": [
    "query_radius_dict"
   ]
  },
  {
   "cell_type": "code",
   "execution_count": null,
   "id": "0cdcbe69-0aa4-46a3-8d3d-29c91d2088c4",
   "metadata": {},
   "outputs": [],
   "source": []
  }
 ],
 "metadata": {
  "kernelspec": {
   "display_name": "DRhard",
   "language": "python",
   "name": "drhard"
  },
  "language_info": {
   "codemirror_mode": {
    "name": "ipython",
    "version": 3
   },
   "file_extension": ".py",
   "mimetype": "text/x-python",
   "name": "python",
   "nbconvert_exporter": "python",
   "pygments_lexer": "ipython3",
   "version": "3.8.12"
  }
 },
 "nbformat": 4,
 "nbformat_minor": 5
}
