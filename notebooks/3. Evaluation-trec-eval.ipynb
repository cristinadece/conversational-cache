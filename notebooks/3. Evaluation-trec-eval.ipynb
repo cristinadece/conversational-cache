{
 "cells": [
  {
   "cell_type": "code",
   "execution_count": null,
   "id": "7b0a8b28-3bb7-4860-894a-685158add9d5",
   "metadata": {},
   "outputs": [],
   "source": [
    "%load_ext autoreload\n",
    "%autoreload 2\n",
    "\n",
    "from time import time\n",
    "import pandas as pd\n",
    "import numpy as np\n",
    "import os\n",
    "from collections import Counter, defaultdict\n",
    "import pickle"
   ]
  },
  {
   "cell_type": "code",
   "execution_count": null,
   "id": "e7f6bba3-c223-4483-860f-cccb4bfba3d5",
   "metadata": {},
   "outputs": [],
   "source": [
    "import pyterrier as pt\n",
    "pt.init()"
   ]
  },
  {
   "cell_type": "code",
   "execution_count": null,
   "id": "bc1d3cd2-7493-4af3-a8ba-50161e3d3e09",
   "metadata": {},
   "outputs": [],
   "source": [
    "qrel_path = \"../data/CAST_qrels/qrels-docs.2019.txt\"\n",
    "qrels_df = pd.read_csv(qrel_path, delimiter=\" \", header=None)\n",
    "qrels_df[[3]] = qrels_df[[3]].astype(int)\n",
    "qrels_df = qrels_df.drop([1], axis=1)\n",
    "qrels_df.columns=[\"qid\", \"docno\", \"label\"]\n",
    "qrels = qrels_df"
   ]
  },
  {
   "cell_type": "code",
   "execution_count": null,
   "id": "7670a2a7-926e-42af-afa5-bf74f3b2e8c7",
   "metadata": {},
   "outputs": [],
   "source": [
    "topics_path='../data/CAST-2019/test_manual_utterance.tsv' #manual\n",
    "\n",
    "topics_df = pd.read_csv(topics_path, delimiter=\"\\t\", header=None)\n",
    "topics_df.columns=[\"qid\", \"query\"]\n",
    "topics = topics_df\n",
    "topics.head()"
   ]
  },
  {
   "cell_type": "markdown",
   "id": "927b4272-18ef-46f6-ba66-eee142fb8a71",
   "metadata": {},
   "source": [
    "# STAR embeddings"
   ]
  },
  {
   "cell_type": "code",
   "execution_count": null,
   "id": "2d341ee0-a24b-4404-bfc2-324b0ea3cf9c",
   "metadata": {},
   "outputs": [],
   "source": [
    "pd.set_option('display.max_columns', None)\n",
    "# pd.options.display.float_format = '${:,.8f}'.format"
   ]
  },
  {
   "cell_type": "code",
   "execution_count": null,
   "id": "e9b0c380-c675-4b1c-ba70-d975f773faa5",
   "metadata": {},
   "outputs": [],
   "source": [
    "topk = [1000,2000,5000,10000]\n",
    "result_with_cache_df_dict = {}\n",
    "result_first_topic_df_dict = {}"
   ]
  },
  {
   "cell_type": "code",
   "execution_count": null,
   "id": "7d51332e-4e62-478c-88ed-37f400f3e742",
   "metadata": {},
   "outputs": [],
   "source": [
    "#baseline\n",
    "results_path = \"../data/star-ranking/CAST-manual-queries-star-L2-ranking-top1000.tsv\"\n",
    "results_df = pd.read_csv(results_path, delimiter=\"\\t\", header=None)\n",
    "results_df[3] = 1000-results_df[2]\n",
    "results_df.columns=[\"qid\", \"docno\", \"rank\", \"score\"] # Results produced by the transformers must have “qid”, “docno”, “score”, “rank” columns.\n",
    "results_df = results_df.loc[results_df['rank'] < 201]\n",
    "baseline = results_df\n",
    "baseline.head(210)"
   ]
  },
  {
   "cell_type": "code",
   "execution_count": null,
   "id": "72080762-4bd3-4280-87ca-7588942cafc7",
   "metadata": {},
   "outputs": [],
   "source": [
    "# RESULTS FIRST QUERY\n",
    "for k in topk:\n",
    "    print(k)\n",
    "    results_path = \"../data/star-ranking/CAST-manual-queries-star-L2-ranking-top1000-cache-top\"+str(k)+\"-first-utt_new.tsv\"\n",
    "    results_df = pd.read_csv(results_path, delimiter=\"\\t\", header=None)\n",
    "    results_df[3] = 1000-results_df[2]\n",
    "    results_df.columns=[\"qid\", \"docno\", \"rank\", \"score\"] # Results produced by the transformers must have “qid”, “docno”, “score”, “rank” columns.\n",
    "    results_df = results_df.loc[results_df['rank'] < 201]\n",
    "    result_first_topic_df_dict[k] = results_df"
   ]
  },
  {
   "cell_type": "code",
   "execution_count": null,
   "id": "2cb53cbd-29ba-4d99-97b2-0f5b4bbc2a57",
   "metadata": {},
   "outputs": [],
   "source": [
    "# RESULTS with CACHE\n",
    "for k in topk:\n",
    "    print(k)\n",
    "    results_path = \"../data/star-ranking/CAST-manual-queries-star-L2-ranking-top1000-cache-top\"+str(k)+\"-with-update.tsv\"\n",
    "    results_df = pd.read_csv(results_path, delimiter=\"\\t\", header=None)\n",
    "    results_df[3] = 1000-results_df[2]\n",
    "    results_df.columns=[\"qid\", \"docno\", \"rank\", \"score\"] # Results produced by the transformers must have “qid”, “docno”, “score”, “rank” columns.\n",
    "    results_df = results_df.loc[results_df['rank'] < 201]\n",
    "    result_with_cache_df_dict[k] = results_df"
   ]
  },
  {
   "cell_type": "code",
   "execution_count": null,
   "id": "81513eeb-9aa4-4081-a294-f7c560e8fa57",
   "metadata": {},
   "outputs": [],
   "source": [
    "%%time\n",
    "experiments = list()\n",
    "experiments.append(baseline)\n",
    "experiments.extend(result_with_cache_df_dict.values())\n",
    "print(len(experiments))\n",
    "pt.Experiment(experiments, topics, qrels, \n",
    "              names=[\"Full-retrieval\", \"Cache-with-update-1000\", \"Cache-with-update-2000\", \"Cache-with-update-5000\", \"Cache-with-update-10000\"], \n",
    "              eval_metrics=[\"map_cut_200\", \"recip_rank\", \"recall_200\", \"P_3\", \"P_1\", \"ndcg_cut_3\"],\n",
    "              baseline=0)"
   ]
  },
  {
   "cell_type": "code",
   "execution_count": null,
   "id": "4faaddbb-f340-428c-afc2-7308086a4824",
   "metadata": {},
   "outputs": [],
   "source": [
    "%%time\n",
    "experiments = list()\n",
    "experiments.append(baseline)\n",
    "experiments.extend(result_first_topic_df_dict.values())\n",
    "print(len(experiments))\n",
    "pt.Experiment(experiments, topics, qrels, \n",
    "              names=[\"Full-retrieval\", \"Cache-first-query-1000\", \"Cache-first-query-2000\", \"Cache-first-query-5000\", \"Cache-first-query-10000\"], \n",
    "              eval_metrics=[\"map_cut_200\", \"recip_rank\", \"recall_200\", \"P_3\", \"P_1\", \"ndcg_cut_3\"],\n",
    "              baseline=0)"
   ]
  },
  {
   "cell_type": "code",
   "execution_count": null,
   "id": "55987386-3051-4a31-a0bd-6d577a037948",
   "metadata": {},
   "outputs": [],
   "source": [
    "%%time\n",
    "res_df = result_first_topic_df_dict[5000]\n",
    "res_df.head()\n",
    "res_per_query = pt.Experiment([res_df], topics, qrels, names=[\"STARfirstutt10000\"], \n",
    "              eval_metrics=[\"map\", \"recip_rank\", \"recall_200\", \"P_3\", \"P_1\", \"ndcg_cut_3\"], perquery=True)"
   ]
  },
  {
   "cell_type": "code",
   "execution_count": null,
   "id": "3c3a475b-c284-401b-a606-869762c99b46",
   "metadata": {},
   "outputs": [],
   "source": [
    "# # res_per_query = res_per_query.dropna()\n",
    "# NDCG3 = res_per_query[res_per_query[\"measure\"]=='ndcg_cut_3']\n",
    "# len(list(NDCG3))\n",
    "# %store NDCG3\n",
    "# NDCG3"
   ]
  },
  {
   "cell_type": "code",
   "execution_count": null,
   "id": "8a0c7dbd-817f-4045-8ce2-228b241a016d",
   "metadata": {},
   "outputs": [],
   "source": [
    "# res_per_query[res_per_query[\"qid\"]=='50_8']"
   ]
  },
  {
   "cell_type": "markdown",
   "id": "26564b71-86bb-4554-9c62-255181be7404",
   "metadata": {},
   "source": [
    "# ADORE(STAR) embeddings"
   ]
  },
  {
   "cell_type": "code",
   "execution_count": null,
   "id": "d162877d-e0a7-457e-829c-f33310670f95",
   "metadata": {},
   "outputs": [],
   "source": [
    "topk = [1000,2000,5000,10000]\n",
    "result_with_cache_df_dict = {}\n",
    "result_first_topic_df_dict = {}"
   ]
  },
  {
   "cell_type": "code",
   "execution_count": null,
   "id": "f6ec197c-4803-41c8-ba6b-0329e3b88de0",
   "metadata": {},
   "outputs": [],
   "source": [
    "#baseline\n",
    "results_path = \"../data/adore-star-ranking/CAST-manual-queries-adore-star-L2-ranking-top1000.tsv\"\n",
    "results_df = pd.read_csv(results_path, delimiter=\"\\t\", header=None)\n",
    "results_df[3] = 1000-results_df[2]\n",
    "results_df.columns=[\"qid\", \"docno\", \"rank\", \"score\"] # Results produced by the transformers must have “qid”, “docno”, “score”, “rank” columns.\n",
    "results_df = results_df.loc[results_df['rank'] < 201]\n",
    "baseline = results_df\n",
    "baseline.head(210)"
   ]
  },
  {
   "cell_type": "code",
   "execution_count": null,
   "id": "adc09238-c90c-4ace-83ab-f2b4fd47393d",
   "metadata": {},
   "outputs": [],
   "source": [
    "# RESULTS FIRST QUERY\n",
    "for k in topk:\n",
    "    print(k)\n",
    "    results_path = \"../data/adore-star-ranking/CAST-manual-queries-adore-star-L2-ranking-top1000-cache-top\"+str(k)+\"-first-utt.tsv\"\n",
    "    results_df = pd.read_csv(results_path, delimiter=\"\\t\", header=None)\n",
    "    results_df[3] = 1000-results_df[2]\n",
    "    results_df.columns=[\"qid\", \"docno\", \"rank\", \"score\"] # Results produced by the transformers must have “qid”, “docno”, “score”, “rank” columns.\n",
    "    results_df = results_df.loc[results_df['rank'] < 201]\n",
    "    result_first_topic_df_dict[k] = results_df"
   ]
  },
  {
   "cell_type": "code",
   "execution_count": null,
   "id": "fcfabd43-eaa1-45f6-816d-d0ab12f9d886",
   "metadata": {},
   "outputs": [],
   "source": [
    "%%time\n",
    "experiments = list()\n",
    "experiments.append(baseline)\n",
    "experiments.extend(result_first_topic_df_dict.values())\n",
    "print(len(experiments))\n",
    "pt.Experiment(experiments, topics, qrels, \n",
    "              names=[\"Full-retrieval\", \"Cache-first-query-1000\", \"Cache-first-query-2000\", \"Cache-first-query-5000\", \"Cache-first-query-10000\"], \n",
    "              eval_metrics=[\"map_cut_200\", \"recip_rank\", \"recall_200\", \"P_3\", \"P_1\", \"ndcg_cut_3\"],\n",
    "              baseline=0)"
   ]
  },
  {
   "cell_type": "code",
   "execution_count": null,
   "id": "84c207b7-c170-45c7-a32e-f9c42ec5b0de",
   "metadata": {},
   "outputs": [],
   "source": [
    "# RESULTS with CACHE\n",
    "for k in topk:\n",
    "    print(k)\n",
    "    results_path = \"../data/adore-star-ranking/CAST-manual-queries-adore-star-L2-ranking-top1000-cache-top\"+str(k)+\"-with-update.tsv\"\n",
    "    results_df = pd.read_csv(results_path, delimiter=\"\\t\", header=None)\n",
    "    results_df[3] = 1000-results_df[2]\n",
    "    results_df.columns=[\"qid\", \"docno\", \"rank\", \"score\"] # Results produced by the transformers must have “qid”, “docno”, “score”, “rank” columns.\n",
    "    results_df = results_df.loc[results_df['rank'] < 201]\n",
    "    result_with_cache_df_dict[k] = results_df"
   ]
  },
  {
   "cell_type": "code",
   "execution_count": null,
   "id": "e837e43f-7168-40bf-8ff7-96b1a438124b",
   "metadata": {},
   "outputs": [],
   "source": [
    "%%time\n",
    "experiments = list()\n",
    "experiments.append(baseline)\n",
    "experiments.extend(result_with_cache_df_dict.values())\n",
    "print(len(experiments))\n",
    "pt.Experiment(experiments, topics, qrels, \n",
    "              names=[\"Full-retrieval\", \"Cache-with-update-1000\", \"Cache-with-update-2000\", \"Cache-with-update-5000\", \"Cache-with-update-10000\"], \n",
    "              eval_metrics=[\"map_cut_200\", \"recip_rank\", \"recall_200\", \"P_3\", \"P_1\", \"ndcg_cut_3\"],\n",
    "              baseline=0)"
   ]
  }
 ],
 "metadata": {
  "kernelspec": {
   "display_name": "Python 3 (ipykernel)",
   "language": "python",
   "name": "python3"
  },
  "language_info": {
   "codemirror_mode": {
    "name": "ipython",
    "version": 3
   },
   "file_extension": ".py",
   "mimetype": "text/x-python",
   "name": "python",
   "nbconvert_exporter": "python",
   "pygments_lexer": "ipython3",
   "version": "3.9.10"
  }
 },
 "nbformat": 4,
 "nbformat_minor": 5
}
